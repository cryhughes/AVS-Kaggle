{
 "cells": [
  {
   "cell_type": "code",
   "execution_count": 1,
   "metadata": {
    "collapsed": true
   },
   "outputs": [],
   "source": [
    "#import\n",
    "import os\n",
    "\n",
    "#basics\n",
    "import pandas as pd\n",
    "import numpy as np\n",
    "\n",
    "#for timing code\n",
    "from datetime import datetime, date\n",
    "\n",
    "\n",
    "#plotting libraries\n",
    "%matplotlib inline\n",
    "import seaborn as sns\n",
    "from seaborn import plt\n",
    "\n",
    "# Some nice default configuration for plots\n",
    "plt.rcParams['figure.figsize'] = 10, 7.5\n",
    "plt.rcParams['axes.grid'] = True\n",
    "\n",
    "#for AWS connection\n",
    "from boto.s3.connection import S3Connection\n",
    "from IPython.parallel import Client"
   ]
  },
  {
   "cell_type": "markdown",
   "metadata": {},
   "source": [
    "#### Connect to AWS and pull in data:\n",
    "See file: avs_data_script_auduno_v2_noFeatures"
   ]
  },
  {
   "cell_type": "code",
   "execution_count": 2,
   "metadata": {
    "collapsed": false
   },
   "outputs": [],
   "source": [
    "#get creds \n",
    "#credentials = pd.read_csv('/Users/rychughes/.ssh/credentials.csv') #local\n",
    "credentials = pd.read_csv('/home/centos/certificates/credentials.csv') #AWS\n",
    "aws_id = credentials['Access Key Id'][0]\n",
    "aws_key = credentials['Secret Access Key'][0]"
   ]
  },
  {
   "cell_type": "code",
   "execution_count": 3,
   "metadata": {
    "collapsed": true
   },
   "outputs": [],
   "source": [
    "#connect to S3 for data\n",
    "s3conn = S3Connection( aws_id , aws_key )\n",
    "bucket = s3conn.get_bucket('avs-kaggle-data')"
   ]
  },
  {
   "cell_type": "markdown",
   "metadata": {},
   "source": [
    "#### Load transaction data"
   ]
  },
  {
   "cell_type": "code",
   "execution_count": 4,
   "metadata": {
    "collapsed": false
   },
   "outputs": [
    {
     "name": "stdout",
     "output_type": "stream",
     "text": [
      "1\n"
     ]
    }
   ],
   "source": [
    "keys = bucket.get_all_keys(prefix='reduced')\n",
    "print len( keys)\n",
    "#offers_keys\n",
    "keys[0].get_contents_to_filename('reduced.csv.gz') #compressed file = 240mb, command hangs local machine... ~5 seconds on AWS"
   ]
  },
  {
   "cell_type": "code",
   "execution_count": 5,
   "metadata": {
    "collapsed": false
   },
   "outputs": [
    {
     "name": "stdout",
     "output_type": "stream",
     "text": [
      "(27764694, 11)\n"
     ]
    },
    {
     "data": {
      "text/html": [
       "<div style=\"max-height:1000px;max-width:1500px;overflow:auto;\">\n",
       "<table border=\"1\" class=\"dataframe\">\n",
       "  <thead>\n",
       "    <tr style=\"text-align: right;\">\n",
       "      <th></th>\n",
       "      <th>id</th>\n",
       "      <th>chain</th>\n",
       "      <th>dept</th>\n",
       "      <th>category</th>\n",
       "      <th>company</th>\n",
       "      <th>brand</th>\n",
       "      <th>date</th>\n",
       "      <th>productsize</th>\n",
       "      <th>productmeasure</th>\n",
       "      <th>purchasequantity</th>\n",
       "      <th>purchaseamount</th>\n",
       "    </tr>\n",
       "  </thead>\n",
       "  <tbody>\n",
       "    <tr>\n",
       "      <th>0</th>\n",
       "      <td> 86246</td>\n",
       "      <td> 205</td>\n",
       "      <td> 99</td>\n",
       "      <td> 9909</td>\n",
       "      <td> 104538848</td>\n",
       "      <td> 15343</td>\n",
       "      <td> 2012-03-02</td>\n",
       "      <td> 16</td>\n",
       "      <td> OZ</td>\n",
       "      <td> 1</td>\n",
       "      <td> 2.49</td>\n",
       "    </tr>\n",
       "    <tr>\n",
       "      <th>1</th>\n",
       "      <td> 86246</td>\n",
       "      <td> 205</td>\n",
       "      <td> 21</td>\n",
       "      <td> 2106</td>\n",
       "      <td> 105100050</td>\n",
       "      <td> 27873</td>\n",
       "      <td> 2012-03-02</td>\n",
       "      <td> 64</td>\n",
       "      <td> OZ</td>\n",
       "      <td> 1</td>\n",
       "      <td> 3.29</td>\n",
       "    </tr>\n",
       "    <tr>\n",
       "      <th>2</th>\n",
       "      <td> 86246</td>\n",
       "      <td> 205</td>\n",
       "      <td> 26</td>\n",
       "      <td> 2630</td>\n",
       "      <td> 103700030</td>\n",
       "      <td> 14647</td>\n",
       "      <td> 2012-03-02</td>\n",
       "      <td> 56</td>\n",
       "      <td> CT</td>\n",
       "      <td> 1</td>\n",
       "      <td> 1.00</td>\n",
       "    </tr>\n",
       "  </tbody>\n",
       "</table>\n",
       "</div>"
      ],
      "text/plain": [
       "      id  chain  dept  category    company  brand        date  productsize  \\\n",
       "0  86246    205    99      9909  104538848  15343  2012-03-02           16   \n",
       "1  86246    205    21      2106  105100050  27873  2012-03-02           64   \n",
       "2  86246    205    26      2630  103700030  14647  2012-03-02           56   \n",
       "\n",
       "  productmeasure  purchasequantity  purchaseamount  \n",
       "0             OZ                 1            2.49  \n",
       "1             OZ                 1            3.29  \n",
       "2             CT                 1            1.00  "
      ]
     },
     "execution_count": 5,
     "metadata": {},
     "output_type": "execute_result"
    }
   ],
   "source": [
    "reduced_df = pd.read_csv('reduced.csv.gz',compression='gzip')\n",
    "print reduced_df.shape\n",
    "reduced_df.head(3)"
   ]
  },
  {
   "cell_type": "markdown",
   "metadata": {},
   "source": [
    "#### Load offers data"
   ]
  },
  {
   "cell_type": "code",
   "execution_count": 6,
   "metadata": {
    "collapsed": false
   },
   "outputs": [
    {
     "name": "stdout",
     "output_type": "stream",
     "text": [
      "1\n"
     ]
    }
   ],
   "source": [
    "keys = bucket.get_all_keys(prefix='offers')\n",
    "print len( keys)\n",
    "keys[0].get_contents_to_filename('offers.csv')"
   ]
  },
  {
   "cell_type": "code",
   "execution_count": 7,
   "metadata": {
    "collapsed": false
   },
   "outputs": [
    {
     "name": "stdout",
     "output_type": "stream",
     "text": [
      "(37, 6)\n"
     ]
    },
    {
     "data": {
      "text/html": [
       "<div style=\"max-height:1000px;max-width:1500px;overflow:auto;\">\n",
       "<table border=\"1\" class=\"dataframe\">\n",
       "  <thead>\n",
       "    <tr style=\"text-align: right;\">\n",
       "      <th></th>\n",
       "      <th>offer</th>\n",
       "      <th>category</th>\n",
       "      <th>quantity</th>\n",
       "      <th>company</th>\n",
       "      <th>offervalue</th>\n",
       "      <th>brand</th>\n",
       "    </tr>\n",
       "  </thead>\n",
       "  <tbody>\n",
       "    <tr>\n",
       "      <th>0</th>\n",
       "      <td> 1190530</td>\n",
       "      <td> 9115</td>\n",
       "      <td> 1</td>\n",
       "      <td> 108500080</td>\n",
       "      <td> 5.00</td>\n",
       "      <td> 93904</td>\n",
       "    </tr>\n",
       "    <tr>\n",
       "      <th>1</th>\n",
       "      <td> 1194044</td>\n",
       "      <td> 9909</td>\n",
       "      <td> 1</td>\n",
       "      <td> 107127979</td>\n",
       "      <td> 1.00</td>\n",
       "      <td>  6732</td>\n",
       "    </tr>\n",
       "    <tr>\n",
       "      <th>2</th>\n",
       "      <td> 1197502</td>\n",
       "      <td> 3203</td>\n",
       "      <td> 1</td>\n",
       "      <td> 106414464</td>\n",
       "      <td> 0.75</td>\n",
       "      <td> 13474</td>\n",
       "    </tr>\n",
       "  </tbody>\n",
       "</table>\n",
       "</div>"
      ],
      "text/plain": [
       "     offer  category  quantity    company  offervalue  brand\n",
       "0  1190530      9115         1  108500080        5.00  93904\n",
       "1  1194044      9909         1  107127979        1.00   6732\n",
       "2  1197502      3203         1  106414464        0.75  13474"
      ]
     },
     "execution_count": 7,
     "metadata": {},
     "output_type": "execute_result"
    }
   ],
   "source": [
    "offers_df = pd.read_csv('offers.csv')\n",
    "print offers_df.shape\n",
    "offers_df.head(3)"
   ]
  },
  {
   "cell_type": "markdown",
   "metadata": {},
   "source": [
    "#### load train history data"
   ]
  },
  {
   "cell_type": "code",
   "execution_count": 8,
   "metadata": {
    "collapsed": false
   },
   "outputs": [
    {
     "name": "stdout",
     "output_type": "stream",
     "text": [
      "1\n"
     ]
    }
   ],
   "source": [
    "keys = bucket.get_all_keys(prefix='trainHistory')\n",
    "print len( keys)\n",
    "keys[0].get_contents_to_filename('trainHistory.csv')"
   ]
  },
  {
   "cell_type": "code",
   "execution_count": 9,
   "metadata": {
    "collapsed": false
   },
   "outputs": [
    {
     "name": "stdout",
     "output_type": "stream",
     "text": [
      "(160057, 7)\n"
     ]
    },
    {
     "data": {
      "text/html": [
       "<div style=\"max-height:1000px;max-width:1500px;overflow:auto;\">\n",
       "<table border=\"1\" class=\"dataframe\">\n",
       "  <thead>\n",
       "    <tr style=\"text-align: right;\">\n",
       "      <th></th>\n",
       "      <th>id</th>\n",
       "      <th>chain</th>\n",
       "      <th>offer</th>\n",
       "      <th>market</th>\n",
       "      <th>repeattrips</th>\n",
       "      <th>repeater</th>\n",
       "      <th>offerdate</th>\n",
       "    </tr>\n",
       "  </thead>\n",
       "  <tbody>\n",
       "    <tr>\n",
       "      <th>0</th>\n",
       "      <td>    86246</td>\n",
       "      <td> 205</td>\n",
       "      <td> 1208251</td>\n",
       "      <td> 34</td>\n",
       "      <td>  5</td>\n",
       "      <td> t</td>\n",
       "      <td> 2013-04-24</td>\n",
       "    </tr>\n",
       "    <tr>\n",
       "      <th>1</th>\n",
       "      <td>    86252</td>\n",
       "      <td> 205</td>\n",
       "      <td> 1197502</td>\n",
       "      <td> 34</td>\n",
       "      <td> 16</td>\n",
       "      <td> t</td>\n",
       "      <td> 2013-03-27</td>\n",
       "    </tr>\n",
       "    <tr>\n",
       "      <th>2</th>\n",
       "      <td> 12682470</td>\n",
       "      <td>  18</td>\n",
       "      <td> 1197502</td>\n",
       "      <td> 11</td>\n",
       "      <td>  0</td>\n",
       "      <td> f</td>\n",
       "      <td> 2013-03-28</td>\n",
       "    </tr>\n",
       "  </tbody>\n",
       "</table>\n",
       "</div>"
      ],
      "text/plain": [
       "         id  chain    offer  market  repeattrips repeater   offerdate\n",
       "0     86246    205  1208251      34            5        t  2013-04-24\n",
       "1     86252    205  1197502      34           16        t  2013-03-27\n",
       "2  12682470     18  1197502      11            0        f  2013-03-28"
      ]
     },
     "execution_count": 9,
     "metadata": {},
     "output_type": "execute_result"
    }
   ],
   "source": [
    "X_train = pd.read_csv('trainHistory.csv')\n",
    "print X_train.shape\n",
    "X_train.head(3)"
   ]
  },
  {
   "cell_type": "markdown",
   "metadata": {},
   "source": [
    "#### load test history data"
   ]
  },
  {
   "cell_type": "code",
   "execution_count": 10,
   "metadata": {
    "collapsed": false
   },
   "outputs": [
    {
     "name": "stdout",
     "output_type": "stream",
     "text": [
      "1\n"
     ]
    }
   ],
   "source": [
    "keys = bucket.get_all_keys(prefix='testHistory')\n",
    "print len( keys)\n",
    "keys[0].get_contents_to_filename('testHistory.csv')"
   ]
  },
  {
   "cell_type": "code",
   "execution_count": 11,
   "metadata": {
    "collapsed": false
   },
   "outputs": [
    {
     "name": "stdout",
     "output_type": "stream",
     "text": [
      "(151484, 5)\n"
     ]
    },
    {
     "data": {
      "text/html": [
       "<div style=\"max-height:1000px;max-width:1500px;overflow:auto;\">\n",
       "<table border=\"1\" class=\"dataframe\">\n",
       "  <thead>\n",
       "    <tr style=\"text-align: right;\">\n",
       "      <th></th>\n",
       "      <th>id</th>\n",
       "      <th>chain</th>\n",
       "      <th>offer</th>\n",
       "      <th>market</th>\n",
       "      <th>offerdate</th>\n",
       "    </tr>\n",
       "  </thead>\n",
       "  <tbody>\n",
       "    <tr>\n",
       "      <th>0</th>\n",
       "      <td> 12262064</td>\n",
       "      <td> 95</td>\n",
       "      <td> 1219903</td>\n",
       "      <td> 39</td>\n",
       "      <td> 2013-06-27</td>\n",
       "    </tr>\n",
       "    <tr>\n",
       "      <th>1</th>\n",
       "      <td> 12277270</td>\n",
       "      <td> 95</td>\n",
       "      <td> 1221658</td>\n",
       "      <td> 39</td>\n",
       "      <td> 2013-06-23</td>\n",
       "    </tr>\n",
       "    <tr>\n",
       "      <th>2</th>\n",
       "      <td> 12332190</td>\n",
       "      <td> 95</td>\n",
       "      <td> 1213242</td>\n",
       "      <td> 39</td>\n",
       "      <td> 2013-06-15</td>\n",
       "    </tr>\n",
       "  </tbody>\n",
       "</table>\n",
       "</div>"
      ],
      "text/plain": [
       "         id  chain    offer  market   offerdate\n",
       "0  12262064     95  1219903      39  2013-06-27\n",
       "1  12277270     95  1221658      39  2013-06-23\n",
       "2  12332190     95  1213242      39  2013-06-15"
      ]
     },
     "execution_count": 11,
     "metadata": {},
     "output_type": "execute_result"
    }
   ],
   "source": [
    "X_test = pd.read_csv('testHistory.csv')\n",
    "print X_test.shape\n",
    "X_test.head(3)"
   ]
  },
  {
   "cell_type": "markdown",
   "metadata": {},
   "source": [
    "#### Helpful functions for exploring data"
   ]
  },
  {
   "cell_type": "code",
   "execution_count": 12,
   "metadata": {
    "collapsed": true
   },
   "outputs": [],
   "source": [
    "#get unique value counts for each field\n",
    "def print_unique_value_counts_per_attribute( df ):\n",
    "    #get col headers\n",
    "    col_headers = list( df.columns)\n",
    "\n",
    "    for i in range( 0, len(col_headers), 1):\n",
    "        print( col_headers[i], str(len(pd.value_counts( df[ col_headers[i] ]))) )"
   ]
  },
  {
   "cell_type": "markdown",
   "metadata": {},
   "source": [
    "#### merge dataset\n",
    "transaction merge with history by (id, chain), transaction merge with offer by (category, brand, company)"
   ]
  },
  {
   "cell_type": "code",
   "execution_count": 13,
   "metadata": {
    "collapsed": false
   },
   "outputs": [
    {
     "name": "stdout",
     "output_type": "stream",
     "text": [
      "(311541, 7)\n"
     ]
    },
    {
     "data": {
      "text/html": [
       "<div style=\"max-height:1000px;max-width:1500px;overflow:auto;\">\n",
       "<table border=\"1\" class=\"dataframe\">\n",
       "  <thead>\n",
       "    <tr style=\"text-align: right;\">\n",
       "      <th></th>\n",
       "      <th>chain</th>\n",
       "      <th>id</th>\n",
       "      <th>market</th>\n",
       "      <th>offer</th>\n",
       "      <th>offerdate</th>\n",
       "      <th>repeater</th>\n",
       "      <th>repeattrips</th>\n",
       "    </tr>\n",
       "  </thead>\n",
       "  <tbody>\n",
       "    <tr>\n",
       "      <th>0</th>\n",
       "      <td> 205</td>\n",
       "      <td> 86246</td>\n",
       "      <td> 34</td>\n",
       "      <td> 1208251</td>\n",
       "      <td> 2013-04-24</td>\n",
       "      <td> t</td>\n",
       "      <td> 5</td>\n",
       "    </tr>\n",
       "  </tbody>\n",
       "</table>\n",
       "</div>"
      ],
      "text/plain": [
       "   chain     id  market    offer   offerdate repeater  repeattrips\n",
       "0    205  86246      34  1208251  2013-04-24        t            5"
      ]
     },
     "execution_count": 13,
     "metadata": {},
     "output_type": "execute_result"
    }
   ],
   "source": [
    "#combine X_train and X_test for feature creation\n",
    "X_combine = pd.concat([X_train, X_test])\n",
    "print X_combine.shape\n",
    "X_combine.head(1) #view train sample"
   ]
  },
  {
   "cell_type": "code",
   "execution_count": 14,
   "metadata": {
    "collapsed": false
   },
   "outputs": [
    {
     "name": "stdout",
     "output_type": "stream",
     "text": [
      "(311541, 7)\n"
     ]
    },
    {
     "data": {
      "text/html": [
       "<div style=\"max-height:1000px;max-width:1500px;overflow:auto;\">\n",
       "<table border=\"1\" class=\"dataframe\">\n",
       "  <thead>\n",
       "    <tr style=\"text-align: right;\">\n",
       "      <th></th>\n",
       "      <th>chain</th>\n",
       "      <th>id</th>\n",
       "      <th>market</th>\n",
       "      <th>offer</th>\n",
       "      <th>offerdate</th>\n",
       "      <th>repeater</th>\n",
       "      <th>repeattrips</th>\n",
       "    </tr>\n",
       "  </thead>\n",
       "  <tbody>\n",
       "    <tr>\n",
       "      <th>151483</th>\n",
       "      <td> 46</td>\n",
       "      <td> 4853598737</td>\n",
       "      <td> 15</td>\n",
       "      <td> 1230218</td>\n",
       "      <td> 2013-07-27</td>\n",
       "      <td> NaN</td>\n",
       "      <td>NaN</td>\n",
       "    </tr>\n",
       "  </tbody>\n",
       "</table>\n",
       "</div>"
      ],
      "text/plain": [
       "        chain          id  market    offer   offerdate repeater  repeattrips\n",
       "151483     46  4853598737      15  1230218  2013-07-27      NaN          NaN"
      ]
     },
     "execution_count": 14,
     "metadata": {},
     "output_type": "execute_result"
    }
   ],
   "source": [
    "print X_combine.shape\n",
    "X_combine.tail(1) #view test sample"
   ]
  },
  {
   "cell_type": "code",
   "execution_count": 15,
   "metadata": {
    "collapsed": false
   },
   "outputs": [
    {
     "name": "stdout",
     "output_type": "stream",
     "text": [
      "(311541, 12)\n"
     ]
    },
    {
     "data": {
      "text/html": [
       "<div style=\"max-height:1000px;max-width:1500px;overflow:auto;\">\n",
       "<table border=\"1\" class=\"dataframe\">\n",
       "  <thead>\n",
       "    <tr style=\"text-align: right;\">\n",
       "      <th></th>\n",
       "      <th>chain</th>\n",
       "      <th>id</th>\n",
       "      <th>market</th>\n",
       "      <th>offer</th>\n",
       "      <th>offerdate</th>\n",
       "      <th>repeater</th>\n",
       "      <th>repeattrips</th>\n",
       "      <th>category</th>\n",
       "      <th>quantity</th>\n",
       "      <th>company</th>\n",
       "      <th>offervalue</th>\n",
       "      <th>brand</th>\n",
       "    </tr>\n",
       "  </thead>\n",
       "  <tbody>\n",
       "    <tr>\n",
       "      <th>0</th>\n",
       "      <td> 205</td>\n",
       "      <td>    86246</td>\n",
       "      <td> 34</td>\n",
       "      <td> 1208251</td>\n",
       "      <td> 2013-04-24</td>\n",
       "      <td> t</td>\n",
       "      <td>  5</td>\n",
       "      <td> 2202</td>\n",
       "      <td> 1</td>\n",
       "      <td> 104460040</td>\n",
       "      <td> 2.00</td>\n",
       "      <td>  3718</td>\n",
       "    </tr>\n",
       "    <tr>\n",
       "      <th>1</th>\n",
       "      <td> 205</td>\n",
       "      <td>    86252</td>\n",
       "      <td> 34</td>\n",
       "      <td> 1197502</td>\n",
       "      <td> 2013-03-27</td>\n",
       "      <td> t</td>\n",
       "      <td> 16</td>\n",
       "      <td> 3203</td>\n",
       "      <td> 1</td>\n",
       "      <td> 106414464</td>\n",
       "      <td> 0.75</td>\n",
       "      <td> 13474</td>\n",
       "    </tr>\n",
       "    <tr>\n",
       "      <th>2</th>\n",
       "      <td>  18</td>\n",
       "      <td> 12682470</td>\n",
       "      <td> 11</td>\n",
       "      <td> 1197502</td>\n",
       "      <td> 2013-03-28</td>\n",
       "      <td> f</td>\n",
       "      <td>  0</td>\n",
       "      <td> 3203</td>\n",
       "      <td> 1</td>\n",
       "      <td> 106414464</td>\n",
       "      <td> 0.75</td>\n",
       "      <td> 13474</td>\n",
       "    </tr>\n",
       "  </tbody>\n",
       "</table>\n",
       "</div>"
      ],
      "text/plain": [
       "   chain        id  market    offer   offerdate repeater  repeattrips  \\\n",
       "0    205     86246      34  1208251  2013-04-24        t            5   \n",
       "1    205     86252      34  1197502  2013-03-27        t           16   \n",
       "2     18  12682470      11  1197502  2013-03-28        f            0   \n",
       "\n",
       "   category  quantity    company  offervalue  brand  \n",
       "0      2202         1  104460040        2.00   3718  \n",
       "1      3203         1  106414464        0.75  13474  \n",
       "2      3203         1  106414464        0.75  13474  "
      ]
     },
     "execution_count": 15,
     "metadata": {},
     "output_type": "execute_result"
    }
   ],
   "source": [
    "X_combine = pd.merge( X_combine, offers_df, how='left', on=['offer'])\n",
    "print X_combine.shape\n",
    "X_combine.head(3) "
   ]
  },
  {
   "cell_type": "code",
   "execution_count": 16,
   "metadata": {
    "collapsed": false
   },
   "outputs": [
    {
     "name": "stdout",
     "output_type": "stream",
     "text": [
      "<class 'pandas.core.frame.DataFrame'>\n",
      "Int64Index: 311541 entries, 0 to 311540\n",
      "Data columns (total 12 columns):\n",
      "chain          311541 non-null int64\n",
      "id             311541 non-null int64\n",
      "market         311541 non-null int64\n",
      "offer          311541 non-null int64\n",
      "offerdate      311541 non-null object\n",
      "repeater       160057 non-null object\n",
      "repeattrips    160057 non-null float64\n",
      "category       311541 non-null int64\n",
      "quantity       311541 non-null int64\n",
      "company        311541 non-null int64\n",
      "offervalue     311541 non-null float64\n",
      "brand          311541 non-null int64\n",
      "dtypes: float64(2), int64(8), object(2)\n",
      "memory usage: 30.9+ MB\n"
     ]
    }
   ],
   "source": [
    "X_combine.info()\n",
    "#repeater & repeattrips include non-null values, as expected"
   ]
  },
  {
   "cell_type": "code",
   "execution_count": 17,
   "metadata": {
    "collapsed": false
   },
   "outputs": [
    {
     "name": "stdout",
     "output_type": "stream",
     "text": [
      "('chain', '134')\n",
      "('id', '311541')\n",
      "('market', '34')\n",
      "('offer', '37')\n",
      "('offerdate', '145')\n",
      "('repeater', '2')\n",
      "('repeattrips', '56')\n",
      "('category', '20')\n",
      "('quantity', '2')\n",
      "('company', '18')\n",
      "('offervalue', '7')\n",
      "('brand', '19')\n"
     ]
    }
   ],
   "source": [
    "print_unique_value_counts_per_attribute( X_combine)"
   ]
  },
  {
   "cell_type": "markdown",
   "metadata": {
    "collapsed": true
   },
   "source": [
    "#### Explore transaction dataset"
   ]
  },
  {
   "cell_type": "code",
   "execution_count": 18,
   "metadata": {
    "collapsed": false
   },
   "outputs": [
    {
     "name": "stdout",
     "output_type": "stream",
     "text": [
      "<class 'pandas.core.frame.DataFrame'>\n",
      "Int64Index: 27764694 entries, 0 to 27764693\n",
      "Data columns (total 11 columns):\n",
      "id                  int64\n",
      "chain               int64\n",
      "dept                int64\n",
      "category            int64\n",
      "company             int64\n",
      "brand               int64\n",
      "date                object\n",
      "productsize         float64\n",
      "productmeasure      object\n",
      "purchasequantity    int64\n",
      "purchaseamount      float64\n",
      "dtypes: float64(2), int64(7), object(2)\n",
      "memory usage: 2.5+ GB\n"
     ]
    }
   ],
   "source": [
    "#confirm dataset is complete... does NOT provide \"count\", but does show that memory usage is 2.5+ GB \n",
    "reduced_df.info()"
   ]
  },
  {
   "cell_type": "code",
   "execution_count": 19,
   "metadata": {
    "collapsed": false
   },
   "outputs": [
    {
     "data": {
      "text/html": [
       "<div style=\"max-height:1000px;max-width:1500px;overflow:auto;\">\n",
       "<table border=\"1\" class=\"dataframe\">\n",
       "  <thead>\n",
       "    <tr style=\"text-align: right;\">\n",
       "      <th></th>\n",
       "      <th>count</th>\n",
       "      <th>mean</th>\n",
       "      <th>std</th>\n",
       "      <th>min</th>\n",
       "      <th>25%</th>\n",
       "      <th>50%</th>\n",
       "      <th>75%</th>\n",
       "      <th>max</th>\n",
       "    </tr>\n",
       "  </thead>\n",
       "  <tbody>\n",
       "    <tr>\n",
       "      <th>id</th>\n",
       "      <td> 27764694</td>\n",
       "      <td> 1.846040e+09</td>\n",
       "      <td> 1.547659e+09</td>\n",
       "      <td>   86246.00</td>\n",
       "      <td> 497991065.0</td>\n",
       "      <td> 7.658742e+08</td>\n",
       "      <td> 3.343457e+09</td>\n",
       "      <td> 4.853599e+09</td>\n",
       "    </tr>\n",
       "    <tr>\n",
       "      <th>chain</th>\n",
       "      <td> 27764694</td>\n",
       "      <td> 1.281176e+02</td>\n",
       "      <td> 1.255024e+02</td>\n",
       "      <td>       2.00</td>\n",
       "      <td>        26.0</td>\n",
       "      <td> 9.600000e+01</td>\n",
       "      <td> 1.650000e+02</td>\n",
       "      <td> 5.260000e+02</td>\n",
       "    </tr>\n",
       "    <tr>\n",
       "      <th>dept</th>\n",
       "      <td> 27764694</td>\n",
       "      <td> 4.725891e+01</td>\n",
       "      <td> 2.719405e+01</td>\n",
       "      <td>       2.00</td>\n",
       "      <td>        26.0</td>\n",
       "      <td> 3.700000e+01</td>\n",
       "      <td> 5.800000e+01</td>\n",
       "      <td> 9.900000e+01</td>\n",
       "    </tr>\n",
       "    <tr>\n",
       "      <th>category</th>\n",
       "      <td> 27764694</td>\n",
       "      <td> 4.739659e+03</td>\n",
       "      <td> 2.718690e+03</td>\n",
       "      <td>     201.00</td>\n",
       "      <td>      2628.0</td>\n",
       "      <td> 3.703000e+03</td>\n",
       "      <td> 5.824000e+03</td>\n",
       "      <td> 9.909000e+03</td>\n",
       "    </tr>\n",
       "    <tr>\n",
       "      <th>company</th>\n",
       "      <td> 27764694</td>\n",
       "      <td> 1.838715e+08</td>\n",
       "      <td> 2.660773e+08</td>\n",
       "      <td> 1036030.00</td>\n",
       "      <td> 103700030.0</td>\n",
       "      <td> 1.046100e+08</td>\n",
       "      <td> 1.071280e+08</td>\n",
       "      <td> 1.088882e+10</td>\n",
       "    </tr>\n",
       "    <tr>\n",
       "      <th>brand</th>\n",
       "      <td> 27764694</td>\n",
       "      <td> 1.273590e+04</td>\n",
       "      <td> 1.497814e+04</td>\n",
       "      <td>       0.00</td>\n",
       "      <td>      3342.0</td>\n",
       "      <td> 8.993000e+03</td>\n",
       "      <td> 1.619600e+04</td>\n",
       "      <td> 1.086130e+05</td>\n",
       "    </tr>\n",
       "    <tr>\n",
       "      <th>productsize</th>\n",
       "      <td> 27764694</td>\n",
       "      <td> 2.873390e+01</td>\n",
       "      <td> 4.233549e+01</td>\n",
       "      <td>       0.00</td>\n",
       "      <td>         8.0</td>\n",
       "      <td> 1.450000e+01</td>\n",
       "      <td> 3.200000e+01</td>\n",
       "      <td> 1.080000e+03</td>\n",
       "    </tr>\n",
       "    <tr>\n",
       "      <th>purchasequantity</th>\n",
       "      <td> 27764694</td>\n",
       "      <td> 1.490484e+00</td>\n",
       "      <td> 3.886984e+00</td>\n",
       "      <td>     -27.00</td>\n",
       "      <td>         1.0</td>\n",
       "      <td> 1.000000e+00</td>\n",
       "      <td> 2.000000e+00</td>\n",
       "      <td> 1.184500e+04</td>\n",
       "    </tr>\n",
       "    <tr>\n",
       "      <th>purchaseamount</th>\n",
       "      <td> 27764694</td>\n",
       "      <td> 5.286882e+00</td>\n",
       "      <td> 9.019249e+00</td>\n",
       "      <td>    -885.04</td>\n",
       "      <td>         2.5</td>\n",
       "      <td> 3.790000e+00</td>\n",
       "      <td> 5.990000e+00</td>\n",
       "      <td> 2.072875e+04</td>\n",
       "    </tr>\n",
       "  </tbody>\n",
       "</table>\n",
       "</div>"
      ],
      "text/plain": [
       "                     count          mean           std         min  \\\n",
       "id                27764694  1.846040e+09  1.547659e+09    86246.00   \n",
       "chain             27764694  1.281176e+02  1.255024e+02        2.00   \n",
       "dept              27764694  4.725891e+01  2.719405e+01        2.00   \n",
       "category          27764694  4.739659e+03  2.718690e+03      201.00   \n",
       "company           27764694  1.838715e+08  2.660773e+08  1036030.00   \n",
       "brand             27764694  1.273590e+04  1.497814e+04        0.00   \n",
       "productsize       27764694  2.873390e+01  4.233549e+01        0.00   \n",
       "purchasequantity  27764694  1.490484e+00  3.886984e+00      -27.00   \n",
       "purchaseamount    27764694  5.286882e+00  9.019249e+00     -885.04   \n",
       "\n",
       "                          25%           50%           75%           max  \n",
       "id                497991065.0  7.658742e+08  3.343457e+09  4.853599e+09  \n",
       "chain                    26.0  9.600000e+01  1.650000e+02  5.260000e+02  \n",
       "dept                     26.0  3.700000e+01  5.800000e+01  9.900000e+01  \n",
       "category               2628.0  3.703000e+03  5.824000e+03  9.909000e+03  \n",
       "company           103700030.0  1.046100e+08  1.071280e+08  1.088882e+10  \n",
       "brand                  3342.0  8.993000e+03  1.619600e+04  1.086130e+05  \n",
       "productsize               8.0  1.450000e+01  3.200000e+01  1.080000e+03  \n",
       "purchasequantity          1.0  1.000000e+00  2.000000e+00  1.184500e+04  \n",
       "purchaseamount            2.5  3.790000e+00  5.990000e+00  2.072875e+04  "
      ]
     },
     "execution_count": 19,
     "metadata": {},
     "output_type": "execute_result"
    }
   ],
   "source": [
    "reduced_df.describe().T"
   ]
  },
  {
   "cell_type": "code",
   "execution_count": 20,
   "metadata": {
    "collapsed": false
   },
   "outputs": [
    {
     "name": "stdout",
     "output_type": "stream",
     "text": [
      "('id', '311201')\n",
      "('chain', '134')\n",
      "('dept', '54')\n",
      "('category', '209')\n",
      "('company', '1572')\n",
      "('brand', '2031')\n",
      "('date', '514')\n",
      "('productsize', '812')\n",
      "('productmeasure', '6')\n",
      "('purchasequantity', '592')\n",
      "('purchaseamount', '21349')\n"
     ]
    }
   ],
   "source": [
    "print_unique_value_counts_per_attribute( reduced_df )"
   ]
  },
  {
   "cell_type": "markdown",
   "metadata": {
    "collapsed": true
   },
   "source": [
    "#### Feature extraction\n",
    "https://chitcode.wordpress.com/"
   ]
  },
  {
   "cell_type": "code",
   "execution_count": 24,
   "metadata": {
    "collapsed": false
   },
   "outputs": [],
   "source": [
    "def extract_features( cust_id):\n",
    "    cust_details = X_combine.ix[X_combine.id == cust_id,:] #gets 12-attributes for customer (1x12 list)\n",
    "    #print cust_details\n",
    "    \n",
    "    #assign important variables for feature creation\n",
    "    offer_category = cust_details.category.values[0]\n",
    "    offer_company = cust_details.company.values[0]\n",
    "    offer_brand = cust_details.brand.values[0]\n",
    "    #print offer_category, offer_company , offer_brand \n",
    "    \n",
    "    #get all transactions for customer\n",
    "    trans_cust = reduced_df.ix[reduced_df.id == cust_id,:]\n",
    "    #print trans_cust\n",
    "    \n",
    "    #define empty transaction to catch exceptions in feature creation\n",
    "    empty_trans = pd.DataFrame({'id':0,'chain':0,'dept':0,'category':0,'company':0,'brand':0,'date':'2000-01-01',\n",
    "                                'productsize':0,'productmeasure':'OO','purchasequantity':0,'purchaseamount':0.0},index=[1])  \n",
    "    if trans_cust.shape[0] == 0:        \n",
    "        trans_cust=empty_trans\n",
    "    \n",
    "    #Chitcode features - https://chitcode.wordpress.com/\n",
    "    #category\n",
    "    cust_details['category_total_amount'] =   trans_cust.ix[trans_cust.category == offer_category,:].purchaseamount.sum()  \n",
    "    cust_details['category_total_quantity'] = trans_cust.ix[trans_cust.category == offer_category,:].purchasequantity.sum()  \n",
    "    cust_details['category_buy_true'] =  1 if trans_cust.ix[trans_cust.category == offer_category,:].purchasequantity.sum() > 0 else 0\n",
    "    #company\n",
    "    cust_details['company_total_amount'] =   trans_cust.ix[trans_cust.company == offer_company,:].purchaseamount.sum()  \n",
    "    cust_details['company_total_quantity'] = trans_cust.ix[trans_cust.company == offer_company,:].purchasequantity.sum()  \n",
    "    cust_details['company_buy_true'] =  1 if trans_cust.ix[trans_cust.company == offer_company,:].purchasequantity.sum() > 0 else 0\n",
    "    #brand\n",
    "    cust_details['brand_total_amount'] =   trans_cust.ix[trans_cust.brand == offer_brand,:].purchaseamount.sum()  \n",
    "    cust_details['brand_total_quantity'] = trans_cust.ix[trans_cust.brand == offer_brand,:].purchasequantity.sum()  \n",
    "    cust_details['brand_buy_true'] =  1 if trans_cust.ix[trans_cust.brand == offer_brand,:].purchasequantity.sum() > 0 else 0\n",
    "    #print cust_details\n",
    "    \n",
    "    #Selected ML-Wave features go one layer deeper\n",
    "    #TBD\n",
    "    #print cust_details\n",
    "\n",
    "    return cust_details\n"
   ]
  },
  {
   "cell_type": "code",
   "execution_count": 26,
   "metadata": {
    "collapsed": false
   },
   "outputs": [
    {
     "name": "stderr",
     "output_type": "stream",
     "text": [
      "/home/centos/miniconda/lib/python2.7/site-packages/IPython/kernel/__main__.py:23: SettingWithCopyWarning: \n",
      "A value is trying to be set on a copy of a slice from a DataFrame.\n",
      "Try using .loc[row_indexer,col_indexer] = value instead\n",
      "\n",
      "See the the caveats in the documentation: http://pandas.pydata.org/pandas-docs/stable/indexing.html#indexing-view-versus-copy\n",
      "/home/centos/miniconda/lib/python2.7/site-packages/IPython/kernel/__main__.py:24: SettingWithCopyWarning: \n",
      "A value is trying to be set on a copy of a slice from a DataFrame.\n",
      "Try using .loc[row_indexer,col_indexer] = value instead\n",
      "\n",
      "See the the caveats in the documentation: http://pandas.pydata.org/pandas-docs/stable/indexing.html#indexing-view-versus-copy\n",
      "/home/centos/miniconda/lib/python2.7/site-packages/IPython/kernel/__main__.py:25: SettingWithCopyWarning: \n",
      "A value is trying to be set on a copy of a slice from a DataFrame.\n",
      "Try using .loc[row_indexer,col_indexer] = value instead\n",
      "\n",
      "See the the caveats in the documentation: http://pandas.pydata.org/pandas-docs/stable/indexing.html#indexing-view-versus-copy\n",
      "/home/centos/miniconda/lib/python2.7/site-packages/IPython/kernel/__main__.py:27: SettingWithCopyWarning: \n",
      "A value is trying to be set on a copy of a slice from a DataFrame.\n",
      "Try using .loc[row_indexer,col_indexer] = value instead\n",
      "\n",
      "See the the caveats in the documentation: http://pandas.pydata.org/pandas-docs/stable/indexing.html#indexing-view-versus-copy\n",
      "/home/centos/miniconda/lib/python2.7/site-packages/IPython/kernel/__main__.py:28: SettingWithCopyWarning: \n",
      "A value is trying to be set on a copy of a slice from a DataFrame.\n",
      "Try using .loc[row_indexer,col_indexer] = value instead\n",
      "\n",
      "See the the caveats in the documentation: http://pandas.pydata.org/pandas-docs/stable/indexing.html#indexing-view-versus-copy\n",
      "/home/centos/miniconda/lib/python2.7/site-packages/IPython/kernel/__main__.py:29: SettingWithCopyWarning: \n",
      "A value is trying to be set on a copy of a slice from a DataFrame.\n",
      "Try using .loc[row_indexer,col_indexer] = value instead\n",
      "\n",
      "See the the caveats in the documentation: http://pandas.pydata.org/pandas-docs/stable/indexing.html#indexing-view-versus-copy\n",
      "/home/centos/miniconda/lib/python2.7/site-packages/IPython/kernel/__main__.py:31: SettingWithCopyWarning: \n",
      "A value is trying to be set on a copy of a slice from a DataFrame.\n",
      "Try using .loc[row_indexer,col_indexer] = value instead\n",
      "\n",
      "See the the caveats in the documentation: http://pandas.pydata.org/pandas-docs/stable/indexing.html#indexing-view-versus-copy\n",
      "/home/centos/miniconda/lib/python2.7/site-packages/IPython/kernel/__main__.py:32: SettingWithCopyWarning: \n",
      "A value is trying to be set on a copy of a slice from a DataFrame.\n",
      "Try using .loc[row_indexer,col_indexer] = value instead\n",
      "\n",
      "See the the caveats in the documentation: http://pandas.pydata.org/pandas-docs/stable/indexing.html#indexing-view-versus-copy\n",
      "/home/centos/miniconda/lib/python2.7/site-packages/IPython/kernel/__main__.py:33: SettingWithCopyWarning: \n",
      "A value is trying to be set on a copy of a slice from a DataFrame.\n",
      "Try using .loc[row_indexer,col_indexer] = value instead\n",
      "\n",
      "See the the caveats in the documentation: http://pandas.pydata.org/pandas-docs/stable/indexing.html#indexing-view-versus-copy\n"
     ]
    },
    {
     "data": {
      "text/html": [
       "<div style=\"max-height:1000px;max-width:1500px;overflow:auto;\">\n",
       "<table border=\"1\" class=\"dataframe\">\n",
       "  <thead>\n",
       "    <tr style=\"text-align: right;\">\n",
       "      <th></th>\n",
       "      <th>chain</th>\n",
       "      <th>id</th>\n",
       "      <th>market</th>\n",
       "      <th>offer</th>\n",
       "      <th>offerdate</th>\n",
       "      <th>repeater</th>\n",
       "      <th>repeattrips</th>\n",
       "      <th>category</th>\n",
       "      <th>quantity</th>\n",
       "      <th>company</th>\n",
       "      <th>...</th>\n",
       "      <th>brand</th>\n",
       "      <th>category_total_amount</th>\n",
       "      <th>category_total_quantity</th>\n",
       "      <th>category_buy_true</th>\n",
       "      <th>company_total_amount</th>\n",
       "      <th>company_total_quantity</th>\n",
       "      <th>company_buy_true</th>\n",
       "      <th>brand_total_amount</th>\n",
       "      <th>brand_total_quantity</th>\n",
       "      <th>brand_buy_true</th>\n",
       "    </tr>\n",
       "  </thead>\n",
       "  <tbody>\n",
       "    <tr>\n",
       "      <th>0</th>\n",
       "      <td> 205</td>\n",
       "      <td> 86246</td>\n",
       "      <td> 34</td>\n",
       "      <td> 1208251</td>\n",
       "      <td> 2013-04-24</td>\n",
       "      <td> t</td>\n",
       "      <td> 5</td>\n",
       "      <td> 2202</td>\n",
       "      <td> 1</td>\n",
       "      <td> 104460040</td>\n",
       "      <td>...</td>\n",
       "      <td> 3718</td>\n",
       "      <td> 0</td>\n",
       "      <td> 0</td>\n",
       "      <td> 0</td>\n",
       "      <td> 243.63</td>\n",
       "      <td> 37</td>\n",
       "      <td> 1</td>\n",
       "      <td> 28.71</td>\n",
       "      <td> 9</td>\n",
       "      <td> 1</td>\n",
       "    </tr>\n",
       "  </tbody>\n",
       "</table>\n",
       "<p>1 rows × 21 columns</p>\n",
       "</div>"
      ],
      "text/plain": [
       "   chain     id  market    offer   offerdate repeater  repeattrips  category  \\\n",
       "0    205  86246      34  1208251  2013-04-24        t            5      2202   \n",
       "\n",
       "   quantity    company       ...        brand  category_total_amount  \\\n",
       "0         1  104460040       ...         3718                      0   \n",
       "\n",
       "   category_total_quantity  category_buy_true  company_total_amount  \\\n",
       "0                        0                  0                243.63   \n",
       "\n",
       "   company_total_quantity  company_buy_true  brand_total_amount  \\\n",
       "0                      37                 1               28.71   \n",
       "\n",
       "   brand_total_quantity  brand_buy_true  \n",
       "0                     9               1  \n",
       "\n",
       "[1 rows x 21 columns]"
      ]
     },
     "execution_count": 26,
     "metadata": {},
     "output_type": "execute_result"
    }
   ],
   "source": [
    "extract_features( 86246 ) #test\n"
   ]
  },
  {
   "cell_type": "code",
   "execution_count": 25,
   "metadata": {
    "collapsed": false,
    "scrolled": true
   },
   "outputs": [
    {
     "data": {
      "text/plain": [
       "'\\nextract_features( 86246 ) #test\\n\\nWarning for discussion with TAs: \\nA value is trying to be set on a copy of a slice from a DataFrame.\\nTry using .loc[row_indexer,col_indexer] = value instead\\n'"
      ]
     },
     "execution_count": 25,
     "metadata": {},
     "output_type": "execute_result"
    }
   ],
   "source": [
    "'''\n",
    "extract_features( 86246 ) #test\n",
    "\n",
    "Warning for discussion with TAs: \n",
    "A value is trying to be set on a copy of a slice from a DataFrame.\n",
    "Try using .loc[row_indexer,col_indexer] = value instead\n",
    "'''"
   ]
  },
  {
   "cell_type": "code",
   "execution_count": 23,
   "metadata": {
    "collapsed": false
   },
   "outputs": [
    {
     "data": {
      "text/plain": [
       "311541"
      ]
     },
     "execution_count": 23,
     "metadata": {},
     "output_type": "execute_result"
    }
   ],
   "source": [
    "len(X_combine.id.values)"
   ]
  },
  {
   "cell_type": "code",
   "execution_count": 25,
   "metadata": {
    "collapsed": false
   },
   "outputs": [
    {
     "name": "stderr",
     "output_type": "stream",
     "text": [
      "/home/centos/miniconda/lib/python2.7/site-packages/IPython/kernel/__main__.py:23: SettingWithCopyWarning: \n",
      "A value is trying to be set on a copy of a slice from a DataFrame.\n",
      "Try using .loc[row_indexer,col_indexer] = value instead\n",
      "\n",
      "See the the caveats in the documentation: http://pandas.pydata.org/pandas-docs/stable/indexing.html#indexing-view-versus-copy\n",
      "/home/centos/miniconda/lib/python2.7/site-packages/IPython/kernel/__main__.py:24: SettingWithCopyWarning: \n",
      "A value is trying to be set on a copy of a slice from a DataFrame.\n",
      "Try using .loc[row_indexer,col_indexer] = value instead\n",
      "\n",
      "See the the caveats in the documentation: http://pandas.pydata.org/pandas-docs/stable/indexing.html#indexing-view-versus-copy\n",
      "/home/centos/miniconda/lib/python2.7/site-packages/IPython/kernel/__main__.py:26: SettingWithCopyWarning: \n",
      "A value is trying to be set on a copy of a slice from a DataFrame.\n",
      "Try using .loc[row_indexer,col_indexer] = value instead\n",
      "\n",
      "See the the caveats in the documentation: http://pandas.pydata.org/pandas-docs/stable/indexing.html#indexing-view-versus-copy\n",
      "/home/centos/miniconda/lib/python2.7/site-packages/IPython/kernel/__main__.py:27: SettingWithCopyWarning: \n",
      "A value is trying to be set on a copy of a slice from a DataFrame.\n",
      "Try using .loc[row_indexer,col_indexer] = value instead\n",
      "\n",
      "See the the caveats in the documentation: http://pandas.pydata.org/pandas-docs/stable/indexing.html#indexing-view-versus-copy\n",
      "/home/centos/miniconda/lib/python2.7/site-packages/IPython/kernel/__main__.py:29: SettingWithCopyWarning: \n",
      "A value is trying to be set on a copy of a slice from a DataFrame.\n",
      "Try using .loc[row_indexer,col_indexer] = value instead\n",
      "\n",
      "See the the caveats in the documentation: http://pandas.pydata.org/pandas-docs/stable/indexing.html#indexing-view-versus-copy\n",
      "/home/centos/miniconda/lib/python2.7/site-packages/IPython/kernel/__main__.py:30: SettingWithCopyWarning: \n",
      "A value is trying to be set on a copy of a slice from a DataFrame.\n",
      "Try using .loc[row_indexer,col_indexer] = value instead\n",
      "\n",
      "See the the caveats in the documentation: http://pandas.pydata.org/pandas-docs/stable/indexing.html#indexing-view-versus-copy\n"
     ]
    },
    {
     "name": "stdout",
     "output_type": "stream",
     "text": [
      "(1, 18)\n"
     ]
    },
    {
     "data": {
      "text/html": [
       "<div style=\"max-height:1000px;max-width:1500px;overflow:auto;\">\n",
       "<table border=\"1\" class=\"dataframe\">\n",
       "  <thead>\n",
       "    <tr style=\"text-align: right;\">\n",
       "      <th></th>\n",
       "      <th>chain</th>\n",
       "      <th>id</th>\n",
       "      <th>market</th>\n",
       "      <th>offer</th>\n",
       "      <th>offerdate</th>\n",
       "      <th>repeater</th>\n",
       "      <th>repeattrips</th>\n",
       "      <th>category</th>\n",
       "      <th>quantity</th>\n",
       "      <th>company</th>\n",
       "      <th>offervalue</th>\n",
       "      <th>brand</th>\n",
       "      <th>category_total_amount</th>\n",
       "      <th>category_total_quantity</th>\n",
       "      <th>company_total_amount</th>\n",
       "      <th>company_total_quantity</th>\n",
       "      <th>brand_total_amount</th>\n",
       "      <th>brand_total_quantity</th>\n",
       "    </tr>\n",
       "  </thead>\n",
       "  <tbody>\n",
       "    <tr>\n",
       "      <th>0</th>\n",
       "      <td> 205</td>\n",
       "      <td> 86246</td>\n",
       "      <td> 34</td>\n",
       "      <td> 1208251</td>\n",
       "      <td> 2013-04-24</td>\n",
       "      <td> t</td>\n",
       "      <td> 5</td>\n",
       "      <td> 2202</td>\n",
       "      <td> 1</td>\n",
       "      <td> 104460040</td>\n",
       "      <td> 2</td>\n",
       "      <td> 3718</td>\n",
       "      <td> 0</td>\n",
       "      <td> 0</td>\n",
       "      <td> 243.63</td>\n",
       "      <td> 37</td>\n",
       "      <td> 28.71</td>\n",
       "      <td> 9</td>\n",
       "    </tr>\n",
       "  </tbody>\n",
       "</table>\n",
       "</div>"
      ],
      "text/plain": [
       "   chain     id  market    offer   offerdate repeater  repeattrips  category  \\\n",
       "0    205  86246      34  1208251  2013-04-24        t            5      2202   \n",
       "\n",
       "   quantity    company  offervalue  brand  category_total_amount  \\\n",
       "0         1  104460040           2   3718                      0   \n",
       "\n",
       "   category_total_quantity  company_total_amount  company_total_quantity  \\\n",
       "0                        0                243.63                      37   \n",
       "\n",
       "   brand_total_amount  brand_total_quantity  \n",
       "0               28.71                     9  "
      ]
     },
     "execution_count": 25,
     "metadata": {},
     "output_type": "execute_result"
    }
   ],
   "source": [
    "X_features = pd.DataFrame()\n",
    "X_features = pd.concat([X_features,extract_features(86246)]) #creating new df w/ features for each X_combine\n",
    "print X_features.shape\n",
    "X_features.head()"
   ]
  },
  {
   "cell_type": "code",
   "execution_count": null,
   "metadata": {
    "collapsed": false
   },
   "outputs": [
    {
     "name": "stderr",
     "output_type": "stream",
     "text": [
      "/home/centos/miniconda/lib/python2.7/site-packages/IPython/kernel/__main__.py:23: SettingWithCopyWarning: \n",
      "A value is trying to be set on a copy of a slice from a DataFrame.\n",
      "Try using .loc[row_indexer,col_indexer] = value instead\n",
      "\n",
      "See the the caveats in the documentation: http://pandas.pydata.org/pandas-docs/stable/indexing.html#indexing-view-versus-copy\n",
      "/home/centos/miniconda/lib/python2.7/site-packages/IPython/kernel/__main__.py:24: SettingWithCopyWarning: \n",
      "A value is trying to be set on a copy of a slice from a DataFrame.\n",
      "Try using .loc[row_indexer,col_indexer] = value instead\n",
      "\n",
      "See the the caveats in the documentation: http://pandas.pydata.org/pandas-docs/stable/indexing.html#indexing-view-versus-copy\n",
      "/home/centos/miniconda/lib/python2.7/site-packages/IPython/kernel/__main__.py:26: SettingWithCopyWarning: \n",
      "A value is trying to be set on a copy of a slice from a DataFrame.\n",
      "Try using .loc[row_indexer,col_indexer] = value instead\n",
      "\n",
      "See the the caveats in the documentation: http://pandas.pydata.org/pandas-docs/stable/indexing.html#indexing-view-versus-copy\n",
      "/home/centos/miniconda/lib/python2.7/site-packages/IPython/kernel/__main__.py:27: SettingWithCopyWarning: \n",
      "A value is trying to be set on a copy of a slice from a DataFrame.\n",
      "Try using .loc[row_indexer,col_indexer] = value instead\n",
      "\n",
      "See the the caveats in the documentation: http://pandas.pydata.org/pandas-docs/stable/indexing.html#indexing-view-versus-copy\n",
      "/home/centos/miniconda/lib/python2.7/site-packages/IPython/kernel/__main__.py:29: SettingWithCopyWarning: \n",
      "A value is trying to be set on a copy of a slice from a DataFrame.\n",
      "Try using .loc[row_indexer,col_indexer] = value instead\n",
      "\n",
      "See the the caveats in the documentation: http://pandas.pydata.org/pandas-docs/stable/indexing.html#indexing-view-versus-copy\n",
      "/home/centos/miniconda/lib/python2.7/site-packages/IPython/kernel/__main__.py:30: SettingWithCopyWarning: \n",
      "A value is trying to be set on a copy of a slice from a DataFrame.\n",
      "Try using .loc[row_indexer,col_indexer] = value instead\n",
      "\n",
      "See the the caveats in the documentation: http://pandas.pydata.org/pandas-docs/stable/indexing.html#indexing-view-versus-copy\n"
     ]
    }
   ],
   "source": [
    "\n",
    "start_time = datetime.now() #for timing code\n",
    "\n",
    "X_features = pd.DataFrame()\n",
    "\n",
    "#create \n",
    "for e, cust_id in enumerate( X_combine.id.values): #test\n",
    "#for e, cust_id in enumerate( X_combine.id.values): #complete\n",
    "    try: \n",
    "        X_features = pd.concat([X_features,extract_features(cust_id)]) #creating new df w/ features for each X_combine\n",
    "        #progress, spits out time taken for each 1000 cust_ids (311 total)\n",
    "        if e%1000 == 0: \n",
    "            print e, dateTime.now()-start_time\n",
    "    except:\n",
    "        print '====='*10 #prints series of dashes to make errors \"pop\"\n",
    "        print 'Error at id', cust_id\n",
    "\n",
    "print X_features.shape\n",
    "X_features.head(3)"
   ]
  },
  {
   "cell_type": "code",
   "execution_count": 38,
   "metadata": {
    "collapsed": true
   },
   "outputs": [],
   "source": [
    "X_features.to_csv('X_features.csv',index=False)\n",
    "X_features = X_features.fillna(value=-1)"
   ]
  },
  {
   "cell_type": "code",
   "execution_count": null,
   "metadata": {
    "collapsed": true
   },
   "outputs": [],
   "source": []
  }
 ],
 "metadata": {
  "kernelspec": {
   "display_name": "Python 2",
   "language": "python",
   "name": "python2"
  },
  "language_info": {
   "codemirror_mode": {
    "name": "ipython",
    "version": 2
   },
   "file_extension": ".py",
   "mimetype": "text/x-python",
   "name": "python",
   "nbconvert_exporter": "python",
   "pygments_lexer": "ipython2",
   "version": "2.7.9"
  }
 },
 "nbformat": 4,
 "nbformat_minor": 0
}
