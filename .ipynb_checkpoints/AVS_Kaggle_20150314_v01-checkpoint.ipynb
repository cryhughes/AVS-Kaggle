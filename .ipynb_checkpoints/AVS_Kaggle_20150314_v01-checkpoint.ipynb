{
 "cells": [
  {
   "cell_type": "markdown",
   "metadata": {},
   "source": [
    "## AVS Kaggle Competition"
   ]
  },
  {
   "cell_type": "markdown",
   "metadata": {},
   "source": [
    "Links to Kaggle Comp Data: https://www.kaggle.com/c/acquire-valued-shoppers-challenge/data"
   ]
  },
  {
   "cell_type": "markdown",
   "metadata": {},
   "source": [
    "#### Import Libraries"
   ]
  },
  {
   "cell_type": "code",
   "execution_count": 1,
   "metadata": {
    "collapsed": true
   },
   "outputs": [],
   "source": [
    "# basics imports\n",
    "\n",
    "import os\n",
    "\n",
    "import pandas as pd\n",
    "import numpy as np\n"
   ]
  },
  {
   "cell_type": "code",
   "execution_count": 2,
   "metadata": {
    "collapsed": true
   },
   "outputs": [],
   "source": [
    "#S3\n",
    "from boto.s3.connection import S3Connection\n",
    "from IPython.parallel import Client"
   ]
  },
  {
   "cell_type": "code",
   "execution_count": 3,
   "metadata": {
    "collapsed": true
   },
   "outputs": [],
   "source": [
    "#plotting libraries and setting defaults\n",
    "\n",
    "%matplotlib inline\n",
    "\n",
    "from seaborn import plt\n",
    "\n",
    "# Some nice default configuration for plots\n",
    "plt.rcParams['figure.figsize'] = 10, 7.5\n",
    "plt.rcParams['axes.grid'] = True"
   ]
  },
  {
   "cell_type": "markdown",
   "metadata": {},
   "source": [
    "### Launch EC2 instance"
   ]
  },
  {
   "cell_type": "raw",
   "metadata": {
    "collapsed": true
   },
   "source": [
    "#launch ec2 instance\n",
    "\n",
    "#ssh into ec2 instance from terminal\n",
    "ssh -i ~/.ssh/mykey.rsa centos@ec2-54-164-65-191.compute-1.amazonaws.com \n",
    "\n",
    "#launch in browser\n",
    "ec2-54-164-65-191.compute-1.amazonaws.com:8888/"
   ]
  },
  {
   "cell_type": "markdown",
   "metadata": {},
   "source": [
    "#### Load data\n",
    "Ref 1: Lab '04 - Starcluster' \n",
    "Ref 2: Lab '17-ScalineOut' "
   ]
  },
  {
   "cell_type": "code",
   "execution_count": 7,
   "metadata": {
    "collapsed": false
   },
   "outputs": [
    {
     "data": {
      "text/plain": [
       "\"\\n#load access keys to variable\\n\\n#credentials = pd.read_csv('/Users/eklypse/Downloads/credentials.csv')\\n#credentials = pd.read_csv('/Users/rychughes/.ssh/credentials.csv',skiprows=1,names=['a','b'])\\ncredentials = pd.read_csv('/Users/rychughes/.ssh/credentials.csv',\\n                          #skiprows=1,\\n                          #names=['un','id','key']\\n                         )\\n\""
      ]
     },
     "execution_count": 7,
     "metadata": {},
     "output_type": "execute_result"
    }
   ],
   "source": [
    "'''\n",
    "#load access keys to variable\n",
    "\n",
    "#credentials = pd.read_csv('/Users/eklypse/Downloads/credentials.csv')\n",
    "#credentials = pd.read_csv('/Users/rychughes/.ssh/credentials.csv',skiprows=1,names=['a','b'])\n",
    "credentials = pd.read_csv('/Users/rychughes/.ssh/credentials.csv',\n",
    "                          #skiprows=1,\n",
    "                          #names=['un','id','key']\n",
    "                         )\n",
    "'''"
   ]
  },
  {
   "cell_type": "code",
   "execution_count": 14,
   "metadata": {
    "collapsed": true
   },
   "outputs": [],
   "source": [
    "credentials = pd.read_csv('/home/centos/certificates/credentials.csv')"
   ]
  },
  {
   "cell_type": "code",
   "execution_count": 15,
   "metadata": {
    "collapsed": false
   },
   "outputs": [],
   "source": [
    "aws_id = credentials['Access Key Id'][0]\n",
    "#aws_id"
   ]
  },
  {
   "cell_type": "code",
   "execution_count": 16,
   "metadata": {
    "collapsed": false
   },
   "outputs": [],
   "source": [
    "aws_key = credentials['Secret Access Key'][0]\n",
    "#aws_key"
   ]
  },
  {
   "cell_type": "code",
   "execution_count": 17,
   "metadata": {
    "collapsed": false
   },
   "outputs": [],
   "source": [
    "#load S3\n",
    "s3conn = S3Connection( aws_id , aws_key )\n",
    "#s3conn = S3Connection?"
   ]
  },
  {
   "cell_type": "code",
   "execution_count": 47,
   "metadata": {
    "collapsed": true
   },
   "outputs": [],
   "source": [
    "#s3conn.get_bucket?"
   ]
  },
  {
   "cell_type": "code",
   "execution_count": 18,
   "metadata": {
    "collapsed": true
   },
   "outputs": [],
   "source": [
    "bucket = s3conn.get_bucket('avs-kaggle-data')"
   ]
  },
  {
   "cell_type": "markdown",
   "metadata": {},
   "source": [
    "#### Load 'offers_df'\n",
    "This code works ==> this technique will work with new, larger datasets on powerful EC2 instance"
   ]
  },
  {
   "cell_type": "code",
   "execution_count": 26,
   "metadata": {
    "collapsed": false
   },
   "outputs": [
    {
     "data": {
      "text/plain": [
       "1"
      ]
     },
     "execution_count": 26,
     "metadata": {},
     "output_type": "execute_result"
    }
   ],
   "source": [
    "offers_keys = bucket.get_all_keys(prefix='offers')\n",
    "len( offers_keys)"
   ]
  },
  {
   "cell_type": "code",
   "execution_count": 27,
   "metadata": {
    "collapsed": true
   },
   "outputs": [],
   "source": [
    "offers_keys[0].get_contents_to_filename('offers.csv')"
   ]
  },
  {
   "cell_type": "code",
   "execution_count": 28,
   "metadata": {
    "collapsed": false
   },
   "outputs": [
    {
     "data": {
      "text/html": [
       "<div style=\"max-height:1000px;max-width:1500px;overflow:auto;\">\n",
       "<table border=\"1\" class=\"dataframe\">\n",
       "  <thead>\n",
       "    <tr style=\"text-align: right;\">\n",
       "      <th></th>\n",
       "      <th>offer</th>\n",
       "      <th>category</th>\n",
       "      <th>quantity</th>\n",
       "      <th>company</th>\n",
       "      <th>offervalue</th>\n",
       "      <th>brand</th>\n",
       "    </tr>\n",
       "  </thead>\n",
       "  <tbody>\n",
       "    <tr>\n",
       "      <th>0</th>\n",
       "      <td> 1190530</td>\n",
       "      <td> 9115</td>\n",
       "      <td> 1</td>\n",
       "      <td> 108500080</td>\n",
       "      <td> 5.00</td>\n",
       "      <td> 93904</td>\n",
       "    </tr>\n",
       "    <tr>\n",
       "      <th>1</th>\n",
       "      <td> 1194044</td>\n",
       "      <td> 9909</td>\n",
       "      <td> 1</td>\n",
       "      <td> 107127979</td>\n",
       "      <td> 1.00</td>\n",
       "      <td>  6732</td>\n",
       "    </tr>\n",
       "    <tr>\n",
       "      <th>2</th>\n",
       "      <td> 1197502</td>\n",
       "      <td> 3203</td>\n",
       "      <td> 1</td>\n",
       "      <td> 106414464</td>\n",
       "      <td> 0.75</td>\n",
       "      <td> 13474</td>\n",
       "    </tr>\n",
       "  </tbody>\n",
       "</table>\n",
       "</div>"
      ],
      "text/plain": [
       "     offer  category  quantity    company  offervalue  brand\n",
       "0  1190530      9115         1  108500080        5.00  93904\n",
       "1  1194044      9909         1  107127979        1.00   6732\n",
       "2  1197502      3203         1  106414464        0.75  13474"
      ]
     },
     "execution_count": 28,
     "metadata": {},
     "output_type": "execute_result"
    }
   ],
   "source": [
    "offers_df = pd.read_csv('offers.csv')\n",
    "offers_df.head(3)"
   ]
  },
  {
   "cell_type": "code",
   "execution_count": 29,
   "metadata": {
    "collapsed": false
   },
   "outputs": [
    {
     "data": {
      "text/plain": [
       "(37, 6)"
      ]
     },
     "execution_count": 29,
     "metadata": {},
     "output_type": "execute_result"
    }
   ],
   "source": [
    "offers_df.shape"
   ]
  },
  {
   "cell_type": "markdown",
   "metadata": {},
   "source": [
    "#### Load 'train_hist_df'\n",
    "This file is 6MB and timed out on laptop ==> need to launch in starcluster"
   ]
  },
  {
   "cell_type": "code",
   "execution_count": 23,
   "metadata": {
    "collapsed": false
   },
   "outputs": [
    {
     "data": {
      "text/plain": [
       "1"
      ]
     },
     "execution_count": 23,
     "metadata": {},
     "output_type": "execute_result"
    }
   ],
   "source": [
    "train_hist_keys = bucket.get_all_keys(prefix='trainHistory')\n",
    "len( train_hist_keys)"
   ]
  },
  {
   "cell_type": "code",
   "execution_count": 30,
   "metadata": {
    "collapsed": false
   },
   "outputs": [],
   "source": [
    "train_hist_keys[0].get_contents_to_filename('trainHistory.csv')"
   ]
  },
  {
   "cell_type": "code",
   "execution_count": 31,
   "metadata": {
    "collapsed": false
   },
   "outputs": [
    {
     "data": {
      "text/html": [
       "<div style=\"max-height:1000px;max-width:1500px;overflow:auto;\">\n",
       "<table border=\"1\" class=\"dataframe\">\n",
       "  <thead>\n",
       "    <tr style=\"text-align: right;\">\n",
       "      <th></th>\n",
       "      <th>id</th>\n",
       "      <th>chain</th>\n",
       "      <th>offer</th>\n",
       "      <th>market</th>\n",
       "      <th>repeattrips</th>\n",
       "      <th>repeater</th>\n",
       "      <th>offerdate</th>\n",
       "    </tr>\n",
       "  </thead>\n",
       "  <tbody>\n",
       "    <tr>\n",
       "      <th>0</th>\n",
       "      <td>    86246</td>\n",
       "      <td> 205</td>\n",
       "      <td> 1208251</td>\n",
       "      <td> 34</td>\n",
       "      <td>  5</td>\n",
       "      <td> t</td>\n",
       "      <td> 2013-04-24</td>\n",
       "    </tr>\n",
       "    <tr>\n",
       "      <th>1</th>\n",
       "      <td>    86252</td>\n",
       "      <td> 205</td>\n",
       "      <td> 1197502</td>\n",
       "      <td> 34</td>\n",
       "      <td> 16</td>\n",
       "      <td> t</td>\n",
       "      <td> 2013-03-27</td>\n",
       "    </tr>\n",
       "    <tr>\n",
       "      <th>2</th>\n",
       "      <td> 12682470</td>\n",
       "      <td>  18</td>\n",
       "      <td> 1197502</td>\n",
       "      <td> 11</td>\n",
       "      <td>  0</td>\n",
       "      <td> f</td>\n",
       "      <td> 2013-03-28</td>\n",
       "    </tr>\n",
       "  </tbody>\n",
       "</table>\n",
       "</div>"
      ],
      "text/plain": [
       "         id  chain    offer  market  repeattrips repeater   offerdate\n",
       "0     86246    205  1208251      34            5        t  2013-04-24\n",
       "1     86252    205  1197502      34           16        t  2013-03-27\n",
       "2  12682470     18  1197502      11            0        f  2013-03-28"
      ]
     },
     "execution_count": 31,
     "metadata": {},
     "output_type": "execute_result"
    }
   ],
   "source": [
    "train_hist_df = pd.read_csv('trainHistory.csv')\n",
    "train_hist_df.head(3)"
   ]
  },
  {
   "cell_type": "code",
   "execution_count": 32,
   "metadata": {
    "collapsed": false
   },
   "outputs": [
    {
     "data": {
      "text/plain": [
       "(160057, 7)"
      ]
     },
     "execution_count": 32,
     "metadata": {},
     "output_type": "execute_result"
    }
   ],
   "source": [
    "train_hist_df.shape"
   ]
  },
  {
   "cell_type": "markdown",
   "metadata": {},
   "source": [
    "#### Load 'test_hist_df'"
   ]
  },
  {
   "cell_type": "code",
   "execution_count": 35,
   "metadata": {
    "collapsed": false
   },
   "outputs": [
    {
     "data": {
      "text/plain": [
       "1"
      ]
     },
     "execution_count": 35,
     "metadata": {},
     "output_type": "execute_result"
    }
   ],
   "source": [
    "test_hist_keys = bucket.get_all_keys(prefix='testHistory')\n",
    "len( test_hist_keys)"
   ]
  },
  {
   "cell_type": "code",
   "execution_count": 37,
   "metadata": {
    "collapsed": false
   },
   "outputs": [],
   "source": [
    "test_hist_keys[0].get_contents_to_filename('testHistory.csv')"
   ]
  },
  {
   "cell_type": "code",
   "execution_count": 38,
   "metadata": {
    "collapsed": false
   },
   "outputs": [
    {
     "data": {
      "text/html": [
       "<div style=\"max-height:1000px;max-width:1500px;overflow:auto;\">\n",
       "<table border=\"1\" class=\"dataframe\">\n",
       "  <thead>\n",
       "    <tr style=\"text-align: right;\">\n",
       "      <th></th>\n",
       "      <th>id</th>\n",
       "      <th>chain</th>\n",
       "      <th>offer</th>\n",
       "      <th>market</th>\n",
       "      <th>offerdate</th>\n",
       "    </tr>\n",
       "  </thead>\n",
       "  <tbody>\n",
       "    <tr>\n",
       "      <th>0</th>\n",
       "      <td> 12262064</td>\n",
       "      <td> 95</td>\n",
       "      <td> 1219903</td>\n",
       "      <td> 39</td>\n",
       "      <td> 2013-06-27</td>\n",
       "    </tr>\n",
       "    <tr>\n",
       "      <th>1</th>\n",
       "      <td> 12277270</td>\n",
       "      <td> 95</td>\n",
       "      <td> 1221658</td>\n",
       "      <td> 39</td>\n",
       "      <td> 2013-06-23</td>\n",
       "    </tr>\n",
       "    <tr>\n",
       "      <th>2</th>\n",
       "      <td> 12332190</td>\n",
       "      <td> 95</td>\n",
       "      <td> 1213242</td>\n",
       "      <td> 39</td>\n",
       "      <td> 2013-06-15</td>\n",
       "    </tr>\n",
       "  </tbody>\n",
       "</table>\n",
       "</div>"
      ],
      "text/plain": [
       "         id  chain    offer  market   offerdate\n",
       "0  12262064     95  1219903      39  2013-06-27\n",
       "1  12277270     95  1221658      39  2013-06-23\n",
       "2  12332190     95  1213242      39  2013-06-15"
      ]
     },
     "execution_count": 38,
     "metadata": {},
     "output_type": "execute_result"
    }
   ],
   "source": [
    "test_hist_df = pd.read_csv('testHistory.csv')\n",
    "test_hist_df.head(3)"
   ]
  },
  {
   "cell_type": "code",
   "execution_count": 39,
   "metadata": {
    "collapsed": false
   },
   "outputs": [
    {
     "data": {
      "text/plain": [
       "(151484, 5)"
      ]
     },
     "execution_count": 39,
     "metadata": {},
     "output_type": "execute_result"
    }
   ],
   "source": [
    "test_hist_df.shape"
   ]
  },
  {
   "cell_type": "markdown",
   "metadata": {},
   "source": [
    "#### Load 'transactions_df'"
   ]
  },
  {
   "cell_type": "code",
   "execution_count": null,
   "metadata": {
    "collapsed": true
   },
   "outputs": [],
   "source": [
    "trans_keys = bucket.get_all_keys(prefix='transactions')\n",
    "len( trans_keys)"
   ]
  },
  {
   "cell_type": "code",
   "execution_count": null,
   "metadata": {
    "collapsed": true
   },
   "outputs": [],
   "source": [
    "trans_keys[0].get_contents_to_filename('transactions.csv')"
   ]
  },
  {
   "cell_type": "code",
   "execution_count": null,
   "metadata": {
    "collapsed": true
   },
   "outputs": [],
   "source": [
    "trans_df = pd.read_csv('transactions.csv')\n",
    "trans_df.head(3)"
   ]
  },
  {
   "cell_type": "code",
   "execution_count": null,
   "metadata": {
    "collapsed": true
   },
   "outputs": [],
   "source": [
    "trans_df.shape"
   ]
  },
  {
   "cell_type": "markdown",
   "metadata": {},
   "source": [
    "### Explore Datasets"
   ]
  },
  {
   "cell_type": "markdown",
   "metadata": {},
   "source": [
    "#### Joining DF"
   ]
  },
  {
   "cell_type": "raw",
   "metadata": {},
   "source": [
    "The transactions file can be joined to the history file by (id,chain). \n",
    "\n",
    "The history file can be joined to the offers file by (offer). \n",
    "\n",
    "The transactions file can be joined to the offers file by (category, brand, company). "
   ]
  },
  {
   "cell_type": "markdown",
   "metadata": {
    "collapsed": true
   },
   "source": [
    "#### Train DF"
   ]
  },
  {
   "cell_type": "raw",
   "metadata": {},
   "source": [
    "history\n",
    "id - A unique id representing a customer\n",
    "chain - An integer representing a store chain\n",
    "offer - An id representing a certain offer\n",
    "market - An id representing a geographical region\n",
    "repeattrips - The number of times the customer made a repeat purchase\n",
    "repeater - A boolean, equal to repeattrips > 0\n",
    "offerdate - The date a customer received the offer"
   ]
  },
  {
   "cell_type": "code",
   "execution_count": 45,
   "metadata": {
    "collapsed": false
   },
   "outputs": [
    {
     "data": {
      "text/plain": [
       "(160057, 7)"
      ]
     },
     "execution_count": 45,
     "metadata": {},
     "output_type": "execute_result"
    }
   ],
   "source": [
    "train_hist_df.shape"
   ]
  },
  {
   "cell_type": "code",
   "execution_count": 46,
   "metadata": {
    "collapsed": false
   },
   "outputs": [
    {
     "data": {
      "text/html": [
       "<div style=\"max-height:1000px;max-width:1500px;overflow:auto;\">\n",
       "<table border=\"1\" class=\"dataframe\">\n",
       "  <thead>\n",
       "    <tr style=\"text-align: right;\">\n",
       "      <th></th>\n",
       "      <th>id</th>\n",
       "      <th>chain</th>\n",
       "      <th>offer</th>\n",
       "      <th>market</th>\n",
       "      <th>repeattrips</th>\n",
       "      <th>repeater</th>\n",
       "      <th>offerdate</th>\n",
       "    </tr>\n",
       "  </thead>\n",
       "  <tbody>\n",
       "    <tr>\n",
       "      <th>0</th>\n",
       "      <td>    86246</td>\n",
       "      <td> 205</td>\n",
       "      <td> 1208251</td>\n",
       "      <td> 34</td>\n",
       "      <td>  5</td>\n",
       "      <td> t</td>\n",
       "      <td> 2013-04-24</td>\n",
       "    </tr>\n",
       "    <tr>\n",
       "      <th>1</th>\n",
       "      <td>    86252</td>\n",
       "      <td> 205</td>\n",
       "      <td> 1197502</td>\n",
       "      <td> 34</td>\n",
       "      <td> 16</td>\n",
       "      <td> t</td>\n",
       "      <td> 2013-03-27</td>\n",
       "    </tr>\n",
       "    <tr>\n",
       "      <th>2</th>\n",
       "      <td> 12682470</td>\n",
       "      <td>  18</td>\n",
       "      <td> 1197502</td>\n",
       "      <td> 11</td>\n",
       "      <td>  0</td>\n",
       "      <td> f</td>\n",
       "      <td> 2013-03-28</td>\n",
       "    </tr>\n",
       "    <tr>\n",
       "      <th>3</th>\n",
       "      <td> 12996040</td>\n",
       "      <td>  15</td>\n",
       "      <td> 1197502</td>\n",
       "      <td>  9</td>\n",
       "      <td>  0</td>\n",
       "      <td> f</td>\n",
       "      <td> 2013-03-25</td>\n",
       "    </tr>\n",
       "    <tr>\n",
       "      <th>4</th>\n",
       "      <td> 13089312</td>\n",
       "      <td>  15</td>\n",
       "      <td> 1204821</td>\n",
       "      <td>  9</td>\n",
       "      <td>  0</td>\n",
       "      <td> f</td>\n",
       "      <td> 2013-04-01</td>\n",
       "    </tr>\n",
       "  </tbody>\n",
       "</table>\n",
       "</div>"
      ],
      "text/plain": [
       "         id  chain    offer  market  repeattrips repeater   offerdate\n",
       "0     86246    205  1208251      34            5        t  2013-04-24\n",
       "1     86252    205  1197502      34           16        t  2013-03-27\n",
       "2  12682470     18  1197502      11            0        f  2013-03-28\n",
       "3  12996040     15  1197502       9            0        f  2013-03-25\n",
       "4  13089312     15  1204821       9            0        f  2013-04-01"
      ]
     },
     "execution_count": 46,
     "metadata": {},
     "output_type": "execute_result"
    }
   ],
   "source": [
    "train_hist_df.head()"
   ]
  },
  {
   "cell_type": "code",
   "execution_count": 47,
   "metadata": {
    "collapsed": false
   },
   "outputs": [
    {
     "name": "stdout",
     "output_type": "stream",
     "text": [
      "<class 'pandas.core.frame.DataFrame'>\n",
      "Int64Index: 160057 entries, 0 to 160056\n",
      "Data columns (total 7 columns):\n",
      "id             160057 non-null int64\n",
      "chain          160057 non-null int64\n",
      "offer          160057 non-null int64\n",
      "market         160057 non-null int64\n",
      "repeattrips    160057 non-null int64\n",
      "repeater       160057 non-null object\n",
      "offerdate      160057 non-null object\n",
      "dtypes: int64(5), object(2)\n",
      "memory usage: 9.8+ MB\n"
     ]
    }
   ],
   "source": [
    "train_hist_df.info()"
   ]
  },
  {
   "cell_type": "code",
   "execution_count": 48,
   "metadata": {
    "collapsed": false
   },
   "outputs": [
    {
     "data": {
      "text/html": [
       "<div style=\"max-height:1000px;max-width:1500px;overflow:auto;\">\n",
       "<table border=\"1\" class=\"dataframe\">\n",
       "  <thead>\n",
       "    <tr style=\"text-align: right;\">\n",
       "      <th></th>\n",
       "      <th>count</th>\n",
       "      <th>mean</th>\n",
       "      <th>std</th>\n",
       "      <th>min</th>\n",
       "      <th>25%</th>\n",
       "      <th>50%</th>\n",
       "      <th>75%</th>\n",
       "      <th>max</th>\n",
       "    </tr>\n",
       "  </thead>\n",
       "  <tbody>\n",
       "    <tr>\n",
       "      <th>id</th>\n",
       "      <td> 160057</td>\n",
       "      <td> 1.869324e+09</td>\n",
       "      <td> 1.570833e+09</td>\n",
       "      <td>   86246</td>\n",
       "      <td> 498182177</td>\n",
       "      <td> 767486408</td>\n",
       "      <td> 3285612741</td>\n",
       "      <td> 4809911000</td>\n",
       "    </tr>\n",
       "    <tr>\n",
       "      <th>chain</th>\n",
       "      <td> 160057</td>\n",
       "      <td> 1.268103e+02</td>\n",
       "      <td> 1.279343e+02</td>\n",
       "      <td>       2</td>\n",
       "      <td>        21</td>\n",
       "      <td>        96</td>\n",
       "      <td>        165</td>\n",
       "      <td>        526</td>\n",
       "    </tr>\n",
       "    <tr>\n",
       "      <th>offer</th>\n",
       "      <td> 160057</td>\n",
       "      <td> 1.201984e+06</td>\n",
       "      <td> 4.705531e+03</td>\n",
       "      <td> 1194044</td>\n",
       "      <td>   1197502</td>\n",
       "      <td>   1200581</td>\n",
       "      <td>    1208251</td>\n",
       "      <td>    1208503</td>\n",
       "    </tr>\n",
       "    <tr>\n",
       "      <th>market</th>\n",
       "      <td> 160057</td>\n",
       "      <td> 1.995060e+01</td>\n",
       "      <td> 1.909901e+01</td>\n",
       "      <td>       1</td>\n",
       "      <td>        10</td>\n",
       "      <td>        14</td>\n",
       "      <td>         24</td>\n",
       "      <td>         96</td>\n",
       "    </tr>\n",
       "    <tr>\n",
       "      <th>repeattrips</th>\n",
       "      <td> 160057</td>\n",
       "      <td> 6.563349e-01</td>\n",
       "      <td> 6.786516e+00</td>\n",
       "      <td>       0</td>\n",
       "      <td>         0</td>\n",
       "      <td>         0</td>\n",
       "      <td>          1</td>\n",
       "      <td>       2124</td>\n",
       "    </tr>\n",
       "  </tbody>\n",
       "</table>\n",
       "</div>"
      ],
      "text/plain": [
       "              count          mean           std      min        25%  \\\n",
       "id           160057  1.869324e+09  1.570833e+09    86246  498182177   \n",
       "chain        160057  1.268103e+02  1.279343e+02        2         21   \n",
       "offer        160057  1.201984e+06  4.705531e+03  1194044    1197502   \n",
       "market       160057  1.995060e+01  1.909901e+01        1         10   \n",
       "repeattrips  160057  6.563349e-01  6.786516e+00        0          0   \n",
       "\n",
       "                   50%         75%         max  \n",
       "id           767486408  3285612741  4809911000  \n",
       "chain               96         165         526  \n",
       "offer          1200581     1208251     1208503  \n",
       "market              14          24          96  \n",
       "repeattrips          0           1        2124  "
      ]
     },
     "execution_count": 48,
     "metadata": {},
     "output_type": "execute_result"
    }
   ],
   "source": [
    "train_hist_df.describe().T"
   ]
  },
  {
   "cell_type": "code",
   "execution_count": 91,
   "metadata": {
    "collapsed": false
   },
   "outputs": [
    {
     "data": {
      "text/plain": [
       "130"
      ]
     },
     "execution_count": 91,
     "metadata": {},
     "output_type": "execute_result"
    }
   ],
   "source": [
    "len( pd.value_counts(train_hist_df['chain']))"
   ]
  },
  {
   "cell_type": "code",
   "execution_count": 92,
   "metadata": {
    "collapsed": false
   },
   "outputs": [
    {
     "data": {
      "text/plain": [
       "24"
      ]
     },
     "execution_count": 92,
     "metadata": {},
     "output_type": "execute_result"
    }
   ],
   "source": [
    "len( pd.value_counts(train_hist_df['offer']))"
   ]
  },
  {
   "cell_type": "code",
   "execution_count": 93,
   "metadata": {
    "collapsed": false
   },
   "outputs": [
    {
     "data": {
      "text/plain": [
       "34"
      ]
     },
     "execution_count": 93,
     "metadata": {},
     "output_type": "execute_result"
    }
   ],
   "source": [
    "len( pd.value_counts(train_hist_df['market']))"
   ]
  },
  {
   "cell_type": "code",
   "execution_count": 94,
   "metadata": {
    "collapsed": false
   },
   "outputs": [
    {
     "data": {
      "text/plain": [
       "56"
      ]
     },
     "execution_count": 94,
     "metadata": {},
     "output_type": "execute_result"
    }
   ],
   "source": [
    "len( pd.value_counts(train_hist_df['repeattrips']))"
   ]
  },
  {
   "cell_type": "code",
   "execution_count": null,
   "metadata": {
    "collapsed": true
   },
   "outputs": [],
   "source": [
    "value_"
   ]
  },
  {
   "cell_type": "code",
   "execution_count": null,
   "metadata": {
    "collapsed": true
   },
   "outputs": [],
   "source": []
  },
  {
   "cell_type": "markdown",
   "metadata": {},
   "source": [
    "#### Offers DF"
   ]
  },
  {
   "cell_type": "raw",
   "metadata": {},
   "source": [
    "effers \n",
    "offer - see above\n",
    "category - see above (transactions: The product category (e.g. sparkling water))\n",
    "quantity - The number of units one must purchase to get the discount\n",
    "company - see above (transactions: An id of the company that sells the item)\n",
    "offervalue - The dollar value of the offer\n",
    "brand - see above (transactions: An id of the brand to which the item belongs)"
   ]
  },
  {
   "cell_type": "code",
   "execution_count": 50,
   "metadata": {
    "collapsed": false
   },
   "outputs": [
    {
     "name": "stdout",
     "output_type": "stream",
     "text": [
      "      offer  category  quantity     company  offervalue   brand\n",
      "0   1190530      9115         1   108500080        5.00   93904\n",
      "1   1194044      9909         1   107127979        1.00    6732\n",
      "2   1197502      3203         1   106414464        0.75   13474\n",
      "3   1198271      5558         1   107120272        1.50    5072\n",
      "4   1198272      5558         1   107120272        1.50    5072\n",
      "5   1198273      5558         1   107120272        1.50    5072\n",
      "6   1198274      5558         1   107120272        1.50    5072\n",
      "7   1198275      5558         1   107120272        1.50    5072\n",
      "8   1199256      4401         1   105100050        2.00   13791\n",
      "9   1199258      4401         1   105100050        2.00   13791\n",
      "10  1200578      1703         1   104460040        1.50    7668\n",
      "11  1200579      1703         1   104460040        1.50    7668\n",
      "12  1200581      1726         1   104460040        1.25    7668\n",
      "13  1200582      1726         1   104460040        1.25    7668\n",
      "14  1200584      3504         1   104460040        1.25    7668\n",
      "15  1200988      3509         1   103320030        2.00     875\n",
      "16  1203052      9909         1  1089520383        1.00   28840\n",
      "17  1203439      5122         1   107106878        1.50   17311\n",
      "18  1204576      5616         1   104610040        1.00   15889\n",
      "19  1204821      5619         1   107717272        1.50  102504\n",
      "20  1204822      5619         1   107717272        1.50  102504\n",
      "21  1208251      2202         1   104460040        2.00    3718\n",
      "22  1208252      2202         1   104460040        3.00    3718\n",
      "23  1208329      2119         1   108079383        1.00    6926\n",
      "24  1208501      6202         1  1087744888        1.50   64486\n",
      "25  1208503      6202         1  1087744888        1.50   64486\n",
      "26  1213242      5824         1   105190050        2.00   26456\n",
      "27  1219900       799         1  1076211171        1.50   17286\n",
      "28  1219903       799         1  1076211171        1.50   17286\n",
      "29  1220502      4517         1   105450050        1.50    1322\n",
      "30  1220503      4517         1   105450050        1.50    1322\n",
      "31  1221658      7205         2   103700030        3.00    4294\n",
      "32  1221663      7205         1   103700030        1.50    4294\n",
      "33  1221665      7205         1   103700030        1.50    4294\n",
      "34  1221666      7205         1   103700030        1.50    4294\n",
      "35  1221667      7205         1   103700030        2.00    4294\n",
      "36  1230218       706         1   104127141        1.00   26189\n"
     ]
    }
   ],
   "source": [
    "print offers_df"
   ]
  },
  {
   "cell_type": "code",
   "execution_count": 85,
   "metadata": {
    "collapsed": false
   },
   "outputs": [
    {
     "data": {
      "text/plain": [
       "1.50    19\n",
       "2.00     6\n",
       "1.00     5\n",
       "1.25     3\n",
       "3.00     2\n",
       "5.00     1\n",
       "0.75     1\n",
       "dtype: int64"
      ]
     },
     "execution_count": 85,
     "metadata": {},
     "output_type": "execute_result"
    }
   ],
   "source": [
    "pd.value_counts(offers_df['offervalue'])\n",
    "#majority of offers are between $1-2, with the vast majority being $1.50"
   ]
  },
  {
   "cell_type": "code",
   "execution_count": 89,
   "metadata": {
    "collapsed": false
   },
   "outputs": [
    {
     "data": {
      "text/plain": [
       "<matplotlib.axes._subplots.AxesSubplot at 0x7fb1c2fbf210>"
      ]
     },
     "execution_count": 89,
     "metadata": {},
     "output_type": "execute_result"
    },
    {
     "data": {
      "image/png": "[encoded data removed]",
      "text/plain": [
       "<matplotlib.figure.Figure at 0x7fb1c2fc7790>"
      ]
     },
     "metadata": {},
     "output_type": "display_data"
    }
   ],
   "source": [
    "offers_df.offervalue.hist(bins=20)"
   ]
  },
  {
   "cell_type": "code",
   "execution_count": 73,
   "metadata": {
    "collapsed": false
   },
   "outputs": [
    {
     "data": {
      "text/plain": [
       "1.50    19\n",
       "2.00     6\n",
       "1.00     5\n",
       "1.25     3\n",
       "3.00     2\n",
       "5.00     1\n",
       "0.75     1\n",
       "dtype: int64"
      ]
     },
     "execution_count": 73,
     "metadata": {},
     "output_type": "execute_result"
    }
   ],
   "source": [
    "pd.value_counts(offers_df['offervalue'])"
   ]
  },
  {
   "cell_type": "code",
   "execution_count": 68,
   "metadata": {
    "collapsed": false
   },
   "outputs": [
    {
     "data": {
      "text/plain": [
       "5558    5\n",
       "7205    5\n",
       "1726    2\n",
       "1703    2\n",
       "2202    2\n",
       "6202    2\n",
       "4517    2\n",
       "799     2\n",
       "4401    2\n",
       "5619    2\n",
       "9909    2\n",
       "5616    1\n",
       "3504    1\n",
       "9115    1\n",
       "3509    1\n",
       "706     1\n",
       "2119    1\n",
       "3203    1\n",
       "5122    1\n",
       "5824    1\n",
       "dtype: int64"
      ]
     },
     "execution_count": 68,
     "metadata": {},
     "output_type": "execute_result"
    }
   ],
   "source": [
    "#offers_df.groupby(['category']).transform('count')\n",
    "pd.value_counts(offers_df['category'])"
   ]
  },
  {
   "cell_type": "code",
   "execution_count": 69,
   "metadata": {
    "collapsed": false
   },
   "outputs": [
    {
     "data": {
      "text/plain": [
       "104460040     7\n",
       "103700030     5\n",
       "107120272     5\n",
       "107717272     2\n",
       "105450050     2\n",
       "1087744888    2\n",
       "105100050     2\n",
       "1076211171    2\n",
       "1089520383    1\n",
       "108079383     1\n",
       "105190050     1\n",
       "103320030     1\n",
       "107106878     1\n",
       "104127141     1\n",
       "107127979     1\n",
       "108500080     1\n",
       "104610040     1\n",
       "106414464     1\n",
       "dtype: int64"
      ]
     },
     "execution_count": 69,
     "metadata": {},
     "output_type": "execute_result"
    }
   ],
   "source": [
    "pd.value_counts(offers_df['company'])"
   ]
  },
  {
   "cell_type": "code",
   "execution_count": 72,
   "metadata": {
    "collapsed": false
   },
   "outputs": [
    {
     "data": {
      "text/plain": [
       "4294      5\n",
       "5072      5\n",
       "7668      5\n",
       "102504    2\n",
       "13791     2\n",
       "17286     2\n",
       "1322      2\n",
       "3718      2\n",
       "64486     2\n",
       "13474     1\n",
       "28840     1\n",
       "15889     1\n",
       "93904     1\n",
       "6926      1\n",
       "26189     1\n",
       "6732      1\n",
       "17311     1\n",
       "875       1\n",
       "26456     1\n",
       "dtype: int64"
      ]
     },
     "execution_count": 72,
     "metadata": {},
     "output_type": "execute_result"
    }
   ],
   "source": [
    "pd.value_counts(offers_df['brand'])"
   ]
  },
  {
   "cell_type": "markdown",
   "metadata": {},
   "source": [
    "#### Transaction DF"
   ]
  },
  {
   "cell_type": "raw",
   "metadata": {},
   "source": [
    "transactions\n",
    "id - see above\n",
    "chain - see above\n",
    "dept - An aggregate grouping of the Category (e.g. water)\n",
    "category - The product category (e.g. sparkling water)\n",
    "company - An id of the company that sells the item\n",
    "brand - An id of the brand to which the item belongs\n",
    "date - The date of purchase\n",
    "productsize - The amount of the product purchase (e.g. 16 oz of water)\n",
    "productmeasure - The units of the product purchase (e.g. ounces)\n",
    "purchasequantity - The number of units purchased\n",
    "purchaseamount - The dollar amount of the purchase\n",
    "\n",
    "*A negative value in productquantity and purchaseamount indicates a return."
   ]
  },
  {
   "cell_type": "code",
   "execution_count": null,
   "metadata": {
    "collapsed": true
   },
   "outputs": [],
   "source": []
  }
 ],
 "metadata": {
  "kernelspec": {
   "display_name": "Python 2",
   "language": "python",
   "name": "python2"
  },
  "language_info": {
   "codemirror_mode": {
    "name": "ipython",
    "version": 2
   },
   "file_extension": ".py",
   "mimetype": "text/x-python",
   "name": "python",
   "nbconvert_exporter": "python",
   "pygments_lexer": "ipython2",
   "version": "2.7.9"
  }
 },
 "nbformat": 4,
 "nbformat_minor": 0
}
