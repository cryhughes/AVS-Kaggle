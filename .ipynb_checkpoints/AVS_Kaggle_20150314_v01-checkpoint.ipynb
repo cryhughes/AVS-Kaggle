{
 "cells": [
  {
   "cell_type": "markdown",
   "metadata": {},
   "source": [
    "## AVS Kaggle Competition"
   ]
  },
  {
   "cell_type": "markdown",
   "metadata": {},
   "source": [
    "Links to Kaggle Comp Data: https://www.kaggle.com/c/acquire-valued-shoppers-challenge/data"
   ]
  },
  {
   "cell_type": "markdown",
   "metadata": {},
   "source": [
    "#### Import Libraries"
   ]
  },
  {
   "cell_type": "code",
   "execution_count": 6,
   "metadata": {
    "collapsed": true
   },
   "outputs": [],
   "source": [
    "# basics imports\n",
    "\n",
    "import os\n",
    "\n",
    "import pandas as pd\n",
    "import numpy as np\n"
   ]
  },
  {
   "cell_type": "code",
   "execution_count": 7,
   "metadata": {
    "collapsed": true
   },
   "outputs": [],
   "source": [
    "#S3\n",
    "from boto.s3.connection import S3Connection\n",
    "from IPython.parallel import Client"
   ]
  },
  {
   "cell_type": "code",
   "execution_count": 66,
   "metadata": {
    "collapsed": true
   },
   "outputs": [],
   "source": [
    "#plotting libraries and setting defaults\n",
    "\n",
    "%matplotlib inline\n",
    "\n",
    "import seaborn as sns\n",
    "from seaborn import plt\n",
    "\n",
    "# Some nice default configuration for plots\n",
    "plt.rcParams['figure.figsize'] = 10, 7.5\n",
    "plt.rcParams['axes.grid'] = True"
   ]
  },
  {
   "cell_type": "markdown",
   "metadata": {},
   "source": [
    "### Launch EC2 instance"
   ]
  },
  {
   "cell_type": "raw",
   "metadata": {
    "collapsed": true
   },
   "source": [
    "#launch ec2 instance\n",
    "\n",
    "#ssh into ec2 instance from terminal\n",
    "ssh -i ~/.ssh/mykey.rsa centos@ec2-54-164-65-191.compute-1.amazonaws.com \n",
    "\n",
    "#launch in browser\n",
    "ec2-54-164-65-191.compute-1.amazonaws.com:8888/"
   ]
  },
  {
   "cell_type": "markdown",
   "metadata": {},
   "source": [
    "#### Load data\n",
    "Ref 1: Lab '04 - Starcluster' \n",
    "Ref 2: Lab '17-ScalineOut' "
   ]
  },
  {
   "cell_type": "code",
   "execution_count": 7,
   "metadata": {
    "collapsed": false
   },
   "outputs": [
    {
     "data": {
      "text/plain": [
       "\"\\n#load access keys to variable\\n\\n#credentials = pd.read_csv('/Users/eklypse/Downloads/credentials.csv')\\n#credentials = pd.read_csv('/Users/rychughes/.ssh/credentials.csv',skiprows=1,names=['a','b'])\\ncredentials = pd.read_csv('/Users/rychughes/.ssh/credentials.csv',\\n                          #skiprows=1,\\n                          #names=['un','id','key']\\n                         )\\n\""
      ]
     },
     "execution_count": 7,
     "metadata": {},
     "output_type": "execute_result"
    }
   ],
   "source": [
    "'''\n",
    "#load access keys to variable\n",
    "\n",
    "#credentials = pd.read_csv('/Users/eklypse/Downloads/credentials.csv')\n",
    "#credentials = pd.read_csv('/Users/rychughes/.ssh/credentials.csv',skiprows=1,names=['a','b'])\n",
    "credentials = pd.read_csv('/Users/rychughes/.ssh/credentials.csv',\n",
    "                          #skiprows=1,\n",
    "                          #names=['un','id','key']\n",
    "                         )\n",
    "'''"
   ]
  },
  {
   "cell_type": "code",
   "execution_count": 9,
   "metadata": {
    "collapsed": true
   },
   "outputs": [],
   "source": [
    "credentials = pd.read_csv('/home/centos/certificates/credentials.csv')"
   ]
  },
  {
   "cell_type": "code",
   "execution_count": 10,
   "metadata": {
    "collapsed": false
   },
   "outputs": [],
   "source": [
    "aws_id = credentials['Access Key Id'][0]\n",
    "#aws_id"
   ]
  },
  {
   "cell_type": "code",
   "execution_count": 11,
   "metadata": {
    "collapsed": false
   },
   "outputs": [],
   "source": [
    "aws_key = credentials['Secret Access Key'][0]\n",
    "#aws_key"
   ]
  },
  {
   "cell_type": "code",
   "execution_count": 12,
   "metadata": {
    "collapsed": false
   },
   "outputs": [],
   "source": [
    "#load S3\n",
    "s3conn = S3Connection( aws_id , aws_key )\n",
    "#s3conn = S3Connection?"
   ]
  },
  {
   "cell_type": "code",
   "execution_count": 47,
   "metadata": {
    "collapsed": true
   },
   "outputs": [],
   "source": [
    "#s3conn.get_bucket?"
   ]
  },
  {
   "cell_type": "code",
   "execution_count": 13,
   "metadata": {
    "collapsed": true
   },
   "outputs": [],
   "source": [
    "bucket = s3conn.get_bucket('avs-kaggle-data')"
   ]
  },
  {
   "cell_type": "markdown",
   "metadata": {},
   "source": [
    "#### Load 'offers_df'\n",
    "This code works ==> this technique will work with new, larger datasets on powerful EC2 instance"
   ]
  },
  {
   "cell_type": "code",
   "execution_count": 14,
   "metadata": {
    "collapsed": false
   },
   "outputs": [
    {
     "data": {
      "text/plain": [
       "1"
      ]
     },
     "execution_count": 14,
     "metadata": {},
     "output_type": "execute_result"
    }
   ],
   "source": [
    "offers_keys = bucket.get_all_keys(prefix='offers')\n",
    "len( offers_keys)"
   ]
  },
  {
   "cell_type": "code",
   "execution_count": 15,
   "metadata": {
    "collapsed": true
   },
   "outputs": [],
   "source": [
    "offers_keys[0].get_contents_to_filename('offers.csv')"
   ]
  },
  {
   "cell_type": "code",
   "execution_count": 16,
   "metadata": {
    "collapsed": false
   },
   "outputs": [
    {
     "data": {
      "text/html": [
       "<div style=\"max-height:1000px;max-width:1500px;overflow:auto;\">\n",
       "<table border=\"1\" class=\"dataframe\">\n",
       "  <thead>\n",
       "    <tr style=\"text-align: right;\">\n",
       "      <th></th>\n",
       "      <th>offer</th>\n",
       "      <th>category</th>\n",
       "      <th>quantity</th>\n",
       "      <th>company</th>\n",
       "      <th>offervalue</th>\n",
       "      <th>brand</th>\n",
       "    </tr>\n",
       "  </thead>\n",
       "  <tbody>\n",
       "    <tr>\n",
       "      <th>0</th>\n",
       "      <td> 1190530</td>\n",
       "      <td> 9115</td>\n",
       "      <td> 1</td>\n",
       "      <td> 108500080</td>\n",
       "      <td> 5.00</td>\n",
       "      <td> 93904</td>\n",
       "    </tr>\n",
       "    <tr>\n",
       "      <th>1</th>\n",
       "      <td> 1194044</td>\n",
       "      <td> 9909</td>\n",
       "      <td> 1</td>\n",
       "      <td> 107127979</td>\n",
       "      <td> 1.00</td>\n",
       "      <td>  6732</td>\n",
       "    </tr>\n",
       "    <tr>\n",
       "      <th>2</th>\n",
       "      <td> 1197502</td>\n",
       "      <td> 3203</td>\n",
       "      <td> 1</td>\n",
       "      <td> 106414464</td>\n",
       "      <td> 0.75</td>\n",
       "      <td> 13474</td>\n",
       "    </tr>\n",
       "  </tbody>\n",
       "</table>\n",
       "</div>"
      ],
      "text/plain": [
       "     offer  category  quantity    company  offervalue  brand\n",
       "0  1190530      9115         1  108500080        5.00  93904\n",
       "1  1194044      9909         1  107127979        1.00   6732\n",
       "2  1197502      3203         1  106414464        0.75  13474"
      ]
     },
     "execution_count": 16,
     "metadata": {},
     "output_type": "execute_result"
    }
   ],
   "source": [
    "offers_df = pd.read_csv('offers.csv')\n",
    "offers_df.head(3)"
   ]
  },
  {
   "cell_type": "code",
   "execution_count": 17,
   "metadata": {
    "collapsed": false
   },
   "outputs": [
    {
     "data": {
      "text/plain": [
       "(37, 6)"
      ]
     },
     "execution_count": 17,
     "metadata": {},
     "output_type": "execute_result"
    }
   ],
   "source": [
    "offers_df.shape"
   ]
  },
  {
   "cell_type": "markdown",
   "metadata": {},
   "source": [
    "#### Load 'train_hist_df'\n",
    "This file is 6MB and timed out on laptop ==> need to launch in starcluster"
   ]
  },
  {
   "cell_type": "code",
   "execution_count": 18,
   "metadata": {
    "collapsed": false
   },
   "outputs": [
    {
     "data": {
      "text/plain": [
       "1"
      ]
     },
     "execution_count": 18,
     "metadata": {},
     "output_type": "execute_result"
    }
   ],
   "source": [
    "train_hist_keys = bucket.get_all_keys(prefix='trainHistory')\n",
    "len( train_hist_keys)"
   ]
  },
  {
   "cell_type": "code",
   "execution_count": 19,
   "metadata": {
    "collapsed": false
   },
   "outputs": [],
   "source": [
    "train_hist_keys[0].get_contents_to_filename('trainHistory.csv')"
   ]
  },
  {
   "cell_type": "code",
   "execution_count": 20,
   "metadata": {
    "collapsed": false
   },
   "outputs": [
    {
     "data": {
      "text/html": [
       "<div style=\"max-height:1000px;max-width:1500px;overflow:auto;\">\n",
       "<table border=\"1\" class=\"dataframe\">\n",
       "  <thead>\n",
       "    <tr style=\"text-align: right;\">\n",
       "      <th></th>\n",
       "      <th>id</th>\n",
       "      <th>chain</th>\n",
       "      <th>offer</th>\n",
       "      <th>market</th>\n",
       "      <th>repeattrips</th>\n",
       "      <th>repeater</th>\n",
       "      <th>offerdate</th>\n",
       "    </tr>\n",
       "  </thead>\n",
       "  <tbody>\n",
       "    <tr>\n",
       "      <th>0</th>\n",
       "      <td>    86246</td>\n",
       "      <td> 205</td>\n",
       "      <td> 1208251</td>\n",
       "      <td> 34</td>\n",
       "      <td>  5</td>\n",
       "      <td> t</td>\n",
       "      <td> 2013-04-24</td>\n",
       "    </tr>\n",
       "    <tr>\n",
       "      <th>1</th>\n",
       "      <td>    86252</td>\n",
       "      <td> 205</td>\n",
       "      <td> 1197502</td>\n",
       "      <td> 34</td>\n",
       "      <td> 16</td>\n",
       "      <td> t</td>\n",
       "      <td> 2013-03-27</td>\n",
       "    </tr>\n",
       "    <tr>\n",
       "      <th>2</th>\n",
       "      <td> 12682470</td>\n",
       "      <td>  18</td>\n",
       "      <td> 1197502</td>\n",
       "      <td> 11</td>\n",
       "      <td>  0</td>\n",
       "      <td> f</td>\n",
       "      <td> 2013-03-28</td>\n",
       "    </tr>\n",
       "  </tbody>\n",
       "</table>\n",
       "</div>"
      ],
      "text/plain": [
       "         id  chain    offer  market  repeattrips repeater   offerdate\n",
       "0     86246    205  1208251      34            5        t  2013-04-24\n",
       "1     86252    205  1197502      34           16        t  2013-03-27\n",
       "2  12682470     18  1197502      11            0        f  2013-03-28"
      ]
     },
     "execution_count": 20,
     "metadata": {},
     "output_type": "execute_result"
    }
   ],
   "source": [
    "train_hist_df = pd.read_csv('trainHistory.csv')\n",
    "train_hist_df.head(3)"
   ]
  },
  {
   "cell_type": "code",
   "execution_count": 21,
   "metadata": {
    "collapsed": false
   },
   "outputs": [
    {
     "data": {
      "text/plain": [
       "(160057, 7)"
      ]
     },
     "execution_count": 21,
     "metadata": {},
     "output_type": "execute_result"
    }
   ],
   "source": [
    "train_hist_df.shape"
   ]
  },
  {
   "cell_type": "markdown",
   "metadata": {},
   "source": [
    "#### Load 'test_hist_df'"
   ]
  },
  {
   "cell_type": "code",
   "execution_count": 35,
   "metadata": {
    "collapsed": false
   },
   "outputs": [
    {
     "data": {
      "text/plain": [
       "1"
      ]
     },
     "execution_count": 35,
     "metadata": {},
     "output_type": "execute_result"
    }
   ],
   "source": [
    "test_hist_keys = bucket.get_all_keys(prefix='testHistory')\n",
    "len( test_hist_keys)"
   ]
  },
  {
   "cell_type": "code",
   "execution_count": 37,
   "metadata": {
    "collapsed": false
   },
   "outputs": [],
   "source": [
    "test_hist_keys[0].get_contents_to_filename('testHistory.csv')"
   ]
  },
  {
   "cell_type": "code",
   "execution_count": 38,
   "metadata": {
    "collapsed": false
   },
   "outputs": [
    {
     "data": {
      "text/html": [
       "<div style=\"max-height:1000px;max-width:1500px;overflow:auto;\">\n",
       "<table border=\"1\" class=\"dataframe\">\n",
       "  <thead>\n",
       "    <tr style=\"text-align: right;\">\n",
       "      <th></th>\n",
       "      <th>id</th>\n",
       "      <th>chain</th>\n",
       "      <th>offer</th>\n",
       "      <th>market</th>\n",
       "      <th>offerdate</th>\n",
       "    </tr>\n",
       "  </thead>\n",
       "  <tbody>\n",
       "    <tr>\n",
       "      <th>0</th>\n",
       "      <td> 12262064</td>\n",
       "      <td> 95</td>\n",
       "      <td> 1219903</td>\n",
       "      <td> 39</td>\n",
       "      <td> 2013-06-27</td>\n",
       "    </tr>\n",
       "    <tr>\n",
       "      <th>1</th>\n",
       "      <td> 12277270</td>\n",
       "      <td> 95</td>\n",
       "      <td> 1221658</td>\n",
       "      <td> 39</td>\n",
       "      <td> 2013-06-23</td>\n",
       "    </tr>\n",
       "    <tr>\n",
       "      <th>2</th>\n",
       "      <td> 12332190</td>\n",
       "      <td> 95</td>\n",
       "      <td> 1213242</td>\n",
       "      <td> 39</td>\n",
       "      <td> 2013-06-15</td>\n",
       "    </tr>\n",
       "  </tbody>\n",
       "</table>\n",
       "</div>"
      ],
      "text/plain": [
       "         id  chain    offer  market   offerdate\n",
       "0  12262064     95  1219903      39  2013-06-27\n",
       "1  12277270     95  1221658      39  2013-06-23\n",
       "2  12332190     95  1213242      39  2013-06-15"
      ]
     },
     "execution_count": 38,
     "metadata": {},
     "output_type": "execute_result"
    }
   ],
   "source": [
    "test_hist_df = pd.read_csv('testHistory.csv')\n",
    "test_hist_df.head(3)"
   ]
  },
  {
   "cell_type": "code",
   "execution_count": 39,
   "metadata": {
    "collapsed": false
   },
   "outputs": [
    {
     "data": {
      "text/plain": [
       "(151484, 5)"
      ]
     },
     "execution_count": 39,
     "metadata": {},
     "output_type": "execute_result"
    }
   ],
   "source": [
    "test_hist_df.shape"
   ]
  },
  {
   "cell_type": "markdown",
   "metadata": {},
   "source": [
    "#### Load 'transactions_df'"
   ]
  },
  {
   "cell_type": "code",
   "execution_count": 24,
   "metadata": {
    "collapsed": false
   },
   "outputs": [
    {
     "data": {
      "text/plain": [
       "1"
      ]
     },
     "execution_count": 24,
     "metadata": {},
     "output_type": "execute_result"
    }
   ],
   "source": [
    "trans_keys = bucket.get_all_keys(prefix='transactions.csv')\n",
    "len( trans_keys)"
   ]
  },
  {
   "cell_type": "code",
   "execution_count": 25,
   "metadata": {
    "collapsed": false
   },
   "outputs": [
    {
     "data": {
      "text/plain": [
       "[<Key: avs-kaggle-data,transactions.csv.gz>]"
      ]
     },
     "execution_count": 25,
     "metadata": {},
     "output_type": "execute_result"
    }
   ],
   "source": [
    "trans_keys"
   ]
  },
  {
   "cell_type": "code",
   "execution_count": 27,
   "metadata": {
    "collapsed": false
   },
   "outputs": [],
   "source": [
    "#note: this can take a few minutes\n",
    "trans_keys[0].get_contents_to_filename('transactions.csv.gz')"
   ]
  },
  {
   "cell_type": "code",
   "execution_count": 28,
   "metadata": {
    "collapsed": false
   },
   "outputs": [
    {
     "ename": "MemoryError",
     "evalue": "",
     "output_type": "error",
     "traceback": [
      "\u001b[1;31m---------------------------------------------------------------------------\u001b[0m",
      "\u001b[1;31mMemoryError\u001b[0m                               Traceback (most recent call last)",
      "\u001b[1;32m<ipython-input-28-ca0cad52af5d>\u001b[0m in \u001b[0;36m<module>\u001b[1;34m()\u001b[0m\n\u001b[1;32m----> 1\u001b[1;33m \u001b[0mtrans_df\u001b[0m \u001b[1;33m=\u001b[0m \u001b[0mpd\u001b[0m\u001b[1;33m.\u001b[0m\u001b[0mread_csv\u001b[0m\u001b[1;33m(\u001b[0m\u001b[1;34m'transactions.csv.gz'\u001b[0m\u001b[1;33m,\u001b[0m \u001b[0mcompression\u001b[0m\u001b[1;33m=\u001b[0m\u001b[1;34m'gzip'\u001b[0m\u001b[1;33m)\u001b[0m\u001b[1;33m\u001b[0m\u001b[0m\n\u001b[0m\u001b[0;32m      2\u001b[0m \u001b[0mtrans_df\u001b[0m\u001b[1;33m.\u001b[0m\u001b[0mhead\u001b[0m\u001b[1;33m(\u001b[0m\u001b[1;36m3\u001b[0m\u001b[1;33m)\u001b[0m\u001b[1;33m\u001b[0m\u001b[0m\n",
      "\u001b[1;32m/home/centos/miniconda/lib/python2.7/site-packages/pandas/io/parsers.pyc\u001b[0m in \u001b[0;36mparser_f\u001b[1;34m(filepath_or_buffer, sep, dialect, compression, doublequote, escapechar, quotechar, quoting, skipinitialspace, lineterminator, header, index_col, names, prefix, skiprows, skipfooter, skip_footer, na_values, na_fvalues, true_values, false_values, delimiter, converters, dtype, usecols, engine, delim_whitespace, as_recarray, na_filter, compact_ints, use_unsigned, low_memory, buffer_lines, warn_bad_lines, error_bad_lines, keep_default_na, thousands, comment, decimal, parse_dates, keep_date_col, dayfirst, date_parser, memory_map, float_precision, nrows, iterator, chunksize, verbose, encoding, squeeze, mangle_dupe_cols, tupleize_cols, infer_datetime_format, skip_blank_lines)\u001b[0m\n\u001b[0;32m    463\u001b[0m                     skip_blank_lines=skip_blank_lines)\n\u001b[0;32m    464\u001b[0m \u001b[1;33m\u001b[0m\u001b[0m\n\u001b[1;32m--> 465\u001b[1;33m         \u001b[1;32mreturn\u001b[0m \u001b[0m_read\u001b[0m\u001b[1;33m(\u001b[0m\u001b[0mfilepath_or_buffer\u001b[0m\u001b[1;33m,\u001b[0m \u001b[0mkwds\u001b[0m\u001b[1;33m)\u001b[0m\u001b[1;33m\u001b[0m\u001b[0m\n\u001b[0m\u001b[0;32m    466\u001b[0m \u001b[1;33m\u001b[0m\u001b[0m\n\u001b[0;32m    467\u001b[0m     \u001b[0mparser_f\u001b[0m\u001b[1;33m.\u001b[0m\u001b[0m__name__\u001b[0m \u001b[1;33m=\u001b[0m \u001b[0mname\u001b[0m\u001b[1;33m\u001b[0m\u001b[0m\n",
      "\u001b[1;32m/home/centos/miniconda/lib/python2.7/site-packages/pandas/io/parsers.pyc\u001b[0m in \u001b[0;36m_read\u001b[1;34m(filepath_or_buffer, kwds)\u001b[0m\n\u001b[0;32m    249\u001b[0m         \u001b[1;32mreturn\u001b[0m \u001b[0mparser\u001b[0m\u001b[1;33m\u001b[0m\u001b[0m\n\u001b[0;32m    250\u001b[0m \u001b[1;33m\u001b[0m\u001b[0m\n\u001b[1;32m--> 251\u001b[1;33m     \u001b[1;32mreturn\u001b[0m \u001b[0mparser\u001b[0m\u001b[1;33m.\u001b[0m\u001b[0mread\u001b[0m\u001b[1;33m(\u001b[0m\u001b[1;33m)\u001b[0m\u001b[1;33m\u001b[0m\u001b[0m\n\u001b[0m\u001b[0;32m    252\u001b[0m \u001b[1;33m\u001b[0m\u001b[0m\n\u001b[0;32m    253\u001b[0m _parser_defaults = {\n",
      "\u001b[1;32m/home/centos/miniconda/lib/python2.7/site-packages/pandas/io/parsers.pyc\u001b[0m in \u001b[0;36mread\u001b[1;34m(self, nrows)\u001b[0m\n\u001b[0;32m    716\u001b[0m         \u001b[0mindex\u001b[0m\u001b[1;33m,\u001b[0m \u001b[0mcolumns\u001b[0m\u001b[1;33m,\u001b[0m \u001b[0mcol_dict\u001b[0m \u001b[1;33m=\u001b[0m \u001b[0mself\u001b[0m\u001b[1;33m.\u001b[0m\u001b[0m_create_index\u001b[0m\u001b[1;33m(\u001b[0m\u001b[0mret\u001b[0m\u001b[1;33m)\u001b[0m\u001b[1;33m\u001b[0m\u001b[0m\n\u001b[0;32m    717\u001b[0m \u001b[1;33m\u001b[0m\u001b[0m\n\u001b[1;32m--> 718\u001b[1;33m         \u001b[0mdf\u001b[0m \u001b[1;33m=\u001b[0m \u001b[0mDataFrame\u001b[0m\u001b[1;33m(\u001b[0m\u001b[0mcol_dict\u001b[0m\u001b[1;33m,\u001b[0m \u001b[0mcolumns\u001b[0m\u001b[1;33m=\u001b[0m\u001b[0mcolumns\u001b[0m\u001b[1;33m,\u001b[0m \u001b[0mindex\u001b[0m\u001b[1;33m=\u001b[0m\u001b[0mindex\u001b[0m\u001b[1;33m)\u001b[0m\u001b[1;33m\u001b[0m\u001b[0m\n\u001b[0m\u001b[0;32m    719\u001b[0m \u001b[1;33m\u001b[0m\u001b[0m\n\u001b[0;32m    720\u001b[0m         \u001b[1;32mif\u001b[0m \u001b[0mself\u001b[0m\u001b[1;33m.\u001b[0m\u001b[0msqueeze\u001b[0m \u001b[1;32mand\u001b[0m \u001b[0mlen\u001b[0m\u001b[1;33m(\u001b[0m\u001b[0mdf\u001b[0m\u001b[1;33m.\u001b[0m\u001b[0mcolumns\u001b[0m\u001b[1;33m)\u001b[0m \u001b[1;33m==\u001b[0m \u001b[1;36m1\u001b[0m\u001b[1;33m:\u001b[0m\u001b[1;33m\u001b[0m\u001b[0m\n",
      "\u001b[1;32m/home/centos/miniconda/lib/python2.7/site-packages/pandas/core/frame.pyc\u001b[0m in \u001b[0;36m__init__\u001b[1;34m(self, data, index, columns, dtype, copy)\u001b[0m\n\u001b[0;32m    206\u001b[0m                                  dtype=dtype, copy=copy)\n\u001b[0;32m    207\u001b[0m         \u001b[1;32melif\u001b[0m \u001b[0misinstance\u001b[0m\u001b[1;33m(\u001b[0m\u001b[0mdata\u001b[0m\u001b[1;33m,\u001b[0m \u001b[0mdict\u001b[0m\u001b[1;33m)\u001b[0m\u001b[1;33m:\u001b[0m\u001b[1;33m\u001b[0m\u001b[0m\n\u001b[1;32m--> 208\u001b[1;33m             \u001b[0mmgr\u001b[0m \u001b[1;33m=\u001b[0m \u001b[0mself\u001b[0m\u001b[1;33m.\u001b[0m\u001b[0m_init_dict\u001b[0m\u001b[1;33m(\u001b[0m\u001b[0mdata\u001b[0m\u001b[1;33m,\u001b[0m \u001b[0mindex\u001b[0m\u001b[1;33m,\u001b[0m \u001b[0mcolumns\u001b[0m\u001b[1;33m,\u001b[0m \u001b[0mdtype\u001b[0m\u001b[1;33m=\u001b[0m\u001b[0mdtype\u001b[0m\u001b[1;33m)\u001b[0m\u001b[1;33m\u001b[0m\u001b[0m\n\u001b[0m\u001b[0;32m    209\u001b[0m         \u001b[1;32melif\u001b[0m \u001b[0misinstance\u001b[0m\u001b[1;33m(\u001b[0m\u001b[0mdata\u001b[0m\u001b[1;33m,\u001b[0m \u001b[0mma\u001b[0m\u001b[1;33m.\u001b[0m\u001b[0mMaskedArray\u001b[0m\u001b[1;33m)\u001b[0m\u001b[1;33m:\u001b[0m\u001b[1;33m\u001b[0m\u001b[0m\n\u001b[0;32m    210\u001b[0m             \u001b[1;32mimport\u001b[0m \u001b[0mnumpy\u001b[0m\u001b[1;33m.\u001b[0m\u001b[0mma\u001b[0m\u001b[1;33m.\u001b[0m\u001b[0mmrecords\u001b[0m \u001b[1;32mas\u001b[0m \u001b[0mmrecords\u001b[0m\u001b[1;33m\u001b[0m\u001b[0m\n",
      "\u001b[1;32m/home/centos/miniconda/lib/python2.7/site-packages/pandas/core/frame.pyc\u001b[0m in \u001b[0;36m_init_dict\u001b[1;34m(self, data, index, columns, dtype)\u001b[0m\n\u001b[0;32m    334\u001b[0m \u001b[1;33m\u001b[0m\u001b[0m\n\u001b[0;32m    335\u001b[0m         return _arrays_to_mgr(arrays, data_names, index, columns,\n\u001b[1;32m--> 336\u001b[1;33m                               dtype=dtype)\n\u001b[0m\u001b[0;32m    337\u001b[0m \u001b[1;33m\u001b[0m\u001b[0m\n\u001b[0;32m    338\u001b[0m     def _init_ndarray(self, values, index, columns, dtype=None,\n",
      "\u001b[1;32m/home/centos/miniconda/lib/python2.7/site-packages/pandas/core/frame.pyc\u001b[0m in \u001b[0;36m_arrays_to_mgr\u001b[1;34m(arrays, arr_names, index, columns, dtype)\u001b[0m\n\u001b[0;32m   4625\u001b[0m     \u001b[0maxes\u001b[0m \u001b[1;33m=\u001b[0m \u001b[1;33m[\u001b[0m\u001b[0m_ensure_index\u001b[0m\u001b[1;33m(\u001b[0m\u001b[0mcolumns\u001b[0m\u001b[1;33m)\u001b[0m\u001b[1;33m,\u001b[0m \u001b[0m_ensure_index\u001b[0m\u001b[1;33m(\u001b[0m\u001b[0mindex\u001b[0m\u001b[1;33m)\u001b[0m\u001b[1;33m]\u001b[0m\u001b[1;33m\u001b[0m\u001b[0m\n\u001b[0;32m   4626\u001b[0m \u001b[1;33m\u001b[0m\u001b[0m\n\u001b[1;32m-> 4627\u001b[1;33m     \u001b[1;32mreturn\u001b[0m \u001b[0mcreate_block_manager_from_arrays\u001b[0m\u001b[1;33m(\u001b[0m\u001b[0marrays\u001b[0m\u001b[1;33m,\u001b[0m \u001b[0marr_names\u001b[0m\u001b[1;33m,\u001b[0m \u001b[0maxes\u001b[0m\u001b[1;33m)\u001b[0m\u001b[1;33m\u001b[0m\u001b[0m\n\u001b[0m\u001b[0;32m   4628\u001b[0m \u001b[1;33m\u001b[0m\u001b[0m\n\u001b[0;32m   4629\u001b[0m \u001b[1;33m\u001b[0m\u001b[0m\n",
      "\u001b[1;32m/home/centos/miniconda/lib/python2.7/site-packages/pandas/core/internals.pyc\u001b[0m in \u001b[0;36mcreate_block_manager_from_arrays\u001b[1;34m(arrays, names, axes)\u001b[0m\n\u001b[0;32m   3537\u001b[0m \u001b[1;32mdef\u001b[0m \u001b[0mcreate_block_manager_from_arrays\u001b[0m\u001b[1;33m(\u001b[0m\u001b[0marrays\u001b[0m\u001b[1;33m,\u001b[0m \u001b[0mnames\u001b[0m\u001b[1;33m,\u001b[0m \u001b[0maxes\u001b[0m\u001b[1;33m)\u001b[0m\u001b[1;33m:\u001b[0m\u001b[1;33m\u001b[0m\u001b[0m\n\u001b[0;32m   3538\u001b[0m     \u001b[1;32mtry\u001b[0m\u001b[1;33m:\u001b[0m\u001b[1;33m\u001b[0m\u001b[0m\n\u001b[1;32m-> 3539\u001b[1;33m         \u001b[0mblocks\u001b[0m \u001b[1;33m=\u001b[0m \u001b[0mform_blocks\u001b[0m\u001b[1;33m(\u001b[0m\u001b[0marrays\u001b[0m\u001b[1;33m,\u001b[0m \u001b[0mnames\u001b[0m\u001b[1;33m,\u001b[0m \u001b[0maxes\u001b[0m\u001b[1;33m)\u001b[0m\u001b[1;33m\u001b[0m\u001b[0m\n\u001b[0m\u001b[0;32m   3540\u001b[0m         \u001b[0mmgr\u001b[0m \u001b[1;33m=\u001b[0m \u001b[0mBlockManager\u001b[0m\u001b[1;33m(\u001b[0m\u001b[0mblocks\u001b[0m\u001b[1;33m,\u001b[0m \u001b[0maxes\u001b[0m\u001b[1;33m)\u001b[0m\u001b[1;33m\u001b[0m\u001b[0m\n\u001b[0;32m   3541\u001b[0m         \u001b[0mmgr\u001b[0m\u001b[1;33m.\u001b[0m\u001b[0m_consolidate_inplace\u001b[0m\u001b[1;33m(\u001b[0m\u001b[1;33m)\u001b[0m\u001b[1;33m\u001b[0m\u001b[0m\n",
      "\u001b[1;32m/home/centos/miniconda/lib/python2.7/site-packages/pandas/core/internals.pyc\u001b[0m in \u001b[0;36mform_blocks\u001b[1;34m(arrays, names, axes)\u001b[0m\n\u001b[0;32m   3612\u001b[0m \u001b[1;33m\u001b[0m\u001b[0m\n\u001b[0;32m   3613\u001b[0m     \u001b[1;32mif\u001b[0m \u001b[0mlen\u001b[0m\u001b[1;33m(\u001b[0m\u001b[0mint_items\u001b[0m\u001b[1;33m)\u001b[0m\u001b[1;33m:\u001b[0m\u001b[1;33m\u001b[0m\u001b[0m\n\u001b[1;32m-> 3614\u001b[1;33m         \u001b[0mint_blocks\u001b[0m \u001b[1;33m=\u001b[0m \u001b[0m_multi_blockify\u001b[0m\u001b[1;33m(\u001b[0m\u001b[0mint_items\u001b[0m\u001b[1;33m)\u001b[0m\u001b[1;33m\u001b[0m\u001b[0m\n\u001b[0m\u001b[0;32m   3615\u001b[0m         \u001b[0mblocks\u001b[0m\u001b[1;33m.\u001b[0m\u001b[0mextend\u001b[0m\u001b[1;33m(\u001b[0m\u001b[0mint_blocks\u001b[0m\u001b[1;33m)\u001b[0m\u001b[1;33m\u001b[0m\u001b[0m\n\u001b[0;32m   3616\u001b[0m \u001b[1;33m\u001b[0m\u001b[0m\n",
      "\u001b[1;32m/home/centos/miniconda/lib/python2.7/site-packages/pandas/core/internals.pyc\u001b[0m in \u001b[0;36m_multi_blockify\u001b[1;34m(tuples, dtype)\u001b[0m\n\u001b[0;32m   3679\u001b[0m \u001b[1;33m\u001b[0m\u001b[0m\n\u001b[0;32m   3680\u001b[0m         values, placement = _stack_arrays(\n\u001b[1;32m-> 3681\u001b[1;33m             list(tup_block), dtype)\n\u001b[0m\u001b[0;32m   3682\u001b[0m \u001b[1;33m\u001b[0m\u001b[0m\n\u001b[0;32m   3683\u001b[0m         \u001b[0mblock\u001b[0m \u001b[1;33m=\u001b[0m \u001b[0mmake_block\u001b[0m\u001b[1;33m(\u001b[0m\u001b[0mvalues\u001b[0m\u001b[1;33m,\u001b[0m \u001b[0mplacement\u001b[0m\u001b[1;33m=\u001b[0m\u001b[0mplacement\u001b[0m\u001b[1;33m)\u001b[0m\u001b[1;33m\u001b[0m\u001b[0m\n",
      "\u001b[1;32m/home/centos/miniconda/lib/python2.7/site-packages/pandas/core/internals.pyc\u001b[0m in \u001b[0;36m_stack_arrays\u001b[1;34m(tuples, dtype)\u001b[0m\n\u001b[0;32m   3723\u001b[0m     \u001b[0mshape\u001b[0m \u001b[1;33m=\u001b[0m \u001b[1;33m(\u001b[0m\u001b[0mlen\u001b[0m\u001b[1;33m(\u001b[0m\u001b[0marrays\u001b[0m\u001b[1;33m)\u001b[0m\u001b[1;33m,\u001b[0m\u001b[1;33m)\u001b[0m \u001b[1;33m+\u001b[0m \u001b[0m_shape_compat\u001b[0m\u001b[1;33m(\u001b[0m\u001b[0mfirst\u001b[0m\u001b[1;33m)\u001b[0m\u001b[1;33m\u001b[0m\u001b[0m\n\u001b[0;32m   3724\u001b[0m \u001b[1;33m\u001b[0m\u001b[0m\n\u001b[1;32m-> 3725\u001b[1;33m     \u001b[0mstacked\u001b[0m \u001b[1;33m=\u001b[0m \u001b[0mnp\u001b[0m\u001b[1;33m.\u001b[0m\u001b[0mempty\u001b[0m\u001b[1;33m(\u001b[0m\u001b[0mshape\u001b[0m\u001b[1;33m,\u001b[0m \u001b[0mdtype\u001b[0m\u001b[1;33m=\u001b[0m\u001b[0mdtype\u001b[0m\u001b[1;33m)\u001b[0m\u001b[1;33m\u001b[0m\u001b[0m\n\u001b[0m\u001b[0;32m   3726\u001b[0m     \u001b[1;32mfor\u001b[0m \u001b[0mi\u001b[0m\u001b[1;33m,\u001b[0m \u001b[0marr\u001b[0m \u001b[1;32min\u001b[0m \u001b[0menumerate\u001b[0m\u001b[1;33m(\u001b[0m\u001b[0marrays\u001b[0m\u001b[1;33m)\u001b[0m\u001b[1;33m:\u001b[0m\u001b[1;33m\u001b[0m\u001b[0m\n\u001b[0;32m   3727\u001b[0m         \u001b[0mstacked\u001b[0m\u001b[1;33m[\u001b[0m\u001b[0mi\u001b[0m\u001b[1;33m]\u001b[0m \u001b[1;33m=\u001b[0m \u001b[0m_asarray_compat\u001b[0m\u001b[1;33m(\u001b[0m\u001b[0marr\u001b[0m\u001b[1;33m)\u001b[0m\u001b[1;33m\u001b[0m\u001b[0m\n",
      "\u001b[1;31mMemoryError\u001b[0m: "
     ]
    }
   ],
   "source": [
    "trans_df = pd.read_csv('transactions.csv.gz', compression='gzip') \n",
    "trans_df.head(3)\n",
    "\n",
    "#memory error, even with r3.2xlarge (60gb RAM)"
   ]
  },
  {
   "cell_type": "code",
   "execution_count": null,
   "metadata": {
    "collapsed": true
   },
   "outputs": [],
   "source": [
    "trans_df.shape"
   ]
  },
  {
   "cell_type": "markdown",
   "metadata": {},
   "source": [
    "#### Load 'transactions_sample_df'\n",
    "transactions_sample is a reduced set of customers (all transactions for each customer): <br/>\n",
    "https://www.kaggle.com/c/acquire-valued-shoppers-challenge/forums/t/7659/sample-of-transaction-data/41783"
   ]
  },
  {
   "cell_type": "code",
   "execution_count": 29,
   "metadata": {
    "collapsed": false
   },
   "outputs": [
    {
     "data": {
      "text/plain": [
       "1"
      ]
     },
     "execution_count": 29,
     "metadata": {},
     "output_type": "execute_result"
    }
   ],
   "source": [
    "trans_sample_keys = bucket.get_all_keys(prefix='transactions-sample')\n",
    "len( trans_sample_keys)"
   ]
  },
  {
   "cell_type": "code",
   "execution_count": 30,
   "metadata": {
    "collapsed": true
   },
   "outputs": [],
   "source": [
    "trans_sample_keys[0].get_contents_to_filename('transactions-sample.csv')"
   ]
  },
  {
   "cell_type": "code",
   "execution_count": 31,
   "metadata": {
    "collapsed": false
   },
   "outputs": [
    {
     "data": {
      "text/html": [
       "<div style=\"max-height:1000px;max-width:1500px;overflow:auto;\">\n",
       "<table border=\"1\" class=\"dataframe\">\n",
       "  <thead>\n",
       "    <tr style=\"text-align: right;\">\n",
       "      <th></th>\n",
       "      <th>id</th>\n",
       "      <th>chain</th>\n",
       "      <th>dept</th>\n",
       "      <th>category</th>\n",
       "      <th>company</th>\n",
       "      <th>brand</th>\n",
       "      <th>date</th>\n",
       "      <th>productsize</th>\n",
       "      <th>productmeasure</th>\n",
       "      <th>purchasequantity</th>\n",
       "      <th>purchaseamount</th>\n",
       "    </tr>\n",
       "  </thead>\n",
       "  <tbody>\n",
       "    <tr>\n",
       "      <th>0</th>\n",
       "      <td> 86246</td>\n",
       "      <td> 205</td>\n",
       "      <td>  7</td>\n",
       "      <td>  707</td>\n",
       "      <td> 1078778070</td>\n",
       "      <td> 12564</td>\n",
       "      <td> 2012-03-02</td>\n",
       "      <td> 12</td>\n",
       "      <td> OZ</td>\n",
       "      <td> 1</td>\n",
       "      <td> 7.59</td>\n",
       "    </tr>\n",
       "    <tr>\n",
       "      <th>1</th>\n",
       "      <td> 86246</td>\n",
       "      <td> 205</td>\n",
       "      <td> 63</td>\n",
       "      <td> 6319</td>\n",
       "      <td>  107654575</td>\n",
       "      <td> 17876</td>\n",
       "      <td> 2012-03-02</td>\n",
       "      <td> 64</td>\n",
       "      <td> OZ</td>\n",
       "      <td> 1</td>\n",
       "      <td> 1.59</td>\n",
       "    </tr>\n",
       "    <tr>\n",
       "      <th>2</th>\n",
       "      <td> 86246</td>\n",
       "      <td> 205</td>\n",
       "      <td> 97</td>\n",
       "      <td> 9753</td>\n",
       "      <td> 1022027929</td>\n",
       "      <td>     0</td>\n",
       "      <td> 2012-03-02</td>\n",
       "      <td>  1</td>\n",
       "      <td> CT</td>\n",
       "      <td> 1</td>\n",
       "      <td> 5.99</td>\n",
       "    </tr>\n",
       "  </tbody>\n",
       "</table>\n",
       "</div>"
      ],
      "text/plain": [
       "      id  chain  dept  category     company  brand        date  productsize  \\\n",
       "0  86246    205     7       707  1078778070  12564  2012-03-02           12   \n",
       "1  86246    205    63      6319   107654575  17876  2012-03-02           64   \n",
       "2  86246    205    97      9753  1022027929      0  2012-03-02            1   \n",
       "\n",
       "  productmeasure  purchasequantity  purchaseamount  \n",
       "0             OZ                 1            7.59  \n",
       "1             OZ                 1            1.59  \n",
       "2             CT                 1            5.99  "
      ]
     },
     "execution_count": 31,
     "metadata": {},
     "output_type": "execute_result"
    }
   ],
   "source": [
    "trans_sample_df = pd.read_csv('transactions-sample.csv')\n",
    "trans_sample_df.head(3)"
   ]
  },
  {
   "cell_type": "code",
   "execution_count": 32,
   "metadata": {
    "collapsed": false
   },
   "outputs": [
    {
     "data": {
      "text/plain": [
       "(27842, 11)"
      ]
     },
     "execution_count": 32,
     "metadata": {},
     "output_type": "execute_result"
    }
   ],
   "source": [
    "trans_sample_df.shape"
   ]
  },
  {
   "cell_type": "markdown",
   "metadata": {},
   "source": [
    "### Explore Datasets"
   ]
  },
  {
   "cell_type": "markdown",
   "metadata": {},
   "source": [
    "#### Joining DF"
   ]
  },
  {
   "cell_type": "raw",
   "metadata": {},
   "source": [
    "The transactions file can be joined to the history file by (id,chain). \n",
    "\n",
    "The history file can be joined to the offers file by (offer). \n",
    "\n",
    "The transactions file can be joined to the offers file by (category, brand, company). "
   ]
  },
  {
   "cell_type": "markdown",
   "metadata": {
    "collapsed": true
   },
   "source": [
    "#### Train DF"
   ]
  },
  {
   "cell_type": "raw",
   "metadata": {},
   "source": [
    "history\n",
    "id - A unique id representing a customer\n",
    "chain - An integer representing a store chain\n",
    "offer - An id representing a certain offer\n",
    "market - An id representing a geographical region\n",
    "repeattrips - The number of times the customer made a repeat purchase\n",
    "repeater - A boolean, equal to repeattrips > 0\n",
    "offerdate - The date a customer received the offer"
   ]
  },
  {
   "cell_type": "code",
   "execution_count": 45,
   "metadata": {
    "collapsed": false
   },
   "outputs": [
    {
     "data": {
      "text/plain": [
       "(160057, 7)"
      ]
     },
     "execution_count": 45,
     "metadata": {},
     "output_type": "execute_result"
    }
   ],
   "source": [
    "train_hist_df.shape"
   ]
  },
  {
   "cell_type": "code",
   "execution_count": 46,
   "metadata": {
    "collapsed": false
   },
   "outputs": [
    {
     "data": {
      "text/html": [
       "<div style=\"max-height:1000px;max-width:1500px;overflow:auto;\">\n",
       "<table border=\"1\" class=\"dataframe\">\n",
       "  <thead>\n",
       "    <tr style=\"text-align: right;\">\n",
       "      <th></th>\n",
       "      <th>id</th>\n",
       "      <th>chain</th>\n",
       "      <th>offer</th>\n",
       "      <th>market</th>\n",
       "      <th>repeattrips</th>\n",
       "      <th>repeater</th>\n",
       "      <th>offerdate</th>\n",
       "    </tr>\n",
       "  </thead>\n",
       "  <tbody>\n",
       "    <tr>\n",
       "      <th>0</th>\n",
       "      <td>    86246</td>\n",
       "      <td> 205</td>\n",
       "      <td> 1208251</td>\n",
       "      <td> 34</td>\n",
       "      <td>  5</td>\n",
       "      <td> t</td>\n",
       "      <td> 2013-04-24</td>\n",
       "    </tr>\n",
       "    <tr>\n",
       "      <th>1</th>\n",
       "      <td>    86252</td>\n",
       "      <td> 205</td>\n",
       "      <td> 1197502</td>\n",
       "      <td> 34</td>\n",
       "      <td> 16</td>\n",
       "      <td> t</td>\n",
       "      <td> 2013-03-27</td>\n",
       "    </tr>\n",
       "    <tr>\n",
       "      <th>2</th>\n",
       "      <td> 12682470</td>\n",
       "      <td>  18</td>\n",
       "      <td> 1197502</td>\n",
       "      <td> 11</td>\n",
       "      <td>  0</td>\n",
       "      <td> f</td>\n",
       "      <td> 2013-03-28</td>\n",
       "    </tr>\n",
       "    <tr>\n",
       "      <th>3</th>\n",
       "      <td> 12996040</td>\n",
       "      <td>  15</td>\n",
       "      <td> 1197502</td>\n",
       "      <td>  9</td>\n",
       "      <td>  0</td>\n",
       "      <td> f</td>\n",
       "      <td> 2013-03-25</td>\n",
       "    </tr>\n",
       "    <tr>\n",
       "      <th>4</th>\n",
       "      <td> 13089312</td>\n",
       "      <td>  15</td>\n",
       "      <td> 1204821</td>\n",
       "      <td>  9</td>\n",
       "      <td>  0</td>\n",
       "      <td> f</td>\n",
       "      <td> 2013-04-01</td>\n",
       "    </tr>\n",
       "  </tbody>\n",
       "</table>\n",
       "</div>"
      ],
      "text/plain": [
       "         id  chain    offer  market  repeattrips repeater   offerdate\n",
       "0     86246    205  1208251      34            5        t  2013-04-24\n",
       "1     86252    205  1197502      34           16        t  2013-03-27\n",
       "2  12682470     18  1197502      11            0        f  2013-03-28\n",
       "3  12996040     15  1197502       9            0        f  2013-03-25\n",
       "4  13089312     15  1204821       9            0        f  2013-04-01"
      ]
     },
     "execution_count": 46,
     "metadata": {},
     "output_type": "execute_result"
    }
   ],
   "source": [
    "train_hist_df.head()"
   ]
  },
  {
   "cell_type": "code",
   "execution_count": 47,
   "metadata": {
    "collapsed": false
   },
   "outputs": [
    {
     "name": "stdout",
     "output_type": "stream",
     "text": [
      "<class 'pandas.core.frame.DataFrame'>\n",
      "Int64Index: 160057 entries, 0 to 160056\n",
      "Data columns (total 7 columns):\n",
      "id             160057 non-null int64\n",
      "chain          160057 non-null int64\n",
      "offer          160057 non-null int64\n",
      "market         160057 non-null int64\n",
      "repeattrips    160057 non-null int64\n",
      "repeater       160057 non-null object\n",
      "offerdate      160057 non-null object\n",
      "dtypes: int64(5), object(2)\n",
      "memory usage: 9.8+ MB\n"
     ]
    }
   ],
   "source": [
    "train_hist_df.info()"
   ]
  },
  {
   "cell_type": "code",
   "execution_count": 48,
   "metadata": {
    "collapsed": false
   },
   "outputs": [
    {
     "data": {
      "text/html": [
       "<div style=\"max-height:1000px;max-width:1500px;overflow:auto;\">\n",
       "<table border=\"1\" class=\"dataframe\">\n",
       "  <thead>\n",
       "    <tr style=\"text-align: right;\">\n",
       "      <th></th>\n",
       "      <th>count</th>\n",
       "      <th>mean</th>\n",
       "      <th>std</th>\n",
       "      <th>min</th>\n",
       "      <th>25%</th>\n",
       "      <th>50%</th>\n",
       "      <th>75%</th>\n",
       "      <th>max</th>\n",
       "    </tr>\n",
       "  </thead>\n",
       "  <tbody>\n",
       "    <tr>\n",
       "      <th>id</th>\n",
       "      <td> 160057</td>\n",
       "      <td> 1.869324e+09</td>\n",
       "      <td> 1.570833e+09</td>\n",
       "      <td>   86246</td>\n",
       "      <td> 498182177</td>\n",
       "      <td> 767486408</td>\n",
       "      <td> 3285612741</td>\n",
       "      <td> 4809911000</td>\n",
       "    </tr>\n",
       "    <tr>\n",
       "      <th>chain</th>\n",
       "      <td> 160057</td>\n",
       "      <td> 1.268103e+02</td>\n",
       "      <td> 1.279343e+02</td>\n",
       "      <td>       2</td>\n",
       "      <td>        21</td>\n",
       "      <td>        96</td>\n",
       "      <td>        165</td>\n",
       "      <td>        526</td>\n",
       "    </tr>\n",
       "    <tr>\n",
       "      <th>offer</th>\n",
       "      <td> 160057</td>\n",
       "      <td> 1.201984e+06</td>\n",
       "      <td> 4.705531e+03</td>\n",
       "      <td> 1194044</td>\n",
       "      <td>   1197502</td>\n",
       "      <td>   1200581</td>\n",
       "      <td>    1208251</td>\n",
       "      <td>    1208503</td>\n",
       "    </tr>\n",
       "    <tr>\n",
       "      <th>market</th>\n",
       "      <td> 160057</td>\n",
       "      <td> 1.995060e+01</td>\n",
       "      <td> 1.909901e+01</td>\n",
       "      <td>       1</td>\n",
       "      <td>        10</td>\n",
       "      <td>        14</td>\n",
       "      <td>         24</td>\n",
       "      <td>         96</td>\n",
       "    </tr>\n",
       "    <tr>\n",
       "      <th>repeattrips</th>\n",
       "      <td> 160057</td>\n",
       "      <td> 6.563349e-01</td>\n",
       "      <td> 6.786516e+00</td>\n",
       "      <td>       0</td>\n",
       "      <td>         0</td>\n",
       "      <td>         0</td>\n",
       "      <td>          1</td>\n",
       "      <td>       2124</td>\n",
       "    </tr>\n",
       "  </tbody>\n",
       "</table>\n",
       "</div>"
      ],
      "text/plain": [
       "              count          mean           std      min        25%  \\\n",
       "id           160057  1.869324e+09  1.570833e+09    86246  498182177   \n",
       "chain        160057  1.268103e+02  1.279343e+02        2         21   \n",
       "offer        160057  1.201984e+06  4.705531e+03  1194044    1197502   \n",
       "market       160057  1.995060e+01  1.909901e+01        1         10   \n",
       "repeattrips  160057  6.563349e-01  6.786516e+00        0          0   \n",
       "\n",
       "                   50%         75%         max  \n",
       "id           767486408  3285612741  4809911000  \n",
       "chain               96         165         526  \n",
       "offer          1200581     1208251     1208503  \n",
       "market              14          24          96  \n",
       "repeattrips          0           1        2124  "
      ]
     },
     "execution_count": 48,
     "metadata": {},
     "output_type": "execute_result"
    }
   ],
   "source": [
    "train_hist_df.describe().T"
   ]
  },
  {
   "cell_type": "code",
   "execution_count": 91,
   "metadata": {
    "collapsed": false
   },
   "outputs": [
    {
     "data": {
      "text/plain": [
       "130"
      ]
     },
     "execution_count": 91,
     "metadata": {},
     "output_type": "execute_result"
    }
   ],
   "source": [
    "len( pd.value_counts(train_hist_df['chain']))"
   ]
  },
  {
   "cell_type": "code",
   "execution_count": 92,
   "metadata": {
    "collapsed": false
   },
   "outputs": [
    {
     "data": {
      "text/plain": [
       "24"
      ]
     },
     "execution_count": 92,
     "metadata": {},
     "output_type": "execute_result"
    }
   ],
   "source": [
    "len( pd.value_counts(train_hist_df['offer']))"
   ]
  },
  {
   "cell_type": "code",
   "execution_count": 93,
   "metadata": {
    "collapsed": false
   },
   "outputs": [
    {
     "data": {
      "text/plain": [
       "34"
      ]
     },
     "execution_count": 93,
     "metadata": {},
     "output_type": "execute_result"
    }
   ],
   "source": [
    "len( pd.value_counts(train_hist_df['market']))"
   ]
  },
  {
   "cell_type": "code",
   "execution_count": 94,
   "metadata": {
    "collapsed": false
   },
   "outputs": [
    {
     "data": {
      "text/plain": [
       "56"
      ]
     },
     "execution_count": 94,
     "metadata": {},
     "output_type": "execute_result"
    }
   ],
   "source": [
    "len( pd.value_counts(train_hist_df['repeattrips']))"
   ]
  },
  {
   "cell_type": "code",
   "execution_count": null,
   "metadata": {
    "collapsed": true
   },
   "outputs": [],
   "source": []
  },
  {
   "cell_type": "code",
   "execution_count": null,
   "metadata": {
    "collapsed": true
   },
   "outputs": [],
   "source": []
  },
  {
   "cell_type": "markdown",
   "metadata": {},
   "source": [
    "#### Offers DF"
   ]
  },
  {
   "cell_type": "raw",
   "metadata": {},
   "source": [
    "effers \n",
    "offer - see above\n",
    "category - see above (transactions: The product category (e.g. sparkling water))\n",
    "quantity - The number of units one must purchase to get the discount\n",
    "company - see above (transactions: An id of the company that sells the item)\n",
    "offervalue - The dollar value of the offer\n",
    "brand - see above (transactions: An id of the brand to which the item belongs)"
   ]
  },
  {
   "cell_type": "code",
   "execution_count": 33,
   "metadata": {
    "collapsed": false
   },
   "outputs": [
    {
     "data": {
      "text/plain": [
       "(37, 6)"
      ]
     },
     "execution_count": 33,
     "metadata": {},
     "output_type": "execute_result"
    }
   ],
   "source": [
    "offers_df.shape"
   ]
  },
  {
   "cell_type": "code",
   "execution_count": 50,
   "metadata": {
    "collapsed": false
   },
   "outputs": [
    {
     "name": "stdout",
     "output_type": "stream",
     "text": [
      "      offer  category  quantity     company  offervalue   brand\n",
      "0   1190530      9115         1   108500080        5.00   93904\n",
      "1   1194044      9909         1   107127979        1.00    6732\n",
      "2   1197502      3203         1   106414464        0.75   13474\n",
      "3   1198271      5558         1   107120272        1.50    5072\n",
      "4   1198272      5558         1   107120272        1.50    5072\n",
      "5   1198273      5558         1   107120272        1.50    5072\n",
      "6   1198274      5558         1   107120272        1.50    5072\n",
      "7   1198275      5558         1   107120272        1.50    5072\n",
      "8   1199256      4401         1   105100050        2.00   13791\n",
      "9   1199258      4401         1   105100050        2.00   13791\n",
      "10  1200578      1703         1   104460040        1.50    7668\n",
      "11  1200579      1703         1   104460040        1.50    7668\n",
      "12  1200581      1726         1   104460040        1.25    7668\n",
      "13  1200582      1726         1   104460040        1.25    7668\n",
      "14  1200584      3504         1   104460040        1.25    7668\n",
      "15  1200988      3509         1   103320030        2.00     875\n",
      "16  1203052      9909         1  1089520383        1.00   28840\n",
      "17  1203439      5122         1   107106878        1.50   17311\n",
      "18  1204576      5616         1   104610040        1.00   15889\n",
      "19  1204821      5619         1   107717272        1.50  102504\n",
      "20  1204822      5619         1   107717272        1.50  102504\n",
      "21  1208251      2202         1   104460040        2.00    3718\n",
      "22  1208252      2202         1   104460040        3.00    3718\n",
      "23  1208329      2119         1   108079383        1.00    6926\n",
      "24  1208501      6202         1  1087744888        1.50   64486\n",
      "25  1208503      6202         1  1087744888        1.50   64486\n",
      "26  1213242      5824         1   105190050        2.00   26456\n",
      "27  1219900       799         1  1076211171        1.50   17286\n",
      "28  1219903       799         1  1076211171        1.50   17286\n",
      "29  1220502      4517         1   105450050        1.50    1322\n",
      "30  1220503      4517         1   105450050        1.50    1322\n",
      "31  1221658      7205         2   103700030        3.00    4294\n",
      "32  1221663      7205         1   103700030        1.50    4294\n",
      "33  1221665      7205         1   103700030        1.50    4294\n",
      "34  1221666      7205         1   103700030        1.50    4294\n",
      "35  1221667      7205         1   103700030        2.00    4294\n",
      "36  1230218       706         1   104127141        1.00   26189\n"
     ]
    }
   ],
   "source": [
    "print offers_df"
   ]
  },
  {
   "cell_type": "code",
   "execution_count": 85,
   "metadata": {
    "collapsed": false
   },
   "outputs": [
    {
     "data": {
      "text/plain": [
       "1.50    19\n",
       "2.00     6\n",
       "1.00     5\n",
       "1.25     3\n",
       "3.00     2\n",
       "5.00     1\n",
       "0.75     1\n",
       "dtype: int64"
      ]
     },
     "execution_count": 85,
     "metadata": {},
     "output_type": "execute_result"
    }
   ],
   "source": [
    "pd.value_counts(offers_df['offervalue'])\n",
    "#majority of offers are between $1-2, with the vast majority being $1.50"
   ]
  },
  {
   "cell_type": "code",
   "execution_count": 89,
   "metadata": {
    "collapsed": false
   },
   "outputs": [
    {
     "data": {
      "text/plain": [
       "<matplotlib.axes._subplots.AxesSubplot at 0x7fb1c2fbf210>"
      ]
     },
     "execution_count": 89,
     "metadata": {},
     "output_type": "execute_result"
    },
    {
     "data": {
      "image/png": "[encoded data removed]",
      "text/plain": [
       "<matplotlib.figure.Figure at 0x7fb1c2fc7790>"
      ]
     },
     "metadata": {},
     "output_type": "display_data"
    }
   ],
   "source": [
    "offers_df.offervalue.hist(bins=20)"
   ]
  },
  {
   "cell_type": "code",
   "execution_count": 73,
   "metadata": {
    "collapsed": false
   },
   "outputs": [
    {
     "data": {
      "text/plain": [
       "1.50    19\n",
       "2.00     6\n",
       "1.00     5\n",
       "1.25     3\n",
       "3.00     2\n",
       "5.00     1\n",
       "0.75     1\n",
       "dtype: int64"
      ]
     },
     "execution_count": 73,
     "metadata": {},
     "output_type": "execute_result"
    }
   ],
   "source": [
    "pd.value_counts(offers_df['offervalue'])"
   ]
  },
  {
   "cell_type": "code",
   "execution_count": 68,
   "metadata": {
    "collapsed": false
   },
   "outputs": [
    {
     "data": {
      "text/plain": [
       "5558    5\n",
       "7205    5\n",
       "1726    2\n",
       "1703    2\n",
       "2202    2\n",
       "6202    2\n",
       "4517    2\n",
       "799     2\n",
       "4401    2\n",
       "5619    2\n",
       "9909    2\n",
       "5616    1\n",
       "3504    1\n",
       "9115    1\n",
       "3509    1\n",
       "706     1\n",
       "2119    1\n",
       "3203    1\n",
       "5122    1\n",
       "5824    1\n",
       "dtype: int64"
      ]
     },
     "execution_count": 68,
     "metadata": {},
     "output_type": "execute_result"
    }
   ],
   "source": [
    "#offers_df.groupby(['category']).transform('count')\n",
    "pd.value_counts(offers_df['category'])"
   ]
  },
  {
   "cell_type": "code",
   "execution_count": 69,
   "metadata": {
    "collapsed": false
   },
   "outputs": [
    {
     "data": {
      "text/plain": [
       "104460040     7\n",
       "103700030     5\n",
       "107120272     5\n",
       "107717272     2\n",
       "105450050     2\n",
       "1087744888    2\n",
       "105100050     2\n",
       "1076211171    2\n",
       "1089520383    1\n",
       "108079383     1\n",
       "105190050     1\n",
       "103320030     1\n",
       "107106878     1\n",
       "104127141     1\n",
       "107127979     1\n",
       "108500080     1\n",
       "104610040     1\n",
       "106414464     1\n",
       "dtype: int64"
      ]
     },
     "execution_count": 69,
     "metadata": {},
     "output_type": "execute_result"
    }
   ],
   "source": [
    "pd.value_counts(offers_df['company'])"
   ]
  },
  {
   "cell_type": "code",
   "execution_count": 72,
   "metadata": {
    "collapsed": false
   },
   "outputs": [
    {
     "data": {
      "text/plain": [
       "4294      5\n",
       "5072      5\n",
       "7668      5\n",
       "102504    2\n",
       "13791     2\n",
       "17286     2\n",
       "1322      2\n",
       "3718      2\n",
       "64486     2\n",
       "13474     1\n",
       "28840     1\n",
       "15889     1\n",
       "93904     1\n",
       "6926      1\n",
       "26189     1\n",
       "6732      1\n",
       "17311     1\n",
       "875       1\n",
       "26456     1\n",
       "dtype: int64"
      ]
     },
     "execution_count": 72,
     "metadata": {},
     "output_type": "execute_result"
    }
   ],
   "source": [
    "pd.value_counts(offers_df['brand'])"
   ]
  },
  {
   "cell_type": "markdown",
   "metadata": {},
   "source": [
    "#### Transaction-Sample DF"
   ]
  },
  {
   "cell_type": "raw",
   "metadata": {},
   "source": [
    "transactions\n",
    "id - see above (A unique id representing a customer)\n",
    "chain - see above (An integer representing a store chain)\n",
    "dept - An aggregate grouping of the Category (e.g. water)\n",
    "category - The product category (e.g. sparkling water)\n",
    "company - An id of the company that sells the item\n",
    "brand - An id of the brand to which the item belongs\n",
    "date - The date of purchase\n",
    "productsize - The amount of the product purchase (e.g. 16 oz of water)\n",
    "productmeasure - The units of the product purchase (e.g. ounces)\n",
    "purchasequantity - The number of units purchased\n",
    "purchaseamount - The dollar amount of the purchase\n",
    "\n",
    "*A negative value in productquantity and purchaseamount indicates a return."
   ]
  },
  {
   "cell_type": "code",
   "execution_count": 34,
   "metadata": {
    "collapsed": false
   },
   "outputs": [
    {
     "data": {
      "text/plain": [
       "(27842, 11)"
      ]
     },
     "execution_count": 34,
     "metadata": {},
     "output_type": "execute_result"
    }
   ],
   "source": [
    "trans_sample_df.shape"
   ]
  },
  {
   "cell_type": "code",
   "execution_count": 36,
   "metadata": {
    "collapsed": false
   },
   "outputs": [
    {
     "name": "stdout",
     "output_type": "stream",
     "text": [
      "<class 'pandas.core.frame.DataFrame'>\n",
      "Int64Index: 27842 entries, 0 to 27841\n",
      "Data columns (total 11 columns):\n",
      "id                  27842 non-null int64\n",
      "chain               27842 non-null int64\n",
      "dept                27842 non-null int64\n",
      "category            27842 non-null int64\n",
      "company             27842 non-null int64\n",
      "brand               27842 non-null int64\n",
      "date                27842 non-null object\n",
      "productsize         27842 non-null float64\n",
      "productmeasure      27618 non-null object\n",
      "purchasequantity    27842 non-null int64\n",
      "purchaseamount      27842 non-null float64\n",
      "dtypes: float64(2), int64(7), object(2)\n",
      "memory usage: 2.5+ MB\n"
     ]
    }
   ],
   "source": [
    "#no null values\n",
    "trans_sample_df.info()"
   ]
  },
  {
   "cell_type": "code",
   "execution_count": 49,
   "metadata": {
    "collapsed": false
   },
   "outputs": [
    {
     "data": {
      "text/plain": [
       "5"
      ]
     },
     "execution_count": 49,
     "metadata": {},
     "output_type": "execute_result"
    }
   ],
   "source": [
    "#only a few customer ids\n",
    "len( pd.value_counts(trans_sample_df['id']))"
   ]
  },
  {
   "cell_type": "code",
   "execution_count": 50,
   "metadata": {
    "collapsed": false
   },
   "outputs": [
    {
     "data": {
      "text/plain": [
       "2"
      ]
     },
     "execution_count": 50,
     "metadata": {},
     "output_type": "execute_result"
    }
   ],
   "source": [
    "len( pd.value_counts(trans_sample_df['chain']))"
   ]
  },
  {
   "cell_type": "code",
   "execution_count": 51,
   "metadata": {
    "collapsed": false
   },
   "outputs": [
    {
     "data": {
      "text/plain": [
       "82"
      ]
     },
     "execution_count": 51,
     "metadata": {},
     "output_type": "execute_result"
    }
   ],
   "source": [
    "len( pd.value_counts(trans_sample_df['dept']))"
   ]
  },
  {
   "cell_type": "code",
   "execution_count": 52,
   "metadata": {
    "collapsed": false
   },
   "outputs": [
    {
     "data": {
      "text/plain": [
       "661"
      ]
     },
     "execution_count": 52,
     "metadata": {},
     "output_type": "execute_result"
    }
   ],
   "source": [
    "len( pd.value_counts(trans_sample_df['category']))"
   ]
  },
  {
   "cell_type": "code",
   "execution_count": 53,
   "metadata": {
    "collapsed": false
   },
   "outputs": [
    {
     "data": {
      "text/plain": [
       "1355"
      ]
     },
     "execution_count": 53,
     "metadata": {},
     "output_type": "execute_result"
    }
   ],
   "source": [
    "len( pd.value_counts(trans_sample_df['company']))"
   ]
  },
  {
   "cell_type": "code",
   "execution_count": 54,
   "metadata": {
    "collapsed": false
   },
   "outputs": [
    {
     "data": {
      "text/plain": [
       "1805"
      ]
     },
     "execution_count": 54,
     "metadata": {},
     "output_type": "execute_result"
    }
   ],
   "source": [
    "len( pd.value_counts(trans_sample_df['brand']))"
   ]
  },
  {
   "cell_type": "code",
   "execution_count": 55,
   "metadata": {
    "collapsed": false
   },
   "outputs": [
    {
     "data": {
      "text/plain": [
       "653"
      ]
     },
     "execution_count": 55,
     "metadata": {},
     "output_type": "execute_result"
    }
   ],
   "source": [
    "len( pd.value_counts(trans_sample_df['productsize']))"
   ]
  },
  {
   "cell_type": "code",
   "execution_count": 57,
   "metadata": {
    "collapsed": false
   },
   "outputs": [
    {
     "data": {
      "text/plain": [
       "24"
      ]
     },
     "execution_count": 57,
     "metadata": {},
     "output_type": "execute_result"
    }
   ],
   "source": [
    "len( pd.value_counts(trans_sample_df['purchasequantity']))"
   ]
  },
  {
   "cell_type": "code",
   "execution_count": 56,
   "metadata": {
    "collapsed": false
   },
   "outputs": [
    {
     "data": {
      "text/plain": [
       "1514"
      ]
     },
     "execution_count": 56,
     "metadata": {},
     "output_type": "execute_result"
    }
   ],
   "source": [
    "len( pd.value_counts(trans_sample_df['purchaseamount']))"
   ]
  },
  {
   "cell_type": "code",
   "execution_count": 48,
   "metadata": {
    "collapsed": false
   },
   "outputs": [
    {
     "data": {
      "text/html": [
       "<div style=\"max-height:1000px;max-width:1500px;overflow:auto;\">\n",
       "<table border=\"1\" class=\"dataframe\">\n",
       "  <thead>\n",
       "    <tr style=\"text-align: right;\">\n",
       "      <th></th>\n",
       "      <th></th>\n",
       "      <th>purchasequantity</th>\n",
       "      <th>purchaseamount</th>\n",
       "    </tr>\n",
       "    <tr>\n",
       "      <th>id</th>\n",
       "      <th>chain</th>\n",
       "      <th></th>\n",
       "      <th></th>\n",
       "    </tr>\n",
       "  </thead>\n",
       "  <tbody>\n",
       "    <tr>\n",
       "      <th>86246   </th>\n",
       "      <th>205</th>\n",
       "      <td> 17333</td>\n",
       "      <td> 52828.12</td>\n",
       "    </tr>\n",
       "    <tr>\n",
       "      <th>86252   </th>\n",
       "      <th>205</th>\n",
       "      <td> 17604</td>\n",
       "      <td> 53592.90</td>\n",
       "    </tr>\n",
       "    <tr>\n",
       "      <th>12262064</th>\n",
       "      <th>95 </th>\n",
       "      <td>  1262</td>\n",
       "      <td>  4118.18</td>\n",
       "    </tr>\n",
       "    <tr>\n",
       "      <th>12277270</th>\n",
       "      <th>95 </th>\n",
       "      <td>  1638</td>\n",
       "      <td>  8085.44</td>\n",
       "    </tr>\n",
       "    <tr>\n",
       "      <th>12332190</th>\n",
       "      <th>95 </th>\n",
       "      <td>   891</td>\n",
       "      <td>  3587.71</td>\n",
       "    </tr>\n",
       "  </tbody>\n",
       "</table>\n",
       "</div>"
      ],
      "text/plain": [
       "                purchasequantity  purchaseamount\n",
       "id       chain                                  \n",
       "86246    205               17333        52828.12\n",
       "86252    205               17604        53592.90\n",
       "12262064 95                 1262         4118.18\n",
       "12277270 95                 1638         8085.44\n",
       "12332190 95                  891         3587.71"
      ]
     },
     "execution_count": 48,
     "metadata": {},
     "output_type": "execute_result"
    }
   ],
   "source": [
    "pd.DataFrame( trans_sample_df.groupby(['id','chain'])['purchasequantity','purchaseamount'].agg('sum') )"
   ]
  },
  {
   "cell_type": "code",
   "execution_count": 43,
   "metadata": {
    "collapsed": false
   },
   "outputs": [
    {
     "data": {
      "text/html": [
       "<div style=\"max-height:1000px;max-width:1500px;overflow:auto;\">\n",
       "<table border=\"1\" class=\"dataframe\">\n",
       "  <thead>\n",
       "    <tr style=\"text-align: right;\">\n",
       "      <th></th>\n",
       "      <th>id</th>\n",
       "      <th>chain</th>\n",
       "      <th>dept</th>\n",
       "      <th>category</th>\n",
       "      <th>company</th>\n",
       "      <th>brand</th>\n",
       "      <th>productsize</th>\n",
       "      <th>purchasequantity</th>\n",
       "      <th>purchaseamount</th>\n",
       "    </tr>\n",
       "  </thead>\n",
       "  <tbody>\n",
       "    <tr>\n",
       "      <th>count</th>\n",
       "      <td>    27842.000000</td>\n",
       "      <td> 27842.000000</td>\n",
       "      <td> 27842.000000</td>\n",
       "      <td> 27842.000000</td>\n",
       "      <td> 2.784200e+04</td>\n",
       "      <td>  27842.000000</td>\n",
       "      <td> 27842.000000</td>\n",
       "      <td> 27842.000000</td>\n",
       "      <td> 27842.000000</td>\n",
       "    </tr>\n",
       "    <tr>\n",
       "      <th>mean</th>\n",
       "      <td>  1464518.304432</td>\n",
       "      <td>   192.570577</td>\n",
       "      <td>    40.320703</td>\n",
       "      <td>  4046.298829</td>\n",
       "      <td> 2.179135e+08</td>\n",
       "      <td>  16964.997881</td>\n",
       "      <td>    29.308435</td>\n",
       "      <td>     1.390992</td>\n",
       "      <td>     4.389496</td>\n",
       "    </tr>\n",
       "    <tr>\n",
       "      <th>std</th>\n",
       "      <td>  3861686.310634</td>\n",
       "      <td>    34.825128</td>\n",
       "      <td>    26.391795</td>\n",
       "      <td>  2643.541796</td>\n",
       "      <td> 4.781015e+08</td>\n",
       "      <td>  16189.953805</td>\n",
       "      <td>    49.739271</td>\n",
       "      <td>     1.087621</td>\n",
       "      <td>     4.933723</td>\n",
       "    </tr>\n",
       "    <tr>\n",
       "      <th>min</th>\n",
       "      <td>    86246.000000</td>\n",
       "      <td>    95.000000</td>\n",
       "      <td>     0.000000</td>\n",
       "      <td>     0.000000</td>\n",
       "      <td> 1.000000e+04</td>\n",
       "      <td>      0.000000</td>\n",
       "      <td>     0.000000</td>\n",
       "      <td>    -1.000000</td>\n",
       "      <td>    -9.680000</td>\n",
       "    </tr>\n",
       "    <tr>\n",
       "      <th>25%</th>\n",
       "      <td>    86246.000000</td>\n",
       "      <td>   205.000000</td>\n",
       "      <td>    21.000000</td>\n",
       "      <td>  2103.000000</td>\n",
       "      <td> 1.027000e+08</td>\n",
       "      <td>   6732.000000</td>\n",
       "      <td>     7.000000</td>\n",
       "      <td>     1.000000</td>\n",
       "      <td>     1.980000</td>\n",
       "    </tr>\n",
       "    <tr>\n",
       "      <th>50%</th>\n",
       "      <td>    86252.000000</td>\n",
       "      <td>   205.000000</td>\n",
       "      <td>    36.000000</td>\n",
       "      <td>  3612.000000</td>\n",
       "      <td> 1.041303e+08</td>\n",
       "      <td>  13310.000000</td>\n",
       "      <td>    14.750000</td>\n",
       "      <td>     1.000000</td>\n",
       "      <td>     3.190000</td>\n",
       "    </tr>\n",
       "    <tr>\n",
       "      <th>75%</th>\n",
       "      <td>    86252.000000</td>\n",
       "      <td>   205.000000</td>\n",
       "      <td>    58.000000</td>\n",
       "      <td>  5828.000000</td>\n",
       "      <td> 1.072471e+08</td>\n",
       "      <td>  19713.000000</td>\n",
       "      <td>    26.500000</td>\n",
       "      <td>     1.000000</td>\n",
       "      <td>     4.990000</td>\n",
       "    </tr>\n",
       "    <tr>\n",
       "      <th>max</th>\n",
       "      <td> 12332190.000000</td>\n",
       "      <td>   205.000000</td>\n",
       "      <td>    99.000000</td>\n",
       "      <td>  9909.000000</td>\n",
       "      <td> 1.097815e+10</td>\n",
       "      <td> 108338.000000</td>\n",
       "      <td>   960.000000</td>\n",
       "      <td>    39.000000</td>\n",
       "      <td>   164.900000</td>\n",
       "    </tr>\n",
       "  </tbody>\n",
       "</table>\n",
       "</div>"
      ],
      "text/plain": [
       "                    id         chain          dept      category  \\\n",
       "count     27842.000000  27842.000000  27842.000000  27842.000000   \n",
       "mean    1464518.304432    192.570577     40.320703   4046.298829   \n",
       "std     3861686.310634     34.825128     26.391795   2643.541796   \n",
       "min       86246.000000     95.000000      0.000000      0.000000   \n",
       "25%       86246.000000    205.000000     21.000000   2103.000000   \n",
       "50%       86252.000000    205.000000     36.000000   3612.000000   \n",
       "75%       86252.000000    205.000000     58.000000   5828.000000   \n",
       "max    12332190.000000    205.000000     99.000000   9909.000000   \n",
       "\n",
       "            company          brand   productsize  purchasequantity  \\\n",
       "count  2.784200e+04   27842.000000  27842.000000      27842.000000   \n",
       "mean   2.179135e+08   16964.997881     29.308435          1.390992   \n",
       "std    4.781015e+08   16189.953805     49.739271          1.087621   \n",
       "min    1.000000e+04       0.000000      0.000000         -1.000000   \n",
       "25%    1.027000e+08    6732.000000      7.000000          1.000000   \n",
       "50%    1.041303e+08   13310.000000     14.750000          1.000000   \n",
       "75%    1.072471e+08   19713.000000     26.500000          1.000000   \n",
       "max    1.097815e+10  108338.000000    960.000000         39.000000   \n",
       "\n",
       "       purchaseamount  \n",
       "count    27842.000000  \n",
       "mean         4.389496  \n",
       "std          4.933723  \n",
       "min         -9.680000  \n",
       "25%          1.980000  \n",
       "50%          3.190000  \n",
       "75%          4.990000  \n",
       "max        164.900000  "
      ]
     },
     "execution_count": 43,
     "metadata": {},
     "output_type": "execute_result"
    }
   ],
   "source": [
    "trans_sample_df.describe()"
   ]
  },
  {
   "cell_type": "code",
   "execution_count": 63,
   "metadata": {
    "collapsed": false
   },
   "outputs": [
    {
     "data": {
      "image/png": "[encoded data removed]",
      "text/plain": [
       "<matplotlib.figure.Figure at 0x7f7c26795ad0>"
      ]
     },
     "metadata": {},
     "output_type": "display_data"
    }
   ],
   "source": [
    "#trans_sample_df.purchasequantity.hist()\n",
    "fig, ax = plt.subplots()\n",
    "trans_sample_df.purchasequantity.hist( ax=ax, bins=100)\n",
    "ax.set_yscale('log')"
   ]
  },
  {
   "cell_type": "code",
   "execution_count": 73,
   "metadata": {
    "collapsed": false
   },
   "outputs": [
    {
     "data": {
      "image/png": "[encoded data removed]",
      "text/plain": [
       "<matplotlib.figure.Figure at 0x7f7c2671bd10>"
      ]
     },
     "metadata": {},
     "output_type": "display_data"
    }
   ],
   "source": [
    "#trans_sample_df.purchaseamount.hist()\n",
    "fig, ax = plt.subplots()\n",
    "fig = trans_sample_df.purchaseamount.hist( ax=ax, bins=100)\n",
    "#sns.kdeplot( trans_sample_df.purchaseamount)\n",
    "ax.set_yscale('log')"
   ]
  },
  {
   "cell_type": "markdown",
   "metadata": {},
   "source": [
    "#### Join datasets (still using trans_sample_df)"
   ]
  },
  {
   "cell_type": "markdown",
   "metadata": {},
   "source": [
    "The transactions file can be joined to the history file by (id,chain). \n",
    "\n",
    "The history file can be joined to the offers file by (offer). \n",
    "\n",
    "The transactions file can be joined to the offers file by (category, brand, company). "
   ]
  },
  {
   "cell_type": "code",
   "execution_count": 74,
   "metadata": {
    "collapsed": true
   },
   "outputs": [],
   "source": [
    "import sqlite3"
   ]
  },
  {
   "cell_type": "code",
   "execution_count": null,
   "metadata": {
    "collapsed": true
   },
   "outputs": [],
   "source": [
    "trans_sample_df_2 = pd.read_sql( \n",
    "                                    , conn, \"mid\" )\n",
    "trans_sample_df_2 "
   ]
  }
 ],
 "metadata": {
  "kernelspec": {
   "display_name": "Python 2",
   "language": "python",
   "name": "python2"
  },
  "language_info": {
   "codemirror_mode": {
    "name": "ipython",
    "version": 2
   },
   "file_extension": ".py",
   "mimetype": "text/x-python",
   "name": "python",
   "nbconvert_exporter": "python",
   "pygments_lexer": "ipython2",
   "version": "2.7.9"
  }
 },
 "nbformat": 4,
 "nbformat_minor": 0
}
