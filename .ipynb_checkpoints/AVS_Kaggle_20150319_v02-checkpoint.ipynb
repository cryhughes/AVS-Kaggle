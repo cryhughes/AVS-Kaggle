{
 "cells": [
  {
   "cell_type": "markdown",
   "metadata": {},
   "source": [
    "## AVS Kaggle Competition"
   ]
  },
  {
   "cell_type": "markdown",
   "metadata": {},
   "source": [
    "Links to Kaggle Comp Data: https://www.kaggle.com/c/acquire-valued-shoppers-challenge/data"
   ]
  },
  {
   "cell_type": "markdown",
   "metadata": {},
   "source": [
    "#### Import Libraries"
   ]
  },
  {
   "cell_type": "code",
   "execution_count": 1,
   "metadata": {
    "collapsed": true
   },
   "outputs": [],
   "source": [
    "# basics imports\n",
    "\n",
    "import os\n",
    "\n",
    "import pandas as pd\n",
    "import numpy as np\n"
   ]
  },
  {
   "cell_type": "code",
   "execution_count": 2,
   "metadata": {
    "collapsed": true
   },
   "outputs": [],
   "source": [
    "#S3\n",
    "from boto.s3.connection import S3Connection\n",
    "from IPython.parallel import Client"
   ]
  },
  {
   "cell_type": "code",
   "execution_count": 2,
   "metadata": {
    "collapsed": true
   },
   "outputs": [],
   "source": [
    "#plotting libraries and setting defaults\n",
    "\n",
    "%matplotlib inline\n",
    "\n",
    "import seaborn as sns\n",
    "from seaborn import plt\n",
    "\n",
    "# Some nice default configuration for plots\n",
    "plt.rcParams['figure.figsize'] = 10, 7.5\n",
    "plt.rcParams['axes.grid'] = True"
   ]
  },
  {
   "cell_type": "markdown",
   "metadata": {},
   "source": [
    "### Launch EC2 instance"
   ]
  },
  {
   "cell_type": "raw",
   "metadata": {
    "collapsed": true
   },
   "source": [
    "#launch ec2 instance\n",
    "\n",
    "#ssh into ec2 instance from terminal\n",
    "ssh -i ~/.ssh/mykey.rsa centos@ec2-54-164-65-191.compute-1.amazonaws.com \n",
    "\n",
    "#launch in browser\n",
    "ec2-54-164-65-191.compute-1.amazonaws.com:8888/"
   ]
  },
  {
   "cell_type": "markdown",
   "metadata": {},
   "source": [
    "#### Load data\n",
    "Ref 1: Lab '04 - Starcluster' \n",
    "Ref 2: Lab '17-ScalineOut' "
   ]
  },
  {
   "cell_type": "raw",
   "metadata": {
    "collapsed": false
   },
   "source": [
    "'''\n",
    "#load access keys to variable\n",
    "\n",
    "#credentials = pd.read_csv('/Users/eklypse/Downloads/credentials.csv')\n",
    "#credentials = pd.read_csv('/Users/rychughes/.ssh/credentials.csv',skiprows=1,names=['a','b'])\n",
    "credentials = pd.read_csv('/Users/rychughes/.ssh/credentials.csv',\n",
    "                          #skiprows=1,\n",
    "                          #names=['un','id','key']\n",
    "                         )\n",
    "'''"
   ]
  },
  {
   "cell_type": "code",
   "execution_count": 5,
   "metadata": {
    "collapsed": true
   },
   "outputs": [],
   "source": [
    "credentials = pd.read_csv('/home/centos/certificates/credentials.csv')"
   ]
  },
  {
   "cell_type": "code",
   "execution_count": 6,
   "metadata": {
    "collapsed": false
   },
   "outputs": [],
   "source": [
    "aws_id = credentials['Access Key Id'][0]\n",
    "#aws_id"
   ]
  },
  {
   "cell_type": "code",
   "execution_count": 7,
   "metadata": {
    "collapsed": false
   },
   "outputs": [],
   "source": [
    "aws_key = credentials['Secret Access Key'][0]\n",
    "#aws_key"
   ]
  },
  {
   "cell_type": "code",
   "execution_count": 8,
   "metadata": {
    "collapsed": false
   },
   "outputs": [],
   "source": [
    "#load S3\n",
    "s3conn = S3Connection( aws_id , aws_key )\n",
    "#s3conn = S3Connection?"
   ]
  },
  {
   "cell_type": "code",
   "execution_count": 9,
   "metadata": {
    "collapsed": true
   },
   "outputs": [],
   "source": [
    "#s3conn.get_bucket?"
   ]
  },
  {
   "cell_type": "code",
   "execution_count": 10,
   "metadata": {
    "collapsed": true
   },
   "outputs": [],
   "source": [
    "bucket = s3conn.get_bucket('avs-kaggle-data')"
   ]
  },
  {
   "cell_type": "markdown",
   "metadata": {},
   "source": [
    "#### Load 'offers_df'\n",
    "This code works ==> this technique will work with new, larger datasets on powerful EC2 instance"
   ]
  },
  {
   "cell_type": "code",
   "execution_count": 11,
   "metadata": {
    "collapsed": false
   },
   "outputs": [
    {
     "data": {
      "text/plain": [
       "1"
      ]
     },
     "execution_count": 11,
     "metadata": {},
     "output_type": "execute_result"
    }
   ],
   "source": [
    "offers_keys = bucket.get_all_keys(prefix='offers')\n",
    "len( offers_keys)"
   ]
  },
  {
   "cell_type": "code",
   "execution_count": 12,
   "metadata": {
    "collapsed": true
   },
   "outputs": [],
   "source": [
    "offers_keys[0].get_contents_to_filename('offers.csv')"
   ]
  },
  {
   "cell_type": "code",
   "execution_count": 13,
   "metadata": {
    "collapsed": false
   },
   "outputs": [
    {
     "data": {
      "text/html": [
       "<div style=\"max-height:1000px;max-width:1500px;overflow:auto;\">\n",
       "<table border=\"1\" class=\"dataframe\">\n",
       "  <thead>\n",
       "    <tr style=\"text-align: right;\">\n",
       "      <th></th>\n",
       "      <th>offer</th>\n",
       "      <th>category</th>\n",
       "      <th>quantity</th>\n",
       "      <th>company</th>\n",
       "      <th>offervalue</th>\n",
       "      <th>brand</th>\n",
       "    </tr>\n",
       "  </thead>\n",
       "  <tbody>\n",
       "    <tr>\n",
       "      <th>0</th>\n",
       "      <td> 1190530</td>\n",
       "      <td> 9115</td>\n",
       "      <td> 1</td>\n",
       "      <td> 108500080</td>\n",
       "      <td> 5.00</td>\n",
       "      <td> 93904</td>\n",
       "    </tr>\n",
       "    <tr>\n",
       "      <th>1</th>\n",
       "      <td> 1194044</td>\n",
       "      <td> 9909</td>\n",
       "      <td> 1</td>\n",
       "      <td> 107127979</td>\n",
       "      <td> 1.00</td>\n",
       "      <td>  6732</td>\n",
       "    </tr>\n",
       "    <tr>\n",
       "      <th>2</th>\n",
       "      <td> 1197502</td>\n",
       "      <td> 3203</td>\n",
       "      <td> 1</td>\n",
       "      <td> 106414464</td>\n",
       "      <td> 0.75</td>\n",
       "      <td> 13474</td>\n",
       "    </tr>\n",
       "  </tbody>\n",
       "</table>\n",
       "</div>"
      ],
      "text/plain": [
       "     offer  category  quantity    company  offervalue  brand\n",
       "0  1190530      9115         1  108500080        5.00  93904\n",
       "1  1194044      9909         1  107127979        1.00   6732\n",
       "2  1197502      3203         1  106414464        0.75  13474"
      ]
     },
     "execution_count": 13,
     "metadata": {},
     "output_type": "execute_result"
    }
   ],
   "source": [
    "offers_df = pd.read_csv('offers.csv')\n",
    "offers_df.head(3)"
   ]
  },
  {
   "cell_type": "code",
   "execution_count": 14,
   "metadata": {
    "collapsed": false
   },
   "outputs": [
    {
     "data": {
      "text/plain": [
       "(37, 6)"
      ]
     },
     "execution_count": 14,
     "metadata": {},
     "output_type": "execute_result"
    }
   ],
   "source": [
    "offers_df.shape"
   ]
  },
  {
   "cell_type": "markdown",
   "metadata": {},
   "source": [
    "#### Load 'train_hist_df'\n",
    "This file is 6MB and timed out on laptop ==> need to launch in starcluster"
   ]
  },
  {
   "cell_type": "code",
   "execution_count": 15,
   "metadata": {
    "collapsed": false
   },
   "outputs": [
    {
     "data": {
      "text/plain": [
       "1"
      ]
     },
     "execution_count": 15,
     "metadata": {},
     "output_type": "execute_result"
    }
   ],
   "source": [
    "train_hist_keys = bucket.get_all_keys(prefix='trainHistory')\n",
    "len( train_hist_keys)"
   ]
  },
  {
   "cell_type": "code",
   "execution_count": 16,
   "metadata": {
    "collapsed": false
   },
   "outputs": [],
   "source": [
    "train_hist_keys[0].get_contents_to_filename('trainHistory.csv')"
   ]
  },
  {
   "cell_type": "code",
   "execution_count": 17,
   "metadata": {
    "collapsed": false
   },
   "outputs": [
    {
     "data": {
      "text/html": [
       "<div style=\"max-height:1000px;max-width:1500px;overflow:auto;\">\n",
       "<table border=\"1\" class=\"dataframe\">\n",
       "  <thead>\n",
       "    <tr style=\"text-align: right;\">\n",
       "      <th></th>\n",
       "      <th>id</th>\n",
       "      <th>chain</th>\n",
       "      <th>offer</th>\n",
       "      <th>market</th>\n",
       "      <th>repeattrips</th>\n",
       "      <th>repeater</th>\n",
       "      <th>offerdate</th>\n",
       "    </tr>\n",
       "  </thead>\n",
       "  <tbody>\n",
       "    <tr>\n",
       "      <th>0</th>\n",
       "      <td>    86246</td>\n",
       "      <td> 205</td>\n",
       "      <td> 1208251</td>\n",
       "      <td> 34</td>\n",
       "      <td>  5</td>\n",
       "      <td> t</td>\n",
       "      <td> 2013-04-24</td>\n",
       "    </tr>\n",
       "    <tr>\n",
       "      <th>1</th>\n",
       "      <td>    86252</td>\n",
       "      <td> 205</td>\n",
       "      <td> 1197502</td>\n",
       "      <td> 34</td>\n",
       "      <td> 16</td>\n",
       "      <td> t</td>\n",
       "      <td> 2013-03-27</td>\n",
       "    </tr>\n",
       "    <tr>\n",
       "      <th>2</th>\n",
       "      <td> 12682470</td>\n",
       "      <td>  18</td>\n",
       "      <td> 1197502</td>\n",
       "      <td> 11</td>\n",
       "      <td>  0</td>\n",
       "      <td> f</td>\n",
       "      <td> 2013-03-28</td>\n",
       "    </tr>\n",
       "  </tbody>\n",
       "</table>\n",
       "</div>"
      ],
      "text/plain": [
       "         id  chain    offer  market  repeattrips repeater   offerdate\n",
       "0     86246    205  1208251      34            5        t  2013-04-24\n",
       "1     86252    205  1197502      34           16        t  2013-03-27\n",
       "2  12682470     18  1197502      11            0        f  2013-03-28"
      ]
     },
     "execution_count": 17,
     "metadata": {},
     "output_type": "execute_result"
    }
   ],
   "source": [
    "train_hist_df = pd.read_csv('trainHistory.csv')\n",
    "train_hist_df.head(3)"
   ]
  },
  {
   "cell_type": "code",
   "execution_count": 18,
   "metadata": {
    "collapsed": false
   },
   "outputs": [
    {
     "data": {
      "text/plain": [
       "(160057, 7)"
      ]
     },
     "execution_count": 18,
     "metadata": {},
     "output_type": "execute_result"
    }
   ],
   "source": [
    "train_hist_df.shape"
   ]
  },
  {
   "cell_type": "markdown",
   "metadata": {},
   "source": [
    "#### Load 'test_hist_df'"
   ]
  },
  {
   "cell_type": "code",
   "execution_count": 35,
   "metadata": {
    "collapsed": false
   },
   "outputs": [
    {
     "data": {
      "text/plain": [
       "1"
      ]
     },
     "execution_count": 35,
     "metadata": {},
     "output_type": "execute_result"
    }
   ],
   "source": [
    "test_hist_keys = bucket.get_all_keys(prefix='testHistory')\n",
    "len( test_hist_keys)"
   ]
  },
  {
   "cell_type": "code",
   "execution_count": 37,
   "metadata": {
    "collapsed": false
   },
   "outputs": [],
   "source": [
    "test_hist_keys[0].get_contents_to_filename('testHistory.csv')"
   ]
  },
  {
   "cell_type": "code",
   "execution_count": 38,
   "metadata": {
    "collapsed": false
   },
   "outputs": [
    {
     "data": {
      "text/html": [
       "<div style=\"max-height:1000px;max-width:1500px;overflow:auto;\">\n",
       "<table border=\"1\" class=\"dataframe\">\n",
       "  <thead>\n",
       "    <tr style=\"text-align: right;\">\n",
       "      <th></th>\n",
       "      <th>id</th>\n",
       "      <th>chain</th>\n",
       "      <th>offer</th>\n",
       "      <th>market</th>\n",
       "      <th>offerdate</th>\n",
       "    </tr>\n",
       "  </thead>\n",
       "  <tbody>\n",
       "    <tr>\n",
       "      <th>0</th>\n",
       "      <td> 12262064</td>\n",
       "      <td> 95</td>\n",
       "      <td> 1219903</td>\n",
       "      <td> 39</td>\n",
       "      <td> 2013-06-27</td>\n",
       "    </tr>\n",
       "    <tr>\n",
       "      <th>1</th>\n",
       "      <td> 12277270</td>\n",
       "      <td> 95</td>\n",
       "      <td> 1221658</td>\n",
       "      <td> 39</td>\n",
       "      <td> 2013-06-23</td>\n",
       "    </tr>\n",
       "    <tr>\n",
       "      <th>2</th>\n",
       "      <td> 12332190</td>\n",
       "      <td> 95</td>\n",
       "      <td> 1213242</td>\n",
       "      <td> 39</td>\n",
       "      <td> 2013-06-15</td>\n",
       "    </tr>\n",
       "  </tbody>\n",
       "</table>\n",
       "</div>"
      ],
      "text/plain": [
       "         id  chain    offer  market   offerdate\n",
       "0  12262064     95  1219903      39  2013-06-27\n",
       "1  12277270     95  1221658      39  2013-06-23\n",
       "2  12332190     95  1213242      39  2013-06-15"
      ]
     },
     "execution_count": 38,
     "metadata": {},
     "output_type": "execute_result"
    }
   ],
   "source": [
    "test_hist_df = pd.read_csv('testHistory.csv')\n",
    "test_hist_df.head(3)"
   ]
  },
  {
   "cell_type": "code",
   "execution_count": 39,
   "metadata": {
    "collapsed": false
   },
   "outputs": [
    {
     "data": {
      "text/plain": [
       "(151484, 5)"
      ]
     },
     "execution_count": 39,
     "metadata": {},
     "output_type": "execute_result"
    }
   ],
   "source": [
    "test_hist_df.shape"
   ]
  },
  {
   "cell_type": "markdown",
   "metadata": {},
   "source": [
    "#### Load 'transactions_df'"
   ]
  },
  {
   "cell_type": "code",
   "execution_count": 35,
   "metadata": {
    "collapsed": false
   },
   "outputs": [
    {
     "data": {
      "text/plain": [
       "1"
      ]
     },
     "execution_count": 35,
     "metadata": {},
     "output_type": "execute_result"
    }
   ],
   "source": [
    "trans_keys = bucket.get_all_keys(prefix='transactions.csv')\n",
    "len( trans_keys)"
   ]
  },
  {
   "cell_type": "code",
   "execution_count": 36,
   "metadata": {
    "collapsed": false
   },
   "outputs": [
    {
     "data": {
      "text/plain": [
       "[<Key: avs-kaggle-data,transactions.csv.gz>]"
      ]
     },
     "execution_count": 36,
     "metadata": {},
     "output_type": "execute_result"
    }
   ],
   "source": [
    "trans_keys"
   ]
  },
  {
   "cell_type": "code",
   "execution_count": 37,
   "metadata": {
    "collapsed": false
   },
   "outputs": [],
   "source": [
    "#note: this can take a few minutes\n",
    "trans_keys[0].get_contents_to_filename('transactions.csv.gz')"
   ]
  },
  {
   "cell_type": "code",
   "execution_count": 38,
   "metadata": {
    "collapsed": false
   },
   "outputs": [
    {
     "data": {
      "text/plain": [
       "[<Key: avs-kaggle-data,transactions.csv.gz>]"
      ]
     },
     "execution_count": 38,
     "metadata": {},
     "output_type": "execute_result"
    }
   ],
   "source": [
    "trans_keys"
   ]
  },
  {
   "cell_type": "code",
   "execution_count": 1,
   "metadata": {
    "collapsed": false
   },
   "outputs": [
    {
     "ename": "MemoryError",
     "evalue": "",
     "output_type": "error",
     "traceback": [
      "\u001b[1;31m---------------------------------------------------------------------------\u001b[0m",
      "\u001b[1;31mMemoryError\u001b[0m                               Traceback (most recent call last)",
      "\u001b[1;32m<ipython-input-1-5df25388fd62>\u001b[0m in \u001b[0;36m<module>\u001b[1;34m()\u001b[0m\n\u001b[0;32m      1\u001b[0m \u001b[1;32mimport\u001b[0m \u001b[0mpandas\u001b[0m \u001b[1;32mas\u001b[0m \u001b[0mpd\u001b[0m\u001b[1;33m\u001b[0m\u001b[0m\n\u001b[1;32m----> 2\u001b[1;33m \u001b[0mtrans_df\u001b[0m \u001b[1;33m=\u001b[0m \u001b[0mpd\u001b[0m\u001b[1;33m.\u001b[0m\u001b[0mread_csv\u001b[0m\u001b[1;33m(\u001b[0m\u001b[1;34m'transactions.csv.gz'\u001b[0m\u001b[1;33m,\u001b[0m \u001b[0mcompression\u001b[0m\u001b[1;33m=\u001b[0m\u001b[1;34m'gzip'\u001b[0m\u001b[1;33m,\u001b[0m \u001b[0mlow_memory\u001b[0m\u001b[1;33m=\u001b[0m\u001b[0mTrue\u001b[0m\u001b[1;33m)\u001b[0m\u001b[1;33m\u001b[0m\u001b[0m\n\u001b[0m\u001b[0;32m      3\u001b[0m \u001b[0mtrans_df\u001b[0m\u001b[1;33m.\u001b[0m\u001b[0mhead\u001b[0m\u001b[1;33m(\u001b[0m\u001b[1;36m3\u001b[0m\u001b[1;33m)\u001b[0m\u001b[1;33m\u001b[0m\u001b[0m\n\u001b[0;32m      4\u001b[0m \u001b[1;33m\u001b[0m\u001b[0m\n\u001b[0;32m      5\u001b[0m \u001b[1;31m#memory error, even with r3.2xlarge (60gb RAM)\u001b[0m\u001b[1;33m\u001b[0m\u001b[1;33m\u001b[0m\u001b[0m\n",
      "\u001b[1;32m/home/centos/miniconda/lib/python2.7/site-packages/pandas/io/parsers.pyc\u001b[0m in \u001b[0;36mparser_f\u001b[1;34m(filepath_or_buffer, sep, dialect, compression, doublequote, escapechar, quotechar, quoting, skipinitialspace, lineterminator, header, index_col, names, prefix, skiprows, skipfooter, skip_footer, na_values, na_fvalues, true_values, false_values, delimiter, converters, dtype, usecols, engine, delim_whitespace, as_recarray, na_filter, compact_ints, use_unsigned, low_memory, buffer_lines, warn_bad_lines, error_bad_lines, keep_default_na, thousands, comment, decimal, parse_dates, keep_date_col, dayfirst, date_parser, memory_map, float_precision, nrows, iterator, chunksize, verbose, encoding, squeeze, mangle_dupe_cols, tupleize_cols, infer_datetime_format, skip_blank_lines)\u001b[0m\n\u001b[0;32m    463\u001b[0m                     skip_blank_lines=skip_blank_lines)\n\u001b[0;32m    464\u001b[0m \u001b[1;33m\u001b[0m\u001b[0m\n\u001b[1;32m--> 465\u001b[1;33m         \u001b[1;32mreturn\u001b[0m \u001b[0m_read\u001b[0m\u001b[1;33m(\u001b[0m\u001b[0mfilepath_or_buffer\u001b[0m\u001b[1;33m,\u001b[0m \u001b[0mkwds\u001b[0m\u001b[1;33m)\u001b[0m\u001b[1;33m\u001b[0m\u001b[0m\n\u001b[0m\u001b[0;32m    466\u001b[0m \u001b[1;33m\u001b[0m\u001b[0m\n\u001b[0;32m    467\u001b[0m     \u001b[0mparser_f\u001b[0m\u001b[1;33m.\u001b[0m\u001b[0m__name__\u001b[0m \u001b[1;33m=\u001b[0m \u001b[0mname\u001b[0m\u001b[1;33m\u001b[0m\u001b[0m\n",
      "\u001b[1;32m/home/centos/miniconda/lib/python2.7/site-packages/pandas/io/parsers.pyc\u001b[0m in \u001b[0;36m_read\u001b[1;34m(filepath_or_buffer, kwds)\u001b[0m\n\u001b[0;32m    249\u001b[0m         \u001b[1;32mreturn\u001b[0m \u001b[0mparser\u001b[0m\u001b[1;33m\u001b[0m\u001b[0m\n\u001b[0;32m    250\u001b[0m \u001b[1;33m\u001b[0m\u001b[0m\n\u001b[1;32m--> 251\u001b[1;33m     \u001b[1;32mreturn\u001b[0m \u001b[0mparser\u001b[0m\u001b[1;33m.\u001b[0m\u001b[0mread\u001b[0m\u001b[1;33m(\u001b[0m\u001b[1;33m)\u001b[0m\u001b[1;33m\u001b[0m\u001b[0m\n\u001b[0m\u001b[0;32m    252\u001b[0m \u001b[1;33m\u001b[0m\u001b[0m\n\u001b[0;32m    253\u001b[0m _parser_defaults = {\n",
      "\u001b[1;32m/home/centos/miniconda/lib/python2.7/site-packages/pandas/io/parsers.pyc\u001b[0m in \u001b[0;36mread\u001b[1;34m(self, nrows)\u001b[0m\n\u001b[0;32m    716\u001b[0m         \u001b[0mindex\u001b[0m\u001b[1;33m,\u001b[0m \u001b[0mcolumns\u001b[0m\u001b[1;33m,\u001b[0m \u001b[0mcol_dict\u001b[0m \u001b[1;33m=\u001b[0m \u001b[0mself\u001b[0m\u001b[1;33m.\u001b[0m\u001b[0m_create_index\u001b[0m\u001b[1;33m(\u001b[0m\u001b[0mret\u001b[0m\u001b[1;33m)\u001b[0m\u001b[1;33m\u001b[0m\u001b[0m\n\u001b[0;32m    717\u001b[0m \u001b[1;33m\u001b[0m\u001b[0m\n\u001b[1;32m--> 718\u001b[1;33m         \u001b[0mdf\u001b[0m \u001b[1;33m=\u001b[0m \u001b[0mDataFrame\u001b[0m\u001b[1;33m(\u001b[0m\u001b[0mcol_dict\u001b[0m\u001b[1;33m,\u001b[0m \u001b[0mcolumns\u001b[0m\u001b[1;33m=\u001b[0m\u001b[0mcolumns\u001b[0m\u001b[1;33m,\u001b[0m \u001b[0mindex\u001b[0m\u001b[1;33m=\u001b[0m\u001b[0mindex\u001b[0m\u001b[1;33m)\u001b[0m\u001b[1;33m\u001b[0m\u001b[0m\n\u001b[0m\u001b[0;32m    719\u001b[0m \u001b[1;33m\u001b[0m\u001b[0m\n\u001b[0;32m    720\u001b[0m         \u001b[1;32mif\u001b[0m \u001b[0mself\u001b[0m\u001b[1;33m.\u001b[0m\u001b[0msqueeze\u001b[0m \u001b[1;32mand\u001b[0m \u001b[0mlen\u001b[0m\u001b[1;33m(\u001b[0m\u001b[0mdf\u001b[0m\u001b[1;33m.\u001b[0m\u001b[0mcolumns\u001b[0m\u001b[1;33m)\u001b[0m \u001b[1;33m==\u001b[0m \u001b[1;36m1\u001b[0m\u001b[1;33m:\u001b[0m\u001b[1;33m\u001b[0m\u001b[0m\n",
      "\u001b[1;32m/home/centos/miniconda/lib/python2.7/site-packages/pandas/core/frame.pyc\u001b[0m in \u001b[0;36m__init__\u001b[1;34m(self, data, index, columns, dtype, copy)\u001b[0m\n\u001b[0;32m    206\u001b[0m                                  dtype=dtype, copy=copy)\n\u001b[0;32m    207\u001b[0m         \u001b[1;32melif\u001b[0m \u001b[0misinstance\u001b[0m\u001b[1;33m(\u001b[0m\u001b[0mdata\u001b[0m\u001b[1;33m,\u001b[0m \u001b[0mdict\u001b[0m\u001b[1;33m)\u001b[0m\u001b[1;33m:\u001b[0m\u001b[1;33m\u001b[0m\u001b[0m\n\u001b[1;32m--> 208\u001b[1;33m             \u001b[0mmgr\u001b[0m \u001b[1;33m=\u001b[0m \u001b[0mself\u001b[0m\u001b[1;33m.\u001b[0m\u001b[0m_init_dict\u001b[0m\u001b[1;33m(\u001b[0m\u001b[0mdata\u001b[0m\u001b[1;33m,\u001b[0m \u001b[0mindex\u001b[0m\u001b[1;33m,\u001b[0m \u001b[0mcolumns\u001b[0m\u001b[1;33m,\u001b[0m \u001b[0mdtype\u001b[0m\u001b[1;33m=\u001b[0m\u001b[0mdtype\u001b[0m\u001b[1;33m)\u001b[0m\u001b[1;33m\u001b[0m\u001b[0m\n\u001b[0m\u001b[0;32m    209\u001b[0m         \u001b[1;32melif\u001b[0m \u001b[0misinstance\u001b[0m\u001b[1;33m(\u001b[0m\u001b[0mdata\u001b[0m\u001b[1;33m,\u001b[0m \u001b[0mma\u001b[0m\u001b[1;33m.\u001b[0m\u001b[0mMaskedArray\u001b[0m\u001b[1;33m)\u001b[0m\u001b[1;33m:\u001b[0m\u001b[1;33m\u001b[0m\u001b[0m\n\u001b[0;32m    210\u001b[0m             \u001b[1;32mimport\u001b[0m \u001b[0mnumpy\u001b[0m\u001b[1;33m.\u001b[0m\u001b[0mma\u001b[0m\u001b[1;33m.\u001b[0m\u001b[0mmrecords\u001b[0m \u001b[1;32mas\u001b[0m \u001b[0mmrecords\u001b[0m\u001b[1;33m\u001b[0m\u001b[0m\n",
      "\u001b[1;32m/home/centos/miniconda/lib/python2.7/site-packages/pandas/core/frame.pyc\u001b[0m in \u001b[0;36m_init_dict\u001b[1;34m(self, data, index, columns, dtype)\u001b[0m\n\u001b[0;32m    334\u001b[0m \u001b[1;33m\u001b[0m\u001b[0m\n\u001b[0;32m    335\u001b[0m         return _arrays_to_mgr(arrays, data_names, index, columns,\n\u001b[1;32m--> 336\u001b[1;33m                               dtype=dtype)\n\u001b[0m\u001b[0;32m    337\u001b[0m \u001b[1;33m\u001b[0m\u001b[0m\n\u001b[0;32m    338\u001b[0m     def _init_ndarray(self, values, index, columns, dtype=None,\n",
      "\u001b[1;32m/home/centos/miniconda/lib/python2.7/site-packages/pandas/core/frame.pyc\u001b[0m in \u001b[0;36m_arrays_to_mgr\u001b[1;34m(arrays, arr_names, index, columns, dtype)\u001b[0m\n\u001b[0;32m   4625\u001b[0m     \u001b[0maxes\u001b[0m \u001b[1;33m=\u001b[0m \u001b[1;33m[\u001b[0m\u001b[0m_ensure_index\u001b[0m\u001b[1;33m(\u001b[0m\u001b[0mcolumns\u001b[0m\u001b[1;33m)\u001b[0m\u001b[1;33m,\u001b[0m \u001b[0m_ensure_index\u001b[0m\u001b[1;33m(\u001b[0m\u001b[0mindex\u001b[0m\u001b[1;33m)\u001b[0m\u001b[1;33m]\u001b[0m\u001b[1;33m\u001b[0m\u001b[0m\n\u001b[0;32m   4626\u001b[0m \u001b[1;33m\u001b[0m\u001b[0m\n\u001b[1;32m-> 4627\u001b[1;33m     \u001b[1;32mreturn\u001b[0m \u001b[0mcreate_block_manager_from_arrays\u001b[0m\u001b[1;33m(\u001b[0m\u001b[0marrays\u001b[0m\u001b[1;33m,\u001b[0m \u001b[0marr_names\u001b[0m\u001b[1;33m,\u001b[0m \u001b[0maxes\u001b[0m\u001b[1;33m)\u001b[0m\u001b[1;33m\u001b[0m\u001b[0m\n\u001b[0m\u001b[0;32m   4628\u001b[0m \u001b[1;33m\u001b[0m\u001b[0m\n\u001b[0;32m   4629\u001b[0m \u001b[1;33m\u001b[0m\u001b[0m\n",
      "\u001b[1;32m/home/centos/miniconda/lib/python2.7/site-packages/pandas/core/internals.pyc\u001b[0m in \u001b[0;36mcreate_block_manager_from_arrays\u001b[1;34m(arrays, names, axes)\u001b[0m\n\u001b[0;32m   3537\u001b[0m \u001b[1;32mdef\u001b[0m \u001b[0mcreate_block_manager_from_arrays\u001b[0m\u001b[1;33m(\u001b[0m\u001b[0marrays\u001b[0m\u001b[1;33m,\u001b[0m \u001b[0mnames\u001b[0m\u001b[1;33m,\u001b[0m \u001b[0maxes\u001b[0m\u001b[1;33m)\u001b[0m\u001b[1;33m:\u001b[0m\u001b[1;33m\u001b[0m\u001b[0m\n\u001b[0;32m   3538\u001b[0m     \u001b[1;32mtry\u001b[0m\u001b[1;33m:\u001b[0m\u001b[1;33m\u001b[0m\u001b[0m\n\u001b[1;32m-> 3539\u001b[1;33m         \u001b[0mblocks\u001b[0m \u001b[1;33m=\u001b[0m \u001b[0mform_blocks\u001b[0m\u001b[1;33m(\u001b[0m\u001b[0marrays\u001b[0m\u001b[1;33m,\u001b[0m \u001b[0mnames\u001b[0m\u001b[1;33m,\u001b[0m \u001b[0maxes\u001b[0m\u001b[1;33m)\u001b[0m\u001b[1;33m\u001b[0m\u001b[0m\n\u001b[0m\u001b[0;32m   3540\u001b[0m         \u001b[0mmgr\u001b[0m \u001b[1;33m=\u001b[0m \u001b[0mBlockManager\u001b[0m\u001b[1;33m(\u001b[0m\u001b[0mblocks\u001b[0m\u001b[1;33m,\u001b[0m \u001b[0maxes\u001b[0m\u001b[1;33m)\u001b[0m\u001b[1;33m\u001b[0m\u001b[0m\n\u001b[0;32m   3541\u001b[0m         \u001b[0mmgr\u001b[0m\u001b[1;33m.\u001b[0m\u001b[0m_consolidate_inplace\u001b[0m\u001b[1;33m(\u001b[0m\u001b[1;33m)\u001b[0m\u001b[1;33m\u001b[0m\u001b[0m\n",
      "\u001b[1;32m/home/centos/miniconda/lib/python2.7/site-packages/pandas/core/internals.pyc\u001b[0m in \u001b[0;36mform_blocks\u001b[1;34m(arrays, names, axes)\u001b[0m\n\u001b[0;32m   3603\u001b[0m     \u001b[0mblocks\u001b[0m \u001b[1;33m=\u001b[0m \u001b[1;33m[\u001b[0m\u001b[1;33m]\u001b[0m\u001b[1;33m\u001b[0m\u001b[0m\n\u001b[0;32m   3604\u001b[0m     \u001b[1;32mif\u001b[0m \u001b[0mlen\u001b[0m\u001b[1;33m(\u001b[0m\u001b[0mfloat_items\u001b[0m\u001b[1;33m)\u001b[0m\u001b[1;33m:\u001b[0m\u001b[1;33m\u001b[0m\u001b[0m\n\u001b[1;32m-> 3605\u001b[1;33m         \u001b[0mfloat_blocks\u001b[0m \u001b[1;33m=\u001b[0m \u001b[0m_multi_blockify\u001b[0m\u001b[1;33m(\u001b[0m\u001b[0mfloat_items\u001b[0m\u001b[1;33m)\u001b[0m\u001b[1;33m\u001b[0m\u001b[0m\n\u001b[0m\u001b[0;32m   3606\u001b[0m         \u001b[0mblocks\u001b[0m\u001b[1;33m.\u001b[0m\u001b[0mextend\u001b[0m\u001b[1;33m(\u001b[0m\u001b[0mfloat_blocks\u001b[0m\u001b[1;33m)\u001b[0m\u001b[1;33m\u001b[0m\u001b[0m\n\u001b[0;32m   3607\u001b[0m \u001b[1;33m\u001b[0m\u001b[0m\n",
      "\u001b[1;32m/home/centos/miniconda/lib/python2.7/site-packages/pandas/core/internals.pyc\u001b[0m in \u001b[0;36m_multi_blockify\u001b[1;34m(tuples, dtype)\u001b[0m\n\u001b[0;32m   3679\u001b[0m \u001b[1;33m\u001b[0m\u001b[0m\n\u001b[0;32m   3680\u001b[0m         values, placement = _stack_arrays(\n\u001b[1;32m-> 3681\u001b[1;33m             list(tup_block), dtype)\n\u001b[0m\u001b[0;32m   3682\u001b[0m \u001b[1;33m\u001b[0m\u001b[0m\n\u001b[0;32m   3683\u001b[0m         \u001b[0mblock\u001b[0m \u001b[1;33m=\u001b[0m \u001b[0mmake_block\u001b[0m\u001b[1;33m(\u001b[0m\u001b[0mvalues\u001b[0m\u001b[1;33m,\u001b[0m \u001b[0mplacement\u001b[0m\u001b[1;33m=\u001b[0m\u001b[0mplacement\u001b[0m\u001b[1;33m)\u001b[0m\u001b[1;33m\u001b[0m\u001b[0m\n",
      "\u001b[1;32m/home/centos/miniconda/lib/python2.7/site-packages/pandas/core/internals.pyc\u001b[0m in \u001b[0;36m_stack_arrays\u001b[1;34m(tuples, dtype)\u001b[0m\n\u001b[0;32m   3723\u001b[0m     \u001b[0mshape\u001b[0m \u001b[1;33m=\u001b[0m \u001b[1;33m(\u001b[0m\u001b[0mlen\u001b[0m\u001b[1;33m(\u001b[0m\u001b[0marrays\u001b[0m\u001b[1;33m)\u001b[0m\u001b[1;33m,\u001b[0m\u001b[1;33m)\u001b[0m \u001b[1;33m+\u001b[0m \u001b[0m_shape_compat\u001b[0m\u001b[1;33m(\u001b[0m\u001b[0mfirst\u001b[0m\u001b[1;33m)\u001b[0m\u001b[1;33m\u001b[0m\u001b[0m\n\u001b[0;32m   3724\u001b[0m \u001b[1;33m\u001b[0m\u001b[0m\n\u001b[1;32m-> 3725\u001b[1;33m     \u001b[0mstacked\u001b[0m \u001b[1;33m=\u001b[0m \u001b[0mnp\u001b[0m\u001b[1;33m.\u001b[0m\u001b[0mempty\u001b[0m\u001b[1;33m(\u001b[0m\u001b[0mshape\u001b[0m\u001b[1;33m,\u001b[0m \u001b[0mdtype\u001b[0m\u001b[1;33m=\u001b[0m\u001b[0mdtype\u001b[0m\u001b[1;33m)\u001b[0m\u001b[1;33m\u001b[0m\u001b[0m\n\u001b[0m\u001b[0;32m   3726\u001b[0m     \u001b[1;32mfor\u001b[0m \u001b[0mi\u001b[0m\u001b[1;33m,\u001b[0m \u001b[0marr\u001b[0m \u001b[1;32min\u001b[0m \u001b[0menumerate\u001b[0m\u001b[1;33m(\u001b[0m\u001b[0marrays\u001b[0m\u001b[1;33m)\u001b[0m\u001b[1;33m:\u001b[0m\u001b[1;33m\u001b[0m\u001b[0m\n\u001b[0;32m   3727\u001b[0m         \u001b[0mstacked\u001b[0m\u001b[1;33m[\u001b[0m\u001b[0mi\u001b[0m\u001b[1;33m]\u001b[0m \u001b[1;33m=\u001b[0m \u001b[0m_asarray_compat\u001b[0m\u001b[1;33m(\u001b[0m\u001b[0marr\u001b[0m\u001b[1;33m)\u001b[0m\u001b[1;33m\u001b[0m\u001b[0m\n",
      "\u001b[1;31mMemoryError\u001b[0m: "
     ]
    }
   ],
   "source": [
    "import pandas as pd\n",
    "trans_df = pd.read_csv('transactions.csv.gz', compression='gzip', low_memory=True) \n",
    "trans_df.head(3)\n",
    "\n",
    "#memory error, even with r3.2xlarge (60gb RAM)"
   ]
  },
  {
   "cell_type": "code",
   "execution_count": null,
   "metadata": {
    "collapsed": true
   },
   "outputs": [],
   "source": [
    "trans_df.shape"
   ]
  },
  {
   "cell_type": "code",
   "execution_count": 41,
   "metadata": {
    "collapsed": true
   },
   "outputs": [],
   "source": [
    "f = gzip.open('transactions.csv.gz', 'rb')"
   ]
  },
  {
   "cell_type": "code",
   "execution_count": 42,
   "metadata": {
    "collapsed": false
   },
   "outputs": [
    {
     "ename": "MemoryError",
     "evalue": "",
     "output_type": "error",
     "traceback": [
      "\u001b[1;31m---------------------------------------------------------------------------\u001b[0m",
      "\u001b[1;31mMemoryError\u001b[0m                               Traceback (most recent call last)",
      "\u001b[1;32m<ipython-input-42-9bf7782c67c9>\u001b[0m in \u001b[0;36m<module>\u001b[1;34m()\u001b[0m\n\u001b[1;32m----> 1\u001b[1;33m \u001b[0mfile_content\u001b[0m \u001b[1;33m=\u001b[0m \u001b[0mf\u001b[0m\u001b[1;33m.\u001b[0m\u001b[0mread\u001b[0m\u001b[1;33m(\u001b[0m\u001b[1;33m)\u001b[0m\u001b[1;33m\u001b[0m\u001b[0m\n\u001b[0m",
      "\u001b[1;32m/home/centos/miniconda/lib/python2.7/gzip.pyc\u001b[0m in \u001b[0;36mread\u001b[1;34m(self, size)\u001b[0m\n\u001b[0;32m    259\u001b[0m             \u001b[1;32mtry\u001b[0m\u001b[1;33m:\u001b[0m\u001b[1;33m\u001b[0m\u001b[0m\n\u001b[0;32m    260\u001b[0m                 \u001b[1;32mwhile\u001b[0m \u001b[0mTrue\u001b[0m\u001b[1;33m:\u001b[0m\u001b[1;33m\u001b[0m\u001b[0m\n\u001b[1;32m--> 261\u001b[1;33m                     \u001b[0mself\u001b[0m\u001b[1;33m.\u001b[0m\u001b[0m_read\u001b[0m\u001b[1;33m(\u001b[0m\u001b[0mreadsize\u001b[0m\u001b[1;33m)\u001b[0m\u001b[1;33m\u001b[0m\u001b[0m\n\u001b[0m\u001b[0;32m    262\u001b[0m                     \u001b[0mreadsize\u001b[0m \u001b[1;33m=\u001b[0m \u001b[0mmin\u001b[0m\u001b[1;33m(\u001b[0m\u001b[0mself\u001b[0m\u001b[1;33m.\u001b[0m\u001b[0mmax_read_chunk\u001b[0m\u001b[1;33m,\u001b[0m \u001b[0mreadsize\u001b[0m \u001b[1;33m*\u001b[0m \u001b[1;36m2\u001b[0m\u001b[1;33m)\u001b[0m\u001b[1;33m\u001b[0m\u001b[0m\n\u001b[0;32m    263\u001b[0m             \u001b[1;32mexcept\u001b[0m \u001b[0mEOFError\u001b[0m\u001b[1;33m:\u001b[0m\u001b[1;33m\u001b[0m\u001b[0m\n",
      "\u001b[1;32m/home/centos/miniconda/lib/python2.7/gzip.pyc\u001b[0m in \u001b[0;36m_read\u001b[1;34m(self, size)\u001b[0m\n\u001b[0;32m    318\u001b[0m \u001b[1;33m\u001b[0m\u001b[0m\n\u001b[0;32m    319\u001b[0m         \u001b[0muncompress\u001b[0m \u001b[1;33m=\u001b[0m \u001b[0mself\u001b[0m\u001b[1;33m.\u001b[0m\u001b[0mdecompress\u001b[0m\u001b[1;33m.\u001b[0m\u001b[0mdecompress\u001b[0m\u001b[1;33m(\u001b[0m\u001b[0mbuf\u001b[0m\u001b[1;33m)\u001b[0m\u001b[1;33m\u001b[0m\u001b[0m\n\u001b[1;32m--> 320\u001b[1;33m         \u001b[0mself\u001b[0m\u001b[1;33m.\u001b[0m\u001b[0m_add_read_data\u001b[0m\u001b[1;33m(\u001b[0m \u001b[0muncompress\u001b[0m \u001b[1;33m)\u001b[0m\u001b[1;33m\u001b[0m\u001b[0m\n\u001b[0m\u001b[0;32m    321\u001b[0m \u001b[1;33m\u001b[0m\u001b[0m\n\u001b[0;32m    322\u001b[0m         \u001b[1;32mif\u001b[0m \u001b[0mself\u001b[0m\u001b[1;33m.\u001b[0m\u001b[0mdecompress\u001b[0m\u001b[1;33m.\u001b[0m\u001b[0munused_data\u001b[0m \u001b[1;33m!=\u001b[0m \u001b[1;34m\"\"\u001b[0m\u001b[1;33m:\u001b[0m\u001b[1;33m\u001b[0m\u001b[0m\n",
      "\u001b[1;32m/home/centos/miniconda/lib/python2.7/gzip.pyc\u001b[0m in \u001b[0;36m_add_read_data\u001b[1;34m(self, data)\u001b[0m\n\u001b[0;32m    336\u001b[0m         \u001b[0mself\u001b[0m\u001b[1;33m.\u001b[0m\u001b[0mcrc\u001b[0m \u001b[1;33m=\u001b[0m \u001b[0mzlib\u001b[0m\u001b[1;33m.\u001b[0m\u001b[0mcrc32\u001b[0m\u001b[1;33m(\u001b[0m\u001b[0mdata\u001b[0m\u001b[1;33m,\u001b[0m \u001b[0mself\u001b[0m\u001b[1;33m.\u001b[0m\u001b[0mcrc\u001b[0m\u001b[1;33m)\u001b[0m \u001b[1;33m&\u001b[0m \u001b[1;36m0xffffffffL\u001b[0m\u001b[1;33m\u001b[0m\u001b[0m\n\u001b[0;32m    337\u001b[0m         \u001b[0moffset\u001b[0m \u001b[1;33m=\u001b[0m \u001b[0mself\u001b[0m\u001b[1;33m.\u001b[0m\u001b[0moffset\u001b[0m \u001b[1;33m-\u001b[0m \u001b[0mself\u001b[0m\u001b[1;33m.\u001b[0m\u001b[0mextrastart\u001b[0m\u001b[1;33m\u001b[0m\u001b[0m\n\u001b[1;32m--> 338\u001b[1;33m         \u001b[0mself\u001b[0m\u001b[1;33m.\u001b[0m\u001b[0mextrabuf\u001b[0m \u001b[1;33m=\u001b[0m \u001b[0mself\u001b[0m\u001b[1;33m.\u001b[0m\u001b[0mextrabuf\u001b[0m\u001b[1;33m[\u001b[0m\u001b[0moffset\u001b[0m\u001b[1;33m:\u001b[0m\u001b[1;33m]\u001b[0m \u001b[1;33m+\u001b[0m \u001b[0mdata\u001b[0m\u001b[1;33m\u001b[0m\u001b[0m\n\u001b[0m\u001b[0;32m    339\u001b[0m         \u001b[0mself\u001b[0m\u001b[1;33m.\u001b[0m\u001b[0mextrasize\u001b[0m \u001b[1;33m=\u001b[0m \u001b[0mself\u001b[0m\u001b[1;33m.\u001b[0m\u001b[0mextrasize\u001b[0m \u001b[1;33m+\u001b[0m \u001b[0mlen\u001b[0m\u001b[1;33m(\u001b[0m\u001b[0mdata\u001b[0m\u001b[1;33m)\u001b[0m\u001b[1;33m\u001b[0m\u001b[0m\n\u001b[0;32m    340\u001b[0m         \u001b[0mself\u001b[0m\u001b[1;33m.\u001b[0m\u001b[0mextrastart\u001b[0m \u001b[1;33m=\u001b[0m \u001b[0mself\u001b[0m\u001b[1;33m.\u001b[0m\u001b[0moffset\u001b[0m\u001b[1;33m\u001b[0m\u001b[0m\n",
      "\u001b[1;31mMemoryError\u001b[0m: "
     ]
    }
   ],
   "source": [
    "file_content = f.read()"
   ]
  },
  {
   "cell_type": "code",
   "execution_count": null,
   "metadata": {
    "collapsed": true
   },
   "outputs": [],
   "source": []
  },
  {
   "cell_type": "code",
   "execution_count": 40,
   "metadata": {
    "collapsed": true
   },
   "outputs": [],
   "source": [
    "import gzip\n",
    "#https://docs.python.org/2/library/gzip.html"
   ]
  },
  {
   "cell_type": "markdown",
   "metadata": {},
   "source": [
    "#### Reduce 'transactions_df to only transaction where category included in (at least 1) offer (1.6gb)\n",
    "http://www.kaggle.com/c/acquire-valued-shoppers-challenge/forums/t/7666/getting-started-data-reduction/"
   ]
  },
  {
   "cell_type": "code",
   "execution_count": null,
   "metadata": {
    "collapsed": true
   },
   "outputs": [],
   "source": []
  },
  {
   "cell_type": "code",
   "execution_count": null,
   "metadata": {
    "collapsed": true
   },
   "outputs": [],
   "source": []
  },
  {
   "cell_type": "markdown",
   "metadata": {},
   "source": [
    "#### Load 'transactions_sample_df'\n",
    "transactions_sample is a reduced set of customers (all transactions for each customer): <br/>\n",
    "https://www.kaggle.com/c/acquire-valued-shoppers-challenge/forums/t/7659/sample-of-transaction-data/41783"
   ]
  },
  {
   "cell_type": "code",
   "execution_count": 19,
   "metadata": {
    "collapsed": false
   },
   "outputs": [
    {
     "data": {
      "text/plain": [
       "1"
      ]
     },
     "execution_count": 19,
     "metadata": {},
     "output_type": "execute_result"
    }
   ],
   "source": [
    "trans_sample_keys = bucket.get_all_keys(prefix='transactions-sample')\n",
    "len( trans_sample_keys)"
   ]
  },
  {
   "cell_type": "code",
   "execution_count": 20,
   "metadata": {
    "collapsed": true
   },
   "outputs": [],
   "source": [
    "trans_sample_keys[0].get_contents_to_filename('transactions-sample.csv')"
   ]
  },
  {
   "cell_type": "code",
   "execution_count": 21,
   "metadata": {
    "collapsed": false
   },
   "outputs": [
    {
     "data": {
      "text/html": [
       "<div style=\"max-height:1000px;max-width:1500px;overflow:auto;\">\n",
       "<table border=\"1\" class=\"dataframe\">\n",
       "  <thead>\n",
       "    <tr style=\"text-align: right;\">\n",
       "      <th></th>\n",
       "      <th>id</th>\n",
       "      <th>chain</th>\n",
       "      <th>dept</th>\n",
       "      <th>category</th>\n",
       "      <th>company</th>\n",
       "      <th>brand</th>\n",
       "      <th>date</th>\n",
       "      <th>productsize</th>\n",
       "      <th>productmeasure</th>\n",
       "      <th>purchasequantity</th>\n",
       "      <th>purchaseamount</th>\n",
       "    </tr>\n",
       "  </thead>\n",
       "  <tbody>\n",
       "    <tr>\n",
       "      <th>0</th>\n",
       "      <td> 86246</td>\n",
       "      <td> 205</td>\n",
       "      <td>  7</td>\n",
       "      <td>  707</td>\n",
       "      <td> 1078778070</td>\n",
       "      <td> 12564</td>\n",
       "      <td> 2012-03-02</td>\n",
       "      <td> 12</td>\n",
       "      <td> OZ</td>\n",
       "      <td> 1</td>\n",
       "      <td> 7.59</td>\n",
       "    </tr>\n",
       "    <tr>\n",
       "      <th>1</th>\n",
       "      <td> 86246</td>\n",
       "      <td> 205</td>\n",
       "      <td> 63</td>\n",
       "      <td> 6319</td>\n",
       "      <td>  107654575</td>\n",
       "      <td> 17876</td>\n",
       "      <td> 2012-03-02</td>\n",
       "      <td> 64</td>\n",
       "      <td> OZ</td>\n",
       "      <td> 1</td>\n",
       "      <td> 1.59</td>\n",
       "    </tr>\n",
       "    <tr>\n",
       "      <th>2</th>\n",
       "      <td> 86246</td>\n",
       "      <td> 205</td>\n",
       "      <td> 97</td>\n",
       "      <td> 9753</td>\n",
       "      <td> 1022027929</td>\n",
       "      <td>     0</td>\n",
       "      <td> 2012-03-02</td>\n",
       "      <td>  1</td>\n",
       "      <td> CT</td>\n",
       "      <td> 1</td>\n",
       "      <td> 5.99</td>\n",
       "    </tr>\n",
       "  </tbody>\n",
       "</table>\n",
       "</div>"
      ],
      "text/plain": [
       "      id  chain  dept  category     company  brand        date  productsize  \\\n",
       "0  86246    205     7       707  1078778070  12564  2012-03-02           12   \n",
       "1  86246    205    63      6319   107654575  17876  2012-03-02           64   \n",
       "2  86246    205    97      9753  1022027929      0  2012-03-02            1   \n",
       "\n",
       "  productmeasure  purchasequantity  purchaseamount  \n",
       "0             OZ                 1            7.59  \n",
       "1             OZ                 1            1.59  \n",
       "2             CT                 1            5.99  "
      ]
     },
     "execution_count": 21,
     "metadata": {},
     "output_type": "execute_result"
    }
   ],
   "source": [
    "trans_sample_df = pd.read_csv('transactions-sample.csv')\n",
    "trans_sample_df.head(3)"
   ]
  },
  {
   "cell_type": "code",
   "execution_count": 22,
   "metadata": {
    "collapsed": false
   },
   "outputs": [
    {
     "data": {
      "text/plain": [
       "(27842, 11)"
      ]
     },
     "execution_count": 22,
     "metadata": {},
     "output_type": "execute_result"
    }
   ],
   "source": [
    "trans_sample_df.shape"
   ]
  },
  {
   "cell_type": "markdown",
   "metadata": {},
   "source": [
    "### Explore Datasets"
   ]
  },
  {
   "cell_type": "markdown",
   "metadata": {},
   "source": [
    "#### Joining DF"
   ]
  },
  {
   "cell_type": "raw",
   "metadata": {},
   "source": [
    "The transactions file can be joined to the history file by (id,chain). \n",
    "\n",
    "The history file can be joined to the offers file by (offer). \n",
    "\n",
    "The transactions file can be joined to the offers file by (category, brand, company). "
   ]
  },
  {
   "cell_type": "markdown",
   "metadata": {
    "collapsed": true
   },
   "source": [
    "#### Train DF"
   ]
  },
  {
   "cell_type": "raw",
   "metadata": {},
   "source": [
    "history\n",
    "id - A unique id representing a customer\n",
    "chain - An integer representing a store chain\n",
    "offer - An id representing a certain offer\n",
    "market - An id representing a geographical region\n",
    "repeattrips - The number of times the customer made a repeat purchase\n",
    "repeater - A boolean, equal to repeattrips > 0\n",
    "offerdate - The date a customer received the offer"
   ]
  },
  {
   "cell_type": "code",
   "execution_count": 45,
   "metadata": {
    "collapsed": false
   },
   "outputs": [
    {
     "data": {
      "text/plain": [
       "(160057, 7)"
      ]
     },
     "execution_count": 45,
     "metadata": {},
     "output_type": "execute_result"
    }
   ],
   "source": [
    "train_hist_df.shape"
   ]
  },
  {
   "cell_type": "code",
   "execution_count": 46,
   "metadata": {
    "collapsed": false
   },
   "outputs": [
    {
     "data": {
      "text/html": [
       "<div style=\"max-height:1000px;max-width:1500px;overflow:auto;\">\n",
       "<table border=\"1\" class=\"dataframe\">\n",
       "  <thead>\n",
       "    <tr style=\"text-align: right;\">\n",
       "      <th></th>\n",
       "      <th>id</th>\n",
       "      <th>chain</th>\n",
       "      <th>offer</th>\n",
       "      <th>market</th>\n",
       "      <th>repeattrips</th>\n",
       "      <th>repeater</th>\n",
       "      <th>offerdate</th>\n",
       "    </tr>\n",
       "  </thead>\n",
       "  <tbody>\n",
       "    <tr>\n",
       "      <th>0</th>\n",
       "      <td>    86246</td>\n",
       "      <td> 205</td>\n",
       "      <td> 1208251</td>\n",
       "      <td> 34</td>\n",
       "      <td>  5</td>\n",
       "      <td> t</td>\n",
       "      <td> 2013-04-24</td>\n",
       "    </tr>\n",
       "    <tr>\n",
       "      <th>1</th>\n",
       "      <td>    86252</td>\n",
       "      <td> 205</td>\n",
       "      <td> 1197502</td>\n",
       "      <td> 34</td>\n",
       "      <td> 16</td>\n",
       "      <td> t</td>\n",
       "      <td> 2013-03-27</td>\n",
       "    </tr>\n",
       "    <tr>\n",
       "      <th>2</th>\n",
       "      <td> 12682470</td>\n",
       "      <td>  18</td>\n",
       "      <td> 1197502</td>\n",
       "      <td> 11</td>\n",
       "      <td>  0</td>\n",
       "      <td> f</td>\n",
       "      <td> 2013-03-28</td>\n",
       "    </tr>\n",
       "    <tr>\n",
       "      <th>3</th>\n",
       "      <td> 12996040</td>\n",
       "      <td>  15</td>\n",
       "      <td> 1197502</td>\n",
       "      <td>  9</td>\n",
       "      <td>  0</td>\n",
       "      <td> f</td>\n",
       "      <td> 2013-03-25</td>\n",
       "    </tr>\n",
       "    <tr>\n",
       "      <th>4</th>\n",
       "      <td> 13089312</td>\n",
       "      <td>  15</td>\n",
       "      <td> 1204821</td>\n",
       "      <td>  9</td>\n",
       "      <td>  0</td>\n",
       "      <td> f</td>\n",
       "      <td> 2013-04-01</td>\n",
       "    </tr>\n",
       "  </tbody>\n",
       "</table>\n",
       "</div>"
      ],
      "text/plain": [
       "         id  chain    offer  market  repeattrips repeater   offerdate\n",
       "0     86246    205  1208251      34            5        t  2013-04-24\n",
       "1     86252    205  1197502      34           16        t  2013-03-27\n",
       "2  12682470     18  1197502      11            0        f  2013-03-28\n",
       "3  12996040     15  1197502       9            0        f  2013-03-25\n",
       "4  13089312     15  1204821       9            0        f  2013-04-01"
      ]
     },
     "execution_count": 46,
     "metadata": {},
     "output_type": "execute_result"
    }
   ],
   "source": [
    "train_hist_df.head()"
   ]
  },
  {
   "cell_type": "code",
   "execution_count": 47,
   "metadata": {
    "collapsed": false
   },
   "outputs": [
    {
     "name": "stdout",
     "output_type": "stream",
     "text": [
      "<class 'pandas.core.frame.DataFrame'>\n",
      "Int64Index: 160057 entries, 0 to 160056\n",
      "Data columns (total 7 columns):\n",
      "id             160057 non-null int64\n",
      "chain          160057 non-null int64\n",
      "offer          160057 non-null int64\n",
      "market         160057 non-null int64\n",
      "repeattrips    160057 non-null int64\n",
      "repeater       160057 non-null object\n",
      "offerdate      160057 non-null object\n",
      "dtypes: int64(5), object(2)\n",
      "memory usage: 9.8+ MB\n"
     ]
    }
   ],
   "source": [
    "train_hist_df.info()"
   ]
  },
  {
   "cell_type": "code",
   "execution_count": 48,
   "metadata": {
    "collapsed": false
   },
   "outputs": [
    {
     "data": {
      "text/html": [
       "<div style=\"max-height:1000px;max-width:1500px;overflow:auto;\">\n",
       "<table border=\"1\" class=\"dataframe\">\n",
       "  <thead>\n",
       "    <tr style=\"text-align: right;\">\n",
       "      <th></th>\n",
       "      <th>count</th>\n",
       "      <th>mean</th>\n",
       "      <th>std</th>\n",
       "      <th>min</th>\n",
       "      <th>25%</th>\n",
       "      <th>50%</th>\n",
       "      <th>75%</th>\n",
       "      <th>max</th>\n",
       "    </tr>\n",
       "  </thead>\n",
       "  <tbody>\n",
       "    <tr>\n",
       "      <th>id</th>\n",
       "      <td> 160057</td>\n",
       "      <td> 1.869324e+09</td>\n",
       "      <td> 1.570833e+09</td>\n",
       "      <td>   86246</td>\n",
       "      <td> 498182177</td>\n",
       "      <td> 767486408</td>\n",
       "      <td> 3285612741</td>\n",
       "      <td> 4809911000</td>\n",
       "    </tr>\n",
       "    <tr>\n",
       "      <th>chain</th>\n",
       "      <td> 160057</td>\n",
       "      <td> 1.268103e+02</td>\n",
       "      <td> 1.279343e+02</td>\n",
       "      <td>       2</td>\n",
       "      <td>        21</td>\n",
       "      <td>        96</td>\n",
       "      <td>        165</td>\n",
       "      <td>        526</td>\n",
       "    </tr>\n",
       "    <tr>\n",
       "      <th>offer</th>\n",
       "      <td> 160057</td>\n",
       "      <td> 1.201984e+06</td>\n",
       "      <td> 4.705531e+03</td>\n",
       "      <td> 1194044</td>\n",
       "      <td>   1197502</td>\n",
       "      <td>   1200581</td>\n",
       "      <td>    1208251</td>\n",
       "      <td>    1208503</td>\n",
       "    </tr>\n",
       "    <tr>\n",
       "      <th>market</th>\n",
       "      <td> 160057</td>\n",
       "      <td> 1.995060e+01</td>\n",
       "      <td> 1.909901e+01</td>\n",
       "      <td>       1</td>\n",
       "      <td>        10</td>\n",
       "      <td>        14</td>\n",
       "      <td>         24</td>\n",
       "      <td>         96</td>\n",
       "    </tr>\n",
       "    <tr>\n",
       "      <th>repeattrips</th>\n",
       "      <td> 160057</td>\n",
       "      <td> 6.563349e-01</td>\n",
       "      <td> 6.786516e+00</td>\n",
       "      <td>       0</td>\n",
       "      <td>         0</td>\n",
       "      <td>         0</td>\n",
       "      <td>          1</td>\n",
       "      <td>       2124</td>\n",
       "    </tr>\n",
       "  </tbody>\n",
       "</table>\n",
       "</div>"
      ],
      "text/plain": [
       "              count          mean           std      min        25%  \\\n",
       "id           160057  1.869324e+09  1.570833e+09    86246  498182177   \n",
       "chain        160057  1.268103e+02  1.279343e+02        2         21   \n",
       "offer        160057  1.201984e+06  4.705531e+03  1194044    1197502   \n",
       "market       160057  1.995060e+01  1.909901e+01        1         10   \n",
       "repeattrips  160057  6.563349e-01  6.786516e+00        0          0   \n",
       "\n",
       "                   50%         75%         max  \n",
       "id           767486408  3285612741  4809911000  \n",
       "chain               96         165         526  \n",
       "offer          1200581     1208251     1208503  \n",
       "market              14          24          96  \n",
       "repeattrips          0           1        2124  "
      ]
     },
     "execution_count": 48,
     "metadata": {},
     "output_type": "execute_result"
    }
   ],
   "source": [
    "train_hist_df.describe().T"
   ]
  },
  {
   "cell_type": "code",
   "execution_count": 91,
   "metadata": {
    "collapsed": false
   },
   "outputs": [
    {
     "data": {
      "text/plain": [
       "130"
      ]
     },
     "execution_count": 91,
     "metadata": {},
     "output_type": "execute_result"
    }
   ],
   "source": [
    "len( pd.value_counts(train_hist_df['chain']))"
   ]
  },
  {
   "cell_type": "code",
   "execution_count": 92,
   "metadata": {
    "collapsed": false
   },
   "outputs": [
    {
     "data": {
      "text/plain": [
       "24"
      ]
     },
     "execution_count": 92,
     "metadata": {},
     "output_type": "execute_result"
    }
   ],
   "source": [
    "len( pd.value_counts(train_hist_df['offer']))"
   ]
  },
  {
   "cell_type": "code",
   "execution_count": 93,
   "metadata": {
    "collapsed": false
   },
   "outputs": [
    {
     "data": {
      "text/plain": [
       "34"
      ]
     },
     "execution_count": 93,
     "metadata": {},
     "output_type": "execute_result"
    }
   ],
   "source": [
    "len( pd.value_counts(train_hist_df['market']))"
   ]
  },
  {
   "cell_type": "code",
   "execution_count": 94,
   "metadata": {
    "collapsed": false
   },
   "outputs": [
    {
     "data": {
      "text/plain": [
       "56"
      ]
     },
     "execution_count": 94,
     "metadata": {},
     "output_type": "execute_result"
    }
   ],
   "source": [
    "len( pd.value_counts(train_hist_df['repeattrips']))"
   ]
  },
  {
   "cell_type": "code",
   "execution_count": null,
   "metadata": {
    "collapsed": true
   },
   "outputs": [],
   "source": []
  },
  {
   "cell_type": "code",
   "execution_count": null,
   "metadata": {
    "collapsed": true
   },
   "outputs": [],
   "source": []
  },
  {
   "cell_type": "markdown",
   "metadata": {},
   "source": [
    "#### Offers DF"
   ]
  },
  {
   "cell_type": "raw",
   "metadata": {},
   "source": [
    "effers \n",
    "offer - see above\n",
    "category - see above (transactions: The product category (e.g. sparkling water))\n",
    "quantity - The number of units one must purchase to get the discount\n",
    "company - see above (transactions: An id of the company that sells the item)\n",
    "offervalue - The dollar value of the offer\n",
    "brand - see above (transactions: An id of the brand to which the item belongs)"
   ]
  },
  {
   "cell_type": "code",
   "execution_count": 33,
   "metadata": {
    "collapsed": false
   },
   "outputs": [
    {
     "data": {
      "text/plain": [
       "(37, 6)"
      ]
     },
     "execution_count": 33,
     "metadata": {},
     "output_type": "execute_result"
    }
   ],
   "source": [
    "offers_df.shape"
   ]
  },
  {
   "cell_type": "code",
   "execution_count": 50,
   "metadata": {
    "collapsed": false
   },
   "outputs": [
    {
     "name": "stdout",
     "output_type": "stream",
     "text": [
      "      offer  category  quantity     company  offervalue   brand\n",
      "0   1190530      9115         1   108500080        5.00   93904\n",
      "1   1194044      9909         1   107127979        1.00    6732\n",
      "2   1197502      3203         1   106414464        0.75   13474\n",
      "3   1198271      5558         1   107120272        1.50    5072\n",
      "4   1198272      5558         1   107120272        1.50    5072\n",
      "5   1198273      5558         1   107120272        1.50    5072\n",
      "6   1198274      5558         1   107120272        1.50    5072\n",
      "7   1198275      5558         1   107120272        1.50    5072\n",
      "8   1199256      4401         1   105100050        2.00   13791\n",
      "9   1199258      4401         1   105100050        2.00   13791\n",
      "10  1200578      1703         1   104460040        1.50    7668\n",
      "11  1200579      1703         1   104460040        1.50    7668\n",
      "12  1200581      1726         1   104460040        1.25    7668\n",
      "13  1200582      1726         1   104460040        1.25    7668\n",
      "14  1200584      3504         1   104460040        1.25    7668\n",
      "15  1200988      3509         1   103320030        2.00     875\n",
      "16  1203052      9909         1  1089520383        1.00   28840\n",
      "17  1203439      5122         1   107106878        1.50   17311\n",
      "18  1204576      5616         1   104610040        1.00   15889\n",
      "19  1204821      5619         1   107717272        1.50  102504\n",
      "20  1204822      5619         1   107717272        1.50  102504\n",
      "21  1208251      2202         1   104460040        2.00    3718\n",
      "22  1208252      2202         1   104460040        3.00    3718\n",
      "23  1208329      2119         1   108079383        1.00    6926\n",
      "24  1208501      6202         1  1087744888        1.50   64486\n",
      "25  1208503      6202         1  1087744888        1.50   64486\n",
      "26  1213242      5824         1   105190050        2.00   26456\n",
      "27  1219900       799         1  1076211171        1.50   17286\n",
      "28  1219903       799         1  1076211171        1.50   17286\n",
      "29  1220502      4517         1   105450050        1.50    1322\n",
      "30  1220503      4517         1   105450050        1.50    1322\n",
      "31  1221658      7205         2   103700030        3.00    4294\n",
      "32  1221663      7205         1   103700030        1.50    4294\n",
      "33  1221665      7205         1   103700030        1.50    4294\n",
      "34  1221666      7205         1   103700030        1.50    4294\n",
      "35  1221667      7205         1   103700030        2.00    4294\n",
      "36  1230218       706         1   104127141        1.00   26189\n"
     ]
    }
   ],
   "source": [
    "print offers_df"
   ]
  },
  {
   "cell_type": "code",
   "execution_count": 85,
   "metadata": {
    "collapsed": false
   },
   "outputs": [
    {
     "data": {
      "text/plain": [
       "1.50    19\n",
       "2.00     6\n",
       "1.00     5\n",
       "1.25     3\n",
       "3.00     2\n",
       "5.00     1\n",
       "0.75     1\n",
       "dtype: int64"
      ]
     },
     "execution_count": 85,
     "metadata": {},
     "output_type": "execute_result"
    }
   ],
   "source": [
    "pd.value_counts(offers_df['offervalue'])\n",
    "#majority of offers are between $1-2, with the vast majority being $1.50"
   ]
  },
  {
   "cell_type": "code",
   "execution_count": 89,
   "metadata": {
    "collapsed": false
   },
   "outputs": [
    {
     "data": {
      "text/plain": [
       "<matplotlib.axes._subplots.AxesSubplot at 0x7fb1c2fbf210>"
      ]
     },
     "execution_count": 89,
     "metadata": {},
     "output_type": "execute_result"
    },
    {
     "data": {
      "image/png": "[encoded data removed]",
      "text/plain": [
       "<matplotlib.figure.Figure at 0x7fb1c2fc7790>"
      ]
     },
     "metadata": {},
     "output_type": "display_data"
    }
   ],
   "source": [
    "offers_df.offervalue.hist(bins=20)"
   ]
  },
  {
   "cell_type": "code",
   "execution_count": 73,
   "metadata": {
    "collapsed": false
   },
   "outputs": [
    {
     "data": {
      "text/plain": [
       "1.50    19\n",
       "2.00     6\n",
       "1.00     5\n",
       "1.25     3\n",
       "3.00     2\n",
       "5.00     1\n",
       "0.75     1\n",
       "dtype: int64"
      ]
     },
     "execution_count": 73,
     "metadata": {},
     "output_type": "execute_result"
    }
   ],
   "source": [
    "pd.value_counts(offers_df['offervalue'])"
   ]
  },
  {
   "cell_type": "code",
   "execution_count": 68,
   "metadata": {
    "collapsed": false
   },
   "outputs": [
    {
     "data": {
      "text/plain": [
       "5558    5\n",
       "7205    5\n",
       "1726    2\n",
       "1703    2\n",
       "2202    2\n",
       "6202    2\n",
       "4517    2\n",
       "799     2\n",
       "4401    2\n",
       "5619    2\n",
       "9909    2\n",
       "5616    1\n",
       "3504    1\n",
       "9115    1\n",
       "3509    1\n",
       "706     1\n",
       "2119    1\n",
       "3203    1\n",
       "5122    1\n",
       "5824    1\n",
       "dtype: int64"
      ]
     },
     "execution_count": 68,
     "metadata": {},
     "output_type": "execute_result"
    }
   ],
   "source": [
    "#offers_df.groupby(['category']).transform('count')\n",
    "pd.value_counts(offers_df['category'])"
   ]
  },
  {
   "cell_type": "code",
   "execution_count": 69,
   "metadata": {
    "collapsed": false
   },
   "outputs": [
    {
     "data": {
      "text/plain": [
       "104460040     7\n",
       "103700030     5\n",
       "107120272     5\n",
       "107717272     2\n",
       "105450050     2\n",
       "1087744888    2\n",
       "105100050     2\n",
       "1076211171    2\n",
       "1089520383    1\n",
       "108079383     1\n",
       "105190050     1\n",
       "103320030     1\n",
       "107106878     1\n",
       "104127141     1\n",
       "107127979     1\n",
       "108500080     1\n",
       "104610040     1\n",
       "106414464     1\n",
       "dtype: int64"
      ]
     },
     "execution_count": 69,
     "metadata": {},
     "output_type": "execute_result"
    }
   ],
   "source": [
    "pd.value_counts(offers_df['company'])"
   ]
  },
  {
   "cell_type": "code",
   "execution_count": 72,
   "metadata": {
    "collapsed": false
   },
   "outputs": [
    {
     "data": {
      "text/plain": [
       "4294      5\n",
       "5072      5\n",
       "7668      5\n",
       "102504    2\n",
       "13791     2\n",
       "17286     2\n",
       "1322      2\n",
       "3718      2\n",
       "64486     2\n",
       "13474     1\n",
       "28840     1\n",
       "15889     1\n",
       "93904     1\n",
       "6926      1\n",
       "26189     1\n",
       "6732      1\n",
       "17311     1\n",
       "875       1\n",
       "26456     1\n",
       "dtype: int64"
      ]
     },
     "execution_count": 72,
     "metadata": {},
     "output_type": "execute_result"
    }
   ],
   "source": [
    "pd.value_counts(offers_df['brand'])"
   ]
  },
  {
   "cell_type": "markdown",
   "metadata": {},
   "source": [
    "#### Transaction-Sample DF"
   ]
  },
  {
   "cell_type": "raw",
   "metadata": {},
   "source": [
    "transactions\n",
    "id - see above (A unique id representing a customer)\n",
    "chain - see above (An integer representing a store chain)\n",
    "dept - An aggregate grouping of the Category (e.g. water)\n",
    "category - The product category (e.g. sparkling water)\n",
    "company - An id of the company that sells the item\n",
    "brand - An id of the brand to which the item belongs\n",
    "date - The date of purchase\n",
    "productsize - The amount of the product purchase (e.g. 16 oz of water)\n",
    "productmeasure - The units of the product purchase (e.g. ounces)\n",
    "purchasequantity - The number of units purchased\n",
    "purchaseamount - The dollar amount of the purchase\n",
    "\n",
    "*A negative value in productquantity and purchaseamount indicates a return."
   ]
  },
  {
   "cell_type": "code",
   "execution_count": 34,
   "metadata": {
    "collapsed": false
   },
   "outputs": [
    {
     "data": {
      "text/plain": [
       "(27842, 11)"
      ]
     },
     "execution_count": 34,
     "metadata": {},
     "output_type": "execute_result"
    }
   ],
   "source": [
    "trans_sample_df.shape"
   ]
  },
  {
   "cell_type": "code",
   "execution_count": 36,
   "metadata": {
    "collapsed": false
   },
   "outputs": [
    {
     "name": "stdout",
     "output_type": "stream",
     "text": [
      "<class 'pandas.core.frame.DataFrame'>\n",
      "Int64Index: 27842 entries, 0 to 27841\n",
      "Data columns (total 11 columns):\n",
      "id                  27842 non-null int64\n",
      "chain               27842 non-null int64\n",
      "dept                27842 non-null int64\n",
      "category            27842 non-null int64\n",
      "company             27842 non-null int64\n",
      "brand               27842 non-null int64\n",
      "date                27842 non-null object\n",
      "productsize         27842 non-null float64\n",
      "productmeasure      27618 non-null object\n",
      "purchasequantity    27842 non-null int64\n",
      "purchaseamount      27842 non-null float64\n",
      "dtypes: float64(2), int64(7), object(2)\n",
      "memory usage: 2.5+ MB\n"
     ]
    }
   ],
   "source": [
    "#no null values\n",
    "trans_sample_df.info()"
   ]
  },
  {
   "cell_type": "code",
   "execution_count": 49,
   "metadata": {
    "collapsed": false
   },
   "outputs": [
    {
     "data": {
      "text/plain": [
       "5"
      ]
     },
     "execution_count": 49,
     "metadata": {},
     "output_type": "execute_result"
    }
   ],
   "source": [
    "#only a few customer ids\n",
    "len( pd.value_counts(trans_sample_df['id']))"
   ]
  },
  {
   "cell_type": "code",
   "execution_count": 50,
   "metadata": {
    "collapsed": false
   },
   "outputs": [
    {
     "data": {
      "text/plain": [
       "2"
      ]
     },
     "execution_count": 50,
     "metadata": {},
     "output_type": "execute_result"
    }
   ],
   "source": [
    "len( pd.value_counts(trans_sample_df['chain']))"
   ]
  },
  {
   "cell_type": "code",
   "execution_count": 51,
   "metadata": {
    "collapsed": false
   },
   "outputs": [
    {
     "data": {
      "text/plain": [
       "82"
      ]
     },
     "execution_count": 51,
     "metadata": {},
     "output_type": "execute_result"
    }
   ],
   "source": [
    "len( pd.value_counts(trans_sample_df['dept']))"
   ]
  },
  {
   "cell_type": "code",
   "execution_count": 52,
   "metadata": {
    "collapsed": false
   },
   "outputs": [
    {
     "data": {
      "text/plain": [
       "661"
      ]
     },
     "execution_count": 52,
     "metadata": {},
     "output_type": "execute_result"
    }
   ],
   "source": [
    "len( pd.value_counts(trans_sample_df['category']))"
   ]
  },
  {
   "cell_type": "code",
   "execution_count": 53,
   "metadata": {
    "collapsed": false
   },
   "outputs": [
    {
     "data": {
      "text/plain": [
       "1355"
      ]
     },
     "execution_count": 53,
     "metadata": {},
     "output_type": "execute_result"
    }
   ],
   "source": [
    "len( pd.value_counts(trans_sample_df['company']))"
   ]
  },
  {
   "cell_type": "code",
   "execution_count": 54,
   "metadata": {
    "collapsed": false
   },
   "outputs": [
    {
     "data": {
      "text/plain": [
       "1805"
      ]
     },
     "execution_count": 54,
     "metadata": {},
     "output_type": "execute_result"
    }
   ],
   "source": [
    "len( pd.value_counts(trans_sample_df['brand']))"
   ]
  },
  {
   "cell_type": "code",
   "execution_count": 55,
   "metadata": {
    "collapsed": false
   },
   "outputs": [
    {
     "data": {
      "text/plain": [
       "653"
      ]
     },
     "execution_count": 55,
     "metadata": {},
     "output_type": "execute_result"
    }
   ],
   "source": [
    "len( pd.value_counts(trans_sample_df['productsize']))"
   ]
  },
  {
   "cell_type": "code",
   "execution_count": 57,
   "metadata": {
    "collapsed": false
   },
   "outputs": [
    {
     "data": {
      "text/plain": [
       "24"
      ]
     },
     "execution_count": 57,
     "metadata": {},
     "output_type": "execute_result"
    }
   ],
   "source": [
    "len( pd.value_counts(trans_sample_df['purchasequantity']))"
   ]
  },
  {
   "cell_type": "code",
   "execution_count": 56,
   "metadata": {
    "collapsed": false
   },
   "outputs": [
    {
     "data": {
      "text/plain": [
       "1514"
      ]
     },
     "execution_count": 56,
     "metadata": {},
     "output_type": "execute_result"
    }
   ],
   "source": [
    "len( pd.value_counts(trans_sample_df['purchaseamount']))"
   ]
  },
  {
   "cell_type": "code",
   "execution_count": 48,
   "metadata": {
    "collapsed": false
   },
   "outputs": [
    {
     "data": {
      "text/html": [
       "<div style=\"max-height:1000px;max-width:1500px;overflow:auto;\">\n",
       "<table border=\"1\" class=\"dataframe\">\n",
       "  <thead>\n",
       "    <tr style=\"text-align: right;\">\n",
       "      <th></th>\n",
       "      <th></th>\n",
       "      <th>purchasequantity</th>\n",
       "      <th>purchaseamount</th>\n",
       "    </tr>\n",
       "    <tr>\n",
       "      <th>id</th>\n",
       "      <th>chain</th>\n",
       "      <th></th>\n",
       "      <th></th>\n",
       "    </tr>\n",
       "  </thead>\n",
       "  <tbody>\n",
       "    <tr>\n",
       "      <th>86246   </th>\n",
       "      <th>205</th>\n",
       "      <td> 17333</td>\n",
       "      <td> 52828.12</td>\n",
       "    </tr>\n",
       "    <tr>\n",
       "      <th>86252   </th>\n",
       "      <th>205</th>\n",
       "      <td> 17604</td>\n",
       "      <td> 53592.90</td>\n",
       "    </tr>\n",
       "    <tr>\n",
       "      <th>12262064</th>\n",
       "      <th>95 </th>\n",
       "      <td>  1262</td>\n",
       "      <td>  4118.18</td>\n",
       "    </tr>\n",
       "    <tr>\n",
       "      <th>12277270</th>\n",
       "      <th>95 </th>\n",
       "      <td>  1638</td>\n",
       "      <td>  8085.44</td>\n",
       "    </tr>\n",
       "    <tr>\n",
       "      <th>12332190</th>\n",
       "      <th>95 </th>\n",
       "      <td>   891</td>\n",
       "      <td>  3587.71</td>\n",
       "    </tr>\n",
       "  </tbody>\n",
       "</table>\n",
       "</div>"
      ],
      "text/plain": [
       "                purchasequantity  purchaseamount\n",
       "id       chain                                  \n",
       "86246    205               17333        52828.12\n",
       "86252    205               17604        53592.90\n",
       "12262064 95                 1262         4118.18\n",
       "12277270 95                 1638         8085.44\n",
       "12332190 95                  891         3587.71"
      ]
     },
     "execution_count": 48,
     "metadata": {},
     "output_type": "execute_result"
    }
   ],
   "source": [
    "pd.DataFrame( trans_sample_df.groupby(['id','chain'])['purchasequantity','purchaseamount'].agg('sum') )"
   ]
  },
  {
   "cell_type": "code",
   "execution_count": 43,
   "metadata": {
    "collapsed": false
   },
   "outputs": [
    {
     "data": {
      "text/html": [
       "<div style=\"max-height:1000px;max-width:1500px;overflow:auto;\">\n",
       "<table border=\"1\" class=\"dataframe\">\n",
       "  <thead>\n",
       "    <tr style=\"text-align: right;\">\n",
       "      <th></th>\n",
       "      <th>id</th>\n",
       "      <th>chain</th>\n",
       "      <th>dept</th>\n",
       "      <th>category</th>\n",
       "      <th>company</th>\n",
       "      <th>brand</th>\n",
       "      <th>productsize</th>\n",
       "      <th>purchasequantity</th>\n",
       "      <th>purchaseamount</th>\n",
       "    </tr>\n",
       "  </thead>\n",
       "  <tbody>\n",
       "    <tr>\n",
       "      <th>count</th>\n",
       "      <td>    27842.000000</td>\n",
       "      <td> 27842.000000</td>\n",
       "      <td> 27842.000000</td>\n",
       "      <td> 27842.000000</td>\n",
       "      <td> 2.784200e+04</td>\n",
       "      <td>  27842.000000</td>\n",
       "      <td> 27842.000000</td>\n",
       "      <td> 27842.000000</td>\n",
       "      <td> 27842.000000</td>\n",
       "    </tr>\n",
       "    <tr>\n",
       "      <th>mean</th>\n",
       "      <td>  1464518.304432</td>\n",
       "      <td>   192.570577</td>\n",
       "      <td>    40.320703</td>\n",
       "      <td>  4046.298829</td>\n",
       "      <td> 2.179135e+08</td>\n",
       "      <td>  16964.997881</td>\n",
       "      <td>    29.308435</td>\n",
       "      <td>     1.390992</td>\n",
       "      <td>     4.389496</td>\n",
       "    </tr>\n",
       "    <tr>\n",
       "      <th>std</th>\n",
       "      <td>  3861686.310634</td>\n",
       "      <td>    34.825128</td>\n",
       "      <td>    26.391795</td>\n",
       "      <td>  2643.541796</td>\n",
       "      <td> 4.781015e+08</td>\n",
       "      <td>  16189.953805</td>\n",
       "      <td>    49.739271</td>\n",
       "      <td>     1.087621</td>\n",
       "      <td>     4.933723</td>\n",
       "    </tr>\n",
       "    <tr>\n",
       "      <th>min</th>\n",
       "      <td>    86246.000000</td>\n",
       "      <td>    95.000000</td>\n",
       "      <td>     0.000000</td>\n",
       "      <td>     0.000000</td>\n",
       "      <td> 1.000000e+04</td>\n",
       "      <td>      0.000000</td>\n",
       "      <td>     0.000000</td>\n",
       "      <td>    -1.000000</td>\n",
       "      <td>    -9.680000</td>\n",
       "    </tr>\n",
       "    <tr>\n",
       "      <th>25%</th>\n",
       "      <td>    86246.000000</td>\n",
       "      <td>   205.000000</td>\n",
       "      <td>    21.000000</td>\n",
       "      <td>  2103.000000</td>\n",
       "      <td> 1.027000e+08</td>\n",
       "      <td>   6732.000000</td>\n",
       "      <td>     7.000000</td>\n",
       "      <td>     1.000000</td>\n",
       "      <td>     1.980000</td>\n",
       "    </tr>\n",
       "    <tr>\n",
       "      <th>50%</th>\n",
       "      <td>    86252.000000</td>\n",
       "      <td>   205.000000</td>\n",
       "      <td>    36.000000</td>\n",
       "      <td>  3612.000000</td>\n",
       "      <td> 1.041303e+08</td>\n",
       "      <td>  13310.000000</td>\n",
       "      <td>    14.750000</td>\n",
       "      <td>     1.000000</td>\n",
       "      <td>     3.190000</td>\n",
       "    </tr>\n",
       "    <tr>\n",
       "      <th>75%</th>\n",
       "      <td>    86252.000000</td>\n",
       "      <td>   205.000000</td>\n",
       "      <td>    58.000000</td>\n",
       "      <td>  5828.000000</td>\n",
       "      <td> 1.072471e+08</td>\n",
       "      <td>  19713.000000</td>\n",
       "      <td>    26.500000</td>\n",
       "      <td>     1.000000</td>\n",
       "      <td>     4.990000</td>\n",
       "    </tr>\n",
       "    <tr>\n",
       "      <th>max</th>\n",
       "      <td> 12332190.000000</td>\n",
       "      <td>   205.000000</td>\n",
       "      <td>    99.000000</td>\n",
       "      <td>  9909.000000</td>\n",
       "      <td> 1.097815e+10</td>\n",
       "      <td> 108338.000000</td>\n",
       "      <td>   960.000000</td>\n",
       "      <td>    39.000000</td>\n",
       "      <td>   164.900000</td>\n",
       "    </tr>\n",
       "  </tbody>\n",
       "</table>\n",
       "</div>"
      ],
      "text/plain": [
       "                    id         chain          dept      category  \\\n",
       "count     27842.000000  27842.000000  27842.000000  27842.000000   \n",
       "mean    1464518.304432    192.570577     40.320703   4046.298829   \n",
       "std     3861686.310634     34.825128     26.391795   2643.541796   \n",
       "min       86246.000000     95.000000      0.000000      0.000000   \n",
       "25%       86246.000000    205.000000     21.000000   2103.000000   \n",
       "50%       86252.000000    205.000000     36.000000   3612.000000   \n",
       "75%       86252.000000    205.000000     58.000000   5828.000000   \n",
       "max    12332190.000000    205.000000     99.000000   9909.000000   \n",
       "\n",
       "            company          brand   productsize  purchasequantity  \\\n",
       "count  2.784200e+04   27842.000000  27842.000000      27842.000000   \n",
       "mean   2.179135e+08   16964.997881     29.308435          1.390992   \n",
       "std    4.781015e+08   16189.953805     49.739271          1.087621   \n",
       "min    1.000000e+04       0.000000      0.000000         -1.000000   \n",
       "25%    1.027000e+08    6732.000000      7.000000          1.000000   \n",
       "50%    1.041303e+08   13310.000000     14.750000          1.000000   \n",
       "75%    1.072471e+08   19713.000000     26.500000          1.000000   \n",
       "max    1.097815e+10  108338.000000    960.000000         39.000000   \n",
       "\n",
       "       purchaseamount  \n",
       "count    27842.000000  \n",
       "mean         4.389496  \n",
       "std          4.933723  \n",
       "min         -9.680000  \n",
       "25%          1.980000  \n",
       "50%          3.190000  \n",
       "75%          4.990000  \n",
       "max        164.900000  "
      ]
     },
     "execution_count": 43,
     "metadata": {},
     "output_type": "execute_result"
    }
   ],
   "source": [
    "trans_sample_df.describe()"
   ]
  },
  {
   "cell_type": "code",
   "execution_count": 63,
   "metadata": {
    "collapsed": false
   },
   "outputs": [
    {
     "data": {
      "image/png": "[encoded data removed]",
      "text/plain": [
       "<matplotlib.figure.Figure at 0x7f7c26795ad0>"
      ]
     },
     "metadata": {},
     "output_type": "display_data"
    }
   ],
   "source": [
    "#trans_sample_df.purchasequantity.hist()\n",
    "fig, ax = plt.subplots()\n",
    "trans_sample_df.purchasequantity.hist( ax=ax, bins=100)\n",
    "ax.set_yscale('log')"
   ]
  },
  {
   "cell_type": "code",
   "execution_count": 73,
   "metadata": {
    "collapsed": false
   },
   "outputs": [
    {
     "data": {
      "image/png": "[encoded data removed]",
      "text/plain": [
       "<matplotlib.figure.Figure at 0x7f7c2671bd10>"
      ]
     },
     "metadata": {},
     "output_type": "display_data"
    }
   ],
   "source": [
    "#trans_sample_df.purchaseamount.hist()\n",
    "fig, ax = plt.subplots()\n",
    "fig = trans_sample_df.purchaseamount.hist( ax=ax, bins=100)\n",
    "#sns.kdeplot( trans_sample_df.purchaseamount)\n",
    "ax.set_yscale('log')"
   ]
  },
  {
   "cell_type": "markdown",
   "metadata": {},
   "source": [
    "#### Join datasets (still using trans_sample_df)"
   ]
  },
  {
   "cell_type": "markdown",
   "metadata": {},
   "source": [
    "The transactions file can be joined to the history file by (id,chain). \n",
    "\n",
    "The history file can be joined to the offers file by (offer). \n",
    "\n",
    "The transactions file can be joined to the offers file by (category, brand, company). "
   ]
  },
  {
   "cell_type": "code",
   "execution_count": 74,
   "metadata": {
    "collapsed": true
   },
   "outputs": [],
   "source": [
    "import sqlite3"
   ]
  },
  {
   "cell_type": "code",
   "execution_count": 23,
   "metadata": {
    "collapsed": false
   },
   "outputs": [
    {
     "name": "stdout",
     "output_type": "stream",
     "text": [
      "(160057, 7)\n"
     ]
    },
    {
     "data": {
      "text/html": [
       "<div style=\"max-height:1000px;max-width:1500px;overflow:auto;\">\n",
       "<table border=\"1\" class=\"dataframe\">\n",
       "  <thead>\n",
       "    <tr style=\"text-align: right;\">\n",
       "      <th></th>\n",
       "      <th>id</th>\n",
       "      <th>chain</th>\n",
       "      <th>offer</th>\n",
       "      <th>market</th>\n",
       "      <th>repeattrips</th>\n",
       "      <th>repeater</th>\n",
       "      <th>offerdate</th>\n",
       "    </tr>\n",
       "  </thead>\n",
       "  <tbody>\n",
       "    <tr>\n",
       "      <th>0</th>\n",
       "      <td>    86246</td>\n",
       "      <td> 205</td>\n",
       "      <td> 1208251</td>\n",
       "      <td> 34</td>\n",
       "      <td>  5</td>\n",
       "      <td> t</td>\n",
       "      <td> 2013-04-24</td>\n",
       "    </tr>\n",
       "    <tr>\n",
       "      <th>1</th>\n",
       "      <td>    86252</td>\n",
       "      <td> 205</td>\n",
       "      <td> 1197502</td>\n",
       "      <td> 34</td>\n",
       "      <td> 16</td>\n",
       "      <td> t</td>\n",
       "      <td> 2013-03-27</td>\n",
       "    </tr>\n",
       "    <tr>\n",
       "      <th>2</th>\n",
       "      <td> 12682470</td>\n",
       "      <td>  18</td>\n",
       "      <td> 1197502</td>\n",
       "      <td> 11</td>\n",
       "      <td>  0</td>\n",
       "      <td> f</td>\n",
       "      <td> 2013-03-28</td>\n",
       "    </tr>\n",
       "    <tr>\n",
       "      <th>3</th>\n",
       "      <td> 12996040</td>\n",
       "      <td>  15</td>\n",
       "      <td> 1197502</td>\n",
       "      <td>  9</td>\n",
       "      <td>  0</td>\n",
       "      <td> f</td>\n",
       "      <td> 2013-03-25</td>\n",
       "    </tr>\n",
       "    <tr>\n",
       "      <th>4</th>\n",
       "      <td> 13089312</td>\n",
       "      <td>  15</td>\n",
       "      <td> 1204821</td>\n",
       "      <td>  9</td>\n",
       "      <td>  0</td>\n",
       "      <td> f</td>\n",
       "      <td> 2013-04-01</td>\n",
       "    </tr>\n",
       "  </tbody>\n",
       "</table>\n",
       "</div>"
      ],
      "text/plain": [
       "         id  chain    offer  market  repeattrips repeater   offerdate\n",
       "0     86246    205  1208251      34            5        t  2013-04-24\n",
       "1     86252    205  1197502      34           16        t  2013-03-27\n",
       "2  12682470     18  1197502      11            0        f  2013-03-28\n",
       "3  12996040     15  1197502       9            0        f  2013-03-25\n",
       "4  13089312     15  1204821       9            0        f  2013-04-01"
      ]
     },
     "execution_count": 23,
     "metadata": {},
     "output_type": "execute_result"
    }
   ],
   "source": [
    "print train_hist_df.shape\n",
    "train_hist_df.head(5)"
   ]
  },
  {
   "cell_type": "code",
   "execution_count": 24,
   "metadata": {
    "collapsed": false
   },
   "outputs": [
    {
     "name": "stdout",
     "output_type": "stream",
     "text": [
      "(37, 6)\n"
     ]
    },
    {
     "data": {
      "text/html": [
       "<div style=\"max-height:1000px;max-width:1500px;overflow:auto;\">\n",
       "<table border=\"1\" class=\"dataframe\">\n",
       "  <thead>\n",
       "    <tr style=\"text-align: right;\">\n",
       "      <th></th>\n",
       "      <th>offer</th>\n",
       "      <th>category</th>\n",
       "      <th>quantity</th>\n",
       "      <th>company</th>\n",
       "      <th>offervalue</th>\n",
       "      <th>brand</th>\n",
       "    </tr>\n",
       "  </thead>\n",
       "  <tbody>\n",
       "    <tr>\n",
       "      <th>0</th>\n",
       "      <td> 1190530</td>\n",
       "      <td> 9115</td>\n",
       "      <td> 1</td>\n",
       "      <td> 108500080</td>\n",
       "      <td> 5.00</td>\n",
       "      <td> 93904</td>\n",
       "    </tr>\n",
       "    <tr>\n",
       "      <th>1</th>\n",
       "      <td> 1194044</td>\n",
       "      <td> 9909</td>\n",
       "      <td> 1</td>\n",
       "      <td> 107127979</td>\n",
       "      <td> 1.00</td>\n",
       "      <td>  6732</td>\n",
       "    </tr>\n",
       "    <tr>\n",
       "      <th>2</th>\n",
       "      <td> 1197502</td>\n",
       "      <td> 3203</td>\n",
       "      <td> 1</td>\n",
       "      <td> 106414464</td>\n",
       "      <td> 0.75</td>\n",
       "      <td> 13474</td>\n",
       "    </tr>\n",
       "    <tr>\n",
       "      <th>3</th>\n",
       "      <td> 1198271</td>\n",
       "      <td> 5558</td>\n",
       "      <td> 1</td>\n",
       "      <td> 107120272</td>\n",
       "      <td> 1.50</td>\n",
       "      <td>  5072</td>\n",
       "    </tr>\n",
       "    <tr>\n",
       "      <th>4</th>\n",
       "      <td> 1198272</td>\n",
       "      <td> 5558</td>\n",
       "      <td> 1</td>\n",
       "      <td> 107120272</td>\n",
       "      <td> 1.50</td>\n",
       "      <td>  5072</td>\n",
       "    </tr>\n",
       "  </tbody>\n",
       "</table>\n",
       "</div>"
      ],
      "text/plain": [
       "     offer  category  quantity    company  offervalue  brand\n",
       "0  1190530      9115         1  108500080        5.00  93904\n",
       "1  1194044      9909         1  107127979        1.00   6732\n",
       "2  1197502      3203         1  106414464        0.75  13474\n",
       "3  1198271      5558         1  107120272        1.50   5072\n",
       "4  1198272      5558         1  107120272        1.50   5072"
      ]
     },
     "execution_count": 24,
     "metadata": {},
     "output_type": "execute_result"
    }
   ],
   "source": [
    "print offers_df.shape\n",
    "offers_df.head(5)"
   ]
  },
  {
   "cell_type": "code",
   "execution_count": 25,
   "metadata": {
    "collapsed": true
   },
   "outputs": [],
   "source": [
    "pd.merge?"
   ]
  },
  {
   "cell_type": "code",
   "execution_count": 27,
   "metadata": {
    "collapsed": false
   },
   "outputs": [
    {
     "name": "stdout",
     "output_type": "stream",
     "text": [
      "(160057, 12)\n"
     ]
    },
    {
     "data": {
      "text/html": [
       "<div style=\"max-height:1000px;max-width:1500px;overflow:auto;\">\n",
       "<table border=\"1\" class=\"dataframe\">\n",
       "  <thead>\n",
       "    <tr style=\"text-align: right;\">\n",
       "      <th></th>\n",
       "      <th>id</th>\n",
       "      <th>chain</th>\n",
       "      <th>offer</th>\n",
       "      <th>market</th>\n",
       "      <th>repeattrips</th>\n",
       "      <th>repeater</th>\n",
       "      <th>offerdate</th>\n",
       "      <th>category</th>\n",
       "      <th>quantity</th>\n",
       "      <th>company</th>\n",
       "      <th>offervalue</th>\n",
       "      <th>brand</th>\n",
       "    </tr>\n",
       "  </thead>\n",
       "  <tbody>\n",
       "    <tr>\n",
       "      <th>0</th>\n",
       "      <td>    86246</td>\n",
       "      <td> 205</td>\n",
       "      <td> 1208251</td>\n",
       "      <td> 34</td>\n",
       "      <td> 5</td>\n",
       "      <td> t</td>\n",
       "      <td> 2013-04-24</td>\n",
       "      <td> 2202</td>\n",
       "      <td> 1</td>\n",
       "      <td> 104460040</td>\n",
       "      <td> 2</td>\n",
       "      <td> 3718</td>\n",
       "    </tr>\n",
       "    <tr>\n",
       "      <th>1</th>\n",
       "      <td> 15753725</td>\n",
       "      <td>  17</td>\n",
       "      <td> 1208251</td>\n",
       "      <td>  4</td>\n",
       "      <td> 0</td>\n",
       "      <td> f</td>\n",
       "      <td> 2013-04-24</td>\n",
       "      <td> 2202</td>\n",
       "      <td> 1</td>\n",
       "      <td> 104460040</td>\n",
       "      <td> 2</td>\n",
       "      <td> 3718</td>\n",
       "    </tr>\n",
       "    <tr>\n",
       "      <th>2</th>\n",
       "      <td> 16535563</td>\n",
       "      <td>   4</td>\n",
       "      <td> 1208251</td>\n",
       "      <td>  1</td>\n",
       "      <td> 7</td>\n",
       "      <td> t</td>\n",
       "      <td> 2013-04-27</td>\n",
       "      <td> 2202</td>\n",
       "      <td> 1</td>\n",
       "      <td> 104460040</td>\n",
       "      <td> 2</td>\n",
       "      <td> 3718</td>\n",
       "    </tr>\n",
       "    <tr>\n",
       "      <th>3</th>\n",
       "      <td> 18259179</td>\n",
       "      <td>   3</td>\n",
       "      <td> 1208251</td>\n",
       "      <td>  2</td>\n",
       "      <td> 0</td>\n",
       "      <td> f</td>\n",
       "      <td> 2013-04-24</td>\n",
       "      <td> 2202</td>\n",
       "      <td> 1</td>\n",
       "      <td> 104460040</td>\n",
       "      <td> 2</td>\n",
       "      <td> 3718</td>\n",
       "    </tr>\n",
       "    <tr>\n",
       "      <th>4</th>\n",
       "      <td> 21024070</td>\n",
       "      <td>  15</td>\n",
       "      <td> 1208251</td>\n",
       "      <td>  9</td>\n",
       "      <td> 1</td>\n",
       "      <td> t</td>\n",
       "      <td> 2013-04-23</td>\n",
       "      <td> 2202</td>\n",
       "      <td> 1</td>\n",
       "      <td> 104460040</td>\n",
       "      <td> 2</td>\n",
       "      <td> 3718</td>\n",
       "    </tr>\n",
       "  </tbody>\n",
       "</table>\n",
       "</div>"
      ],
      "text/plain": [
       "         id  chain    offer  market  repeattrips repeater   offerdate  \\\n",
       "0     86246    205  1208251      34            5        t  2013-04-24   \n",
       "1  15753725     17  1208251       4            0        f  2013-04-24   \n",
       "2  16535563      4  1208251       1            7        t  2013-04-27   \n",
       "3  18259179      3  1208251       2            0        f  2013-04-24   \n",
       "4  21024070     15  1208251       9            1        t  2013-04-23   \n",
       "\n",
       "   category  quantity    company  offervalue  brand  \n",
       "0      2202         1  104460040           2   3718  \n",
       "1      2202         1  104460040           2   3718  \n",
       "2      2202         1  104460040           2   3718  \n",
       "3      2202         1  104460040           2   3718  \n",
       "4      2202         1  104460040           2   3718  "
      ]
     },
     "execution_count": 27,
     "metadata": {},
     "output_type": "execute_result"
    }
   ],
   "source": [
    "hist_offers_df = pd.merge( train_hist_df, offers_df, how='inner')\n",
    "\n",
    "print hist_offers_df.shape\n",
    "hist_offers_df.head(5)"
   ]
  },
  {
   "cell_type": "code",
   "execution_count": 28,
   "metadata": {
    "collapsed": false
   },
   "outputs": [
    {
     "name": "stdout",
     "output_type": "stream",
     "text": [
      "<class 'pandas.core.frame.DataFrame'>\n",
      "Int64Index: 160057 entries, 0 to 160056\n",
      "Data columns (total 12 columns):\n",
      "id             160057 non-null int64\n",
      "chain          160057 non-null int64\n",
      "offer          160057 non-null int64\n",
      "market         160057 non-null int64\n",
      "repeattrips    160057 non-null int64\n",
      "repeater       160057 non-null object\n",
      "offerdate      160057 non-null object\n",
      "category       160057 non-null int64\n",
      "quantity       160057 non-null int64\n",
      "company        160057 non-null int64\n",
      "offervalue     160057 non-null float64\n",
      "brand          160057 non-null int64\n",
      "dtypes: float64(1), int64(9), object(2)\n",
      "memory usage: 15.9+ MB\n"
     ]
    }
   ],
   "source": [
    "hist_offers_df.info()"
   ]
  },
  {
   "cell_type": "markdown",
   "metadata": {
    "collapsed": true
   },
   "source": [
    "#### Join hist_offers w/ trans-sample"
   ]
  },
  {
   "cell_type": "code",
   "execution_count": 30,
   "metadata": {
    "collapsed": false
   },
   "outputs": [
    {
     "name": "stdout",
     "output_type": "stream",
     "text": [
      "(27842, 11)\n"
     ]
    },
    {
     "data": {
      "text/html": [
       "<div style=\"max-height:1000px;max-width:1500px;overflow:auto;\">\n",
       "<table border=\"1\" class=\"dataframe\">\n",
       "  <thead>\n",
       "    <tr style=\"text-align: right;\">\n",
       "      <th></th>\n",
       "      <th>id</th>\n",
       "      <th>chain</th>\n",
       "      <th>dept</th>\n",
       "      <th>category</th>\n",
       "      <th>company</th>\n",
       "      <th>brand</th>\n",
       "      <th>date</th>\n",
       "      <th>productsize</th>\n",
       "      <th>productmeasure</th>\n",
       "      <th>purchasequantity</th>\n",
       "      <th>purchaseamount</th>\n",
       "    </tr>\n",
       "  </thead>\n",
       "  <tbody>\n",
       "    <tr>\n",
       "      <th>0</th>\n",
       "      <td> 86246</td>\n",
       "      <td> 205</td>\n",
       "      <td>  7</td>\n",
       "      <td>  707</td>\n",
       "      <td> 1078778070</td>\n",
       "      <td> 12564</td>\n",
       "      <td> 2012-03-02</td>\n",
       "      <td> 12</td>\n",
       "      <td> OZ</td>\n",
       "      <td> 1</td>\n",
       "      <td> 7.59</td>\n",
       "    </tr>\n",
       "    <tr>\n",
       "      <th>1</th>\n",
       "      <td> 86246</td>\n",
       "      <td> 205</td>\n",
       "      <td> 63</td>\n",
       "      <td> 6319</td>\n",
       "      <td>  107654575</td>\n",
       "      <td> 17876</td>\n",
       "      <td> 2012-03-02</td>\n",
       "      <td> 64</td>\n",
       "      <td> OZ</td>\n",
       "      <td> 1</td>\n",
       "      <td> 1.59</td>\n",
       "    </tr>\n",
       "    <tr>\n",
       "      <th>2</th>\n",
       "      <td> 86246</td>\n",
       "      <td> 205</td>\n",
       "      <td> 97</td>\n",
       "      <td> 9753</td>\n",
       "      <td> 1022027929</td>\n",
       "      <td>     0</td>\n",
       "      <td> 2012-03-02</td>\n",
       "      <td>  1</td>\n",
       "      <td> CT</td>\n",
       "      <td> 1</td>\n",
       "      <td> 5.99</td>\n",
       "    </tr>\n",
       "  </tbody>\n",
       "</table>\n",
       "</div>"
      ],
      "text/plain": [
       "      id  chain  dept  category     company  brand        date  productsize  \\\n",
       "0  86246    205     7       707  1078778070  12564  2012-03-02           12   \n",
       "1  86246    205    63      6319   107654575  17876  2012-03-02           64   \n",
       "2  86246    205    97      9753  1022027929      0  2012-03-02            1   \n",
       "\n",
       "  productmeasure  purchasequantity  purchaseamount  \n",
       "0             OZ                 1            7.59  \n",
       "1             OZ                 1            1.59  \n",
       "2             CT                 1            5.99  "
      ]
     },
     "execution_count": 30,
     "metadata": {},
     "output_type": "execute_result"
    }
   ],
   "source": [
    "print trans_sample_df.shape\n",
    "trans_sample_df.head(3)"
   ]
  },
  {
   "cell_type": "code",
   "execution_count": 32,
   "metadata": {
    "collapsed": false
   },
   "outputs": [
    {
     "name": "stdout",
     "output_type": "stream",
     "text": [
      "(160057, 12)\n"
     ]
    },
    {
     "data": {
      "text/html": [
       "<div style=\"max-height:1000px;max-width:1500px;overflow:auto;\">\n",
       "<table border=\"1\" class=\"dataframe\">\n",
       "  <thead>\n",
       "    <tr style=\"text-align: right;\">\n",
       "      <th></th>\n",
       "      <th>id</th>\n",
       "      <th>chain</th>\n",
       "      <th>offer</th>\n",
       "      <th>market</th>\n",
       "      <th>repeattrips</th>\n",
       "      <th>repeater</th>\n",
       "      <th>offerdate</th>\n",
       "      <th>category</th>\n",
       "      <th>quantity</th>\n",
       "      <th>company</th>\n",
       "      <th>offervalue</th>\n",
       "      <th>brand</th>\n",
       "    </tr>\n",
       "  </thead>\n",
       "  <tbody>\n",
       "    <tr>\n",
       "      <th>0</th>\n",
       "      <td>    86246</td>\n",
       "      <td> 205</td>\n",
       "      <td> 1208251</td>\n",
       "      <td> 34</td>\n",
       "      <td> 5</td>\n",
       "      <td> t</td>\n",
       "      <td> 2013-04-24</td>\n",
       "      <td> 2202</td>\n",
       "      <td> 1</td>\n",
       "      <td> 104460040</td>\n",
       "      <td> 2</td>\n",
       "      <td> 3718</td>\n",
       "    </tr>\n",
       "    <tr>\n",
       "      <th>1</th>\n",
       "      <td> 15753725</td>\n",
       "      <td>  17</td>\n",
       "      <td> 1208251</td>\n",
       "      <td>  4</td>\n",
       "      <td> 0</td>\n",
       "      <td> f</td>\n",
       "      <td> 2013-04-24</td>\n",
       "      <td> 2202</td>\n",
       "      <td> 1</td>\n",
       "      <td> 104460040</td>\n",
       "      <td> 2</td>\n",
       "      <td> 3718</td>\n",
       "    </tr>\n",
       "    <tr>\n",
       "      <th>2</th>\n",
       "      <td> 16535563</td>\n",
       "      <td>   4</td>\n",
       "      <td> 1208251</td>\n",
       "      <td>  1</td>\n",
       "      <td> 7</td>\n",
       "      <td> t</td>\n",
       "      <td> 2013-04-27</td>\n",
       "      <td> 2202</td>\n",
       "      <td> 1</td>\n",
       "      <td> 104460040</td>\n",
       "      <td> 2</td>\n",
       "      <td> 3718</td>\n",
       "    </tr>\n",
       "    <tr>\n",
       "      <th>3</th>\n",
       "      <td> 18259179</td>\n",
       "      <td>   3</td>\n",
       "      <td> 1208251</td>\n",
       "      <td>  2</td>\n",
       "      <td> 0</td>\n",
       "      <td> f</td>\n",
       "      <td> 2013-04-24</td>\n",
       "      <td> 2202</td>\n",
       "      <td> 1</td>\n",
       "      <td> 104460040</td>\n",
       "      <td> 2</td>\n",
       "      <td> 3718</td>\n",
       "    </tr>\n",
       "    <tr>\n",
       "      <th>4</th>\n",
       "      <td> 21024070</td>\n",
       "      <td>  15</td>\n",
       "      <td> 1208251</td>\n",
       "      <td>  9</td>\n",
       "      <td> 1</td>\n",
       "      <td> t</td>\n",
       "      <td> 2013-04-23</td>\n",
       "      <td> 2202</td>\n",
       "      <td> 1</td>\n",
       "      <td> 104460040</td>\n",
       "      <td> 2</td>\n",
       "      <td> 3718</td>\n",
       "    </tr>\n",
       "  </tbody>\n",
       "</table>\n",
       "</div>"
      ],
      "text/plain": [
       "         id  chain    offer  market  repeattrips repeater   offerdate  \\\n",
       "0     86246    205  1208251      34            5        t  2013-04-24   \n",
       "1  15753725     17  1208251       4            0        f  2013-04-24   \n",
       "2  16535563      4  1208251       1            7        t  2013-04-27   \n",
       "3  18259179      3  1208251       2            0        f  2013-04-24   \n",
       "4  21024070     15  1208251       9            1        t  2013-04-23   \n",
       "\n",
       "   category  quantity    company  offervalue  brand  \n",
       "0      2202         1  104460040           2   3718  \n",
       "1      2202         1  104460040           2   3718  \n",
       "2      2202         1  104460040           2   3718  \n",
       "3      2202         1  104460040           2   3718  \n",
       "4      2202         1  104460040           2   3718  "
      ]
     },
     "execution_count": 32,
     "metadata": {},
     "output_type": "execute_result"
    }
   ],
   "source": [
    "print hist_offers_df.shape\n",
    "hist_offers_df.head(5)"
   ]
  },
  {
   "cell_type": "code",
   "execution_count": 35,
   "metadata": {
    "collapsed": false
   },
   "outputs": [
    {
     "name": "stdout",
     "output_type": "stream",
     "text": [
      "(160058, 18)\n"
     ]
    },
    {
     "data": {
      "text/html": [
       "<div style=\"max-height:1000px;max-width:1500px;overflow:auto;\">\n",
       "<table border=\"1\" class=\"dataframe\">\n",
       "  <thead>\n",
       "    <tr style=\"text-align: right;\">\n",
       "      <th></th>\n",
       "      <th>id</th>\n",
       "      <th>chain</th>\n",
       "      <th>offer</th>\n",
       "      <th>market</th>\n",
       "      <th>repeattrips</th>\n",
       "      <th>repeater</th>\n",
       "      <th>offerdate</th>\n",
       "      <th>category</th>\n",
       "      <th>quantity</th>\n",
       "      <th>company</th>\n",
       "      <th>offervalue</th>\n",
       "      <th>brand</th>\n",
       "      <th>dept</th>\n",
       "      <th>date</th>\n",
       "      <th>productsize</th>\n",
       "      <th>productmeasure</th>\n",
       "      <th>purchasequantity</th>\n",
       "      <th>purchaseamount</th>\n",
       "    </tr>\n",
       "  </thead>\n",
       "  <tbody>\n",
       "    <tr>\n",
       "      <th>0</th>\n",
       "      <td>    86246</td>\n",
       "      <td> 205</td>\n",
       "      <td> 1208251</td>\n",
       "      <td> 34</td>\n",
       "      <td> 5</td>\n",
       "      <td> t</td>\n",
       "      <td> 2013-04-24</td>\n",
       "      <td> 2202</td>\n",
       "      <td> 1</td>\n",
       "      <td> 104460040</td>\n",
       "      <td> 2</td>\n",
       "      <td> 3718</td>\n",
       "      <td>NaN</td>\n",
       "      <td> NaN</td>\n",
       "      <td>NaN</td>\n",
       "      <td> NaN</td>\n",
       "      <td>NaN</td>\n",
       "      <td>NaN</td>\n",
       "    </tr>\n",
       "    <tr>\n",
       "      <th>1</th>\n",
       "      <td> 15753725</td>\n",
       "      <td>  17</td>\n",
       "      <td> 1208251</td>\n",
       "      <td>  4</td>\n",
       "      <td> 0</td>\n",
       "      <td> f</td>\n",
       "      <td> 2013-04-24</td>\n",
       "      <td> 2202</td>\n",
       "      <td> 1</td>\n",
       "      <td> 104460040</td>\n",
       "      <td> 2</td>\n",
       "      <td> 3718</td>\n",
       "      <td>NaN</td>\n",
       "      <td> NaN</td>\n",
       "      <td>NaN</td>\n",
       "      <td> NaN</td>\n",
       "      <td>NaN</td>\n",
       "      <td>NaN</td>\n",
       "    </tr>\n",
       "    <tr>\n",
       "      <th>2</th>\n",
       "      <td> 16535563</td>\n",
       "      <td>   4</td>\n",
       "      <td> 1208251</td>\n",
       "      <td>  1</td>\n",
       "      <td> 7</td>\n",
       "      <td> t</td>\n",
       "      <td> 2013-04-27</td>\n",
       "      <td> 2202</td>\n",
       "      <td> 1</td>\n",
       "      <td> 104460040</td>\n",
       "      <td> 2</td>\n",
       "      <td> 3718</td>\n",
       "      <td>NaN</td>\n",
       "      <td> NaN</td>\n",
       "      <td>NaN</td>\n",
       "      <td> NaN</td>\n",
       "      <td>NaN</td>\n",
       "      <td>NaN</td>\n",
       "    </tr>\n",
       "    <tr>\n",
       "      <th>3</th>\n",
       "      <td> 18259179</td>\n",
       "      <td>   3</td>\n",
       "      <td> 1208251</td>\n",
       "      <td>  2</td>\n",
       "      <td> 0</td>\n",
       "      <td> f</td>\n",
       "      <td> 2013-04-24</td>\n",
       "      <td> 2202</td>\n",
       "      <td> 1</td>\n",
       "      <td> 104460040</td>\n",
       "      <td> 2</td>\n",
       "      <td> 3718</td>\n",
       "      <td>NaN</td>\n",
       "      <td> NaN</td>\n",
       "      <td>NaN</td>\n",
       "      <td> NaN</td>\n",
       "      <td>NaN</td>\n",
       "      <td>NaN</td>\n",
       "    </tr>\n",
       "    <tr>\n",
       "      <th>4</th>\n",
       "      <td> 21024070</td>\n",
       "      <td>  15</td>\n",
       "      <td> 1208251</td>\n",
       "      <td>  9</td>\n",
       "      <td> 1</td>\n",
       "      <td> t</td>\n",
       "      <td> 2013-04-23</td>\n",
       "      <td> 2202</td>\n",
       "      <td> 1</td>\n",
       "      <td> 104460040</td>\n",
       "      <td> 2</td>\n",
       "      <td> 3718</td>\n",
       "      <td>NaN</td>\n",
       "      <td> NaN</td>\n",
       "      <td>NaN</td>\n",
       "      <td> NaN</td>\n",
       "      <td>NaN</td>\n",
       "      <td>NaN</td>\n",
       "    </tr>\n",
       "  </tbody>\n",
       "</table>\n",
       "</div>"
      ],
      "text/plain": [
       "         id  chain    offer  market  repeattrips repeater   offerdate  \\\n",
       "0     86246    205  1208251      34            5        t  2013-04-24   \n",
       "1  15753725     17  1208251       4            0        f  2013-04-24   \n",
       "2  16535563      4  1208251       1            7        t  2013-04-27   \n",
       "3  18259179      3  1208251       2            0        f  2013-04-24   \n",
       "4  21024070     15  1208251       9            1        t  2013-04-23   \n",
       "\n",
       "   category  quantity    company  offervalue  brand  dept date  productsize  \\\n",
       "0      2202         1  104460040           2   3718   NaN  NaN          NaN   \n",
       "1      2202         1  104460040           2   3718   NaN  NaN          NaN   \n",
       "2      2202         1  104460040           2   3718   NaN  NaN          NaN   \n",
       "3      2202         1  104460040           2   3718   NaN  NaN          NaN   \n",
       "4      2202         1  104460040           2   3718   NaN  NaN          NaN   \n",
       "\n",
       "  productmeasure  purchasequantity  purchaseamount  \n",
       "0            NaN               NaN             NaN  \n",
       "1            NaN               NaN             NaN  \n",
       "2            NaN               NaN             NaN  \n",
       "3            NaN               NaN             NaN  \n",
       "4            NaN               NaN             NaN  "
      ]
     },
     "execution_count": 35,
     "metadata": {},
     "output_type": "execute_result"
    }
   ],
   "source": [
    "df_sample = pd.merge( hist_offers_df, trans_sample_df, how='left')\n",
    "\n",
    "print df_sample.shape\n",
    "df_sample.head(5)"
   ]
  },
  {
   "cell_type": "markdown",
   "metadata": {},
   "source": [
    "#### feature design\n",
    "http://mlwave.com/predicting-repeat-buyers-vowpal-wabbit/"
   ]
  },
  {
   "cell_type": "code",
   "execution_count": null,
   "metadata": {
    "collapsed": true
   },
   "outputs": [],
   "source": []
  },
  {
   "cell_type": "markdown",
   "metadata": {},
   "source": [
    "### Trying to load new data from local in chunks\n",
    "Ref: \"Python for Data Analysis\" pg 177-ish"
   ]
  },
  {
   "cell_type": "code",
   "execution_count": 12,
   "metadata": {
    "collapsed": false
   },
   "outputs": [],
   "source": [
    "from pandas import Series"
   ]
  },
  {
   "cell_type": "code",
   "execution_count": 87,
   "metadata": {
    "collapsed": true
   },
   "outputs": [],
   "source": [
    "f = '/Users/rychughes/GA/AVS-Kaggle-Data/transactions-sample.csv'\n",
    "f_zip = '/Users/rychughes/GA/AVS-Kaggle-Data/transactions.csv.gz'"
   ]
  },
  {
   "cell_type": "code",
   "execution_count": 88,
   "metadata": {
    "collapsed": false
   },
   "outputs": [
    {
     "data": {
      "text/html": [
       "<div style=\"max-height:1000px;max-width:1500px;overflow:auto;\">\n",
       "<table border=\"1\" class=\"dataframe\">\n",
       "  <thead>\n",
       "    <tr style=\"text-align: right;\">\n",
       "      <th></th>\n",
       "      <th>id</th>\n",
       "      <th>chain</th>\n",
       "      <th>dept</th>\n",
       "      <th>category</th>\n",
       "      <th>company</th>\n",
       "      <th>brand</th>\n",
       "      <th>date</th>\n",
       "      <th>productsize</th>\n",
       "      <th>productmeasure</th>\n",
       "      <th>purchasequantity</th>\n",
       "      <th>purchaseamount</th>\n",
       "    </tr>\n",
       "  </thead>\n",
       "  <tbody>\n",
       "    <tr>\n",
       "      <th>0</th>\n",
       "      <td> 86246</td>\n",
       "      <td> 205</td>\n",
       "      <td>  7</td>\n",
       "      <td>  707</td>\n",
       "      <td> 1078778070</td>\n",
       "      <td> 12564</td>\n",
       "      <td> 2012-03-02</td>\n",
       "      <td> 12</td>\n",
       "      <td> OZ</td>\n",
       "      <td> 1</td>\n",
       "      <td>  7.59</td>\n",
       "    </tr>\n",
       "    <tr>\n",
       "      <th>1</th>\n",
       "      <td> 86246</td>\n",
       "      <td> 205</td>\n",
       "      <td> 63</td>\n",
       "      <td> 6319</td>\n",
       "      <td>  107654575</td>\n",
       "      <td> 17876</td>\n",
       "      <td> 2012-03-02</td>\n",
       "      <td> 64</td>\n",
       "      <td> OZ</td>\n",
       "      <td> 1</td>\n",
       "      <td>  1.59</td>\n",
       "    </tr>\n",
       "    <tr>\n",
       "      <th>2</th>\n",
       "      <td> 86246</td>\n",
       "      <td> 205</td>\n",
       "      <td> 97</td>\n",
       "      <td> 9753</td>\n",
       "      <td> 1022027929</td>\n",
       "      <td>     0</td>\n",
       "      <td> 2012-03-02</td>\n",
       "      <td>  1</td>\n",
       "      <td> CT</td>\n",
       "      <td> 1</td>\n",
       "      <td>  5.99</td>\n",
       "    </tr>\n",
       "    <tr>\n",
       "      <th>3</th>\n",
       "      <td> 86246</td>\n",
       "      <td> 205</td>\n",
       "      <td> 25</td>\n",
       "      <td> 2509</td>\n",
       "      <td>  107996777</td>\n",
       "      <td> 31373</td>\n",
       "      <td> 2012-03-02</td>\n",
       "      <td> 16</td>\n",
       "      <td> OZ</td>\n",
       "      <td> 1</td>\n",
       "      <td>  1.99</td>\n",
       "    </tr>\n",
       "    <tr>\n",
       "      <th>4</th>\n",
       "      <td> 86246</td>\n",
       "      <td> 205</td>\n",
       "      <td> 55</td>\n",
       "      <td> 5555</td>\n",
       "      <td>  107684070</td>\n",
       "      <td> 32094</td>\n",
       "      <td> 2012-03-02</td>\n",
       "      <td> 16</td>\n",
       "      <td> OZ</td>\n",
       "      <td> 2</td>\n",
       "      <td> 10.38</td>\n",
       "    </tr>\n",
       "  </tbody>\n",
       "</table>\n",
       "</div>"
      ],
      "text/plain": [
       "      id  chain  dept  category     company  brand        date  productsize  \\\n",
       "0  86246    205     7       707  1078778070  12564  2012-03-02           12   \n",
       "1  86246    205    63      6319   107654575  17876  2012-03-02           64   \n",
       "2  86246    205    97      9753  1022027929      0  2012-03-02            1   \n",
       "3  86246    205    25      2509   107996777  31373  2012-03-02           16   \n",
       "4  86246    205    55      5555   107684070  32094  2012-03-02           16   \n",
       "\n",
       "  productmeasure  purchasequantity  purchaseamount  \n",
       "0             OZ                 1            7.59  \n",
       "1             OZ                 1            1.59  \n",
       "2             CT                 1            5.99  \n",
       "3             OZ                 1            1.99  \n",
       "4             OZ                 2           10.38  "
      ]
     },
     "execution_count": 88,
     "metadata": {},
     "output_type": "execute_result"
    }
   ],
   "source": [
    "head = pd.read_csv( f_zip, \n",
    "                   compression='gzip', nrows=5) \n",
    "head"
   ]
  },
  {
   "cell_type": "code",
   "execution_count": null,
   "metadata": {
    "collapsed": false
   },
   "outputs": [],
   "source": [
    "# !gunzip -c '/Users/rychughes/GA/AVS-Kaggle-Data/transactions.csv.gz'"
   ]
  },
  {
   "cell_type": "code",
   "execution_count": 91,
   "metadata": {
    "collapsed": false
   },
   "outputs": [
    {
     "name": "stdout",
     "output_type": "stream",
     "text": [
      "100000\n",
      "100000\n",
      "100000\n",
      "100000\n",
      "100000\n",
      "100000\n",
      "100000\n",
      "100000\n",
      "100000\n",
      "100000\n"
     ]
    }
   ],
   "source": [
    "for skip_rows in range(0, 1000000, 100000):\n",
    "    chunker = pd.read_csv( '/Users/rychughes/GA/AVS-Kaggle-Data/transactions.csv.gz', \n",
    "                    compression='gzip', \n",
    "                    nrows=100000,\n",
    "                     skiprows=skip_rows) \n",
    "    "
   ]
  },
  {
   "cell_type": "code",
   "execution_count": null,
   "metadata": {
    "collapsed": true
   },
   "outputs": [],
   "source": []
  },
  {
   "cell_type": "code",
   "execution_count": 20,
   "metadata": {
    "collapsed": true
   },
   "outputs": [],
   "source": [
    "def read_in_chunks( file_object, chunk_size=1024):\n",
    "    'Lazy function (generator) to read a file piece by peice'\n",
    "    'Default chunk size 1k'\n",
    "    while True:\n",
    "        data = file_object.read(chunk_size)\n",
    "        if not data:\n",
    "            break\n",
    "        yield data"
   ]
  },
  {
   "cell_type": "code",
   "execution_count": 26,
   "metadata": {
    "collapsed": false
   },
   "outputs": [],
   "source": [
    "transaction_sample_file = open('/Users/rychughes/GA/AVS-Kaggle-Data/transactions-sample.csv')  "
   ]
  },
  {
   "cell_type": "code",
   "execution_count": 31,
   "metadata": {
    "collapsed": false
   },
   "outputs": [
    {
     "ename": "ValueError",
     "evalue": "operands could not be broadcast together with shapes (0,) (1000,11) ",
     "output_type": "error",
     "traceback": [
      "\u001b[0;31m---------------------------------------------------------------------------\u001b[0m",
      "\u001b[0;31mValueError\u001b[0m                                Traceback (most recent call last)",
      "\u001b[0;32m<ipython-input-31-bfa82b9aefb9>\u001b[0m in \u001b[0;36m<module>\u001b[0;34m()\u001b[0m\n\u001b[1;32m      1\u001b[0m \u001b[0;32mfor\u001b[0m \u001b[0mchunk\u001b[0m \u001b[0;32min\u001b[0m \u001b[0mread_in_chunks\u001b[0m\u001b[0;34m(\u001b[0m \u001b[0mtransaction_sample_file\u001b[0m\u001b[0;34m)\u001b[0m\u001b[0;34m:\u001b[0m\u001b[0;34m\u001b[0m\u001b[0m\n\u001b[0;32m----> 2\u001b[0;31m     \u001b[0mtot\u001b[0m\u001b[0;34m.\u001b[0m\u001b[0madd\u001b[0m\u001b[0;34m(\u001b[0m\u001b[0mpiece\u001b[0m\u001b[0;34m)\u001b[0m\u001b[0;34m\u001b[0m\u001b[0m\n\u001b[0m",
      "\u001b[0;32m//anaconda/lib/python2.7/site-packages/pandas/core/ops.pyc\u001b[0m in \u001b[0;36mflex_wrapper\u001b[0;34m(self, other, level, fill_value, axis)\u001b[0m\n\u001b[1;32m    716\u001b[0m                                level=level, fill_value=fill_value)\n\u001b[1;32m    717\u001b[0m         \u001b[0;32melse\u001b[0m\u001b[0;34m:\u001b[0m\u001b[0;34m\u001b[0m\u001b[0m\n\u001b[0;32m--> 718\u001b[0;31m             return self._constructor(op(self.values, other),\n\u001b[0m\u001b[1;32m    719\u001b[0m                                      self.index).__finalize__(self)\n\u001b[1;32m    720\u001b[0m \u001b[0;34m\u001b[0m\u001b[0m\n",
      "\u001b[0;31mValueError\u001b[0m: operands could not be broadcast together with shapes (0,) (1000,11) "
     ]
    }
   ],
   "source": [
    "for chunk in read_in_chunks( transaction_sample_file):\n",
    "    tot.add(piece)"
   ]
  },
  {
   "cell_type": "code",
   "execution_count": 64,
   "metadata": {
    "collapsed": false,
    "scrolled": true
   },
   "outputs": [],
   "source": [
    "new_array=[]\n",
    "with open('/Users/rychughes/GA/AVS-Kaggle-Data/transactions-sample.csv') as f:\n",
    "    for line in f:\n",
    "        new_array.append( line)"
   ]
  },
  {
   "cell_type": "code",
   "execution_count": 65,
   "metadata": {
    "collapsed": false
   },
   "outputs": [
    {
     "data": {
      "text/plain": [
       "['\"id\",\"chain\",\"dept\",\"category\",\"company\",\"brand\",\"date\",\"productsize\",\"productmeasure\",\"purchasequantity\",\"purchaseamount\"\\r\\n',\n",
       " '86246,205,7,707,1078778070,12564,\"2012-03-02\",12,\"OZ\",1,7.59\\r\\n',\n",
       " '86246,205,63,6319,107654575,17876,\"2012-03-02\",64,\"OZ\",1,1.59\\r\\n',\n",
       " '86246,205,97,9753,1022027929,0,\"2012-03-02\",1,\"CT\",1,5.99\\r\\n',\n",
       " '86246,205,25,2509,107996777,31373,\"2012-03-02\",16,\"OZ\",1,1.99\\r\\n',\n",
       " '86246,205,55,5555,107684070,32094,\"2012-03-02\",16,\"OZ\",2,10.38\\r\\n',\n",
       " '86246,205,97,9753,1021015020,0,\"2012-03-02\",1,\"CT\",1,7.8\\r\\n',\n",
       " '86246,205,99,9909,104538848,15343,\"2012-03-02\",16,\"OZ\",1,2.49\\r\\n',\n",
       " '86246,205,59,5907,102900020,2012,\"2012-03-02\",16,\"OZ\",1,1.39\\r\\n',\n",
       " '86246,205,9,921,101128414,9209,\"2012-03-02\",4,\"OZ\",2,1.5\\r\\n',\n",
       " '86246,205,73,7344,1068142161,20285,\"2012-03-02\",8,\"CT\",1,5.79\\r\\n',\n",
       " '86246,205,41,4107,104113040,28204,\"2012-03-02\",14.5,\"OZ\",1,0.59\\r\\n',\n",
       " '86246,205,21,2106,105100050,27873,\"2012-03-02\",64,\"OZ\",1,3.29\\r\\n',\n",
       " '86246,205,8,814,102840020,18584,\"2012-03-02\",15.5,\"OZ\",1,3.29\\r\\n',\n",
       " '86246,205,91,9122,108200080,2911,\"2012-03-02\",10,\"OZ\",1,1.99\\r\\n',\n",
       " '86246,205,41,4120,101116616,15266,\"2012-03-02\",6,\"OZ\",1,0.89\\r\\n',\n",
       " '86246,205,63,6315,107996777,31373,\"2012-03-02\",64,\"OZ\",1,3.59\\r\\n',\n",
       " '86246,205,9,907,101410010,13791,\"2012-03-02\",24,\"OZ\",1,3.99\\r\\n',\n",
       " '86246,205,97,9753,1021013323,0,\"2012-03-02\",1,\"CT\",1,8.87\\r\\n',\n",
       " '86246,205,45,4509,1082650484,59628,\"2012-03-02\",16,\"OZ\",1,4.99\\r\\n',\n",
       " '86246,205,26,2630,103700030,14647,\"2012-03-02\",56,\"CT\",1,1\\r\\n',\n",
       " '86246,205,8,815,103900030,13296,\"2012-03-02\",8,\"OZ\",1,1.89\\r\\n',\n",
       " '86246,205,81,8101,102820020,11186,\"2012-03-02\",1,\"CT\",1,4.77\\r\\n',\n",
       " '86246,205,56,5615,101116616,15266,\"2012-03-02\",16,\"OZ\",1,6.29\\r\\n',\n",
       " '86246,205,58,5824,108674585,55172,\"2012-03-02\",16,\"OZ\",1,3.29\\r\\n',\n",
       " '86246,205,9,907,107225070,12465,\"2012-03-02\",20,\"OZ\",1,2.99\\r\\n',\n",
       " '86246,205,97,9753,10000,0,\"2012-03-02\",1,\"CT\",1,0.69\\r\\n',\n",
       " '86246,205,8,836,101116616,15266,\"2012-03-02\",64,\"OZ\",1,2.19\\r\\n',\n",
       " '86246,205,19,1908,104530040,13915,\"2012-03-02\",13,\"OZ\",1,3.69\\r\\n',\n",
       " '86246,205,9,904,1078735979,6734,\"2012-03-02\",5,\"OZ\",1,2.49\\r\\n',\n",
       " '86246,205,64,6401,108066080,4098,\"2012-03-02\",144,\"OZ\",1,14.69\\r\\n',\n",
       " '86246,205,32,3204,107040474,14245,\"2012-03-02\",8,\"OZ\",1,4.39\\r\\n',\n",
       " '86246,205,56,5620,101116616,15266,\"2012-03-02\",8,\"OZ\",1,3.29\\r\\n',\n",
       " '86246,205,30,3009,102100020,9886,\"2012-03-02\",8,\"OZ\",1,2.09\\r\\n',\n",
       " '86246,205,97,9753,1021013424,0,\"2012-03-02\",1,\"CT\",4,14.64\\r\\n',\n",
       " '86246,205,30,3009,104100040,19975,\"2012-03-02\",8,\"OZ\",1,1.79\\r\\n',\n",
       " '86246,205,23,2301,101116616,15266,\"2012-03-02\",16,\"OZ\",2,2.59\\r\\n',\n",
       " '86246,205,32,3202,101116616,15266,\"2012-03-02\",24,\"OZ\",1,3.19\\r\\n',\n",
       " '86246,205,56,5620,102100020,9886,\"2012-03-02\",8,\"OZ\",1,4.59\\r\\n',\n",
       " '86246,205,29,2928,104100040,9814,\"2012-03-02\",5.6,\"OZ\",1,1.49\\r\\n',\n",
       " '86246,205,19,1905,105150050,16728,\"2012-03-02\",32,\"OZ\",1,2.69\\r\\n',\n",
       " '86246,205,31,3101,105250050,15919,\"2012-03-02\",1.7,\"OZ\",1,2.99\\r\\n',\n",
       " '86246,205,58,5823,107080070,16704,\"2012-03-02\",16,\"OZ\",1,4.59\\r\\n',\n",
       " '86246,205,33,3309,102840020,18584,\"2012-03-02\",13,\"OZ\",1,3.99\\r\\n',\n",
       " '86246,205,19,1905,105150050,16728,\"2012-03-02\",18,\"OZ\",1,4.19\\r\\n',\n",
       " '86246,205,29,2908,103900030,13296,\"2012-03-02\",16,\"OZ\",1,1.59\\r\\n',\n",
       " '86246,205,36,3630,107800070,5208,\"2012-03-02\",144,\"OZ\",1,4.99\\r\\n',\n",
       " '86246,205,36,3626,104900040,17186,\"2012-03-02\",144,\"OZ\",1,5.79\\r\\n',\n",
       " '86246,205,36,3612,108265787,4687,\"2012-03-02\",128,\"OZ\",1,1.39\\r\\n',\n",
       " '86246,205,33,3319,102840020,15598,\"2012-03-02\",9,\"OZ\",1,3.99\\r\\n',\n",
       " '86246,205,36,3630,104900040,23359,\"2012-03-02\",144,\"OZ\",1,5.79\\r\\n',\n",
       " '86246,205,34,3410,107418272,16853,\"2012-03-02\",7.5,\"OZ\",1,2.19\\r\\n',\n",
       " '86246,205,36,3611,108265787,4687,\"2012-03-02\",405.6,\"OZ\",1,6.29\\r\\n',\n",
       " '86246,205,8,809,101300010,8164,\"2012-03-03\",12,\"OZ\",1,1.29\\r\\n',\n",
       " '86246,205,71,7113,107940070,17521,\"2012-03-03\",12,\"OZ\",1,1\\r\\n',\n",
       " '86246,205,60,6010,101116616,15266,\"2012-03-03\",30,\"OZ\",1,2.99\\r\\n',\n",
       " '86246,205,81,8101,102820020,11186,\"2012-03-03\",1,\"CT\",2,9.54\\r\\n',\n",
       " '86246,205,27,2702,102310020,13705,\"2012-03-03\",17,\"LB\",1,18.89\\r\\n',\n",
       " '86246,205,81,8101,102610020,11320,\"2012-03-03\",1,\"CT\",1,3.59\\r\\n',\n",
       " '86246,205,64,6408,101323212,40291,\"2012-03-03\",0.75,\"LT\",1,10.29\\r\\n',\n",
       " '86246,205,36,3601,104900040,3809,\"2012-03-04\",20,\"OZ\",1,1.69\\r\\n',\n",
       " '86246,205,56,5620,107592575,4368,\"2012-03-04\",8,\"OZ\",1,3.19\\r\\n',\n",
       " '86246,205,41,4106,101116616,15266,\"2012-03-04\",6.5,\"OZ\",1,1.69\\r\\n',\n",
       " '86246,205,63,6316,101116616,15266,\"2012-03-04\",8,\"OZ\",1,1.29\\r\\n',\n",
       " '86246,205,33,3307,107641070,10160,\"2012-03-04\",1.5,\"OZ\",2,1\\r\\n',\n",
       " '86246,205,23,2301,103340030,68309,\"2012-03-04\",12,\"OZ\",1,1.5\\r\\n',\n",
       " '86246,205,44,4402,103100030,1358,\"2012-03-04\",7,\"OZ\",2,1.98\\r\\n',\n",
       " '86246,205,26,2633,105400050,16048,\"2012-03-04\",12,\"RL\",1,8.39\\r\\n',\n",
       " '86246,205,9,902,107641070,10160,\"2012-03-04\",2.25,\"OZ\",2,1.98\\r\\n',\n",
       " '86246,205,56,5613,101116616,15266,\"2012-03-04\",15,\"OZ\",1,2.49\\r\\n',\n",
       " '86246,205,8,811,104112949,3635,\"2012-03-04\",24,\"OZ\",1,3.19\\r\\n',\n",
       " '86246,205,9,908,104980040,12592,\"2012-03-04\",8,\"OZ\",1,3.99\\r\\n',\n",
       " '86246,205,64,6408,108289686,6276,\"2012-03-05\",0.75,\"LT\",1,8.29\\r\\n',\n",
       " '86246,205,9,915,107312474,18613,\"2012-03-05\",12,\"OZ\",2,3.48\\r\\n',\n",
       " '86246,205,63,6315,104138343,10091,\"2012-03-05\",64,\"OZ\",1,4.39\\r\\n',\n",
       " '86246,205,16,1601,102200020,1827,\"2012-03-05\",15,\"CT\",1,1.29\\r\\n',\n",
       " '86246,205,58,5899,107117474,22410,\"2012-03-05\",16,\"OZ\",5,13.05\\r\\n',\n",
       " '86246,205,36,3611,108265787,4687,\"2012-03-05\",202.8,\"OZ\",1,4.49\\r\\n',\n",
       " '86246,205,70,7002,1030813737,25162,\"2012-03-06\",30,\"CT\",1,2.39\\r\\n',\n",
       " '86246,205,41,4105,101116616,15266,\"2012-03-06\",14.75,\"OZ\",6,8.34\\r\\n',\n",
       " '86246,205,26,2634,103700030,3293,\"2012-03-06\",6,\"RL\",1,4.99\\r\\n',\n",
       " '86246,205,41,4105,101116616,15266,\"2012-03-06\",14.5,\"OZ\",4,5.56\\r\\n',\n",
       " '86246,205,73,7318,1030004535,10091,\"2012-03-06\",32,\"CT\",1,8.49\\r\\n',\n",
       " '86246,205,41,4107,101116616,15266,\"2012-03-06\",14.5,\"OZ\",1,0.69\\r\\n',\n",
       " '86246,205,56,5620,101116616,15266,\"2012-03-06\",8,\"OZ\",2,6.18\\r\\n',\n",
       " '86246,205,41,4107,101116616,15266,\"2012-03-06\",13.5,\"OZ\",1,1.29\\r\\n',\n",
       " '86246,205,75,7501,104589343,17521,\"2012-03-06\",18,\"OZ\",1,3.29\\r\\n',\n",
       " '86246,205,37,3703,105100050,2820,\"2012-03-06\",10.75,\"OZ\",1,0.79\\r\\n',\n",
       " '86246,205,26,2628,1077191373,13194,\"2012-03-06\",1,\"RL\",1,1\\r\\n',\n",
       " '86246,205,29,2904,101600010,7860,\"2012-03-06\",7.2,\"OZ\",1,1.5\\r\\n',\n",
       " '86246,205,72,7205,103500030,3830,\"2012-03-06\",4.6,\"OZ\",1,3.99\\r\\n',\n",
       " '86246,205,33,3303,104166444,7179,\"2012-03-06\",16,\"OZ\",1,3.49\\r\\n',\n",
       " '86246,205,63,6315,101116616,15266,\"2012-03-06\",128,\"OZ\",1,3.69\\r\\n',\n",
       " '86246,205,29,2923,104100040,9814,\"2012-03-06\",4.3,\"OZ\",1,1.49\\r\\n',\n",
       " '86246,205,21,2116,104300040,26420,\"2012-03-06\",40.5,\"OZ\",1,1.39\\r\\n',\n",
       " '86246,205,97,9753,1022042424,0,\"2012-03-06\",1,\"CT\",3,34.99\\r\\n',\n",
       " '86246,205,58,5823,107740070,2500,\"2012-03-06\",2,\"OZ\",1,0.89\\r\\n',\n",
       " '86246,205,51,5134,107008575,26885,\"2012-03-06\",7,\"OZ\",1,2.69\\r\\n',\n",
       " '86246,205,26,2628,104116343,8435,\"2012-03-06\",1,\"RL\",1,2.69\\r\\n',\n",
       " '86246,205,97,9753,1022021020,0,\"2012-03-06\",1,\"CT\",3,27.3\\r\\n',\n",
       " '86246,205,58,5827,107367575,3012,\"2012-03-06\",12,\"OZ\",2,7.58\\r\\n',\n",
       " '86246,205,8,801,101300010,8164,\"2012-03-06\",14,\"OZ\",1,1.79\\r\\n',\n",
       " '86246,205,24,2407,101700010,885,\"2012-03-06\",4.75,\"OZ\",1,0.6\\r\\n',\n",
       " '86246,205,45,4508,104440040,7504,\"2012-03-06\",11.4,\"OZ\",1,5.49\\r\\n',\n",
       " '86246,205,9,920,107978373,1081,\"2012-03-06\",7.4,\"OZ\",3,3\\r\\n',\n",
       " '86246,205,51,5125,102580020,16668,\"2012-03-06\",9,\"OZ\",2,7.58\\r\\n',\n",
       " '86246,205,5,501,101116616,15266,\"2012-03-06\",17,\"OZ\",1,3.99\\r\\n',\n",
       " '86246,205,41,4108,105030050,17737,\"2012-03-06\",15.5,\"OZ\",1,1.29\\r\\n',\n",
       " '86246,205,14,1404,102850020,10802,\"2012-03-06\",16,\"OZ\",1,1\\r\\n',\n",
       " '86246,205,41,4109,105100050,2820,\"2012-03-06\",11,\"OZ\",2,1.18\\r\\n',\n",
       " '86246,205,8,802,107550070,18204,\"2012-03-06\",10,\"OZ\",2,1.78\\r\\n',\n",
       " '86246,205,54,5402,101800010,14029,\"2012-03-06\",16.4,\"OZ\",1,2.49\\r\\n',\n",
       " '86246,205,9,908,107235979,2011,\"2012-03-06\",10,\"OZ\",1,2.69\\r\\n',\n",
       " '86246,205,51,5106,103100030,9626,\"2012-03-06\",8,\"OZ\",1,2.49\\r\\n',\n",
       " '86246,205,0,0,10000,0,\"2012-03-06\",0,\"\",2,-6.69\\r\\n',\n",
       " '86246,205,51,5106,103100030,9626,\"2012-03-06\",10.1,\"OZ\",1,2.49\\r\\n',\n",
       " '86246,205,10,1013,107402777,14200,\"2012-03-06\",8,\"OZ\",1,1\\r\\n',\n",
       " '86246,205,54,5403,101800010,14029,\"2012-03-06\",11.5,\"OZ\",1,3.19\\r\\n',\n",
       " '86246,205,4,427,102200020,506,\"2012-03-06\",1.76,\"OZ\",1,2.19\\r\\n',\n",
       " '86246,205,51,5125,1071785474,11614,\"2012-03-06\",8,\"OZ\",3,5.09\\r\\n',\n",
       " '86246,205,10,1013,103890030,5072,\"2012-03-06\",17.2,\"OZ\",1,3.29\\r\\n',\n",
       " '86246,205,51,5128,1071785474,11614,\"2012-03-06\",8,\"OZ\",1,1.7\\r\\n',\n",
       " '86246,205,63,6328,107590070,2073,\"2012-03-07\",20,\"OZ\",1,4.95\\r\\n',\n",
       " '86246,205,4,405,1060069969,55864,\"2012-03-07\",10,\"OZ\",1,1.79\\r\\n',\n",
       " '86246,205,63,6313,107357070,8185,\"2012-03-07\",12,\"OZ\",1,2.39\\r\\n',\n",
       " '86246,205,55,5567,104154848,5603,\"2012-03-07\",5.8,\"OZ\",1,1.25\\r\\n',\n",
       " '86246,205,25,2503,101116616,15266,\"2012-03-07\",8,\"OZ\",1,2.99\\r\\n',\n",
       " '86246,205,9,902,101116616,15266,\"2012-03-07\",14.4,\"OZ\",1,3.19\\r\\n',\n",
       " '86246,205,63,6315,101116616,15266,\"2012-03-07\",128,\"OZ\",1,3.69\\r\\n',\n",
       " '86246,205,51,5128,101450010,20864,\"2012-03-07\",10,\"OZ\",1,2.09\\r\\n',\n",
       " '86246,205,22,2201,104113040,28204,\"2012-03-07\",60,\"OZ\",1,0.99\\r\\n',\n",
       " '86246,205,4,416,103400030,8247,\"2012-03-07\",3.92,\"OZ\",1,1.89\\r\\n',\n",
       " '86246,205,57,5704,105360050,10074,\"2012-03-07\",6,\"OZ\",2,1.78\\r\\n',\n",
       " '86246,205,55,5558,104154848,5603,\"2012-03-07\",5.8,\"OZ\",1,1.25\\r\\n',\n",
       " '86246,205,57,5705,105360050,10074,\"2012-03-07\",6,\"OZ\",2,1.74\\r\\n',\n",
       " '86246,205,36,3618,104900040,23359,\"2012-03-07\",67.6,\"OZ\",1,1.89\\r\\n',\n",
       " '86246,205,27,2712,103270030,7966,\"2012-03-07\",1,\"CT\",1,5.09\\r\\n',\n",
       " '86246,205,41,4107,101116616,15266,\"2012-03-07\",15.25,\"OZ\",1,0.69\\r\\n',\n",
       " '86246,205,33,3303,102840020,10241,\"2012-03-07\",10.5,\"OZ\",1,4.29\\r\\n',\n",
       " '86246,205,29,2903,105100050,72482,\"2012-03-07\",15,\"OZ\",1,0.99\\r\\n',\n",
       " '86246,205,58,5812,1063690666,12339,\"2012-03-08\",14,\"OZ\",1,5.49\\r\\n',\n",
       " '86246,205,27,2710,103320030,875,\"2012-03-09\",14,\"LB\",1,6.99\\r\\n',\n",
       " '86246,205,64,6401,101820010,11616,\"2012-03-09\",72,\"OZ\",1,6.29\\r\\n',\n",
       " '86246,205,9,902,103010030,20332,\"2012-03-09\",16,\"OZ\",1,3.19\\r\\n',\n",
       " '86246,205,24,2410,104780040,19058,\"2012-03-09\",4.25,\"OZ\",1,1.99\\r\\n',\n",
       " '86246,205,55,5552,104113040,84481,\"2012-03-09\",48,\"OZ\",1,4.29\\r\\n',\n",
       " '86246,205,63,6315,1074236575,8499,\"2012-03-09\",64,\"OZ\",1,4.39\\r\\n',\n",
       " '86246,205,5,501,103800030,14900,\"2012-03-09\",20,\"OZ\",1,4.29\\r\\n',\n",
       " '86246,205,21,2106,103120030,12957,\"2012-03-09\",64,\"OZ\",1,2.99\\r\\n',\n",
       " '86246,205,8,810,101116616,15266,\"2012-03-09\",1,\"OZ\",1,0.99\\r\\n',\n",
       " '86246,205,63,6320,102685525,7667,\"2012-03-09\",12,\"CT\",1,1.69\\r\\n',\n",
       " '86246,205,33,3318,104113040,28204,\"2012-03-09\",15,\"OZ\",1,1.55\\r\\n',\n",
       " '86246,205,26,2613,103700030,10861,\"2012-03-09\",27,\"CT\",1,8.99\\r\\n',\n",
       " '86246,205,18,1835,104116343,8435,\"2012-03-09\",6.7,\"LB\",1,5.89\\r\\n',\n",
       " '86246,205,10,1010,105150050,16728,\"2012-03-10\",5,\"OZ\",2,5.18\\r\\n',\n",
       " '86246,205,64,6406,108500080,673,\"2012-03-10\",0.75,\"LT\",4,27.96\\r\\n',\n",
       " '86246,205,8,810,101116616,15266,\"2012-03-10\",0.87,\"OZ\",2,2.18\\r\\n',\n",
       " '86246,205,63,6315,101116616,15266,\"2012-03-10\",128,\"OZ\",1,3.69\\r\\n',\n",
       " '86246,205,9,907,107021070,69929,\"2012-03-10\",11,\"OZ\",1,1.09\\r\\n',\n",
       " '86246,205,97,9753,1020999929,0,\"2012-03-10\",1,\"CT\",1,7.88\\r\\n',\n",
       " '86246,205,5,501,101600010,3331,\"2012-03-10\",21.6,\"OZ\",1,5.99\\r\\n',\n",
       " '86246,205,26,2628,104200040,2308,\"2012-03-10\",1,\"RL\",1,1\\r\\n',\n",
       " '86246,205,9,907,101410010,13791,\"2012-03-10\",13,\"OZ\",1,3.49\\r\\n',\n",
       " '86246,205,63,6320,102685525,7667,\"2012-03-10\",18,\"CT\",1,2.79\\r\\n',\n",
       " '86246,205,5,501,1088491282,16363,\"2012-03-10\",16.4,\"OZ\",1,4.39\\r\\n',\n",
       " '86246,205,63,6311,1082415080,22328,\"2012-03-10\",16,\"OZ\",1,4.99\\r\\n',\n",
       " '86246,205,31,3101,107096979,17090,\"2012-03-10\",4.5,\"OZ\",1,2.29\\r\\n',\n",
       " '86246,205,63,6317,102529323,16410,\"2012-03-10\",64,\"OZ\",1,3.79\\r\\n',\n",
       " '86246,205,31,3101,105250050,15919,\"2012-03-10\",3.5,\"OZ\",1,2.99\\r\\n',\n",
       " '86246,205,26,2622,101090010,15232,\"2012-03-10\",5,\"CT\",1,2.99\\r\\n',\n",
       " '86246,205,30,3008,104133545,43106,\"2012-03-10\",16,\"OZ\",1,3.49\\r\\n',\n",
       " '86246,205,63,6305,101630010,6509,\"2012-03-10\",59,\"OZ\",1,4.49\\r\\n',\n",
       " '86246,205,33,3305,102840020,18584,\"2012-03-10\",10,\"OZ\",1,3.99\\r\\n',\n",
       " '86246,205,26,2617,101090010,15232,\"2012-03-10\",1,\"CT\",1,1.89\\r\\n',\n",
       " '86246,205,30,3010,104300040,9886,\"2012-03-10\",14,\"OZ\",1,3.49\\r\\n',\n",
       " '86246,205,36,3611,101200010,803,\"2012-03-10\",405.6,\"OZ\",1,6.49\\r\\n',\n",
       " '86246,205,32,3204,101116616,15266,\"2012-03-11\",17,\"OZ\",1,5.39\\r\\n',\n",
       " '86246,205,37,3709,104178949,11224,\"2012-03-11\",3,\"OZ\",1,0.35\\r\\n',\n",
       " '86246,205,56,5610,107592575,4368,\"2012-03-11\",6,\"OZ\",1,3.19\\r\\n',\n",
       " '86246,205,41,4105,102400020,4704,\"2012-03-11\",14.5,\"OZ\",3,4.47\\r\\n',\n",
       " '86246,205,9,907,101410010,13791,\"2012-03-11\",13,\"OZ\",1,3.49\\r\\n',\n",
       " '86246,205,36,3631,107800070,23209,\"2012-03-11\",67.6,\"OZ\",1,1.69\\r\\n',\n",
       " '86246,205,56,5610,101116616,15266,\"2012-03-11\",5,\"OZ\",1,3.29\\r\\n',\n",
       " '86246,205,36,3630,104900040,3809,\"2012-03-11\",67.6,\"OZ\",1,1.89\\r\\n',\n",
       " '86246,205,3,302,102800020,30272,\"2012-03-11\",12,\"OZ\",1,3.19\\r\\n',\n",
       " '86246,205,41,4107,102400020,4704,\"2012-03-11\",15.25,\"OZ\",2,3.39\\r\\n',\n",
       " '86246,205,9,907,107763373,17614,\"2012-03-11\",24,\"OZ\",1,2.79\\r\\n',\n",
       " '86246,205,41,4105,102400020,4704,\"2012-03-11\",28,\"OZ\",1,2.19\\r\\n',\n",
       " '86246,205,9,908,102430020,10577,\"2012-03-11\",11.39,\"OZ\",1,2.5\\r\\n',\n",
       " '86246,205,38,3801,101116616,15266,\"2012-03-11\",2,\"LB\",1,2.09\\r\\n',\n",
       " '86246,205,64,6409,108678585,17449,\"2012-03-11\",0.75,\"LT\",1,8.69\\r\\n',\n",
       " '86246,205,59,5902,103450030,10165,\"2012-03-11\",8,\"OZ\",1,2.39\\r\\n',\n",
       " '86246,205,63,6330,101116616,15266,\"2012-03-11\",16,\"OZ\",1,2.49\\r\\n',\n",
       " '86246,205,26,2630,103700030,14647,\"2012-03-11\",56,\"CT\",2,2\\r\\n',\n",
       " '86246,205,56,5620,107592575,4368,\"2012-03-11\",8,\"OZ\",1,3.19\\r\\n',\n",
       " '86246,205,23,2301,102920020,12168,\"2012-03-11\",16,\"OZ\",1,1.79\\r\\n',\n",
       " '86246,205,58,5812,105450050,1322,\"2012-03-11\",16,\"OZ\",1,3.79\\r\\n',\n",
       " '86246,205,63,6315,101116616,15266,\"2012-03-11\",128,\"OZ\",1,3.69\\r\\n',\n",
       " '86246,205,58,5823,104470040,13310,\"2012-03-11\",9,\"OZ\",2,8.58\\r\\n',\n",
       " '86246,205,57,5710,107047070,20230,\"2012-03-11\",6,\"OZ\",2,1.98\\r\\n',\n",
       " '86246,205,5,501,1088491282,8459,\"2012-03-12\",13,\"OZ\",1,4.39\\r\\n',\n",
       " '86246,205,64,6409,104198545,4071,\"2012-03-12\",1.5,\"LT\",1,7.79\\r\\n',\n",
       " '86246,205,16,1604,102200020,6021,\"2012-03-12\",15,\"CT\",1,1.29\\r\\n',\n",
       " '86246,205,27,2702,104116343,28305,\"2012-03-12\",4.4,\"LB\",1,4.09\\r\\n',\n",
       " '86246,205,32,3204,104179040,1698,\"2012-03-12\",17,\"OZ\",1,7.59\\r\\n',\n",
       " '86246,205,30,3008,104133545,43106,\"2012-03-12\",16,\"OZ\",1,3.49\\r\\n',\n",
       " '86246,205,63,6320,102685525,7667,\"2012-03-13\",18,\"CT\",1,2.79\\r\\n',\n",
       " '86246,205,26,2630,103600030,9787,\"2012-03-13\",120,\"CT\",2,4.98\\r\\n',\n",
       " '86246,205,26,2617,101090010,15232,\"2012-03-13\",1,\"CT\",1,3.99\\r\\n',\n",
       " '86246,205,33,3303,104178040,19154,\"2012-03-14\",3.25,\"OZ\",1,1\\r\\n',\n",
       " '86246,205,64,6409,104198545,4071,\"2012-03-14\",1.5,\"LT\",1,7.79\\r\\n',\n",
       " '86246,205,33,3307,104157040,2017,\"2012-03-14\",8,\"OZ\",1,3.99\\r\\n',\n",
       " '86246,205,63,6313,107020070,11244,\"2012-03-14\",15.5,\"OZ\",1,3.89\\r\\n',\n",
       " '86246,205,56,5607,101116616,15266,\"2012-03-14\",8,\"OZ\",1,2.19\\r\\n',\n",
       " '86246,205,58,5824,1076401474,304,\"2012-03-14\",12,\"OZ\",1,4.99\\r\\n',\n",
       " '86246,205,4,418,104000040,11698,\"2012-03-14\",4.62,\"OZ\",1,1.89\\r\\n',\n",
       " '86246,205,59,5902,101116616,15266,\"2012-03-14\",8,\"OZ\",1,1.89\\r\\n',\n",
       " '86246,205,55,5556,104113040,28204,\"2012-03-14\",56,\"OZ\",1,2.49\\r\\n',\n",
       " '86246,205,57,5704,105360050,10074,\"2012-03-14\",6,\"OZ\",1,0.89\\r\\n',\n",
       " '86246,205,6,610,104900040,6869,\"2012-03-14\",16,\"OZ\",1,1.59\\r\\n',\n",
       " '86246,205,63,6315,107996777,31373,\"2012-03-14\",32,\"OZ\",1,1.99\\r\\n',\n",
       " '86246,205,36,3618,104900040,23359,\"2012-03-15\",101.4,\"OZ\",1,3.99\\r\\n',\n",
       " '86246,205,64,6401,103410030,11704,\"2012-03-15\",144,\"OZ\",1,6.79\\r\\n',\n",
       " '86246,205,36,3611,104900040,4599,\"2012-03-15\",405.6,\"OZ\",1,4.99\\r\\n',\n",
       " '86246,205,56,5607,101116616,15266,\"2012-03-15\",8,\"OZ\",1,2.19\\r\\n',\n",
       " '86246,205,9,907,107021070,69929,\"2012-03-15\",24,\"OZ\",1,1.09\\r\\n',\n",
       " '86246,205,43,4302,101116616,15266,\"2012-03-15\",12,\"OZ\",1,3.19\\r\\n',\n",
       " '86246,205,44,4407,103542737,14964,\"2012-03-15\",24,\"OZ\",1,3.99\\r\\n',\n",
       " '86246,205,26,2628,103040030,17034,\"2012-03-16\",8,\"RL\",1,5.49\\r\\n',\n",
       " '86246,205,99,9908,103338333,33170,\"2012-03-16\",8,\"OZ\",1,2.19\\r\\n',\n",
       " '86246,205,74,7407,107033070,1783,\"2012-03-16\",12,\"CT\",1,3.99\\r\\n',\n",
       " '86246,205,8,805,105160050,10267,\"2012-03-16\",10,\"OZ\",1,3.89\\r\\n',\n",
       " '86246,205,29,2925,101340010,5232,\"2012-03-16\",32,\"OZ\",1,1.79\\r\\n',\n",
       " '86246,205,9,908,107731777,17055,\"2012-03-16\",25,\"OZ\",1,5.99\\r\\n',\n",
       " '86246,205,30,3008,104133545,43106,\"2012-03-17\",1.5,\"OZ\",1,0.75\\r\\n',\n",
       " '86246,205,99,9908,103338333,33170,\"2012-03-17\",16,\"OZ\",1,1.49\\r\\n',\n",
       " '86246,205,30,3010,104133545,43106,\"2012-03-17\",1.5,\"OZ\",1,0.75\\r\\n',\n",
       " '86246,205,54,5403,107142171,54806,\"2012-03-17\",14.8,\"OZ\",1,4.39\\r\\n',\n",
       " '86246,205,36,3632,107185474,74108,\"2012-03-17\",20,\"OZ\",2,2\\r\\n',\n",
       " '86246,205,99,9909,107127979,6732,\"2012-03-17\",7,\"OZ\",2,8.38\\r\\n',\n",
       " '86246,205,36,3628,101200010,12029,\"2012-03-17\",20,\"OZ\",1,1.49\\r\\n',\n",
       " '86246,205,0,0,10000,0,\"2012-03-17\",0,\"\",4,5.81\\r\\n',\n",
       " '86246,205,58,5812,101590010,1366,\"2012-03-17\",16,\"OZ\",2,3.18\\r\\n',\n",
       " '86246,205,9,907,107021070,69929,\"2012-03-17\",22,\"OZ\",1,1.5\\r\\n',\n",
       " '86246,205,64,6401,101820010,2510,\"2012-03-17\",216,\"OZ\",1,14.19\\r\\n',\n",
       " '86246,205,4,416,103400030,8247,\"2012-03-17\",1.45,\"OZ\",1,0.99\\r\\n',\n",
       " '86246,205,18,1835,104460040,9709,\"2012-03-17\",3.3,\"LB\",1,4.59\\r\\n',\n",
       " '86246,205,64,6408,101834111,1387,\"2012-03-17\",0.75,\"LT\",1,6.49\\r\\n',\n",
       " '86246,205,60,6011,101800010,14029,\"2012-03-17\",16.3,\"OZ\",4,8.79\\r\\n',\n",
       " '86246,205,64,6408,108224282,5487,\"2012-03-17\",0.75,\"LT\",1,4.99\\r\\n',\n",
       " '86246,205,24,2407,103900030,10383,\"2012-03-17\",5,\"OZ\",2,1.78\\r\\n',\n",
       " '86246,205,64,6409,108678585,40382,\"2012-03-17\",0.75,\"LT\",2,9.98\\r\\n',\n",
       " '86246,205,57,5705,103663232,4568,\"2012-03-17\",6,\"OZ\",2,1.78\\r\\n',\n",
       " '86246,205,99,9908,103338333,33170,\"2012-03-18\",160,\"OZ\",1,5.99\\r\\n',\n",
       " '86246,205,81,8101,101230010,2803,\"2012-03-18\",1,\"CT\",1,4.79\\r\\n',\n",
       " '86246,205,5,519,101116616,15266,\"2012-03-18\",12.7,\"OZ\",1,3.29\\r\\n',\n",
       " '86246,205,24,2415,103760030,11238,\"2012-03-18\",15,\"OZ\",2,3.98\\r\\n',\n",
       " '86246,205,99,9909,107143070,5072,\"2012-03-18\",22,\"OZ\",1,2.59\\r\\n',\n",
       " '86246,205,64,6409,104198545,4071,\"2012-03-18\",1.5,\"LT\",1,7.79\\r\\n',\n",
       " '86246,205,4,422,107279979,19735,\"2012-03-18\",5.5,\"OZ\",1,2.39\\r\\n',\n",
       " '86246,205,58,5833,104113040,6165,\"2012-03-18\",48,\"OZ\",1,8.89\\r\\n',\n",
       " '86246,205,4,427,103400030,8682,\"2012-03-18\",1.5,\"OZ\",1,1.99\\r\\n',\n",
       " '86246,205,81,8101,102820020,11186,\"2012-03-18\",1,\"CT\",1,4.77\\r\\n',\n",
       " '86246,205,8,801,101116616,15266,\"2012-03-18\",24,\"OZ\",1,1.67\\r\\n',\n",
       " '86246,205,24,2406,103760030,17027,\"2012-03-18\",12,\"OZ\",2,5\\r\\n',\n",
       " '86246,205,4,416,104000040,16765,\"2012-03-18\",1.76,\"OZ\",1,0.99\\r\\n',\n",
       " '86246,205,97,9753,1022020121,0,\"2012-03-18\",1,\"CT\",1,7.52\\r\\n',\n",
       " '86246,205,4,416,104000040,26517,\"2012-03-18\",1.14,\"OZ\",1,0.99\\r\\n',\n",
       " '86246,205,58,5823,107080070,16704,\"2012-03-18\",16,\"OZ\",1,4.59\\r\\n',\n",
       " '86246,205,27,2704,104113040,28204,\"2012-03-18\",64,\"OZ\",1,3.99\\r\\n',\n",
       " '86246,205,97,9716,104116343,8435,\"2012-03-18\",128,\"OZ\",1,2.69\\r\\n',\n",
       " '86246,205,29,2921,102970020,8711,\"2012-03-18\",3.95,\"OZ\",4,5\\r\\n',\n",
       " '86246,205,35,3509,109451494,20153,\"2012-03-18\",75,\"OZ\",2,6.78\\r\\n',\n",
       " '86246,205,31,3108,102460020,11990,\"2012-03-18\",26,\"OZ\",1,1.09\\r\\n',\n",
       " '86246,205,36,3601,101200010,13794,\"2012-03-19\",144,\"OZ\",1,3.99\\r\\n',\n",
       " '86246,205,55,5559,104113040,28204,\"2012-03-19\",30,\"OZ\",1,2.49\\r\\n',\n",
       " '86246,205,35,3509,1088596787,5428,\"2012-03-19\",50,\"OZ\",1,2.99\\r\\n',\n",
       " '86246,205,15,1506,101819515,16180,\"2012-03-19\",2.5,\"OZ\",2,3.58\\r\\n',\n",
       " '86246,205,35,3504,103700030,4628,\"2012-03-19\",19,\"OZ\",1,1.99\\r\\n',\n",
       " '86246,205,56,5615,101116616,15266,\"2012-03-19\",8,\"OZ\",1,3.29\\r\\n',\n",
       " '86246,205,35,3509,109451494,20153,\"2012-03-19\",75,\"OZ\",1,3.39\\r\\n',\n",
       " '86246,205,4,416,103400030,16570,\"2012-03-19\",1.4,\"OZ\",1,0.99\\r\\n',\n",
       " '86246,205,21,2105,105200050,7054,\"2012-03-19\",32,\"OZ\",8,8\\r\\n',\n",
       " '86246,205,41,4107,104430040,9977,\"2012-03-19\",14,\"OZ\",2,3.18\\r\\n',\n",
       " '86246,205,97,9753,1021017020,0,\"2012-03-19\",1,\"CT\",1,4.7\\r\\n',\n",
       " '86246,205,5,501,1087694181,13478,\"2012-03-19\",6,\"OZ\",1,1\\r\\n',\n",
       " '86246,205,58,5814,104660040,885,\"2012-03-19\",2.9,\"OZ\",1,1.39\\r\\n',\n",
       " '86246,205,63,6316,107996777,31373,\"2012-03-19\",16,\"OZ\",1,1.69\\r\\n',\n",
       " '86246,205,21,2117,102500020,26108,\"2012-03-19\",67.5,\"OZ\",1,2.89\\r\\n',\n",
       " '86246,205,64,6408,108500080,6967,\"2012-03-19\",0.75,\"LT\",1,3.99\\r\\n',\n",
       " '86246,205,59,5902,107592575,4368,\"2012-03-19\",16,\"OZ\",1,4.19\\r\\n',\n",
       " '86246,205,97,9709,104205444,6394,\"2012-03-19\",1,\"CT\",1,1.49\\r\\n',\n",
       " '86246,205,23,2301,102920020,12168,\"2012-03-19\",16,\"OZ\",2,3.58\\r\\n',\n",
       " '86246,205,67,6703,104815545,13864,\"2012-03-19\",12,\"OZ\",1,1\\r\\n',\n",
       " '86246,205,59,5907,102700020,2012,\"2012-03-19\",15,\"OZ\",1,1.85\\r\\n',\n",
       " '86246,205,10,1010,103400030,8247,\"2012-03-20\",24,\"OZ\",1,2.69\\r\\n',\n",
       " '86246,205,64,6401,107143979,15448,\"2012-03-20\",72,\"OZ\",1,5.99\\r\\n',\n",
       " '86246,205,0,0,10000,0,\"2012-03-20\",0,\"\",1,-0.22\\r\\n',\n",
       " '86246,205,36,3626,101200010,16391,\"2012-03-20\",67.6,\"OZ\",1,1.39\\r\\n',\n",
       " '86246,205,9,907,107225070,12465,\"2012-03-20\",20,\"OZ\",1,3.09\\r\\n',\n",
       " '86246,205,36,3630,107800070,5208,\"2012-03-21\",67.6,\"OZ\",1,1.69\\r\\n',\n",
       " '86246,205,99,9908,103338333,33170,\"2012-03-21\",16,\"OZ\",2,3.98\\r\\n',\n",
       " '86246,205,34,3411,107940070,17521,\"2012-03-21\",12,\"OZ\",1,2.49\\r\\n',\n",
       " '86246,205,41,4109,105100050,2820,\"2012-03-21\",11,\"OZ\",4,2.36\\r\\n',\n",
       " '86246,205,36,3630,107800070,23561,\"2012-03-21\",67.6,\"OZ\",1,1.69\\r\\n',\n",
       " '86246,205,99,9909,107143070,5072,\"2012-03-21\",22,\"OZ\",1,2.59\\r\\n',\n",
       " '86246,205,34,3410,107418272,16853,\"2012-03-21\",7.5,\"OZ\",1,2.19\\r\\n',\n",
       " '86246,205,4,418,103400030,15113,\"2012-03-21\",4.4,\"OZ\",1,1.89\\r\\n',\n",
       " '86246,205,39,3903,103000030,1058,\"2012-03-21\",12,\"OZ\",1,2.99\\r\\n',\n",
       " '86246,205,99,9909,107127979,6732,\"2012-03-21\",10,\"OZ\",1,3.69\\r\\n',\n",
       " '86246,205,36,3611,108265787,4687,\"2012-03-21\",473.2,\"OZ\",1,4.99\\r\\n',\n",
       " '86246,205,9,901,1070897171,10653,\"2012-03-21\",13.5,\"OZ\",1,3.59\\r\\n',\n",
       " '86246,205,41,4107,101116616,15266,\"2012-03-21\",15.25,\"OZ\",2,1.38\\r\\n',\n",
       " '86246,205,2,214,101600010,1910,\"2012-03-21\",5.1,\"OZ\",2,2\\r\\n',\n",
       " '86246,205,36,3629,101200010,23360,\"2012-03-21\",67.6,\"OZ\",1,1.69\\r\\n',\n",
       " '86246,205,9,902,101116616,15266,\"2012-03-21\",14.4,\"OZ\",1,3.19\\r\\n',\n",
       " '86246,205,30,3010,104100040,19975,\"2012-03-21\",8,\"OZ\",1,1.79\\r\\n',\n",
       " '86246,205,5,501,101116616,15266,\"2012-03-21\",17.3,\"OZ\",1,3.29\\r\\n',\n",
       " '86246,205,33,3308,102840020,3336,\"2012-03-21\",9.75,\"OZ\",1,3.49\\r\\n',\n",
       " '86246,205,14,1404,104113040,28204,\"2012-03-21\",48,\"OZ\",1,1.99\\r\\n',\n",
       " '86246,205,31,3108,102150020,10238,\"2012-03-21\",4,\"OZ\",1,1.99\\r\\n',\n",
       " '86246,205,8,835,101340919,17823,\"2012-03-21\",16,\"OZ\",1,2.99\\r\\n',\n",
       " '86246,205,33,3305,102840020,18584,\"2012-03-21\",10,\"OZ\",1,3.99\\r\\n',\n",
       " '86246,205,9,908,107225070,2011,\"2012-03-21\",11.5,\"OZ\",1,2.69\\r\\n',\n",
       " '86246,205,31,3101,102240020,12114,\"2012-03-21\",2.4,\"OZ\",1,2.99\\r\\n',\n",
       " '86246,205,5,501,101600010,3331,\"2012-03-21\",8.9,\"OZ\",1,3.89\\r\\n',\n",
       " '86246,205,19,1905,104180040,19713,\"2012-03-21\",18,\"OZ\",1,2.19\\r\\n',\n",
       " '86246,205,9,907,107518575,11221,\"2012-03-21\",15,\"OZ\",1,3.49\\r\\n',\n",
       " '86246,205,63,6316,107996777,31373,\"2012-03-21\",16,\"OZ\",2,3.38\\r\\n',\n",
       " '86246,205,4,405,1076020373,55784,\"2012-03-21\",9,\"OZ\",1,1\\r\\n',\n",
       " '86246,205,63,6311,107146474,2142,\"2012-03-21\",32,\"OZ\",1,5.29\\r\\n',\n",
       " '86246,205,9,908,107731777,17055,\"2012-03-21\",22,\"OZ\",1,3.99\\r\\n',\n",
       " '86246,205,97,9753,1021015020,0,\"2012-03-21\",1,\"CT\",1,7.16\\r\\n',\n",
       " '86246,205,7,707,102550020,6550,\"2012-03-21\",10.3,\"OZ\",1,4.89\\r\\n',\n",
       " '86246,205,26,2620,104116343,8435,\"2012-03-21\",20,\"CT\",1,1.79\\r\\n',\n",
       " '86246,205,4,418,103400030,8247,\"2012-03-21\",4.4,\"OZ\",2,3.98\\r\\n',\n",
       " '86246,205,64,6401,108992484,20251,\"2012-03-21\",72,\"OZ\",1,5.89\\r\\n',\n",
       " '86246,205,8,810,104140949,3957,\"2012-03-21\",1.1,\"OZ\",1,0.99\\r\\n',\n",
       " '86246,205,58,5812,105450050,1322,\"2012-03-21\",16,\"OZ\",1,5.29\\r\\n',\n",
       " '86246,205,70,7005,104650040,12977,\"2012-03-21\",6,\"OZ\",1,5.79\\r\\n',\n",
       " '86246,205,19,1908,104113040,28204,\"2012-03-21\",18,\"OZ\",1,2.79\\r\\n',\n",
       " '86246,205,75,7504,104116343,5845,\"2012-03-21\",8,\"OZ\",1,6.99\\r\\n',\n",
       " '86246,205,63,6315,101116616,15266,\"2012-03-21\",128,\"OZ\",1,3.69\\r\\n',\n",
       " '86246,205,64,6401,108992484,20251,\"2012-03-21\",288,\"OZ\",1,17.29\\r\\n',\n",
       " '86246,205,21,2105,1065762262,26129,\"2012-03-21\",16.9,\"OZ\",1,1.29\\r\\n',\n",
       " '86246,205,97,9753,1021704727,0,\"2012-03-21\",1,\"CT\",1,5.97\\r\\n',\n",
       " '86246,205,26,2609,104113040,28204,\"2012-03-21\",30,\"CT\",1,0.89\\r\\n',\n",
       " '86246,205,75,7507,1030813737,32322,\"2012-03-21\",1,\"OZ\",1,6.15\\r\\n',\n",
       " '86246,205,64,6401,101820010,31244,\"2012-03-21\",144,\"OZ\",2,21.18\\r\\n',\n",
       " '86246,205,73,7304,104110040,4082,\"2012-03-21\",20,\"CT\",1,5.75\\r\\n',\n",
       " '86246,205,73,7302,1030057333,250,\"2012-03-21\",75,\"CT\",1,7.29\\r\\n',\n",
       " '86246,205,64,6409,108312080,42566,\"2012-03-21\",0.75,\"LT\",1,4.99\\r\\n',\n",
       " '86246,205,99,9904,103338333,33170,\"2012-03-22\",48,\"OZ\",1,3.59\\r\\n',\n",
       " '86246,205,63,6315,101116616,15266,\"2012-03-22\",128,\"OZ\",1,3.69\\r\\n',\n",
       " '86246,205,51,5106,103100030,9626,\"2012-03-22\",8,\"OZ\",3,7.47\\r\\n',\n",
       " '86246,205,97,9753,1020011121,0,\"2012-03-22\",1,\"CT\",1,1.5\\r\\n',\n",
       " '86246,205,99,9908,103338333,33170,\"2012-03-22\",4,\"OZ\",1,1.49\\r\\n',\n",
       " '86246,205,9,911,104113040,15294,\"2012-03-22\",5,\"OZ\",1,2.09\\r\\n',\n",
       " '86246,205,4,416,101070010,8131,\"2012-03-22\",1.4,\"OZ\",1,0.99\\r\\n',\n",
       " '86246,205,10,1010,1060069969,55864,\"2012-03-22\",7,\"OZ\",1,1.79\\r\\n',\n",
       " '86246,205,26,2629,1067274464,4529,\"2012-03-23\",150,\"CT\",1,1\\r\\n',\n",
       " '86246,205,56,5607,101116616,15266,\"2012-03-23\",8,\"OZ\",1,2.19\\r\\n',\n",
       " '86246,205,9,912,101410010,13791,\"2012-03-23\",21,\"OZ\",1,4.49\\r\\n',\n",
       " '86246,205,33,3305,102840020,5141,\"2012-03-24\",11.5,\"OZ\",1,4.29\\r\\n',\n",
       " '86246,205,99,9908,103338333,33170,\"2012-03-24\",80,\"OZ\",1,3.29\\r\\n',\n",
       " '86246,205,33,3303,103304939,11221,\"2012-03-24\",9.5,\"OZ\",1,4.29\\r\\n',\n",
       " '86246,205,56,5615,107592575,4368,\"2012-03-24\",16,\"OZ\",1,5.89\\r\\n',\n",
       " '86246,205,31,3108,102460020,11990,\"2012-03-24\",8,\"OZ\",1,1.09\\r\\n',\n",
       " '86246,205,6,610,1071941070,24978,\"2012-03-24\",3.86,\"OZ\",1,3.99\\r\\n',\n",
       " '86246,205,33,3310,107448878,16705,\"2012-03-24\",1.75,\"OZ\",1,0.99\\r\\n',\n",
       " '86246,205,51,5117,104113040,21174,\"2012-03-24\",16.2,\"OZ\",1,5.99\\r\\n',\n",
       " '86246,205,35,3504,107261373,17576,\"2012-03-24\",25,\"OZ\",1,1\\r\\n',\n",
       " '86246,205,9,907,107763373,17614,\"2012-03-24\",18,\"OZ\",1,2.79\\r\\n',\n",
       " '86246,205,36,3630,107800070,5208,\"2012-03-24\",67.6,\"OZ\",1,1.69\\r\\n',\n",
       " '86246,205,56,5610,107592575,4368,\"2012-03-24\",8,\"OZ\",1,3.99\\r\\n',\n",
       " '86246,205,41,4105,102400020,4704,\"2012-03-24\",14.5,\"OZ\",1,1.49\\r\\n',\n",
       " '86246,205,9,901,102750020,837,\"2012-03-24\",9.25,\"OZ\",1,3.19\\r\\n',\n",
       " '86246,205,36,3632,107800070,17635,\"2012-03-24\",67.6,\"OZ\",1,1.69\\r\\n',\n",
       " '86246,205,55,5552,107144171,7675,\"2012-03-24\",48,\"OZ\",1,4.99\\r\\n',\n",
       " '86246,205,64,6401,101820010,2510,\"2012-03-24\",216,\"OZ\",1,12.99\\r\\n',\n",
       " '86246,205,9,908,107626575,35722,\"2012-03-24\",12,\"OZ\",1,2.49\\r\\n',\n",
       " '86246,205,58,5811,107929676,10737,\"2012-03-24\",7.5,\"OZ\",2,6.5\\r\\n',\n",
       " '86246,205,51,5119,104162545,26573,\"2012-03-24\",20,\"OZ\",2,11.98\\r\\n',\n",
       " '86246,205,64,6408,108500080,6967,\"2012-03-24\",0.75,\"LT\",1,3.99\\r\\n',\n",
       " '86246,205,8,814,104156545,13412,\"2012-03-24\",16,\"OZ\",1,2.99\\r\\n',\n",
       " '86246,205,22,2201,104460040,3718,\"2012-03-24\",96,\"OZ\",2,5.58\\r\\n',\n",
       " '86246,205,9,917,104335444,25412,\"2012-03-24\",17,\"OZ\",1,2.39\\r\\n',\n",
       " '86246,205,58,5812,104470040,13310,\"2012-03-24\",16,\"OZ\",1,5.19\\r\\n',\n",
       " '86246,205,8,805,102100020,3337,\"2012-03-24\",15,\"OZ\",1,4.79\\r\\n',\n",
       " '86246,205,23,2301,102920020,12168,\"2012-03-24\",16,\"OZ\",1,1.79\\r\\n',\n",
       " '86246,205,0,0,10000,0,\"2012-03-24\",0,\"\",1,5.79\\r\\n',\n",
       " '86246,205,58,5835,107790070,9200,\"2012-03-24\",16,\"OZ\",1,4.59\\r\\n',\n",
       " '86246,205,7,702,104300040,11339,\"2012-03-24\",2,\"OZ\",1,2.59\\r\\n',\n",
       " '86246,205,58,5827,104470040,13310,\"2012-03-24\",16,\"OZ\",1,5.99\\r\\n',\n",
       " '86246,205,99,9908,103338333,33170,\"2012-03-25\",8,\"OZ\",1,2.19\\r\\n',\n",
       " '86246,205,97,9753,1021013626,0,\"2012-03-25\",1,\"CT\",1,5.7\\r\\n',\n",
       " '86246,205,56,5610,107015777,18691,\"2012-03-25\",4.25,\"OZ\",1,2.99\\r\\n',\n",
       " '86246,205,26,2628,103600030,9787,\"2012-03-25\",1,\"RL\",2,2\\r\\n',\n",
       " '86246,205,99,9909,107127979,6732,\"2012-03-25\",9.8,\"OZ\",1,3.99\\r\\n',\n",
       " '86246,205,63,6320,107794373,61360,\"2012-03-25\",12,\"CT\",1,2.39\\r\\n',\n",
       " '86246,205,15,1506,101819515,16180,\"2012-03-25\",2.5,\"OZ\",1,1.79\\r\\n',\n",
       " '86246,205,59,5902,103450030,10165,\"2012-03-25\",16,\"OZ\",1,3.89\\r\\n',\n",
       " '86246,205,47,4704,101116616,15266,\"2012-03-25\",12,\"OZ\",2,3.98\\r\\n',\n",
       " '86246,205,64,6409,104198545,4071,\"2012-03-25\",1.5,\"LT\",1,7.79\\r\\n',\n",
       " '86246,205,13,1306,107101272,9680,\"2012-03-25\",5,\"LB\",1,4.39\\r\\n',\n",
       " '86246,205,23,2301,102920020,12168,\"2012-03-25\",16,\"OZ\",1,1.79\\r\\n',\n",
       " '86246,205,51,5122,107142171,14012,\"2012-03-25\",5.5,\"OZ\",1,1.25\\r\\n',\n",
       " '86246,205,64,6401,101820010,12358,\"2012-03-25\",24,\"OZ\",1,1.39\\r\\n',\n",
       " '86246,205,9,913,105960858,35802,\"2012-03-25\",12,\"OZ\",1,1.99\\r\\n',\n",
       " '86246,205,63,6305,102500020,11749,\"2012-03-25\",59,\"OZ\",1,3.95\\r\\n',\n",
       " '86246,205,56,5615,103798232,19182,\"2012-03-25\",8,\"OZ\",1,4.99\\r\\n',\n",
       " '86246,205,97,9753,1022020222,0,\"2012-03-25\",1,\"CT\",1,2.87\\r\\n',\n",
       " '86246,205,55,5558,107255474,35506,\"2012-03-25\",36.8,\"OZ\",1,6.49\\r\\n',\n",
       " '86246,205,23,2301,102920020,12168,\"2012-03-25\",8,\"OZ\",1,1.09\\r\\n',\n",
       " '86246,205,55,5560,104154848,5603,\"2012-03-25\",16.1,\"OZ\",1,3.99\\r\\n',\n",
       " '86246,205,58,5823,107740070,2500,\"2012-03-25\",4,\"OZ\",1,1.55\\r\\n',\n",
       " '86246,205,36,3635,107478070,13856,\"2012-03-25\",33.8,\"OZ\",2,3.98\\r\\n',\n",
       " '86246,205,63,6312,102500020,11749,\"2012-03-25\",59,\"OZ\",1,2.19\\r\\n',\n",
       " '86246,205,36,3618,104900040,23359,\"2012-03-25\",20,\"OZ\",1,1.69\\r\\n',\n",
       " '86246,205,37,3706,105100050,2820,\"2012-03-25\",10.75,\"OZ\",1,1.79\\r\\n',\n",
       " '86246,205,16,1604,102200020,5558,\"2012-03-26\",12,\"CT\",1,1.19\\r\\n',\n",
       " '86246,205,27,2712,103270030,7966,\"2012-03-26\",1,\"CT\",2,10.18\\r\\n',\n",
       " '86246,205,43,4302,107027272,15085,\"2012-03-26\",6.5,\"OZ\",1,2.99\\r\\n',\n",
       " '86246,205,64,6409,104198545,4071,\"2012-03-26\",1.5,\"LT\",1,7.79\\r\\n',\n",
       " '86246,205,10,1010,103400030,8247,\"2012-03-26\",24,\"OZ\",1,2.69\\r\\n',\n",
       " '86246,205,21,2116,104300040,26420,\"2012-03-26\",40.5,\"OZ\",1,1.39\\r\\n',\n",
       " '86246,205,55,5552,102073525,18893,\"2012-03-26\",48,\"OZ\",2,10.78\\r\\n',\n",
       " '86246,205,97,9753,1020011121,0,\"2012-03-26\",1,\"CT\",2,3\\r\\n',\n",
       " '86246,205,10,1006,104113040,28204,\"2012-03-26\",10,\"OZ\",1,1.39\\r\\n',\n",
       " '86246,205,63,6315,101116616,15266,\"2012-03-26\",128,\"OZ\",2,7.38\\r\\n',\n",
       " '86246,205,55,5552,102073525,18893,\"2012-03-27\",48,\"OZ\",2,10.78\\r\\n',\n",
       " '86246,205,64,6401,101820010,2510,\"2012-03-27\",216,\"OZ\",1,13.99\\r\\n',\n",
       " '86246,205,5,501,103800030,4086,\"2012-03-27\",12,\"OZ\",1,3.69\\r\\n',\n",
       " '86246,205,27,2702,101901414,8664,\"2012-03-27\",8,\"LB\",1,13.79\\r\\n',\n",
       " '86246,205,12,1206,108660080,2559,\"2012-03-27\",5,\"OZ\",1,1.99\\r\\n',\n",
       " '86246,205,26,2633,103040030,683,\"2012-03-27\",4,\"RL\",1,1.99\\r\\n',\n",
       " '86246,205,0,0,10000,0,\"2012-03-27\",0,\"\",1,-1.32\\r\\n',\n",
       " '86246,205,25,2504,101116616,15266,\"2012-03-27\",12,\"OZ\",2,2.58\\r\\n',\n",
       " '86246,205,9,902,103010030,20332,\"2012-03-27\",16,\"OZ\",1,3.19\\r\\n',\n",
       " '86246,205,29,2908,103760030,8501,\"2012-03-27\",15,\"OZ\",1,1.89\\r\\n',\n",
       " '86246,205,9,905,104300040,17447,\"2012-03-27\",6,\"OZ\",1,1.29\\r\\n',\n",
       " '86246,205,29,2908,104113040,2982,\"2012-03-27\",15,\"OZ\",1,1.99\\r\\n',\n",
       " '86246,205,4,416,103400030,2689,\"2012-03-28\",1.5,\"OZ\",3,2.07\\r\\n',\n",
       " '86246,205,36,3604,107800070,2829,\"2012-03-28\",67.6,\"OZ\",1,1.69\\r\\n',\n",
       " '86246,205,97,9753,10000,0,\"2012-03-28\",1,\"CT\",1,1.18\\r\\n',\n",
       " '86246,205,63,6315,101116616,15266,\"2012-03-28\",128,\"OZ\",2,7.38\\r\\n',\n",
       " '86246,205,25,2509,101116616,15266,\"2012-03-28\",32,\"OZ\",1,2.69\\r\\n',\n",
       " '86246,205,33,3312,103700030,14494,\"2012-03-30\",6.38,\"OZ\",1,1.99\\r\\n',\n",
       " '86246,205,81,8115,104116343,8435,\"2012-03-30\",6,\"CT\",1,1\\r\\n',\n",
       " '86246,205,36,3630,104900040,3809,\"2012-03-30\",67.6,\"OZ\",1,1.89\\r\\n',\n",
       " '86246,205,59,5907,102740020,16291,\"2012-03-30\",15,\"OZ\",1,2.89\\r\\n',\n",
       " '86246,205,36,3611,108265787,4687,\"2012-03-30\",101.4,\"OZ\",1,1\\r\\n',\n",
       " '86246,205,64,6409,108500080,1949,\"2012-03-30\",0.75,\"LT\",1,5.59\\r\\n',\n",
       " '86246,205,33,3307,107641070,10160,\"2012-03-30\",1.5,\"OZ\",2,1.98\\r\\n',\n",
       " '86246,205,25,2506,104127141,26189,\"2012-03-30\",16,\"OZ\",1,2.29\\r\\n',\n",
       " '86246,205,97,9753,1022101727,0,\"2012-03-30\",1,\"CT\",1,12.59\\r\\n',\n",
       " '86246,205,21,2114,104140949,3957,\"2012-03-30\",4.5,\"OZ\",1,0.99\\r\\n',\n",
       " '86246,205,53,5307,102880020,7907,\"2012-03-30\",8,\"OZ\",1,2.99\\r\\n',\n",
       " '86246,205,9,913,105960858,35802,\"2012-03-30\",12,\"OZ\",1,1.99\\r\\n',\n",
       " '86246,205,56,5604,107015777,18691,\"2012-03-30\",5,\"OZ\",1,2.99\\r\\n',\n",
       " '86246,205,97,9753,1021010222,0,\"2012-03-31\",1,\"CT\",2,19.97\\r\\n',\n",
       " '86246,205,99,9908,103338333,287,\"2012-03-31\",80,\"OZ\",1,3.29\\r\\n',\n",
       " '86246,205,56,5620,101116616,15266,\"2012-03-31\",8,\"OZ\",2,6.58\\r\\n',\n",
       " '86246,205,0,0,10000,0,\"2012-03-31\",0,\"\",3,37.89\\r\\n',\n",
       " '86246,205,65,6501,107891373,66738,\"2012-03-31\",9,\"OZ\",1,2.79\\r\\n',\n",
       " '86246,205,99,9908,103338333,33170,\"2012-03-31\",160,\"OZ\",1,5.99\\r\\n',\n",
       " '86246,205,25,2509,101116616,15266,\"2012-03-31\",32,\"OZ\",1,2.69\\r\\n',\n",
       " '86246,205,43,4302,107027272,15085,\"2012-03-31\",6.5,\"OZ\",1,2.99\\r\\n',\n",
       " '86246,205,97,9753,1022020222,0,\"2012-03-31\",1,\"CT\",3,8.83\\r\\n',\n",
       " '86246,205,9,901,104400040,8463,\"2012-03-31\",10,\"OZ\",1,3.59\\r\\n',\n",
       " '86246,205,58,5827,107539373,55244,\"2012-03-31\",12,\"OZ\",1,3.59\\r\\n',\n",
       " '86246,205,41,4108,102880020,7907,\"2012-03-31\",40.5,\"OZ\",1,2.99\\r\\n',\n",
       " '86246,205,63,6315,101116616,15266,\"2012-03-31\",128,\"OZ\",1,3.79\\r\\n',\n",
       " '86246,205,49,4901,104113040,28204,\"2012-03-31\",80,\"OZ\",1,3.79\\r\\n',\n",
       " '86246,205,36,3604,107800070,2829,\"2012-03-31\",67.6,\"OZ\",2,3.38\\r\\n',\n",
       " '86246,205,29,2903,106414464,3342,\"2012-03-31\",15,\"OZ\",5,5\\r\\n',\n",
       " '86246,205,35,3509,103320030,875,\"2012-03-31\",50,\"OZ\",1,5.89\\r\\n',\n",
       " '86246,205,33,3305,102840020,5141,\"2012-03-31\",1.25,\"OZ\",1,0.5\\r\\n',\n",
       " '86246,205,33,3312,103700030,14494,\"2012-03-31\",6.38,\"OZ\",1,1.99\\r\\n',\n",
       " '86246,205,36,3618,104900040,23359,\"2012-03-31\",67.6,\"OZ\",1,1.89\\r\\n',\n",
       " '86246,205,99,9908,103338333,33170,\"2012-04-01\",16,\"OZ\",1,1.49\\r\\n',\n",
       " '86246,205,35,3504,104815545,14363,\"2012-04-01\",25,\"OZ\",1,1\\r\\n',\n",
       " '86246,205,4,410,101120616,16681,\"2012-04-01\",8,\"OZ\",1,1.59\\r\\n',\n",
       " '86246,205,34,3410,1080882989,10794,\"2012-04-01\",13.5,\"OZ\",1,1\\r\\n',\n",
       " '86246,205,56,5615,107835474,2675,\"2012-04-01\",8,\"OZ\",1,3.99\\r\\n',\n",
       " '86246,205,36,3611,108265787,4687,\"2012-04-01\",142.2,\"OZ\",1,3.19\\r\\n',\n",
       " '86246,205,9,908,107731777,33170,\"2012-04-01\",25,\"OZ\",1,5.49\\r\\n',\n",
       " '86246,205,36,3611,104900040,4599,\"2012-04-01\",20,\"OZ\",1,1.69\\r\\n',\n",
       " '86246,205,45,4508,107012070,16508,\"2012-04-01\",5,\"OZ\",1,2.19\\r\\n',\n",
       " '86246,205,39,3903,103905939,17176,\"2012-04-01\",8.5,\"OZ\",1,6.99\\r\\n',\n",
       " '86246,205,0,0,10000,0,\"2012-04-01\",0,\"\",1,9.45\\r\\n',\n",
       " '86246,205,69,6901,103700030,16139,\"2012-04-01\",2.6,\"OZ\",1,2.99\\r\\n',\n",
       " '86246,205,51,5117,101116616,15266,\"2012-04-01\",20.5,\"OZ\",1,3.59\\r\\n',\n",
       " '86246,205,26,2617,1017472919,19006,\"2012-04-01\",1,\"CT\",2,2\\r\\n',\n",
       " '86246,205,9,907,101410010,13791,\"2012-04-01\",24,\"OZ\",2,7.98\\r\\n',\n",
       " '86246,205,63,6320,1076912373,2209,\"2012-04-01\",12,\"CT\",1,3.39\\r\\n',\n",
       " '86246,205,5,501,101600010,3331,\"2012-04-01\",21.6,\"OZ\",1,5.99\\r\\n',\n",
       " '86246,205,63,6315,101116616,15266,\"2012-04-01\",32,\"OZ\",1,1.69\\r\\n',\n",
       " '86246,205,9,908,107731777,17055,\"2012-04-01\",25,\"OZ\",2,11.98\\r\\n',\n",
       " '86246,205,97,9753,1021704727,0,\"2012-04-01\",1,\"CT\",1,4.68\\r\\n',\n",
       " '86246,205,2,214,107174070,20626,\"2012-04-01\",24,\"OZ\",1,3.79\\r\\n',\n",
       " '86246,205,18,1898,104116343,8435,\"2012-04-01\",12,\"CT\",1,4.99\\r\\n',\n",
       " '86246,205,5,501,101116616,15266,\"2012-04-01\",18.2,\"OZ\",1,3.79\\r\\n',\n",
       " '86246,205,81,8115,104116343,8435,\"2012-04-01\",6,\"CT\",1,1\\r\\n',\n",
       " '86246,205,6,601,107092070,17882,\"2012-04-01\",7.3,\"OZ\",1,2.79\\r\\n',\n",
       " '86246,205,58,5835,107539373,55244,\"2012-04-01\",16,\"OZ\",1,2.39\\r\\n',\n",
       " '86246,205,7,707,1087329080,9614,\"2012-04-01\",12,\"OZ\",1,7.49\\r\\n',\n",
       " '86246,205,97,9753,1020800020,0,\"2012-04-01\",1,\"CT\",1,6.99\\r\\n',\n",
       " '86246,205,5,501,101862717,9496,\"2012-04-01\",15,\"OZ\",1,4.49\\r\\n',\n",
       " '86246,205,64,6401,108066080,4098,\"2012-04-01\",72,\"OZ\",2,16.98\\r\\n',\n",
       " '86246,205,4,405,101116616,15266,\"2012-04-01\",10.5,\"OZ\",1,1.39\\r\\n',\n",
       " '86246,205,32,3202,101116616,15266,\"2012-04-01\",24,\"OZ\",1,3.09\\r\\n',\n",
       " '86246,205,4,418,103400030,57369,\"2012-04-01\",12,\"OZ\",1,4.29\\r\\n',\n",
       " '86246,205,33,3303,104178040,19154,\"2012-04-01\",10,\"OZ\",1,4.29\\r\\n',\n",
       " '86246,205,4,412,101070010,9275,\"2012-04-01\",7,\"OZ\",1,2.09\\r\\n',\n",
       " '86246,205,29,2925,101740010,11011,\"2012-04-01\",32,\"OZ\",1,2.49\\r\\n',\n",
       " '86246,205,32,3203,104815545,8105,\"2012-04-01\",5,\"OZ\",1,1\\r\\n',\n",
       " '86246,205,21,2112,103120030,12957,\"2012-04-02\",64,\"OZ\",1,4.29\\r\\n',\n",
       " '86246,205,31,3111,104150040,6714,\"2012-04-02\",6,\"OZ\",1,3.99\\r\\n',\n",
       " '86246,205,63,6323,104190040,3522,\"2012-04-02\",12,\"OZ\",1,1.39\\r\\n',\n",
       " '86246,205,33,3305,102840020,5141,\"2012-04-02\",1.25,\"OZ\",2,1\\r\\n',\n",
       " '86246,205,63,6315,101116616,15266,\"2012-04-02\",128,\"OZ\",1,3.79\\r\\n',\n",
       " '86246,205,32,3203,101116616,15266,\"2012-04-02\",6,\"OZ\",1,3.09\\r\\n',\n",
       " '86246,205,64,6406,108470484,9865,\"2012-04-02\",0.75,\"LT\",1,12.49\\r\\n',\n",
       " '86246,205,31,3101,107967979,17087,\"2012-04-02\",7,\"OZ\",1,1\\r\\n',\n",
       " '86246,205,26,2629,104116343,8435,\"2012-04-02\",200,\"CT\",1,3.49\\r\\n',\n",
       " '86246,205,33,3305,102840020,18584,\"2012-04-02\",10,\"OZ\",1,3.99\\r\\n',\n",
       " '86246,205,63,6320,102685525,7667,\"2012-04-02\",12,\"CT\",1,1.69\\r\\n',\n",
       " '86246,205,34,3410,107418272,16853,\"2012-04-02\",7.5,\"OZ\",1,2.19\\r\\n',\n",
       " '86246,205,63,6305,102500020,11749,\"2012-04-02\",59,\"OZ\",2,7.9\\r\\n',\n",
       " '86246,205,35,3504,104815545,14363,\"2012-04-02\",25,\"OZ\",1,1\\r\\n',\n",
       " '86246,205,64,6401,108992484,20251,\"2012-04-02\",144,\"OZ\",1,9.69\\r\\n',\n",
       " '86246,205,34,3411,103500030,8919,\"2012-04-02\",18,\"OZ\",1,4.89\\r\\n',\n",
       " '86246,205,26,2619,104113040,28204,\"2012-04-02\",30,\"CT\",1,2.69\\r\\n',\n",
       " '86246,205,36,3601,101200010,13794,\"2012-04-02\",144,\"OZ\",1,4.59\\r\\n',\n",
       " '86246,205,63,6316,107996777,31373,\"2012-04-02\",16,\"OZ\",1,1.69\\r\\n',\n",
       " '86246,205,35,3506,103500030,13470,\"2012-04-02\",75,\"OZ\",1,4.99\\r\\n',\n",
       " '86246,205,59,5906,104060040,26155,\"2012-04-02\",15,\"OZ\",1,3.79\\r\\n',\n",
       " '86246,205,33,3313,102840020,18584,\"2012-04-02\",15,\"OZ\",1,3.69\\r\\n',\n",
       " '86246,205,64,6409,108051686,14090,\"2012-04-02\",1.5,\"LT\",1,10.99\\r\\n',\n",
       " '86246,205,36,3611,106827464,30855,\"2012-04-02\",405.6,\"OZ\",1,3.99\\r\\n',\n",
       " '86246,205,25,2506,104127141,26189,\"2012-04-02\",16,\"OZ\",1,2.29\\r\\n',\n",
       " '86246,205,33,3315,103871838,23699,\"2012-04-02\",12,\"OZ\",1,2.99\\r\\n',\n",
       " '86246,205,97,9753,1021013424,0,\"2012-04-02\",1,\"CT\",1,4.07\\r\\n',\n",
       " '86246,205,39,3903,101116616,15266,\"2012-04-02\",12,\"OZ\",1,2.29\\r\\n',\n",
       " '86246,205,58,5814,104470040,10837,\"2012-04-02\",10.7,\"OZ\",1,3.19\\r\\n',\n",
       " '86246,205,37,3705,105100050,2820,\"2012-04-02\",18.8,\"OZ\",2,4.29\\r\\n',\n",
       " '86246,205,26,2633,104116343,8435,\"2012-04-02\",12,\"RL\",1,7.79\\r\\n',\n",
       " '86246,205,37,3705,105100050,2820,\"2012-04-02\",18.6,\"OZ\",1,1.5\\r\\n',\n",
       " '86246,205,58,5814,104470040,10837,\"2012-04-02\",8.9,\"OZ\",1,3.19\\r\\n',\n",
       " '86246,205,35,3509,104116343,8435,\"2012-04-02\",50,\"OZ\",1,4.59\\r\\n',\n",
       " '86246,205,26,2628,105400050,16048,\"2012-04-02\",1,\"RL\",1,1\\r\\n',\n",
       " '86246,205,99,9908,103338333,33170,\"2012-04-02\",8,\"OZ\",1,2.19\\r\\n',\n",
       " '86246,205,63,6311,103425636,20309,\"2012-04-02\",64,\"OZ\",1,3.59\\r\\n',\n",
       " '86246,205,55,5552,107756777,2347,\"2012-04-02\",48,\"OZ\",1,5.39\\r\\n',\n",
       " '86246,205,26,2630,103600030,9787,\"2012-04-02\",70,\"CT\",3,4.17\\r\\n',\n",
       " '86246,205,99,9904,103338333,33170,\"2012-04-02\",16,\"OZ\",1,2.99\\r\\n',\n",
       " '86246,205,62,6201,102400020,4704,\"2012-04-02\",20.5,\"OZ\",1,4.99\\r\\n',\n",
       " '86246,205,9,906,107023777,6845,\"2012-04-02\",10,\"OZ\",1,2.15\\r\\n',\n",
       " '86246,205,26,2619,101258717,7245,\"2012-04-02\",50,\"CT\",1,8.59\\r\\n',\n",
       " '86246,205,99,9908,1071651979,11085,\"2012-04-02\",12,\"OZ\",1,2.39\\r\\n',\n",
       " '86246,205,18,1835,104460040,9709,\"2012-04-02\",12.5,\"LB\",1,12.29\\r\\n',\n",
       " '86246,205,8,807,101958212,86245,\"2012-04-02\",17.5,\"OZ\",1,2.39\\r\\n',\n",
       " '86246,205,11,1102,1072277676,17117,\"2012-04-02\",1,\"CT\",1,6.79\\r\\n',\n",
       " '86246,205,4,416,103400030,2689,\"2012-04-02\",1.5,\"OZ\",1,0.69\\r\\n',\n",
       " '86246,205,9,908,105960858,33170,\"2012-04-02\",19,\"OZ\",1,3.29\\r\\n',\n",
       " '86246,205,5,501,101600010,9773,\"2012-04-02\",12,\"OZ\",1,4.19\\r\\n',\n",
       " '86246,205,9,905,104300040,17447,\"2012-04-02\",6,\"OZ\",1,2.2\\r\\n',\n",
       " '86246,205,9,901,102750020,837,\"2012-04-02\",9,\"OZ\",1,3.19\\r\\n',\n",
       " '86246,205,9,907,107518575,11221,\"2012-04-02\",18,\"OZ\",1,3.79\\r\\n',\n",
       " '86246,205,5,501,101600010,12936,\"2012-04-02\",18,\"OZ\",1,4.39\\r\\n',\n",
       " '86246,205,13,1306,101020010,19622,\"2012-04-02\",2,\"LB\",1,1.59\\r\\n',\n",
       " '86246,205,4,418,104000040,26517,\"2012-04-03\",12.6,\"OZ\",1,4.29\\r\\n',\n",
       " '86246,205,0,0,10000,0,\"2012-04-03\",0,\"\",2,-1.76\\r\\n',\n",
       " '86246,205,3,311,1064420969,5345,\"2012-04-03\",16,\"OZ\",1,2.29\\r\\n',\n",
       " '86246,205,63,6320,107794373,61360,\"2012-04-04\",12,\"CT\",1,2.39\\r\\n',\n",
       " '86246,205,99,9904,103338333,33170,\"2012-04-04\",48,\"OZ\",1,2.69\\r\\n',\n",
       " '86246,205,63,6312,105020050,52045,\"2012-04-04\",54,\"OZ\",1,3.59\\r\\n',\n",
       " '86246,205,51,5117,104113040,28204,\"2012-04-04\",6.5,\"OZ\",3,2.64\\r\\n',\n",
       " '86246,205,64,6409,108500080,11770,\"2012-04-04\",0.75,\"LT\",1,10.29\\r\\n',\n",
       " '86246,205,99,9909,107127979,6732,\"2012-04-04\",7,\"OZ\",1,4.19\\r\\n',\n",
       " '86246,205,24,2415,103900030,10383,\"2012-04-04\",15,\"OZ\",1,3.29\\r\\n',\n",
       " '86246,205,9,907,1065752262,25738,\"2012-04-04\",16,\"OZ\",1,3.49\\r\\n',\n",
       " '86246,205,97,9753,10000,0,\"2012-04-04\",1,\"CT\",1,0.69\\r\\n',\n",
       " '86246,205,41,4107,105030050,17737,\"2012-04-04\",15,\"OZ\",1,1.59\\r\\n',\n",
       " '86246,205,63,6315,101116616,15266,\"2012-04-04\",128,\"OZ\",3,11.37\\r\\n',\n",
       " '86246,205,5,501,104240040,40317,\"2012-04-04\",16.5,\"OZ\",1,3.29\\r\\n',\n",
       " '86246,205,73,7312,1031011939,1488,\"2012-04-04\",0.5,\"OZ\",1,5.59\\r\\n',\n",
       " '86246,205,41,4120,102400020,3988,\"2012-04-04\",6,\"OZ\",1,0.89\\r\\n',\n",
       " '86246,205,21,2106,104175545,10177,\"2012-04-04\",64,\"OZ\",1,3.59\\r\\n',\n",
       " '86246,205,9,907,107518575,11221,\"2012-04-04\",18,\"OZ\",1,3.79\\r\\n',\n",
       " '86246,205,63,6315,1074236575,8499,\"2012-04-04\",64,\"OZ\",1,4.59\\r\\n',\n",
       " '86246,205,56,5610,107015777,18691,\"2012-04-04\",4.25,\"OZ\",1,2.99\\r\\n',\n",
       " '86246,205,59,5902,101116616,15266,\"2012-04-04\",8,\"OZ\",1,1.89\\r\\n',\n",
       " '86246,205,5,501,101116616,15266,\"2012-04-04\",18,\"OZ\",1,3.79\\r\\n',\n",
       " '86246,205,64,6401,108834585,12595,\"2012-04-04\",72,\"OZ\",1,8.29\\r\\n',\n",
       " '86246,205,55,5552,107756777,2347,\"2012-04-04\",48,\"OZ\",1,5.39\\r\\n',\n",
       " '86246,205,26,2628,105400050,16048,\"2012-04-04\",1,\"RL\",1,1\\r\\n',\n",
       " '86246,205,9,917,1089097181,63469,\"2012-04-04\",15,\"OZ\",1,2.09\\r\\n',\n",
       " '86246,205,64,6409,108500080,15037,\"2012-04-04\",0.75,\"LT\",1,9.29\\r\\n',\n",
       " '86246,205,41,4108,102880020,7907,\"2012-04-04\",15.5,\"OZ\",2,2.3\\r\\n',\n",
       " '86246,205,58,5812,104470040,13310,\"2012-04-04\",16,\"OZ\",2,10.38\\r\\n',\n",
       " '86246,205,8,803,101116616,15266,\"2012-04-04\",8,\"OZ\",1,1.19\\r\\n',\n",
       " '86246,205,64,6401,107231171,5150,\"2012-04-04\",72,\"OZ\",1,7.79\\r\\n',\n",
       " '86246,205,56,5615,102100020,4218,\"2012-04-04\",10,\"OZ\",1,5.49\\r\\n',\n",
       " '86246,205,26,2634,103700030,3293,\"2012-04-04\",4,\"RL\",1,3.75\\r\\n',\n",
       " '86246,205,9,902,104400040,12279,\"2012-04-04\",16,\"OZ\",1,3.59\\r\\n',\n",
       " '86246,205,97,9753,1022020121,0,\"2012-04-04\",1,\"CT\",1,8.06\\r\\n',\n",
       " '86246,205,55,5556,107756777,2347,\"2012-04-04\",48,\"OZ\",1,5.39\\r\\n',\n",
       " '86246,205,57,5710,1068954464,6086,\"2012-04-04\",5.3,\"OZ\",5,7.95\\r\\n',\n",
       " '86246,205,5,516,101600010,12426,\"2012-04-04\",8.9,\"OZ\",1,3.69\\r\\n',\n",
       " '86246,205,64,6409,108678585,17449,\"2012-04-04\",0.75,\"LT\",1,8.69\\r\\n',\n",
       " '86246,205,9,908,107731777,17055,\"2012-04-04\",22,\"OZ\",1,3.99\\r\\n',\n",
       " '86246,205,25,2509,101116616,15266,\"2012-04-04\",32,\"OZ\",1,2.69\\r\\n',\n",
       " '86246,205,8,814,102066222,12598,\"2012-04-04\",16,\"OZ\",1,2.79\\r\\n',\n",
       " '86246,205,64,6401,108066080,4098,\"2012-04-04\",72,\"OZ\",1,8.49\\r\\n',\n",
       " '86246,205,9,902,104400040,15335,\"2012-04-04\",15.1,\"OZ\",1,3.99\\r\\n',\n",
       " '86246,205,56,5617,102100020,9886,\"2012-04-04\",48,\"OZ\",1,14.79\\r\\n',\n",
       " '86246,205,6,601,105000050,12547,\"2012-04-04\",7.1,\"OZ\",1,1.59\\r\\n',\n",
       " '86246,205,73,7344,101650010,25043,\"2012-04-04\",36,\"CT\",1,5.19\\r\\n',\n",
       " '86246,205,8,801,101300010,8164,\"2012-04-04\",14,\"OZ\",1,1.79\\r\\n',\n",
       " '86246,205,18,1850,102120020,16044,\"2012-04-04\",1,\"CT\",1,1\\r\\n',\n",
       " '86246,205,5,501,101600010,3331,\"2012-04-04\",8.9,\"OZ\",1,3.89\\r\\n',\n",
       " '86246,205,73,7344,102429121,7890,\"2012-04-04\",4,\"CT\",1,1\\r\\n',\n",
       " '86246,205,7,707,1078778070,12564,\"2012-04-04\",12,\"OZ\",1,7.59\\r\\n',\n",
       " '86246,205,56,5617,102100020,9886,\"2012-04-04\",16,\"OZ\",1,5.49\\r\\n',\n",
       " '86246,205,4,405,101116616,15266,\"2012-04-04\",16,\"OZ\",1,1.99\\r\\n',\n",
       " '86246,205,73,7344,103700030,14466,\"2012-04-04\",14,\"CT\",1,12.59\\r\\n',\n",
       " '86246,205,5,501,101600010,3331,\"2012-04-04\",17,\"OZ\",1,5.09\\r\\n',\n",
       " '86246,205,21,2105,105200050,7054,\"2012-04-04\",160,\"OZ\",1,5.49\\r\\n',\n",
       " '86246,205,8,805,105440050,23210,\"2012-04-04\",15,\"OZ\",1,5.39\\r\\n',\n",
       " '86246,205,63,6305,101630010,6509,\"2012-04-04\",59,\"OZ\",1,4.49\\r\\n',\n",
       " '86246,205,7,707,102550020,6550,\"2012-04-04\",10.3,\"OZ\",1,5.39\\r\\n',\n",
       " '86246,205,19,1908,105150050,16728,\"2012-04-04\",16,\"OZ\",1,3.89\\r\\n',\n",
       " '86246,205,33,3309,102840020,18584,\"2012-04-04\",13,\"OZ\",1,3.99\\r\\n',\n",
       " '86246,205,23,2301,101116616,15266,\"2012-04-04\",16,\"OZ\",1,1\\r\\n',\n",
       " '86246,205,29,2902,105100050,2820,\"2012-04-04\",19,\"OZ\",2,5.98\\r\\n',\n",
       " '86246,205,34,3411,107940070,17521,\"2012-04-04\",12,\"OZ\",2,4.98\\r\\n',\n",
       " '86246,205,33,3303,102068525,2892,\"2012-04-04\",8,\"OZ\",1,3.79\\r\\n',\n",
       " '86246,205,36,3618,107800070,4944,\"2012-04-04\",67.6,\"OZ\",3,5.07\\r\\n',\n",
       " '86246,205,27,2710,103320030,875,\"2012-04-04\",14,\"LB\",1,6.99\\r\\n',\n",
       " '86246,205,36,3618,104900040,23359,\"2012-04-04\",144,\"OZ\",1,5.79\\r\\n',\n",
       " '86246,205,29,2914,102100020,19279,\"2012-04-04\",24,\"OZ\",1,5.89\\r\\n',\n",
       " '86246,205,36,3611,108265787,4687,\"2012-04-04\",202.8,\"OZ\",1,4.49\\r\\n',\n",
       " '86246,205,30,3010,102066222,12598,\"2012-04-04\",16,\"OZ\",1,3.99\\r\\n',\n",
       " '86246,205,37,3703,101116616,15266,\"2012-04-04\",10.75,\"OZ\",2,2.18\\r\\n',\n",
       " '86246,205,33,3302,102700020,57417,\"2012-04-04\",9.9,\"OZ\",1,3.39\\r\\n',\n",
       " '86246,205,41,4105,101116616,15266,\"2012-04-04\",14.5,\"OZ\",1,1.39\\r\\n',\n",
       " '86246,205,36,3601,104900040,3809,\"2012-04-04\",20,\"OZ\",1,1.69\\r\\n',\n",
       " '86246,205,41,4105,102400020,4704,\"2012-04-04\",28,\"OZ\",1,2.19\\r\\n',\n",
       " '86246,205,33,3305,102840020,5141,\"2012-04-05\",11.5,\"OZ\",1,4.29\\r\\n',\n",
       " '86246,205,41,4107,102400020,4704,\"2012-04-05\",14.5,\"OZ\",3,5.18\\r\\n',\n",
       " '86246,205,33,3307,102900020,14112,\"2012-04-05\",16,\"OZ\",1,4.89\\r\\n',\n",
       " '86246,205,36,3611,108265787,4687,\"2012-04-05\",101.4,\"OZ\",1,1\\r\\n',\n",
       " '86246,205,33,3308,102840020,3336,\"2012-04-05\",9.75,\"OZ\",1,3.49\\r\\n',\n",
       " '86246,205,37,3707,105100050,17812,\"2012-04-05\",26,\"OZ\",5,15.45\\r\\n',\n",
       " '86246,205,30,3001,102100020,9886,\"2012-04-05\",22,\"OZ\",1,5.39\\r\\n',\n",
       " '86246,205,41,4107,101116616,15266,\"2012-04-05\",15,\"OZ\",1,1.59\\r\\n',\n",
       " '86246,205,99,9908,103338333,33170,\"2012-04-05\",16,\"OZ\",1,2.49\\r\\n',\n",
       " '86246,205,33,3351,1075491878,14283,\"2012-04-05\",7,\"OZ\",2,7.78\\r\\n',\n",
       " '86246,205,56,5609,102100020,2321,\"2012-04-05\",24,\"OZ\",1,3.79\\r\\n',\n",
       " '86246,205,72,7214,101254616,18738,\"2012-04-05\",18,\"CT\",2,2.58\\r\\n',\n",
       " '86246,205,99,9908,103338333,33170,\"2012-04-05\",24,\"OZ\",2,2.98\\r\\n',\n",
       " '86246,205,63,6315,101116616,15266,\"2012-04-05\",64,\"OZ\",1,2.69\\r\\n',\n",
       " '86246,205,9,901,1070897171,10653,\"2012-04-05\",13.5,\"OZ\",1,3.59\\r\\n',\n",
       " '86246,205,63,6330,101116616,15266,\"2012-04-05\",16,\"OZ\",1,2.39\\r\\n',\n",
       " '86246,205,56,5615,107592575,4368,\"2012-04-05\",16,\"OZ\",1,5.89\\r\\n',\n",
       " '86246,205,18,1835,104460040,9709,\"2012-04-05\",16.6,\"LB\",1,11.89\\r\\n',\n",
       " '86246,205,4,427,103400030,8682,\"2012-04-05\",1.5,\"OZ\",2,3.98\\r\\n',\n",
       " '86246,205,63,6320,102685525,7667,\"2012-04-05\",12,\"CT\",1,1.89\\r\\n',\n",
       " '86246,205,55,5556,107756777,2347,\"2012-04-05\",48,\"OZ\",2,10.78\\r\\n',\n",
       " '86246,205,63,6305,104850040,18799,\"2012-04-05\",59,\"OZ\",1,4.89\\r\\n',\n",
       " '86246,205,9,901,103010030,15828,\"2012-04-05\",13,\"OZ\",0,0\\r\\n',\n",
       " '86246,205,97,9753,10000,0,\"2012-04-05\",1,\"CT\",1,3.67\\r\\n',\n",
       " '86246,205,41,4108,103940030,71386,\"2012-04-05\",16,\"OZ\",1,1.29\\r\\n',\n",
       " '86246,205,24,2415,103760030,11238,\"2012-04-05\",15,\"OZ\",1,1.99\\r\\n',\n",
       " '86246,205,4,416,103400030,15113,\"2012-04-05\",1.2,\"OZ\",2,1.38\\r\\n',\n",
       " '86246,205,97,9709,1076746979,4607,\"2012-04-05\",1,\"CT\",2,2\\r\\n',\n",
       " '86246,205,9,908,107626575,35996,\"2012-04-05\",18,\"OZ\",1,3.29\\r\\n',\n",
       " '86246,205,57,5704,105360050,10074,\"2012-04-05\",6,\"OZ\",4,3.56\\r\\n',\n",
       " '86246,205,4,419,107726070,15624,\"2012-04-05\",3,\"OZ\",2,3.18\\r\\n',\n",
       " '86246,205,26,2634,103600030,4139,\"2012-04-05\",6,\"RL\",1,3.99\\r\\n',\n",
       " '86246,205,16,1604,101254616,18738,\"2012-04-05\",18,\"CT\",2,2.58\\r\\n',\n",
       " '86246,205,57,5707,107047070,20230,\"2012-04-05\",16,\"OZ\",1,2.49\\r\\n',\n",
       " '86246,205,4,410,107097070,13717,\"2012-04-05\",3,\"OZ\",1,1.29\\r\\n',\n",
       " '86246,205,26,2628,103700030,2248,\"2012-04-05\",1,\"RL\",1,2.39\\r\\n',\n",
       " '86246,205,9,902,102410020,44209,\"2012-04-05\",13.7,\"OZ\",1,4.49\\r\\n',\n",
       " '86246,205,63,6315,107996777,31373,\"2012-04-05\",128,\"OZ\",1,4.99\\r\\n',\n",
       " '86246,205,4,417,103400030,15113,\"2012-04-05\",2.4,\"OZ\",1,1.19\\r\\n',\n",
       " '86246,205,25,2506,104127141,26189,\"2012-04-05\",16,\"OZ\",2,4.58\\r\\n',\n",
       " '86246,205,9,902,103010030,47346,\"2012-04-05\",16,\"OZ\",1,3.99\\r\\n',\n",
       " '86246,205,18,1898,103980030,5782,\"2012-04-05\",4,\"CT\",1,5.29\\r\\n',\n",
       " '86246,205,8,803,104150040,6714,\"2012-04-05\",14,\"OZ\",1,2.09\\r\\n',\n",
       " '86246,205,26,2628,105400050,16048,\"2012-04-05\",1,\"RL\",1,1\\r\\n',\n",
       " '86246,205,14,1404,101116616,15266,\"2012-04-05\",24,\"OZ\",1,1.99\\r\\n',\n",
       " '86246,205,21,2117,108768484,2903,\"2012-04-05\",60,\"OZ\",1,3.39\\r\\n',\n",
       " '86246,205,4,416,104126949,13467,\"2012-04-05\",3,\"OZ\",1,0.99\\r\\n',\n",
       " '86246,205,26,2606,105543757,11482,\"2012-04-05\",40,\"CT\",1,2.39\\r\\n',\n",
       " '86246,205,9,901,1087627484,24123,\"2012-04-05\",10.5,\"OZ\",1,1\\r\\n',\n",
       " '86246,205,19,1905,1085736181,13478,\"2012-04-05\",16,\"OZ\",1,1.29\\r\\n',\n",
       " '86246,205,4,418,103400030,2689,\"2012-04-05\",4.8,\"OZ\",1,2.59\\r\\n',\n",
       " '86246,205,26,2631,103600030,4139,\"2012-04-05\",140,\"CT\",1,7.89\\r\\n',\n",
       " '86246,205,16,1601,101254616,2481,\"2012-04-05\",5,\"CT\",2,1.58\\r\\n',\n",
       " '86246,205,7,707,102550020,6550,\"2012-04-05\",10.8,\"OZ\",1,4.89\\r\\n',\n",
       " '86246,205,9,902,1089044484,10211,\"2012-04-05\",6,\"OZ\",1,2.99\\r\\n',\n",
       " '86246,205,63,6315,1074236575,8499,\"2012-04-06\",64,\"OZ\",1,4.59\\r\\n',\n",
       " '86246,205,99,9908,103338333,33170,\"2012-04-06\",16,\"OZ\",1,1.89\\r\\n',\n",
       " '86246,205,63,6313,107020070,11244,\"2012-04-06\",15.5,\"OZ\",1,3.89\\r\\n',\n",
       " '86246,205,55,5552,107144171,7675,\"2012-04-06\",48,\"OZ\",1,5.09\\r\\n',\n",
       " '86246,205,64,6401,108992484,20251,\"2012-04-06\",288,\"OZ\",1,17.29\\r\\n',\n",
       " '86246,205,8,803,101116616,15266,\"2012-04-06\",8,\"OZ\",1,1.19\\r\\n',\n",
       " '86246,205,26,2615,103600030,9878,\"2012-04-06\",18,\"CT\",1,3.55\\r\\n',\n",
       " '86246,205,16,1604,102200020,6021,\"2012-04-06\",15,\"CT\",1,1.29\\r\\n',\n",
       " '86246,205,97,9753,10000,0,\"2012-04-06\",1,\"CT\",1,0.69\\r\\n',\n",
       " '86246,205,4,416,103400030,8247,\"2012-04-06\",1.55,\"OZ\",4,2\\r\\n',\n",
       " '86246,205,59,5902,103450030,10165,\"2012-04-06\",16,\"OZ\",1,3.89\\r\\n',\n",
       " '86246,205,16,1604,101254616,18738,\"2012-04-06\",18,\"CT\",1,1.29\\r\\n',\n",
       " '86246,205,63,6311,104180040,19713,\"2012-04-06\",64,\"OZ\",1,3.09\\r\\n',\n",
       " '86246,205,8,803,106414464,7770,\"2012-04-06\",12,\"OZ\",1,2.69\\r\\n',\n",
       " '86246,205,33,3305,102840020,18584,\"2012-04-06\",9.75,\"OZ\",1,3.99\\r\\n',\n",
       " '86246,205,9,901,1070640979,33170,\"2012-04-06\",1.8,\"OZ\",1,1.99\\r\\n',\n",
       " '86246,205,33,3303,104178040,19154,\"2012-04-06\",3.5,\"OZ\",1,1\\r\\n',\n",
       " '86246,205,4,410,107097070,13717,\"2012-04-06\",3,\"OZ\",3,3.87\\r\\n',\n",
       " '86246,205,30,3008,107110070,8280,\"2012-04-06\",8,\"OZ\",1,2.39\\r\\n',\n",
       " '86246,205,9,901,1070897171,10653,\"2012-04-06\",15,\"OZ\",1,3.89\\r\\n',\n",
       " '86246,205,28,2806,105410050,19509,\"2012-04-06\",16,\"OZ\",1,3.39\\r\\n',\n",
       " '86246,205,8,821,104139040,9659,\"2012-04-06\",15,\"OZ\",2,5.98\\r\\n',\n",
       " '86246,205,33,3312,103700030,14494,\"2012-04-06\",6.41,\"OZ\",1,1.99\\r\\n',\n",
       " '86246,205,0,0,10000,20405,\"2012-04-06\",0,\"\",1,1.29\\r\\n',\n",
       " '86246,205,36,3611,104113040,17690,\"2012-04-06\",101.4,\"OZ\",1,1.89\\r\\n',\n",
       " '86246,205,8,826,107550070,18204,\"2012-04-06\",12,\"OZ\",1,1.79\\r\\n',\n",
       " '86246,205,8,801,101300010,8164,\"2012-04-06\",14,\"OZ\",1,1.79\\r\\n',\n",
       " '86246,205,8,807,107460979,9524,\"2012-04-06\",18,\"OZ\",1,1.5\\r\\n',\n",
       " '86246,205,4,405,1076020373,55784,\"2012-04-06\",9,\"OZ\",1,1\\r\\n',\n",
       " '86246,205,32,3203,106414464,13474,\"2012-04-07\",5,\"OZ\",1,3.69\\r\\n',\n",
       " '86246,205,99,9908,103338333,33170,\"2012-04-07\",8,\"OZ\",2,4.38\\r\\n',\n",
       " '86246,205,63,6320,107794373,61360,\"2012-04-07\",12,\"CT\",3,7.17\\r\\n',\n",
       " '86246,205,56,5614,104171646,6769,\"2012-04-07\",12,\"OZ\",1,4.59\\r\\n',\n",
       " '86246,205,25,2509,101116616,15266,\"2012-04-07\",16,\"OZ\",1,1.49\\r\\n',\n",
       " '86246,205,9,921,102560020,18051,\"2012-04-07\",4,\"OZ\",2,2.58\\r\\n',\n",
       " '86246,205,64,6401,101820010,2510,\"2012-04-07\",216,\"OZ\",2,27.98\\r\\n',\n",
       " '86246,205,2,201,105150050,14029,\"2012-04-07\",18.9,\"OZ\",1,2.19\\r\\n',\n",
       " '86246,205,56,5620,107592575,4368,\"2012-04-07\",8,\"OZ\",1,3.19\\r\\n',\n",
       " '86246,205,3,311,105210050,2732,\"2012-04-07\",4.25,\"OZ\",1,2.49\\r\\n',\n",
       " '86246,205,64,6409,101323212,41191,\"2012-04-07\",0.75,\"LT\",1,12.99\\r\\n',\n",
       " '86246,205,36,3604,107800070,16023,\"2012-04-07\",48,\"OZ\",1,2.99\\r\\n',\n",
       " '86246,205,25,2503,105000050,32115,\"2012-04-07\",16,\"OZ\",1,3.59\\r\\n',\n",
       " '86246,205,36,3611,108265787,4687,\"2012-04-07\",405.6,\"OZ\",1,6.29\\r\\n',\n",
       " '86246,205,63,6330,101116616,15266,\"2012-04-07\",8,\"OZ\",1,1.79\\r\\n',\n",
       " '86246,205,35,3504,103500030,13470,\"2012-04-07\",20,\"OZ\",1,3.19\\r\\n',\n",
       " '86246,205,63,6305,104850040,18799,\"2012-04-07\",59,\"OZ\",1,4.89\\r\\n',\n",
       " '86246,205,63,6328,102016929,16492,\"2012-04-07\",20,\"OZ\",2,5.58\\r\\n',\n",
       " '86246,205,21,2109,104180040,19713,\"2012-04-07\",64,\"OZ\",1,4.89\\r\\n',\n",
       " '86246,205,36,3632,104113040,17690,\"2012-04-08\",33.8,\"OZ\",1,1.39\\r\\n',\n",
       " '86246,205,64,6408,108072080,7265,\"2012-04-08\",1.5,\"LT\",1,4.99\\r\\n',\n",
       " '86246,205,31,3110,101600010,1756,\"2012-04-08\",4.1,\"OZ\",1,1.99\\r\\n',\n",
       " '86246,205,60,6012,101800010,14029,\"2012-04-08\",17.5,\"OZ\",1,3.99\\r\\n',\n",
       " '86246,205,30,3008,104133545,43106,\"2012-04-08\",9,\"OZ\",1,2.19\\r\\n',\n",
       " '86246,205,97,9707,107169171,15583,\"2012-04-08\",2,\"CT\",2,3\\r\\n',\n",
       " '86246,205,99,9908,103338333,33170,\"2012-04-08\",16,\"OZ\",1,2.59\\r\\n',\n",
       " '86246,205,56,5620,107592575,4368,\"2012-04-08\",8,\"OZ\",1,3.19\\r\\n',\n",
       " '86246,205,45,4509,104440040,7504,\"2012-04-08\",7.1,\"OZ\",2,7.98\\r\\n',\n",
       " '86246,205,97,9753,1020099929,0,\"2012-04-08\",1,\"CT\",2,6.6\\r\\n',\n",
       " '86246,205,9,922,102430020,10577,\"2012-04-08\",13.12,\"OZ\",1,1.79\\r\\n',\n",
       " '86246,205,60,6011,101800010,14029,\"2012-04-08\",16.3,\"OZ\",1,2.2\\r\\n',\n",
       " '86246,205,8,810,101116616,15266,\"2012-04-08\",2.5,\"OZ\",2,2.78\\r\\n',\n",
       " '86246,205,97,9753,1020800020,0,\"2012-04-08\",1,\"CT\",1,6.99\\r\\n',\n",
       " '86246,205,63,6312,102500020,2362,\"2012-04-08\",59,\"OZ\",1,1.49\\r\\n',\n",
       " '86246,205,36,3633,109879494,17367,\"2012-04-09\",48,\"OZ\",1,3.59\\r\\n',\n",
       " '86246,205,64,6408,108072080,7265,\"2012-04-09\",1.5,\"LT\",1,4.99\\r\\n',\n",
       " '86246,205,39,3903,103000030,1058,\"2012-04-09\",12,\"OZ\",1,2.99\\r\\n',\n",
       " '86246,205,25,2509,101116616,15266,\"2012-04-09\",32,\"OZ\",2,5.18\\r\\n',\n",
       " '86246,205,35,3504,104113040,28204,\"2012-04-09\",25,\"OZ\",1,0.99\\r\\n',\n",
       " '86246,205,56,5620,101116616,15266,\"2012-04-09\",8,\"OZ\",1,2.99\\r\\n',\n",
       " '86246,205,63,6315,107996777,31373,\"2012-04-09\",128,\"OZ\",1,4.99\\r\\n',\n",
       " '86246,205,33,3305,102840020,18584,\"2012-04-10\",10,\"OZ\",1,3.99\\r\\n',\n",
       " '86246,205,72,7209,1030813737,14982,\"2012-04-10\",55,\"YD\",1,1.49\\r\\n',\n",
       " '86246,205,41,4110,103940030,71386,\"2012-04-10\",28,\"OZ\",1,2.49\\r\\n',\n",
       " '86246,205,26,2633,103040030,683,\"2012-04-10\",4,\"RL\",1,1.99\\r\\n',\n",
       " '86246,205,9,908,107731777,17055,\"2012-04-10\",22,\"OZ\",1,3.99\\r\\n',\n",
       " '86246,205,64,6401,101820010,2510,\"2012-04-10\",72,\"OZ\",1,6.79\\r\\n',\n",
       " '86246,205,0,0,10000,0,\"2012-04-10\",0,\"\",1,-0.99\\r\\n',\n",
       " '86246,205,63,6315,101116616,15266,\"2012-04-10\",32,\"OZ\",1,1.59\\r\\n',\n",
       " '86246,205,64,6409,108500080,11770,\"2012-04-10\",0.75,\"LT\",1,10.29\\r\\n',\n",
       " '86246,205,25,2509,107996777,31373,\"2012-04-10\",16,\"OZ\",1,1.99\\r\\n',\n",
       " '86246,205,63,6399,107731777,33170,\"2012-04-10\",22,\"OZ\",1,4.89\\r\\n',\n",
       " '86246,205,64,6401,101820010,2510,\"2012-04-10\",216,\"OZ\",1,13.99\\r\\n',\n",
       " '86246,205,41,4105,101116616,15266,\"2012-04-12\",14.75,\"OZ\",2,2.78\\r\\n',\n",
       " '86246,205,58,5823,107367575,3012,\"2012-04-12\",5,\"OZ\",2,1.98\\r\\n',\n",
       " '86246,205,35,3509,109451494,20153,\"2012-04-12\",75,\"OZ\",1,3.39\\r\\n',\n",
       " '86246,205,73,7309,104116343,5845,\"2012-04-12\",12,\"OZ\",1,2.99\\r\\n',\n",
       " '86246,205,36,3611,104113040,17690,\"2012-04-12\",405.6,\"OZ\",1,3.99\\r\\n',\n",
       " '86246,205,26,2628,105400050,16048,\"2012-04-12\",1,\"RL\",4,4\\r\\n',\n",
       " '86246,205,56,5610,101116616,15266,\"2012-04-12\",8,\"OZ\",1,3.29\\r\\n',\n",
       " '86246,205,97,9753,1022020121,0,\"2012-04-12\",1,\"CT\",1,6.3\\r\\n',\n",
       " '86246,205,9,908,107626575,35996,\"2012-04-12\",18,\"OZ\",1,3.29\\r\\n',\n",
       " '86246,205,58,5823,107367575,3012,\"2012-04-12\",4,\"OZ\",1,0.99\\r\\n',\n",
       " '86246,205,8,807,102100020,9886,\"2012-04-12\",18,\"OZ\",1,1\\r\\n',\n",
       " '86246,205,26,2626,101258717,7245,\"2012-04-12\",1,\"CT\",1,3.69\\r\\n',\n",
       " '86246,205,9,907,107518575,11221,\"2012-04-12\",18,\"OZ\",1,3.49\\r\\n',\n",
       " '86246,205,58,5827,107389070,17549,\"2012-04-12\",16,\"OZ\",1,3.79\\r\\n',\n",
       " '86246,205,12,1205,108000080,17292,\"2012-04-12\",5,\"OZ\",2,2\\r\\n',\n",
       " '86246,205,26,2617,101090010,15232,\"2012-04-12\",1,\"CT\",1,9.29\\r\\n',\n",
       " '86246,205,33,3303,104178040,19154,\"2012-04-13\",8,\"OZ\",1,3.49\\r\\n',\n",
       " '86246,205,75,7504,104116747,2551,\"2012-04-13\",6,\"OZ\",1,10.15\\r\\n',\n",
       " '86246,205,55,5556,104113040,28204,\"2012-04-13\",128,\"OZ\",1,5.49\\r\\n',\n",
       " '86246,205,63,6315,101116616,15266,\"2012-04-13\",128,\"OZ\",1,3.79\\r\\n',\n",
       " '86246,205,9,911,104113040,15294,\"2012-04-13\",5,\"OZ\",1,2.09\\r\\n',\n",
       " '86246,205,70,7005,104650040,12977,\"2012-04-13\",18,\"OZ\",1,6.69\\r\\n',\n",
       " '86246,205,12,1205,108000080,17292,\"2012-04-13\",5,\"OZ\",1,1\\r\\n',\n",
       " '86246,205,23,2301,104113040,28204,\"2012-04-14\",12,\"OZ\",1,0.69\\r\\n',\n",
       " '86246,205,99,9904,103338333,33170,\"2012-04-14\",48,\"OZ\",1,3.59\\r\\n',\n",
       " '86246,205,64,6408,108072080,7265,\"2012-04-14\",1.5,\"LT\",1,4.99\\r\\n',\n",
       " '86246,205,55,5555,107684070,32094,\"2012-04-14\",16,\"OZ\",2,10.38\\r\\n',\n",
       " '86246,205,58,5813,1078533171,7796,\"2012-04-14\",16,\"OZ\",1,1.5\\r\\n',\n",
       " '86246,205,97,9753,1022033929,0,\"2012-04-14\",1,\"CT\",1,10.5\\r\\n',\n",
       " '86246,205,97,9753,1021015020,0,\"2012-04-14\",1,\"CT\",1,8.63\\r\\n',\n",
       " '86246,205,3,310,102900020,14112,\"2012-04-14\",2.25,\"OZ\",1,2.19\\r\\n',\n",
       " '86246,205,26,2628,103700030,2248,\"2012-04-14\",1,\"RL\",1,1\\r\\n',\n",
       " '86246,205,99,9909,107127979,6732,\"2012-04-14\",10,\"OZ\",1,3.69\\r\\n',\n",
       " '86246,205,63,6320,102685525,7667,\"2012-04-14\",30,\"CT\",1,2.99\\r\\n',\n",
       " '86246,205,47,4704,102500020,11749,\"2012-04-14\",12,\"OZ\",1,1.69\\r\\n',\n",
       " '86246,205,58,5835,107590070,2073,\"2012-04-14\",16,\"OZ\",1,3.99\\r\\n',\n",
       " '86246,205,99,9908,103338333,33170,\"2012-04-14\",160,\"OZ\",1,5.99\\r\\n',\n",
       " '86246,205,64,6401,101820010,2510,\"2012-04-14\",216,\"OZ\",1,13.99\\r\\n',\n",
       " '86246,205,9,907,107021070,69929,\"2012-04-14\",24,\"OZ\",1,1.09\\r\\n',\n",
       " '86246,205,26,2609,104116343,8435,\"2012-04-14\",40,\"CT\",1,1\\r\\n',\n",
       " '86246,205,99,9908,103338333,33170,\"2012-04-14\",8,\"OZ\",1,2.09\\r\\n',\n",
       " '86246,205,97,9753,1022020121,0,\"2012-04-14\",1,\"CT\",1,7.5\\r\\n',\n",
       " '86246,205,56,5604,107015777,18691,\"2012-04-14\",5,\"OZ\",1,2.99\\r\\n',\n",
       " '86246,205,63,6315,107996777,31373,\"2012-04-14\",32,\"OZ\",1,1.99\\r\\n',\n",
       " '86246,205,8,802,103030030,3100,\"2012-04-14\",10,\"OZ\",1,0.99\\r\\n',\n",
       " '86246,205,63,6316,101116616,15266,\"2012-04-14\",8,\"OZ\",1,1.19\\r\\n',\n",
       " '86246,205,47,4701,101116616,15266,\"2012-04-14\",12,\"OZ\",1,1.99\\r\\n',\n",
       " '86246,205,26,2633,105400050,16048,\"2012-04-14\",1,\"RL\",2,2.58\\r\\n',\n",
       " '86246,205,12,1202,107049070,61330,\"2012-04-14\",14.75,\"OZ\",1,3.69\\r\\n',\n",
       " '86246,205,63,6328,102016929,16492,\"2012-04-14\",20,\"OZ\",1,2.79\\r\\n',\n",
       " '86246,205,55,5556,104113040,28204,\"2012-04-14\",128,\"OZ\",1,5.49\\r\\n',\n",
       " '86246,205,23,2301,102920020,12168,\"2012-04-14\",16,\"OZ\",1,1.79\\r\\n',\n",
       " '86246,205,4,416,103400030,8247,\"2012-04-14\",1.45,\"OZ\",1,0.99\\r\\n',\n",
       " '86246,205,25,2504,101116616,15266,\"2012-04-14\",12,\"OZ\",2,2.58\\r\\n',\n",
       " '86246,205,9,904,101116616,15266,\"2012-04-14\",5,\"OZ\",1,1.59\\r\\n',\n",
       " '86246,205,36,3604,104113040,17690,\"2012-04-14\",67.6,\"OZ\",1,1.39\\r\\n',\n",
       " '86246,205,8,810,107110070,8280,\"2012-04-14\",1,\"OZ\",1,1.59\\r\\n',\n",
       " '86246,205,38,3801,104113040,28204,\"2012-04-14\",4,\"LB\",1,2.79\\r\\n',\n",
       " '86246,205,29,2920,102970020,8711,\"2012-04-14\",4,\"OZ\",1,1.59\\r\\n',\n",
       " '86246,205,36,3630,107800070,5208,\"2012-04-14\",144,\"OZ\",1,4.99\\r\\n',\n",
       " '86246,205,29,2904,101530010,13610,\"2012-04-14\",6.2,\"OZ\",2,2\\r\\n',\n",
       " '86246,205,32,3202,104113040,28204,\"2012-04-14\",48,\"OZ\",1,3.09\\r\\n',\n",
       " '86246,205,33,3303,104166444,7179,\"2012-04-14\",16,\"OZ\",1,3.49\\r\\n',\n",
       " '86246,205,29,2928,101530010,58299,\"2012-04-14\",7.2,\"OZ\",1,1.69\\r\\n',\n",
       " '86246,205,29,2928,107142979,20299,\"2012-04-14\",8,\"OZ\",1,2.29\\r\\n',\n",
       " '86246,205,30,3008,104100040,19975,\"2012-04-14\",16,\"OZ\",1,3.09\\r\\n',\n",
       " '86246,205,99,9904,103338333,33170,\"2012-04-15\",64,\"OZ\",1,3.99\\r\\n',\n",
       " '86246,205,30,3001,104800141,8178,\"2012-04-15\",30,\"OZ\",1,5.99\\r\\n',\n",
       " '86246,205,9,907,107312474,18613,\"2012-04-15\",10,\"OZ\",2,5.18\\r\\n',\n",
       " '86246,205,63,6332,104850040,61745,\"2012-04-15\",59,\"OZ\",1,3.49\\r\\n',\n",
       " '86246,205,8,801,101300010,8164,\"2012-04-15\",32,\"OZ\",1,3.09\\r\\n',\n",
       " '86246,205,33,3312,103700030,14494,\"2012-04-15\",6.38,\"OZ\",1,1.99\\r\\n',\n",
       " '86246,205,4,418,103400030,57369,\"2012-04-15\",12,\"OZ\",1,4.29\\r\\n',\n",
       " '86246,205,33,3312,103700030,14494,\"2012-04-15\",6.34,\"OZ\",1,1.99\\r\\n',\n",
       " '86246,205,36,3618,101200010,23361,\"2012-04-15\",20,\"OZ\",1,1.59\\r\\n',\n",
       " '86246,205,59,5907,104113040,28204,\"2012-04-16\",16,\"OZ\",3,1.99\\r\\n',\n",
       " '86246,205,34,3406,103700030,8993,\"2012-04-16\",9.3,\"OZ\",1,1.69\\r\\n',\n",
       " '86246,205,64,6408,108072080,7265,\"2012-04-16\",1.5,\"LT\",1,4.99\\r\\n',\n",
       " '86246,205,36,3601,101200010,13794,\"2012-04-16\",144,\"OZ\",1,3.99\\r\\n',\n",
       " '86246,205,71,7106,104815545,13864,\"2012-04-16\",13.5,\"OZ\",1,1\\r\\n',\n",
       " '86246,205,36,3638,1073951070,16807,\"2012-04-16\",20,\"OZ\",1,1.49\\r\\n',\n",
       " '86246,205,97,9753,1020012323,0,\"2012-04-16\",1,\"CT\",2,7.81\\r\\n',\n",
       " '86246,205,35,3509,103320030,875,\"2012-04-16\",50,\"OZ\",1,5.89\\r\\n',\n",
       " '86246,205,8,801,101116616,15266,\"2012-04-16\",24,\"OZ\",1,1.67\\r\\n',\n",
       " '86246,205,36,3612,104113040,17690,\"2012-04-19\",128,\"OZ\",1,1.09\\r\\n',\n",
       " '86246,205,8,809,103900030,10383,\"2012-04-19\",15,\"OZ\",1,1.69\\r\\n',\n",
       " '86246,205,58,5827,107389070,17549,\"2012-04-19\",16,\"OZ\",1,3.79\\r\\n',\n",
       " '86246,205,64,6408,108072080,7265,\"2012-04-19\",1.5,\"LT\",1,4.99\\r\\n',\n",
       " '86246,205,36,3601,104900040,3809,\"2012-04-20\",144,\"OZ\",4,23.16\\r\\n',\n",
       " '86246,205,18,1898,104133343,5379,\"2012-04-20\",4,\"CT\",1,5.35\\r\\n',\n",
       " '86246,205,36,3618,104900040,23359,\"2012-04-20\",144,\"OZ\",4,23.16\\r\\n',\n",
       " '86246,205,63,6315,1074236575,8499,\"2012-04-20\",64,\"OZ\",1,4.59\\r\\n',\n",
       " '86246,205,36,3626,104900040,17186,\"2012-04-20\",144,\"OZ\",2,11.58\\r\\n',\n",
       " '86246,205,25,2508,102529323,16410,\"2012-04-20\",64,\"OZ\",1,3.79\\r\\n',\n",
       " '86246,205,36,3630,104900040,12086,\"2012-04-20\",144,\"OZ\",2,11.58\\r\\n',\n",
       " '86246,205,63,6320,1076912373,2209,\"2012-04-20\",12,\"CT\",1,3.39\\r\\n',\n",
       " '86246,205,36,3611,108265787,4687,\"2012-04-20\",405.6,\"OZ\",1,6.29\\r\\n',\n",
       " '86246,205,10,1011,104300040,26232,\"2012-04-20\",22.5,\"OZ\",1,3.79\\r\\n',\n",
       " '86246,205,4,427,103400030,8682,\"2012-04-20\",1.5,\"OZ\",1,1.99\\r\\n',\n",
       " '86246,205,56,5620,107592575,4368,\"2012-04-21\",8,\"OZ\",1,3.19\\r\\n',\n",
       " '86246,205,55,5562,104148343,9547,\"2012-04-21\",48,\"OZ\",1,5.29\\r\\n',\n",
       " '86246,205,26,2619,104116343,8435,\"2012-04-21\",20,\"CT\",1,5.29\\r\\n',\n",
       " '86246,205,9,901,1081612080,36616,\"2012-04-21\",12.4,\"OZ\",1,2.99\\r\\n',\n",
       " '86246,205,60,6011,101800010,14029,\"2012-04-21\",16.3,\"OZ\",1,2.2\\r\\n',\n",
       " '86246,205,45,4509,1088505080,54337,\"2012-04-21\",32,\"OZ\",1,16.99\\r\\n',\n",
       " '86246,205,21,2106,103120030,12957,\"2012-04-21\",64,\"OZ\",1,3.99\\r\\n',\n",
       " '86246,205,8,836,101116616,15266,\"2012-04-21\",64,\"OZ\",1,2.59\\r\\n',\n",
       " '86246,205,59,5902,101116616,15266,\"2012-04-21\",8,\"OZ\",1,1.89\\r\\n',\n",
       " '86246,205,55,5556,107756777,2347,\"2012-04-21\",48,\"OZ\",1,5.39\\r\\n',\n",
       " '86246,205,21,2112,101116616,15266,\"2012-04-21\",48,\"OZ\",1,4.09\\r\\n',\n",
       " '86246,205,14,1411,102400020,4704,\"2012-04-21\",20,\"OZ\",2,3.78\\r\\n',\n",
       " '86246,205,31,3101,105250050,15919,\"2012-04-21\",3,\"OZ\",1,2.99\\r\\n',\n",
       " '86246,205,8,807,101300010,9031,\"2012-04-21\",19,\"OZ\",1,2.99\\r\\n',\n",
       " '86246,205,33,3303,104178040,19154,\"2012-04-21\",10,\"OZ\",1,4.29\\r\\n',\n",
       " '86246,205,10,1013,102400020,4704,\"2012-04-21\",18,\"OZ\",2,5.98\\r\\n',\n",
       " '86246,205,33,3313,104178040,19154,\"2012-04-21\",8.5,\"OZ\",1,2.99\\r\\n',\n",
       " '86246,205,8,838,107357070,8185,\"2012-04-21\",5,\"OZ\",1,1.49\\r\\n',\n",
       " '86246,205,9,902,104400040,15335,\"2012-04-21\",13.7,\"OZ\",1,3.99\\r\\n',\n",
       " '86246,205,8,801,104113040,28204,\"2012-04-21\",24,\"OZ\",1,0.99\\r\\n',\n",
       " '86246,205,64,6408,108072080,7265,\"2012-04-22\",1.5,\"LT\",1,4.99\\r\\n',\n",
       " '86246,205,55,5556,107756777,2347,\"2012-04-24\",48,\"OZ\",1,5.39\\r\\n',\n",
       " '86246,205,63,6315,101116616,15266,\"2012-04-24\",128,\"OZ\",1,3.79\\r\\n',\n",
       " '86246,205,14,1404,101480010,12021,\"2012-04-24\",23.4,\"OZ\",1,2.59\\r\\n',\n",
       " '86246,205,21,2106,103120030,12957,\"2012-04-24\",64,\"OZ\",1,3.99\\r\\n',\n",
       " '86246,205,55,5562,104148343,9547,\"2012-04-24\",48,\"OZ\",1,5.29\\r\\n',\n",
       " '86246,205,33,3350,107041171,22182,\"2012-04-24\",3.25,\"OZ\",4,21.16\\r\\n',\n",
       " '86246,205,0,0,10000,0,\"2012-04-24\",0,\"\",1,-1.68\\r\\n',\n",
       " '86246,205,36,3612,104113040,17690,\"2012-04-24\",128,\"OZ\",1,1.09\\r\\n',\n",
       " '86246,205,9,901,104400040,13243,\"2012-04-24\",4,\"OZ\",1,1.49\\r\\n',\n",
       " '86246,205,33,3307,102900020,14112,\"2012-04-24\",16,\"OZ\",1,4.89\\r\\n',\n",
       " '86246,205,5,516,103000030,14760,\"2012-04-24\",6.5,\"OZ\",2,6.58\\r\\n',\n",
       " '86246,205,15,1506,104114343,17593,\"2012-04-24\",7,\"OZ\",3,9.27\\r\\n',\n",
       " '86246,205,4,416,103400030,8247,\"2012-04-24\",3.92,\"OZ\",3,5.67\\r\\n',\n",
       " '86246,205,9,916,107012979,4875,\"2012-04-24\",5.25,\"OZ\",2,6.5\\r\\n',\n",
       " '86246,205,5,516,101600010,12426,\"2012-04-24\",8.9,\"OZ\",3,11.07\\r\\n',\n",
       " '86246,205,9,901,104400040,3453,\"2012-04-24\",4,\"OZ\",1,1.49\\r\\n',\n",
       " '86246,205,7,702,102800020,18041,\"2012-04-24\",1.55,\"OZ\",3,11.97\\r\\n',\n",
       " '86246,205,9,907,101410010,13791,\"2012-04-24\",24,\"OZ\",1,3.99\\r\\n',\n",
       " '86246,205,36,3626,104900040,17186,\"2012-04-25\",67.6,\"OZ\",1,1.89\\r\\n',\n",
       " '86246,205,53,5307,101116616,15266,\"2012-04-25\",32,\"OZ\",2,7.38\\r\\n',\n",
       " '86246,205,36,3601,104113040,17690,\"2012-04-25\",67.6,\"OZ\",1,1.39\\r\\n',\n",
       " '86246,205,8,807,102100020,9886,\"2012-04-25\",18,\"OZ\",1,1.79\\r\\n',\n",
       " '86246,205,33,3316,101600010,3397,\"2012-04-25\",8.75,\"OZ\",1,2.79\\r\\n',\n",
       " '86246,205,9,907,107021070,69929,\"2012-04-25\",24,\"OZ\",1,1.09\\r\\n',\n",
       " '86246,205,37,3703,105100050,2820,\"2012-04-25\",11,\"OZ\",2,3.58\\r\\n',\n",
       " '86246,205,71,7102,104815545,13864,\"2012-04-25\",15,\"OZ\",1,1\\r\\n',\n",
       " '86246,205,33,3308,104178040,19154,\"2012-04-25\",4.25,\"OZ\",1,1.69\\r\\n',\n",
       " '86246,205,58,5827,107080070,9078,\"2012-04-25\",16,\"OZ\",1,2.99\\r\\n',\n",
       " '86246,205,81,8101,102820020,11186,\"2012-04-25\",1,\"CT\",1,3.69\\r\\n',\n",
       " '86246,205,19,1906,105150050,16728,\"2012-04-25\",10,\"OZ\",1,2.89\\r\\n',\n",
       " '86246,205,64,6408,108072080,7265,\"2012-04-25\",1.5,\"LT\",1,4.99\\r\\n',\n",
       " '86246,205,63,6315,101116616,15266,\"2012-04-25\",64,\"OZ\",2,5.38\\r\\n',\n",
       " '86246,205,26,2622,102570020,20361,\"2012-04-25\",20,\"CT\",1,2.79\\r\\n',\n",
       " '86246,205,60,6012,101116616,15266,\"2012-04-25\",12.4,\"OZ\",1,2.79\\r\\n',\n",
       " '86246,205,19,1905,105150050,16728,\"2012-04-25\",12,\"OZ\",1,2.89\\r\\n',\n",
       " '86246,205,64,6408,108072080,7265,\"2012-04-26\",1.5,\"LT\",1,4.99\\r\\n',\n",
       " '86246,205,75,7520,1079336676,15541,\"2012-04-26\",400,\"CT\",1,1\\r\\n',\n",
       " '86246,205,36,3611,104113040,17690,\"2012-04-27\",405.6,\"OZ\",1,5.09\\r\\n',\n",
       " '86246,205,63,6315,101116616,15266,\"2012-04-27\",32,\"OZ\",1,1.69\\r\\n',\n",
       " '86246,205,44,4404,101800010,14029,\"2012-04-27\",25,\"OZ\",1,3.79\\r\\n',\n",
       " '86246,205,97,9753,1021011626,0,\"2012-04-27\",1,\"CT\",1,3.93\\r\\n',\n",
       " '86246,205,56,5607,102100020,13967,\"2012-04-27\",8,\"OZ\",1,2.59\\r\\n',\n",
       " '86246,205,26,2628,103700030,2248,\"2012-04-27\",1,\"RL\",1,1\\r\\n',\n",
       " '86246,205,55,5562,104148343,9547,\"2012-04-27\",48,\"OZ\",1,5.29\\r\\n',\n",
       " '86246,205,63,6319,102073525,18893,\"2012-04-27\",128,\"OZ\",1,2.99\\r\\n',\n",
       " '86246,205,44,4407,103542737,14964,\"2012-04-27\",24,\"OZ\",1,3.99\\r\\n',\n",
       " '86246,205,57,5710,107835474,2675,\"2012-04-27\",32,\"OZ\",1,4.49\\r\\n',\n",
       " '86246,205,59,5902,101116616,15266,\"2012-04-27\",16,\"OZ\",1,3.39\\r\\n',\n",
       " '86246,205,59,5907,101116616,15266,\"2012-04-27\",8,\"OZ\",1,1.09\\r\\n',\n",
       " '86246,205,0,0,10000,0,\"2012-04-28\",0,\"\",2,3.15\\r\\n',\n",
       " '86246,205,64,6409,108500080,21196,\"2012-04-28\",0.75,\"LT\",1,10.29\\r\\n',\n",
       " '86246,205,54,5403,107142171,54806,\"2012-04-28\",14.8,\"OZ\",1,4.39\\r\\n',\n",
       " '86246,205,24,2415,103900030,10383,\"2012-04-28\",12,\"OZ\",1,5.89\\r\\n',\n",
       " '86246,205,9,907,107518575,11221,\"2012-04-28\",15,\"OZ\",1,3.49\\r\\n',\n",
       " '86246,205,64,6409,108981989,21984,\"2012-04-28\",0.75,\"LT\",1,4.99\\r\\n',\n",
       " '86246,205,51,5121,104369545,8522,\"2012-04-28\",9,\"OZ\",12,34.68\\r\\n',\n",
       " '86246,205,58,5827,107175575,9933,\"2012-04-28\",24,\"OZ\",1,6.99\\r\\n',\n",
       " '86246,205,50,5002,103100030,1358,\"2012-04-28\",7,\"OZ\",4,4.36\\r\\n',\n",
       " '86246,205,63,6320,107723676,27247,\"2012-04-28\",12,\"CT\",1,2.39\\r\\n',\n",
       " '86246,205,56,5615,101116616,15266,\"2012-04-28\",8,\"OZ\",1,2.69\\r\\n',\n",
       " '86246,205,24,2407,103900030,10383,\"2012-04-28\",5,\"OZ\",5,4.45\\r\\n',\n",
       " '86246,205,49,4901,101312010,26885,\"2012-04-28\",30,\"OZ\",1,3.6\\r\\n',\n",
       " '86246,205,58,5824,107754171,17301,\"2012-04-28\",16,\"OZ\",1,2.99\\r\\n',\n",
       " '86246,205,31,3101,105210050,11382,\"2012-04-28\",0.26,\"OZ\",1,1.99\\r\\n',\n",
       " '86246,205,22,2201,104116343,8435,\"2012-04-28\",96,\"OZ\",1,2.39\\r\\n',\n",
       " '86246,205,36,3618,104900040,23359,\"2012-04-28\",20,\"OZ\",1,1.69\\r\\n',\n",
       " '86246,205,58,5835,107080070,9078,\"2012-04-28\",16,\"OZ\",1,1.5\\r\\n',\n",
       " '86246,205,33,3315,102900020,14112,\"2012-04-28\",6,\"OZ\",2,5.38\\r\\n',\n",
       " '86246,205,35,3504,104113040,28204,\"2012-04-28\",25,\"OZ\",1,0.99\\r\\n',\n",
       " '86246,205,29,2902,103760030,8501,\"2012-04-29\",15,\"OZ\",2,3\\r\\n',\n",
       " '86246,205,37,3705,105100050,2820,\"2012-04-29\",18.6,\"OZ\",2,3\\r\\n',\n",
       " '86246,205,29,2914,102100020,9886,\"2012-04-29\",5.5,\"OZ\",3,4.47\\r\\n',\n",
       " '86246,205,40,4001,101116616,15266,\"2012-04-29\",640,\"OZ\",1,5.89\\r\\n',\n",
       " '86246,205,33,3302,107615070,194,\"2012-04-29\",8.25,\"OZ\",2,4.58\\r\\n',\n",
       " '86246,205,34,3411,107940070,17521,\"2012-04-29\",12,\"OZ\",1,2.49\\r\\n',\n",
       " '86246,205,29,2903,106414464,3342,\"2012-04-29\",15,\"OZ\",5,7.48\\r\\n',\n",
       " '86246,205,35,3509,103320030,875,\"2012-04-29\",50,\"OZ\",2,11.78\\r\\n',\n",
       " '86246,205,33,3308,104178040,19154,\"2012-04-29\",4.5,\"OZ\",1,1.69\\r\\n',\n",
       " '86246,205,38,3801,104920040,5098,\"2012-04-29\",2,\"LB\",1,1.89\\r\\n',\n",
       " '86246,205,33,3303,104178040,19154,\"2012-04-29\",10,\"OZ\",2,8.58\\r\\n',\n",
       " '86246,205,37,3709,104178949,11224,\"2012-04-29\",3,\"OZ\",12,4.14\\r\\n',\n",
       " '86246,205,29,2903,105100050,72482,\"2012-04-29\",14.75,\"OZ\",3,4.47\\r\\n',\n",
       " '86246,205,35,3504,104815545,14363,\"2012-04-29\",25,\"OZ\",1,1\\r\\n',\n",
       " '86246,205,8,817,102700020,8612,\"2012-04-29\",24,\"OZ\",2,3.38\\r\\n',\n",
       " '86246,205,81,8101,1070892676,43344,\"2012-04-29\",1,\"CT\",4,11.96\\r\\n',\n",
       " '86246,205,41,4107,104113040,28204,\"2012-04-29\",14.5,\"OZ\",4,2.52\\r\\n',\n",
       " '86246,205,26,2622,104116343,8435,\"2012-04-29\",40,\"CT\",1,1.59\\r\\n',\n",
       " '86246,205,9,921,101128414,9209,\"2012-04-29\",4,\"OZ\",4,3\\r\\n',\n",
       " '86246,205,70,7002,104116343,5845,\"2012-04-29\",10,\"CT\",1,1.79\\r\\n',\n",
       " '86246,205,5,519,103000030,14760,\"2012-04-29\",15.1,\"OZ\",1,3.99\\r\\n',\n",
       " '86246,205,63,6315,101116616,15266,\"2012-04-29\",64,\"OZ\",1,2.69\\r\\n',\n",
       " '86246,205,9,902,102410020,44209,\"2012-04-29\",13.7,\"OZ\",2,9.58\\r\\n',\n",
       " '86246,205,70,7002,104116343,5845,\"2012-04-29\",1,\"CT\",2,3.18\\r\\n',\n",
       " ...]"
      ]
     },
     "execution_count": 65,
     "metadata": {},
     "output_type": "execute_result"
    }
   ],
   "source": [
    "new_array"
   ]
  },
  {
   "cell_type": "code",
   "execution_count": 66,
   "metadata": {
    "collapsed": false
   },
   "outputs": [],
   "source": [
    "new_df = pd.DataFrame?"
   ]
  },
  {
   "cell_type": "code",
   "execution_count": 70,
   "metadata": {
    "collapsed": false
   },
   "outputs": [
    {
     "data": {
      "text/html": [
       "<div style=\"max-height:1000px;max-width:1500px;overflow:auto;\">\n",
       "<table border=\"1\" class=\"dataframe\">\n",
       "  <thead>\n",
       "    <tr style=\"text-align: right;\">\n",
       "      <th></th>\n",
       "      <th>0</th>\n",
       "    </tr>\n",
       "  </thead>\n",
       "  <tbody>\n",
       "    <tr>\n",
       "      <th>0</th>\n",
       "      <td> \"id\",\"chain\",\"dept\",\"category\",\"company\",\"bran...</td>\n",
       "    </tr>\n",
       "    <tr>\n",
       "      <th>1</th>\n",
       "      <td> 86246,205,7,707,1078778070,12564,\"2012-03-02\",...</td>\n",
       "    </tr>\n",
       "    <tr>\n",
       "      <th>2</th>\n",
       "      <td> 86246,205,63,6319,107654575,17876,\"2012-03-02\"...</td>\n",
       "    </tr>\n",
       "  </tbody>\n",
       "</table>\n",
       "</div>"
      ],
      "text/plain": [
       "                                                   0\n",
       "0  \"id\",\"chain\",\"dept\",\"category\",\"company\",\"bran...\n",
       "1  86246,205,7,707,1078778070,12564,\"2012-03-02\",...\n",
       "2  86246,205,63,6319,107654575,17876,\"2012-03-02\"..."
      ]
     },
     "execution_count": 70,
     "metadata": {},
     "output_type": "execute_result"
    }
   ],
   "source": [
    "new_df = pd.DataFrame(new_array)\n",
    "new_df.head(3)"
   ]
  },
  {
   "cell_type": "code",
   "execution_count": 77,
   "metadata": {
    "collapsed": false
   },
   "outputs": [
    {
     "data": {
      "text/plain": [
       "'id'"
      ]
     },
     "execution_count": 77,
     "metadata": {},
     "output_type": "execute_result"
    }
   ],
   "source": [
    "new_df[0][0][1:3]"
   ]
  },
  {
   "cell_type": "code",
   "execution_count": 82,
   "metadata": {
    "collapsed": false
   },
   "outputs": [
    {
     "ename": "KeyError",
     "evalue": "'var1'",
     "output_type": "error",
     "traceback": [
      "\u001b[0;31m---------------------------------------------------------------------------\u001b[0m",
      "\u001b[0;31mKeyError\u001b[0m                                  Traceback (most recent call last)",
      "\u001b[0;32m<ipython-input-82-6153737f8aaf>\u001b[0m in \u001b[0;36m<module>\u001b[0;34m()\u001b[0m\n\u001b[1;32m      1\u001b[0m new_df_2 = pd.concat([Series(row['var1'], row['var2'].split(','))\n\u001b[0;32m----> 2\u001b[0;31m                       for _, row in new_df.iterrows()]).reset_index()\n\u001b[0m",
      "\u001b[0;32m//anaconda/lib/python2.7/site-packages/pandas/core/series.pyc\u001b[0m in \u001b[0;36m__getitem__\u001b[0;34m(self, key)\u001b[0m\n\u001b[1;32m    507\u001b[0m     \u001b[0;32mdef\u001b[0m \u001b[0m__getitem__\u001b[0m\u001b[0;34m(\u001b[0m\u001b[0mself\u001b[0m\u001b[0;34m,\u001b[0m \u001b[0mkey\u001b[0m\u001b[0;34m)\u001b[0m\u001b[0;34m:\u001b[0m\u001b[0;34m\u001b[0m\u001b[0m\n\u001b[1;32m    508\u001b[0m         \u001b[0;32mtry\u001b[0m\u001b[0;34m:\u001b[0m\u001b[0;34m\u001b[0m\u001b[0m\n\u001b[0;32m--> 509\u001b[0;31m             \u001b[0mresult\u001b[0m \u001b[0;34m=\u001b[0m \u001b[0mself\u001b[0m\u001b[0;34m.\u001b[0m\u001b[0mindex\u001b[0m\u001b[0;34m.\u001b[0m\u001b[0mget_value\u001b[0m\u001b[0;34m(\u001b[0m\u001b[0mself\u001b[0m\u001b[0;34m,\u001b[0m \u001b[0mkey\u001b[0m\u001b[0;34m)\u001b[0m\u001b[0;34m\u001b[0m\u001b[0m\n\u001b[0m\u001b[1;32m    510\u001b[0m \u001b[0;34m\u001b[0m\u001b[0m\n\u001b[1;32m    511\u001b[0m             \u001b[0;32mif\u001b[0m \u001b[0;32mnot\u001b[0m \u001b[0mnp\u001b[0m\u001b[0;34m.\u001b[0m\u001b[0misscalar\u001b[0m\u001b[0;34m(\u001b[0m\u001b[0mresult\u001b[0m\u001b[0;34m)\u001b[0m\u001b[0;34m:\u001b[0m\u001b[0;34m\u001b[0m\u001b[0m\n",
      "\u001b[0;32m//anaconda/lib/python2.7/site-packages/pandas/core/index.pyc\u001b[0m in \u001b[0;36mget_value\u001b[0;34m(self, series, key)\u001b[0m\n\u001b[1;32m   1415\u001b[0m \u001b[0;34m\u001b[0m\u001b[0m\n\u001b[1;32m   1416\u001b[0m         \u001b[0;32mtry\u001b[0m\u001b[0;34m:\u001b[0m\u001b[0;34m\u001b[0m\u001b[0m\n\u001b[0;32m-> 1417\u001b[0;31m             \u001b[0;32mreturn\u001b[0m \u001b[0mself\u001b[0m\u001b[0;34m.\u001b[0m\u001b[0m_engine\u001b[0m\u001b[0;34m.\u001b[0m\u001b[0mget_value\u001b[0m\u001b[0;34m(\u001b[0m\u001b[0ms\u001b[0m\u001b[0;34m,\u001b[0m \u001b[0mk\u001b[0m\u001b[0;34m)\u001b[0m\u001b[0;34m\u001b[0m\u001b[0m\n\u001b[0m\u001b[1;32m   1418\u001b[0m         \u001b[0;32mexcept\u001b[0m \u001b[0mKeyError\u001b[0m \u001b[0;32mas\u001b[0m \u001b[0me1\u001b[0m\u001b[0;34m:\u001b[0m\u001b[0;34m\u001b[0m\u001b[0m\n\u001b[1;32m   1419\u001b[0m             \u001b[0;32mif\u001b[0m \u001b[0mlen\u001b[0m\u001b[0;34m(\u001b[0m\u001b[0mself\u001b[0m\u001b[0;34m)\u001b[0m \u001b[0;34m>\u001b[0m \u001b[0;36m0\u001b[0m \u001b[0;32mand\u001b[0m \u001b[0mself\u001b[0m\u001b[0;34m.\u001b[0m\u001b[0minferred_type\u001b[0m \u001b[0;32min\u001b[0m \u001b[0;34m[\u001b[0m\u001b[0;34m'integer'\u001b[0m\u001b[0;34m,\u001b[0m\u001b[0;34m'boolean'\u001b[0m\u001b[0;34m]\u001b[0m\u001b[0;34m:\u001b[0m\u001b[0;34m\u001b[0m\u001b[0m\n",
      "\u001b[0;32mpandas/index.pyx\u001b[0m in \u001b[0;36mpandas.index.IndexEngine.get_value (pandas/index.c:3096)\u001b[0;34m()\u001b[0m\n",
      "\u001b[0;32mpandas/index.pyx\u001b[0m in \u001b[0;36mpandas.index.IndexEngine.get_value (pandas/index.c:2827)\u001b[0;34m()\u001b[0m\n",
      "\u001b[0;32mpandas/index.pyx\u001b[0m in \u001b[0;36mpandas.index.IndexEngine.get_loc (pandas/index.c:3744)\u001b[0;34m()\u001b[0m\n",
      "\u001b[0;31mKeyError\u001b[0m: 'var1'"
     ]
    }
   ],
   "source": [
    "new_df_2 = pd.concat([Series(row['var1'], row['var2'].split(','))\n",
    "                      for _, row in new_df.iterrows()]).reset_index()"
   ]
  },
  {
   "cell_type": "code",
   "execution_count": 71,
   "metadata": {
    "collapsed": false
   },
   "outputs": [],
   "source": [
    "#new_df = new_df[0].str.split(',').apply(Series,1).stack()\n",
    "#new_df"
   ]
  },
  {
   "cell_type": "code",
   "execution_count": 72,
   "metadata": {
    "collapsed": true
   },
   "outputs": [],
   "source": [
    "test_df = pd.DataFrame()"
   ]
  },
  {
   "cell_type": "code",
   "execution_count": 73,
   "metadata": {
    "collapsed": false
   },
   "outputs": [
    {
     "ename": "TypeError",
     "evalue": "cannot concatenate a non-NDFrame object",
     "output_type": "error",
     "traceback": [
      "\u001b[0;31m---------------------------------------------------------------------------\u001b[0m",
      "\u001b[0;31mTypeError\u001b[0m                                 Traceback (most recent call last)",
      "\u001b[0;32m<ipython-input-73-645e8025641a>\u001b[0m in \u001b[0;36m<module>\u001b[0;34m()\u001b[0m\n\u001b[1;32m      1\u001b[0m \u001b[0;32mwith\u001b[0m \u001b[0mopen\u001b[0m\u001b[0;34m(\u001b[0m\u001b[0;34m'/Users/rychughes/GA/AVS-Kaggle-Data/transactions-sample.csv'\u001b[0m\u001b[0;34m)\u001b[0m \u001b[0;32mas\u001b[0m \u001b[0mf\u001b[0m\u001b[0;34m:\u001b[0m\u001b[0;34m\u001b[0m\u001b[0m\n\u001b[1;32m      2\u001b[0m     \u001b[0;32mfor\u001b[0m \u001b[0mline\u001b[0m \u001b[0;32min\u001b[0m \u001b[0mf\u001b[0m\u001b[0;34m:\u001b[0m\u001b[0;34m\u001b[0m\u001b[0m\n\u001b[0;32m----> 3\u001b[0;31m         \u001b[0mtest_df\u001b[0m\u001b[0;34m.\u001b[0m\u001b[0mappend\u001b[0m\u001b[0;34m(\u001b[0m\u001b[0mline\u001b[0m\u001b[0;34m)\u001b[0m\u001b[0;34m\u001b[0m\u001b[0m\n\u001b[0m",
      "\u001b[0;32m//anaconda/lib/python2.7/site-packages/pandas/core/frame.pyc\u001b[0m in \u001b[0;36mappend\u001b[0;34m(self, other, ignore_index, verify_integrity)\u001b[0m\n\u001b[1;32m   3818\u001b[0m             \u001b[0mto_concat\u001b[0m \u001b[0;34m=\u001b[0m \u001b[0;34m[\u001b[0m\u001b[0mself\u001b[0m\u001b[0;34m,\u001b[0m \u001b[0mother\u001b[0m\u001b[0;34m]\u001b[0m\u001b[0;34m\u001b[0m\u001b[0m\n\u001b[1;32m   3819\u001b[0m         return concat(to_concat, ignore_index=ignore_index,\n\u001b[0;32m-> 3820\u001b[0;31m                       verify_integrity=verify_integrity)\n\u001b[0m\u001b[1;32m   3821\u001b[0m \u001b[0;34m\u001b[0m\u001b[0m\n\u001b[1;32m   3822\u001b[0m     def join(self, other, on=None, how='left', lsuffix='', rsuffix='',\n",
      "\u001b[0;32m//anaconda/lib/python2.7/site-packages/pandas/tools/merge.pyc\u001b[0m in \u001b[0;36mconcat\u001b[0;34m(objs, axis, join, join_axes, ignore_index, keys, levels, names, verify_integrity, copy)\u001b[0m\n\u001b[1;32m    722\u001b[0m                        \u001b[0mkeys\u001b[0m\u001b[0;34m=\u001b[0m\u001b[0mkeys\u001b[0m\u001b[0;34m,\u001b[0m \u001b[0mlevels\u001b[0m\u001b[0;34m=\u001b[0m\u001b[0mlevels\u001b[0m\u001b[0;34m,\u001b[0m \u001b[0mnames\u001b[0m\u001b[0;34m=\u001b[0m\u001b[0mnames\u001b[0m\u001b[0;34m,\u001b[0m\u001b[0;34m\u001b[0m\u001b[0m\n\u001b[1;32m    723\u001b[0m                        \u001b[0mverify_integrity\u001b[0m\u001b[0;34m=\u001b[0m\u001b[0mverify_integrity\u001b[0m\u001b[0;34m,\u001b[0m\u001b[0;34m\u001b[0m\u001b[0m\n\u001b[0;32m--> 724\u001b[0;31m                        copy=copy)\n\u001b[0m\u001b[1;32m    725\u001b[0m     \u001b[0;32mreturn\u001b[0m \u001b[0mop\u001b[0m\u001b[0;34m.\u001b[0m\u001b[0mget_result\u001b[0m\u001b[0;34m(\u001b[0m\u001b[0;34m)\u001b[0m\u001b[0;34m\u001b[0m\u001b[0m\n\u001b[1;32m    726\u001b[0m \u001b[0;34m\u001b[0m\u001b[0m\n",
      "\u001b[0;32m//anaconda/lib/python2.7/site-packages/pandas/tools/merge.pyc\u001b[0m in \u001b[0;36m__init__\u001b[0;34m(self, objs, axis, join, join_axes, keys, levels, names, ignore_index, verify_integrity, copy)\u001b[0m\n\u001b[1;32m    773\u001b[0m         \u001b[0;32mfor\u001b[0m \u001b[0mobj\u001b[0m \u001b[0;32min\u001b[0m \u001b[0mobjs\u001b[0m\u001b[0;34m:\u001b[0m\u001b[0;34m\u001b[0m\u001b[0m\n\u001b[1;32m    774\u001b[0m             \u001b[0;32mif\u001b[0m \u001b[0;32mnot\u001b[0m \u001b[0misinstance\u001b[0m\u001b[0;34m(\u001b[0m\u001b[0mobj\u001b[0m\u001b[0;34m,\u001b[0m \u001b[0mNDFrame\u001b[0m\u001b[0;34m)\u001b[0m\u001b[0;34m:\u001b[0m\u001b[0;34m\u001b[0m\u001b[0m\n\u001b[0;32m--> 775\u001b[0;31m                 \u001b[0;32mraise\u001b[0m \u001b[0mTypeError\u001b[0m\u001b[0;34m(\u001b[0m\u001b[0;34m\"cannot concatenate a non-NDFrame object\"\u001b[0m\u001b[0;34m)\u001b[0m\u001b[0;34m\u001b[0m\u001b[0m\n\u001b[0m\u001b[1;32m    776\u001b[0m \u001b[0;34m\u001b[0m\u001b[0m\n\u001b[1;32m    777\u001b[0m             \u001b[0;31m# consolidate\u001b[0m\u001b[0;34m\u001b[0m\u001b[0;34m\u001b[0m\u001b[0m\n",
      "\u001b[0;31mTypeError\u001b[0m: cannot concatenate a non-NDFrame object"
     ]
    }
   ],
   "source": [
    "with open('/Users/rychughes/GA/AVS-Kaggle-Data/transactions-sample.csv') as f:\n",
    "    for line in f:\n",
    "        test_df.append(line)"
   ]
  },
  {
   "cell_type": "code",
   "execution_count": null,
   "metadata": {
    "collapsed": true
   },
   "outputs": [],
   "source": []
  },
  {
   "cell_type": "code",
   "execution_count": null,
   "metadata": {
    "collapsed": true
   },
   "outputs": [],
   "source": []
  },
  {
   "cell_type": "code",
   "execution_count": null,
   "metadata": {
    "collapsed": true
   },
   "outputs": [],
   "source": []
  },
  {
   "cell_type": "code",
   "execution_count": 57,
   "metadata": {
    "collapsed": false
   },
   "outputs": [
    {
     "ename": "TypeError",
     "evalue": "'module' object is not callable",
     "output_type": "error",
     "traceback": [
      "\u001b[0;31m---------------------------------------------------------------------------\u001b[0m",
      "\u001b[0;31mTypeError\u001b[0m                                 Traceback (most recent call last)",
      "\u001b[0;32m<ipython-input-57-9a095dc916fc>\u001b[0m in \u001b[0;36m<module>\u001b[0;34m()\u001b[0m\n\u001b[1;32m      1\u001b[0m \u001b[0;32mimport\u001b[0m \u001b[0mStringIO\u001b[0m\u001b[0;34m\u001b[0m\u001b[0m\n\u001b[0;32m----> 2\u001b[0;31m \u001b[0mdf\u001b[0m \u001b[0;34m=\u001b[0m \u001b[0mpd\u001b[0m\u001b[0;34m.\u001b[0m\u001b[0mread_csv\u001b[0m\u001b[0;34m(\u001b[0m \u001b[0mStringIO\u001b[0m\u001b[0;34m(\u001b[0m\u001b[0mnew_array\u001b[0m\u001b[0;34m)\u001b[0m\u001b[0;34m,\u001b[0m \u001b[0mheader\u001b[0m\u001b[0;34m=\u001b[0m\u001b[0;36m1\u001b[0m\u001b[0;34m,\u001b[0m \u001b[0mdelimiter\u001b[0m\u001b[0;34m=\u001b[0m\u001b[0;34m','\u001b[0m\u001b[0;34m)\u001b[0m\u001b[0;34m\u001b[0m\u001b[0m\n\u001b[0m",
      "\u001b[0;31mTypeError\u001b[0m: 'module' object is not callable"
     ]
    }
   ],
   "source": [
    "import StringIO\n",
    "df = pd.read_csv( StringIO(new_array), header=1, delimiter=',')"
   ]
  },
  {
   "cell_type": "code",
   "execution_count": 40,
   "metadata": {
    "collapsed": false
   },
   "outputs": [
    {
     "ename": "IOError",
     "evalue": "Expected file path name or file-like object, got <class 'pandas.core.frame.DataFrame'> type",
     "output_type": "error",
     "traceback": [
      "\u001b[0;31m---------------------------------------------------------------------------\u001b[0m",
      "\u001b[0;31mIOError\u001b[0m                                   Traceback (most recent call last)",
      "\u001b[0;32m<ipython-input-40-f452a6214995>\u001b[0m in \u001b[0;36m<module>\u001b[0;34m()\u001b[0m\n\u001b[0;32m----> 1\u001b[0;31m \u001b[0mnew_df_parsed\u001b[0m \u001b[0;34m=\u001b[0m \u001b[0mpd\u001b[0m\u001b[0;34m.\u001b[0m\u001b[0mread_table\u001b[0m\u001b[0;34m(\u001b[0m\u001b[0mnew_df\u001b[0m\u001b[0;34m,\u001b[0m \u001b[0msep\u001b[0m\u001b[0;34m=\u001b[0m\u001b[0;34m','\u001b[0m\u001b[0;34m)\u001b[0m\u001b[0;34m\u001b[0m\u001b[0m\n\u001b[0m\u001b[1;32m      2\u001b[0m \u001b[0;31m#pd.DataFrame([x.split(',') for x in new_df])\u001b[0m\u001b[0;34m\u001b[0m\u001b[0;34m\u001b[0m\u001b[0m\n\u001b[1;32m      3\u001b[0m \u001b[0mnew_df_parsed\u001b[0m\u001b[0;34m\u001b[0m\u001b[0m\n",
      "\u001b[0;32m//anaconda/lib/python2.7/site-packages/pandas/io/parsers.pyc\u001b[0m in \u001b[0;36mparser_f\u001b[0;34m(filepath_or_buffer, sep, dialect, compression, doublequote, escapechar, quotechar, quoting, skipinitialspace, lineterminator, header, index_col, names, prefix, skiprows, skipfooter, skip_footer, na_values, na_fvalues, true_values, false_values, delimiter, converters, dtype, usecols, engine, delim_whitespace, as_recarray, na_filter, compact_ints, use_unsigned, low_memory, buffer_lines, warn_bad_lines, error_bad_lines, keep_default_na, thousands, comment, decimal, parse_dates, keep_date_col, dayfirst, date_parser, memory_map, float_precision, nrows, iterator, chunksize, verbose, encoding, squeeze, mangle_dupe_cols, tupleize_cols, infer_datetime_format, skip_blank_lines)\u001b[0m\n\u001b[1;32m    463\u001b[0m                     skip_blank_lines=skip_blank_lines)\n\u001b[1;32m    464\u001b[0m \u001b[0;34m\u001b[0m\u001b[0m\n\u001b[0;32m--> 465\u001b[0;31m         \u001b[0;32mreturn\u001b[0m \u001b[0m_read\u001b[0m\u001b[0;34m(\u001b[0m\u001b[0mfilepath_or_buffer\u001b[0m\u001b[0;34m,\u001b[0m \u001b[0mkwds\u001b[0m\u001b[0;34m)\u001b[0m\u001b[0;34m\u001b[0m\u001b[0m\n\u001b[0m\u001b[1;32m    466\u001b[0m \u001b[0;34m\u001b[0m\u001b[0m\n\u001b[1;32m    467\u001b[0m     \u001b[0mparser_f\u001b[0m\u001b[0;34m.\u001b[0m\u001b[0m__name__\u001b[0m \u001b[0;34m=\u001b[0m \u001b[0mname\u001b[0m\u001b[0;34m\u001b[0m\u001b[0m\n",
      "\u001b[0;32m//anaconda/lib/python2.7/site-packages/pandas/io/parsers.pyc\u001b[0m in \u001b[0;36m_read\u001b[0;34m(filepath_or_buffer, kwds)\u001b[0m\n\u001b[1;32m    239\u001b[0m \u001b[0;34m\u001b[0m\u001b[0m\n\u001b[1;32m    240\u001b[0m     \u001b[0;31m# Create the parser.\u001b[0m\u001b[0;34m\u001b[0m\u001b[0;34m\u001b[0m\u001b[0m\n\u001b[0;32m--> 241\u001b[0;31m     \u001b[0mparser\u001b[0m \u001b[0;34m=\u001b[0m \u001b[0mTextFileReader\u001b[0m\u001b[0;34m(\u001b[0m\u001b[0mfilepath_or_buffer\u001b[0m\u001b[0;34m,\u001b[0m \u001b[0;34m**\u001b[0m\u001b[0mkwds\u001b[0m\u001b[0;34m)\u001b[0m\u001b[0;34m\u001b[0m\u001b[0m\n\u001b[0m\u001b[1;32m    242\u001b[0m \u001b[0;34m\u001b[0m\u001b[0m\n\u001b[1;32m    243\u001b[0m     \u001b[0;32mif\u001b[0m \u001b[0;34m(\u001b[0m\u001b[0mnrows\u001b[0m \u001b[0;32mis\u001b[0m \u001b[0;32mnot\u001b[0m \u001b[0mNone\u001b[0m\u001b[0;34m)\u001b[0m \u001b[0;32mand\u001b[0m \u001b[0;34m(\u001b[0m\u001b[0mchunksize\u001b[0m \u001b[0;32mis\u001b[0m \u001b[0;32mnot\u001b[0m \u001b[0mNone\u001b[0m\u001b[0;34m)\u001b[0m\u001b[0;34m:\u001b[0m\u001b[0;34m\u001b[0m\u001b[0m\n",
      "\u001b[0;32m//anaconda/lib/python2.7/site-packages/pandas/io/parsers.pyc\u001b[0m in \u001b[0;36m__init__\u001b[0;34m(self, f, engine, **kwds)\u001b[0m\n\u001b[1;32m    555\u001b[0m             \u001b[0mself\u001b[0m\u001b[0;34m.\u001b[0m\u001b[0moptions\u001b[0m\u001b[0;34m[\u001b[0m\u001b[0;34m'has_index_names'\u001b[0m\u001b[0;34m]\u001b[0m \u001b[0;34m=\u001b[0m \u001b[0mkwds\u001b[0m\u001b[0;34m[\u001b[0m\u001b[0;34m'has_index_names'\u001b[0m\u001b[0;34m]\u001b[0m\u001b[0;34m\u001b[0m\u001b[0m\n\u001b[1;32m    556\u001b[0m \u001b[0;34m\u001b[0m\u001b[0m\n\u001b[0;32m--> 557\u001b[0;31m         \u001b[0mself\u001b[0m\u001b[0;34m.\u001b[0m\u001b[0m_make_engine\u001b[0m\u001b[0;34m(\u001b[0m\u001b[0mself\u001b[0m\u001b[0;34m.\u001b[0m\u001b[0mengine\u001b[0m\u001b[0;34m)\u001b[0m\u001b[0;34m\u001b[0m\u001b[0m\n\u001b[0m\u001b[1;32m    558\u001b[0m \u001b[0;34m\u001b[0m\u001b[0m\n\u001b[1;32m    559\u001b[0m     \u001b[0;32mdef\u001b[0m \u001b[0m_get_options_with_defaults\u001b[0m\u001b[0;34m(\u001b[0m\u001b[0mself\u001b[0m\u001b[0;34m,\u001b[0m \u001b[0mengine\u001b[0m\u001b[0;34m)\u001b[0m\u001b[0;34m:\u001b[0m\u001b[0;34m\u001b[0m\u001b[0m\n",
      "\u001b[0;32m//anaconda/lib/python2.7/site-packages/pandas/io/parsers.pyc\u001b[0m in \u001b[0;36m_make_engine\u001b[0;34m(self, engine)\u001b[0m\n\u001b[1;32m    692\u001b[0m     \u001b[0;32mdef\u001b[0m \u001b[0m_make_engine\u001b[0m\u001b[0;34m(\u001b[0m\u001b[0mself\u001b[0m\u001b[0;34m,\u001b[0m \u001b[0mengine\u001b[0m\u001b[0;34m=\u001b[0m\u001b[0;34m'c'\u001b[0m\u001b[0;34m)\u001b[0m\u001b[0;34m:\u001b[0m\u001b[0;34m\u001b[0m\u001b[0m\n\u001b[1;32m    693\u001b[0m         \u001b[0;32mif\u001b[0m \u001b[0mengine\u001b[0m \u001b[0;34m==\u001b[0m \u001b[0;34m'c'\u001b[0m\u001b[0;34m:\u001b[0m\u001b[0;34m\u001b[0m\u001b[0m\n\u001b[0;32m--> 694\u001b[0;31m             \u001b[0mself\u001b[0m\u001b[0;34m.\u001b[0m\u001b[0m_engine\u001b[0m \u001b[0;34m=\u001b[0m \u001b[0mCParserWrapper\u001b[0m\u001b[0;34m(\u001b[0m\u001b[0mself\u001b[0m\u001b[0;34m.\u001b[0m\u001b[0mf\u001b[0m\u001b[0;34m,\u001b[0m \u001b[0;34m**\u001b[0m\u001b[0mself\u001b[0m\u001b[0;34m.\u001b[0m\u001b[0moptions\u001b[0m\u001b[0;34m)\u001b[0m\u001b[0;34m\u001b[0m\u001b[0m\n\u001b[0m\u001b[1;32m    695\u001b[0m         \u001b[0;32melse\u001b[0m\u001b[0;34m:\u001b[0m\u001b[0;34m\u001b[0m\u001b[0m\n\u001b[1;32m    696\u001b[0m             \u001b[0;32mif\u001b[0m \u001b[0mengine\u001b[0m \u001b[0;34m==\u001b[0m \u001b[0;34m'python'\u001b[0m\u001b[0;34m:\u001b[0m\u001b[0;34m\u001b[0m\u001b[0m\n",
      "\u001b[0;32m//anaconda/lib/python2.7/site-packages/pandas/io/parsers.pyc\u001b[0m in \u001b[0;36m__init__\u001b[0;34m(self, src, **kwds)\u001b[0m\n\u001b[1;32m   1059\u001b[0m         \u001b[0mkwds\u001b[0m\u001b[0;34m[\u001b[0m\u001b[0;34m'allow_leading_cols'\u001b[0m\u001b[0;34m]\u001b[0m \u001b[0;34m=\u001b[0m \u001b[0mself\u001b[0m\u001b[0;34m.\u001b[0m\u001b[0mindex_col\u001b[0m \u001b[0;32mis\u001b[0m \u001b[0;32mnot\u001b[0m \u001b[0mFalse\u001b[0m\u001b[0;34m\u001b[0m\u001b[0m\n\u001b[1;32m   1060\u001b[0m \u001b[0;34m\u001b[0m\u001b[0m\n\u001b[0;32m-> 1061\u001b[0;31m         \u001b[0mself\u001b[0m\u001b[0;34m.\u001b[0m\u001b[0m_reader\u001b[0m \u001b[0;34m=\u001b[0m \u001b[0m_parser\u001b[0m\u001b[0;34m.\u001b[0m\u001b[0mTextReader\u001b[0m\u001b[0;34m(\u001b[0m\u001b[0msrc\u001b[0m\u001b[0;34m,\u001b[0m \u001b[0;34m**\u001b[0m\u001b[0mkwds\u001b[0m\u001b[0;34m)\u001b[0m\u001b[0;34m\u001b[0m\u001b[0m\n\u001b[0m\u001b[1;32m   1062\u001b[0m \u001b[0;34m\u001b[0m\u001b[0m\n\u001b[1;32m   1063\u001b[0m         \u001b[0;31m# XXX\u001b[0m\u001b[0;34m\u001b[0m\u001b[0;34m\u001b[0m\u001b[0m\n",
      "\u001b[0;32mpandas/parser.pyx\u001b[0m in \u001b[0;36mpandas.parser.TextReader.__cinit__ (pandas/parser.c:3150)\u001b[0;34m()\u001b[0m\n",
      "\u001b[0;32mpandas/parser.pyx\u001b[0m in \u001b[0;36mpandas.parser.TextReader._setup_parser_source (pandas/parser.c:5901)\u001b[0;34m()\u001b[0m\n",
      "\u001b[0;31mIOError\u001b[0m: Expected file path name or file-like object, got <class 'pandas.core.frame.DataFrame'> type"
     ]
    }
   ],
   "source": [
    "new_df_parsed = pd.read_table(new_df, sep=',')\n",
    "#pd.DataFrame([x.split(',') for x in new_df])\n",
    "new_df_parsed"
   ]
  },
  {
   "cell_type": "code",
   "execution_count": null,
   "metadata": {
    "collapsed": true
   },
   "outputs": [],
   "source": [
    "new_df"
   ]
  },
  {
   "cell_type": "code",
   "execution_count": 19,
   "metadata": {
    "collapsed": false
   },
   "outputs": [
    {
     "ename": "KeyError",
     "evalue": "'key'",
     "output_type": "error",
     "traceback": [
      "\u001b[0;31m---------------------------------------------------------------------------\u001b[0m",
      "\u001b[0;31mKeyError\u001b[0m                                  Traceback (most recent call last)",
      "\u001b[0;32m<ipython-input-19-c124bb9e130a>\u001b[0m in \u001b[0;36m<module>\u001b[0;34m()\u001b[0m\n\u001b[1;32m      1\u001b[0m \u001b[0mtot\u001b[0m \u001b[0;34m=\u001b[0m \u001b[0mSeries\u001b[0m\u001b[0;34m(\u001b[0m\u001b[0;34m[\u001b[0m\u001b[0;34m]\u001b[0m\u001b[0;34m)\u001b[0m\u001b[0;34m\u001b[0m\u001b[0m\n\u001b[1;32m      2\u001b[0m \u001b[0;32mfor\u001b[0m \u001b[0mpiece\u001b[0m \u001b[0;32min\u001b[0m \u001b[0mchunker\u001b[0m\u001b[0;34m:\u001b[0m\u001b[0;34m\u001b[0m\u001b[0m\n\u001b[0;32m----> 3\u001b[0;31m     \u001b[0mtot\u001b[0m \u001b[0;34m=\u001b[0m \u001b[0mtot\u001b[0m\u001b[0;34m.\u001b[0m\u001b[0madd\u001b[0m\u001b[0;34m(\u001b[0m \u001b[0mpiece\u001b[0m\u001b[0;34m[\u001b[0m\u001b[0;34m'key'\u001b[0m\u001b[0;34m]\u001b[0m\u001b[0;34m.\u001b[0m\u001b[0mvalue_counts\u001b[0m\u001b[0;34m(\u001b[0m\u001b[0;34m)\u001b[0m\u001b[0;34m,\u001b[0m \u001b[0mfill_value\u001b[0m\u001b[0;34m=\u001b[0m\u001b[0;36m0\u001b[0m\u001b[0;34m)\u001b[0m\u001b[0;34m\u001b[0m\u001b[0m\n\u001b[0m\u001b[1;32m      4\u001b[0m \u001b[0;34m\u001b[0m\u001b[0m\n\u001b[1;32m      5\u001b[0m \u001b[0mtot\u001b[0m \u001b[0;34m=\u001b[0m \u001b[0mtot\u001b[0m\u001b[0;34m.\u001b[0m\u001b[0morder\u001b[0m\u001b[0;34m(\u001b[0m\u001b[0mascendending\u001b[0m\u001b[0;34m=\u001b[0m\u001b[0mFalse\u001b[0m\u001b[0;34m)\u001b[0m\u001b[0;34m\u001b[0m\u001b[0m\n",
      "\u001b[0;32m//anaconda/lib/python2.7/site-packages/pandas/core/frame.pyc\u001b[0m in \u001b[0;36m__getitem__\u001b[0;34m(self, key)\u001b[0m\n\u001b[1;32m   1778\u001b[0m             \u001b[0;32mreturn\u001b[0m \u001b[0mself\u001b[0m\u001b[0;34m.\u001b[0m\u001b[0m_getitem_multilevel\u001b[0m\u001b[0;34m(\u001b[0m\u001b[0mkey\u001b[0m\u001b[0;34m)\u001b[0m\u001b[0;34m\u001b[0m\u001b[0m\n\u001b[1;32m   1779\u001b[0m         \u001b[0;32melse\u001b[0m\u001b[0;34m:\u001b[0m\u001b[0;34m\u001b[0m\u001b[0m\n\u001b[0;32m-> 1780\u001b[0;31m             \u001b[0;32mreturn\u001b[0m \u001b[0mself\u001b[0m\u001b[0;34m.\u001b[0m\u001b[0m_getitem_column\u001b[0m\u001b[0;34m(\u001b[0m\u001b[0mkey\u001b[0m\u001b[0;34m)\u001b[0m\u001b[0;34m\u001b[0m\u001b[0m\n\u001b[0m\u001b[1;32m   1781\u001b[0m \u001b[0;34m\u001b[0m\u001b[0m\n\u001b[1;32m   1782\u001b[0m     \u001b[0;32mdef\u001b[0m \u001b[0m_getitem_column\u001b[0m\u001b[0;34m(\u001b[0m\u001b[0mself\u001b[0m\u001b[0;34m,\u001b[0m \u001b[0mkey\u001b[0m\u001b[0;34m)\u001b[0m\u001b[0;34m:\u001b[0m\u001b[0;34m\u001b[0m\u001b[0m\n",
      "\u001b[0;32m//anaconda/lib/python2.7/site-packages/pandas/core/frame.pyc\u001b[0m in \u001b[0;36m_getitem_column\u001b[0;34m(self, key)\u001b[0m\n\u001b[1;32m   1785\u001b[0m         \u001b[0;31m# get column\u001b[0m\u001b[0;34m\u001b[0m\u001b[0;34m\u001b[0m\u001b[0m\n\u001b[1;32m   1786\u001b[0m         \u001b[0;32mif\u001b[0m \u001b[0mself\u001b[0m\u001b[0;34m.\u001b[0m\u001b[0mcolumns\u001b[0m\u001b[0;34m.\u001b[0m\u001b[0mis_unique\u001b[0m\u001b[0;34m:\u001b[0m\u001b[0;34m\u001b[0m\u001b[0m\n\u001b[0;32m-> 1787\u001b[0;31m             \u001b[0;32mreturn\u001b[0m \u001b[0mself\u001b[0m\u001b[0;34m.\u001b[0m\u001b[0m_get_item_cache\u001b[0m\u001b[0;34m(\u001b[0m\u001b[0mkey\u001b[0m\u001b[0;34m)\u001b[0m\u001b[0;34m\u001b[0m\u001b[0m\n\u001b[0m\u001b[1;32m   1788\u001b[0m \u001b[0;34m\u001b[0m\u001b[0m\n\u001b[1;32m   1789\u001b[0m         \u001b[0;31m# duplicate columns & possible reduce dimensionaility\u001b[0m\u001b[0;34m\u001b[0m\u001b[0;34m\u001b[0m\u001b[0m\n",
      "\u001b[0;32m//anaconda/lib/python2.7/site-packages/pandas/core/generic.pyc\u001b[0m in \u001b[0;36m_get_item_cache\u001b[0;34m(self, item)\u001b[0m\n\u001b[1;32m   1066\u001b[0m         \u001b[0mres\u001b[0m \u001b[0;34m=\u001b[0m \u001b[0mcache\u001b[0m\u001b[0;34m.\u001b[0m\u001b[0mget\u001b[0m\u001b[0;34m(\u001b[0m\u001b[0mitem\u001b[0m\u001b[0;34m)\u001b[0m\u001b[0;34m\u001b[0m\u001b[0m\n\u001b[1;32m   1067\u001b[0m         \u001b[0;32mif\u001b[0m \u001b[0mres\u001b[0m \u001b[0;32mis\u001b[0m \u001b[0mNone\u001b[0m\u001b[0;34m:\u001b[0m\u001b[0;34m\u001b[0m\u001b[0m\n\u001b[0;32m-> 1068\u001b[0;31m             \u001b[0mvalues\u001b[0m \u001b[0;34m=\u001b[0m \u001b[0mself\u001b[0m\u001b[0;34m.\u001b[0m\u001b[0m_data\u001b[0m\u001b[0;34m.\u001b[0m\u001b[0mget\u001b[0m\u001b[0;34m(\u001b[0m\u001b[0mitem\u001b[0m\u001b[0;34m)\u001b[0m\u001b[0;34m\u001b[0m\u001b[0m\n\u001b[0m\u001b[1;32m   1069\u001b[0m             \u001b[0mres\u001b[0m \u001b[0;34m=\u001b[0m \u001b[0mself\u001b[0m\u001b[0;34m.\u001b[0m\u001b[0m_box_item_values\u001b[0m\u001b[0;34m(\u001b[0m\u001b[0mitem\u001b[0m\u001b[0;34m,\u001b[0m \u001b[0mvalues\u001b[0m\u001b[0;34m)\u001b[0m\u001b[0;34m\u001b[0m\u001b[0m\n\u001b[1;32m   1070\u001b[0m             \u001b[0mcache\u001b[0m\u001b[0;34m[\u001b[0m\u001b[0mitem\u001b[0m\u001b[0;34m]\u001b[0m \u001b[0;34m=\u001b[0m \u001b[0mres\u001b[0m\u001b[0;34m\u001b[0m\u001b[0m\n",
      "\u001b[0;32m//anaconda/lib/python2.7/site-packages/pandas/core/internals.pyc\u001b[0m in \u001b[0;36mget\u001b[0;34m(self, item, fastpath)\u001b[0m\n\u001b[1;32m   2847\u001b[0m \u001b[0;34m\u001b[0m\u001b[0m\n\u001b[1;32m   2848\u001b[0m             \u001b[0;32mif\u001b[0m \u001b[0;32mnot\u001b[0m \u001b[0misnull\u001b[0m\u001b[0;34m(\u001b[0m\u001b[0mitem\u001b[0m\u001b[0;34m)\u001b[0m\u001b[0;34m:\u001b[0m\u001b[0;34m\u001b[0m\u001b[0m\n\u001b[0;32m-> 2849\u001b[0;31m                 \u001b[0mloc\u001b[0m \u001b[0;34m=\u001b[0m \u001b[0mself\u001b[0m\u001b[0;34m.\u001b[0m\u001b[0mitems\u001b[0m\u001b[0;34m.\u001b[0m\u001b[0mget_loc\u001b[0m\u001b[0;34m(\u001b[0m\u001b[0mitem\u001b[0m\u001b[0;34m)\u001b[0m\u001b[0;34m\u001b[0m\u001b[0m\n\u001b[0m\u001b[1;32m   2850\u001b[0m             \u001b[0;32melse\u001b[0m\u001b[0;34m:\u001b[0m\u001b[0;34m\u001b[0m\u001b[0m\n\u001b[1;32m   2851\u001b[0m                 \u001b[0mindexer\u001b[0m \u001b[0;34m=\u001b[0m \u001b[0mnp\u001b[0m\u001b[0;34m.\u001b[0m\u001b[0marange\u001b[0m\u001b[0;34m(\u001b[0m\u001b[0mlen\u001b[0m\u001b[0;34m(\u001b[0m\u001b[0mself\u001b[0m\u001b[0;34m.\u001b[0m\u001b[0mitems\u001b[0m\u001b[0;34m)\u001b[0m\u001b[0;34m)\u001b[0m\u001b[0;34m[\u001b[0m\u001b[0misnull\u001b[0m\u001b[0;34m(\u001b[0m\u001b[0mself\u001b[0m\u001b[0;34m.\u001b[0m\u001b[0mitems\u001b[0m\u001b[0;34m)\u001b[0m\u001b[0;34m]\u001b[0m\u001b[0;34m\u001b[0m\u001b[0m\n",
      "\u001b[0;32m//anaconda/lib/python2.7/site-packages/pandas/core/index.pyc\u001b[0m in \u001b[0;36mget_loc\u001b[0;34m(self, key)\u001b[0m\n\u001b[1;32m   1400\u001b[0m         \u001b[0mloc\u001b[0m \u001b[0;34m:\u001b[0m \u001b[0mint\u001b[0m \u001b[0;32mif\u001b[0m \u001b[0munique\u001b[0m \u001b[0mindex\u001b[0m\u001b[0;34m,\u001b[0m \u001b[0mpossibly\u001b[0m \u001b[0mslice\u001b[0m \u001b[0;32mor\u001b[0m \u001b[0mmask\u001b[0m \u001b[0;32mif\u001b[0m \u001b[0;32mnot\u001b[0m\u001b[0;34m\u001b[0m\u001b[0m\n\u001b[1;32m   1401\u001b[0m         \"\"\"\n\u001b[0;32m-> 1402\u001b[0;31m         \u001b[0;32mreturn\u001b[0m \u001b[0mself\u001b[0m\u001b[0;34m.\u001b[0m\u001b[0m_engine\u001b[0m\u001b[0;34m.\u001b[0m\u001b[0mget_loc\u001b[0m\u001b[0;34m(\u001b[0m\u001b[0m_values_from_object\u001b[0m\u001b[0;34m(\u001b[0m\u001b[0mkey\u001b[0m\u001b[0;34m)\u001b[0m\u001b[0;34m)\u001b[0m\u001b[0;34m\u001b[0m\u001b[0m\n\u001b[0m\u001b[1;32m   1403\u001b[0m \u001b[0;34m\u001b[0m\u001b[0m\n\u001b[1;32m   1404\u001b[0m     \u001b[0;32mdef\u001b[0m \u001b[0mget_value\u001b[0m\u001b[0;34m(\u001b[0m\u001b[0mself\u001b[0m\u001b[0;34m,\u001b[0m \u001b[0mseries\u001b[0m\u001b[0;34m,\u001b[0m \u001b[0mkey\u001b[0m\u001b[0;34m)\u001b[0m\u001b[0;34m:\u001b[0m\u001b[0;34m\u001b[0m\u001b[0m\n",
      "\u001b[0;32mpandas/index.pyx\u001b[0m in \u001b[0;36mpandas.index.IndexEngine.get_loc (pandas/index.c:3807)\u001b[0;34m()\u001b[0m\n",
      "\u001b[0;32mpandas/index.pyx\u001b[0m in \u001b[0;36mpandas.index.IndexEngine.get_loc (pandas/index.c:3687)\u001b[0;34m()\u001b[0m\n",
      "\u001b[0;32mpandas/hashtable.pyx\u001b[0m in \u001b[0;36mpandas.hashtable.PyObjectHashTable.get_item (pandas/hashtable.c:12310)\u001b[0;34m()\u001b[0m\n",
      "\u001b[0;32mpandas/hashtable.pyx\u001b[0m in \u001b[0;36mpandas.hashtable.PyObjectHashTable.get_item (pandas/hashtable.c:12261)\u001b[0;34m()\u001b[0m\n",
      "\u001b[0;31mKeyError\u001b[0m: 'key'"
     ]
    }
   ],
   "source": [
    "tot = Series([])\n",
    "for chunk in chunker:\n",
    "    tot = tot.add( chunk['key'].value_counts(), fill_value=0)\n",
    "\n",
    "tot = tot.order(ascendending=False)"
   ]
  },
  {
   "cell_type": "code",
   "execution_count": null,
   "metadata": {
    "collapsed": true
   },
   "outputs": [],
   "source": []
  }
 ],
 "metadata": {
  "kernelspec": {
   "display_name": "Python 2",
   "language": "python",
   "name": "python2"
  },
  "language_info": {
   "codemirror_mode": {
    "name": "ipython",
    "version": 2
   },
   "file_extension": ".py",
   "mimetype": "text/x-python",
   "name": "python",
   "nbconvert_exporter": "python",
   "pygments_lexer": "ipython2",
   "version": "2.7.9"
  }
 },
 "nbformat": 4,
 "nbformat_minor": 0
}
