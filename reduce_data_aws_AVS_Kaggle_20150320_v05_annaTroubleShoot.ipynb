{
 "cells": [
  {
   "cell_type": "code",
   "execution_count": 1,
   "metadata": {
    "collapsed": true
   },
   "outputs": [],
   "source": [
    "#import\n",
    "import os\n",
    "\n",
    "#for operations\n",
    "import pandas as pd\n",
    "import numpy as np\n",
    "\n",
    "#for AWS connection\n",
    "from boto.s3.connection import S3Connection\n",
    "from IPython.parallel import Client"
   ]
  },
  {
   "cell_type": "code",
   "execution_count": 2,
   "metadata": {
    "collapsed": false
   },
   "outputs": [],
   "source": [
    "#get creds for aws\n",
    "credentials = pd.read_csv('/home/centos/certificates/credentials.csv')\n",
    "aws_id = credentials['Access Key Id'][0]\n",
    "aws_key = credentials['Secret Access Key'][0]"
   ]
  },
  {
   "cell_type": "code",
   "execution_count": 3,
   "metadata": {
    "collapsed": true
   },
   "outputs": [],
   "source": [
    "#connect to S3 for data\n",
    "s3conn = S3Connection( aws_id , aws_key )\n",
    "bucket = s3conn.get_bucket('avs-kaggle-data')"
   ]
  },
  {
   "cell_type": "markdown",
   "metadata": {
    "collapsed": true
   },
   "source": [
    "### Load offers data"
   ]
  },
  {
   "cell_type": "code",
   "execution_count": 4,
   "metadata": {
    "collapsed": false
   },
   "outputs": [
    {
     "data": {
      "text/plain": [
       "1"
      ]
     },
     "execution_count": 4,
     "metadata": {},
     "output_type": "execute_result"
    }
   ],
   "source": [
    "offers_keys = bucket.get_all_keys(prefix='offers')\n",
    "len( offers_keys)"
   ]
  },
  {
   "cell_type": "code",
   "execution_count": 5,
   "metadata": {
    "collapsed": true
   },
   "outputs": [],
   "source": [
    "offers_keys[0].get_contents_to_filename('offers.csv')"
   ]
  },
  {
   "cell_type": "code",
   "execution_count": 6,
   "metadata": {
    "collapsed": false
   },
   "outputs": [
    {
     "name": "stdout",
     "output_type": "stream",
     "text": [
      "(37, 6)\n"
     ]
    },
    {
     "data": {
      "text/html": [
       "<div style=\"max-height:1000px;max-width:1500px;overflow:auto;\">\n",
       "<table border=\"1\" class=\"dataframe\">\n",
       "  <thead>\n",
       "    <tr style=\"text-align: right;\">\n",
       "      <th></th>\n",
       "      <th>offer</th>\n",
       "      <th>category</th>\n",
       "      <th>quantity</th>\n",
       "      <th>company</th>\n",
       "      <th>offervalue</th>\n",
       "      <th>brand</th>\n",
       "    </tr>\n",
       "  </thead>\n",
       "  <tbody>\n",
       "    <tr>\n",
       "      <th>0</th>\n",
       "      <td> 1190530</td>\n",
       "      <td> 9115</td>\n",
       "      <td> 1</td>\n",
       "      <td> 108500080</td>\n",
       "      <td> 5.00</td>\n",
       "      <td> 93904</td>\n",
       "    </tr>\n",
       "    <tr>\n",
       "      <th>1</th>\n",
       "      <td> 1194044</td>\n",
       "      <td> 9909</td>\n",
       "      <td> 1</td>\n",
       "      <td> 107127979</td>\n",
       "      <td> 1.00</td>\n",
       "      <td>  6732</td>\n",
       "    </tr>\n",
       "    <tr>\n",
       "      <th>2</th>\n",
       "      <td> 1197502</td>\n",
       "      <td> 3203</td>\n",
       "      <td> 1</td>\n",
       "      <td> 106414464</td>\n",
       "      <td> 0.75</td>\n",
       "      <td> 13474</td>\n",
       "    </tr>\n",
       "  </tbody>\n",
       "</table>\n",
       "</div>"
      ],
      "text/plain": [
       "     offer  category  quantity    company  offervalue  brand\n",
       "0  1190530      9115         1  108500080        5.00  93904\n",
       "1  1194044      9909         1  107127979        1.00   6732\n",
       "2  1197502      3203         1  106414464        0.75  13474"
      ]
     },
     "execution_count": 6,
     "metadata": {},
     "output_type": "execute_result"
    }
   ],
   "source": [
    "offers_df = pd.read_csv('offers.csv')\n",
    "print offers_df.shape\n",
    "offers_df.head(3)"
   ]
  },
  {
   "cell_type": "markdown",
   "metadata": {
    "collapsed": true
   },
   "source": [
    "### Load test_hist data"
   ]
  },
  {
   "cell_type": "code",
   "execution_count": 7,
   "metadata": {
    "collapsed": false
   },
   "outputs": [
    {
     "data": {
      "text/plain": [
       "1"
      ]
     },
     "execution_count": 7,
     "metadata": {},
     "output_type": "execute_result"
    }
   ],
   "source": [
    "train_hist_keys = bucket.get_all_keys(prefix='trainHistory')\n",
    "len( train_hist_keys)"
   ]
  },
  {
   "cell_type": "code",
   "execution_count": 8,
   "metadata": {
    "collapsed": true
   },
   "outputs": [],
   "source": [
    "train_hist_keys[0].get_contents_to_filename('trainHistory.csv')"
   ]
  },
  {
   "cell_type": "code",
   "execution_count": 9,
   "metadata": {
    "collapsed": false
   },
   "outputs": [
    {
     "name": "stdout",
     "output_type": "stream",
     "text": [
      "(160057, 7)\n"
     ]
    },
    {
     "data": {
      "text/html": [
       "<div style=\"max-height:1000px;max-width:1500px;overflow:auto;\">\n",
       "<table border=\"1\" class=\"dataframe\">\n",
       "  <thead>\n",
       "    <tr style=\"text-align: right;\">\n",
       "      <th></th>\n",
       "      <th>id</th>\n",
       "      <th>chain</th>\n",
       "      <th>offer</th>\n",
       "      <th>market</th>\n",
       "      <th>repeattrips</th>\n",
       "      <th>repeater</th>\n",
       "      <th>offerdate</th>\n",
       "    </tr>\n",
       "  </thead>\n",
       "  <tbody>\n",
       "    <tr>\n",
       "      <th>0</th>\n",
       "      <td>    86246</td>\n",
       "      <td> 205</td>\n",
       "      <td> 1208251</td>\n",
       "      <td> 34</td>\n",
       "      <td>  5</td>\n",
       "      <td> t</td>\n",
       "      <td> 2013-04-24</td>\n",
       "    </tr>\n",
       "    <tr>\n",
       "      <th>1</th>\n",
       "      <td>    86252</td>\n",
       "      <td> 205</td>\n",
       "      <td> 1197502</td>\n",
       "      <td> 34</td>\n",
       "      <td> 16</td>\n",
       "      <td> t</td>\n",
       "      <td> 2013-03-27</td>\n",
       "    </tr>\n",
       "    <tr>\n",
       "      <th>2</th>\n",
       "      <td> 12682470</td>\n",
       "      <td>  18</td>\n",
       "      <td> 1197502</td>\n",
       "      <td> 11</td>\n",
       "      <td>  0</td>\n",
       "      <td> f</td>\n",
       "      <td> 2013-03-28</td>\n",
       "    </tr>\n",
       "  </tbody>\n",
       "</table>\n",
       "</div>"
      ],
      "text/plain": [
       "         id  chain    offer  market  repeattrips repeater   offerdate\n",
       "0     86246    205  1208251      34            5        t  2013-04-24\n",
       "1     86252    205  1197502      34           16        t  2013-03-27\n",
       "2  12682470     18  1197502      11            0        f  2013-03-28"
      ]
     },
     "execution_count": 9,
     "metadata": {},
     "output_type": "execute_result"
    }
   ],
   "source": [
    "train_hist_df = pd.read_csv('trainHistory.csv')\n",
    "print train_hist_df.shape\n",
    "train_hist_df.head(3)"
   ]
  },
  {
   "cell_type": "markdown",
   "metadata": {
    "collapsed": true
   },
   "source": [
    "### merge offers and test_hist data"
   ]
  },
  {
   "cell_type": "code",
   "execution_count": 10,
   "metadata": {
    "collapsed": false
   },
   "outputs": [
    {
     "name": "stdout",
     "output_type": "stream",
     "text": [
      "(160057, 12)\n"
     ]
    },
    {
     "data": {
      "text/html": [
       "<div style=\"max-height:1000px;max-width:1500px;overflow:auto;\">\n",
       "<table border=\"1\" class=\"dataframe\">\n",
       "  <thead>\n",
       "    <tr style=\"text-align: right;\">\n",
       "      <th></th>\n",
       "      <th>id</th>\n",
       "      <th>chain</th>\n",
       "      <th>offer</th>\n",
       "      <th>market</th>\n",
       "      <th>repeattrips</th>\n",
       "      <th>repeater</th>\n",
       "      <th>offerdate</th>\n",
       "      <th>category</th>\n",
       "      <th>quantity</th>\n",
       "      <th>company</th>\n",
       "      <th>offervalue</th>\n",
       "      <th>brand</th>\n",
       "    </tr>\n",
       "  </thead>\n",
       "  <tbody>\n",
       "    <tr>\n",
       "      <th>0</th>\n",
       "      <td>    86246</td>\n",
       "      <td> 205</td>\n",
       "      <td> 1208251</td>\n",
       "      <td> 34</td>\n",
       "      <td> 5</td>\n",
       "      <td> t</td>\n",
       "      <td> 2013-04-24</td>\n",
       "      <td> 2202</td>\n",
       "      <td> 1</td>\n",
       "      <td> 104460040</td>\n",
       "      <td> 2</td>\n",
       "      <td> 3718</td>\n",
       "    </tr>\n",
       "    <tr>\n",
       "      <th>1</th>\n",
       "      <td> 15753725</td>\n",
       "      <td>  17</td>\n",
       "      <td> 1208251</td>\n",
       "      <td>  4</td>\n",
       "      <td> 0</td>\n",
       "      <td> f</td>\n",
       "      <td> 2013-04-24</td>\n",
       "      <td> 2202</td>\n",
       "      <td> 1</td>\n",
       "      <td> 104460040</td>\n",
       "      <td> 2</td>\n",
       "      <td> 3718</td>\n",
       "    </tr>\n",
       "    <tr>\n",
       "      <th>2</th>\n",
       "      <td> 16535563</td>\n",
       "      <td>   4</td>\n",
       "      <td> 1208251</td>\n",
       "      <td>  1</td>\n",
       "      <td> 7</td>\n",
       "      <td> t</td>\n",
       "      <td> 2013-04-27</td>\n",
       "      <td> 2202</td>\n",
       "      <td> 1</td>\n",
       "      <td> 104460040</td>\n",
       "      <td> 2</td>\n",
       "      <td> 3718</td>\n",
       "    </tr>\n",
       "    <tr>\n",
       "      <th>3</th>\n",
       "      <td> 18259179</td>\n",
       "      <td>   3</td>\n",
       "      <td> 1208251</td>\n",
       "      <td>  2</td>\n",
       "      <td> 0</td>\n",
       "      <td> f</td>\n",
       "      <td> 2013-04-24</td>\n",
       "      <td> 2202</td>\n",
       "      <td> 1</td>\n",
       "      <td> 104460040</td>\n",
       "      <td> 2</td>\n",
       "      <td> 3718</td>\n",
       "    </tr>\n",
       "    <tr>\n",
       "      <th>4</th>\n",
       "      <td> 21024070</td>\n",
       "      <td>  15</td>\n",
       "      <td> 1208251</td>\n",
       "      <td>  9</td>\n",
       "      <td> 1</td>\n",
       "      <td> t</td>\n",
       "      <td> 2013-04-23</td>\n",
       "      <td> 2202</td>\n",
       "      <td> 1</td>\n",
       "      <td> 104460040</td>\n",
       "      <td> 2</td>\n",
       "      <td> 3718</td>\n",
       "    </tr>\n",
       "  </tbody>\n",
       "</table>\n",
       "</div>"
      ],
      "text/plain": [
       "         id  chain    offer  market  repeattrips repeater   offerdate  \\\n",
       "0     86246    205  1208251      34            5        t  2013-04-24   \n",
       "1  15753725     17  1208251       4            0        f  2013-04-24   \n",
       "2  16535563      4  1208251       1            7        t  2013-04-27   \n",
       "3  18259179      3  1208251       2            0        f  2013-04-24   \n",
       "4  21024070     15  1208251       9            1        t  2013-04-23   \n",
       "\n",
       "   category  quantity    company  offervalue  brand  \n",
       "0      2202         1  104460040           2   3718  \n",
       "1      2202         1  104460040           2   3718  \n",
       "2      2202         1  104460040           2   3718  \n",
       "3      2202         1  104460040           2   3718  \n",
       "4      2202         1  104460040           2   3718  "
      ]
     },
     "execution_count": 10,
     "metadata": {},
     "output_type": "execute_result"
    }
   ],
   "source": [
    "train_hist_offers_df = pd.merge( train_hist_df, offers_df, how='inner')\n",
    "\n",
    "print train_hist_offers_df.shape\n",
    "train_hist_offers_df.head(5)"
   ]
  },
  {
   "cell_type": "raw",
   "metadata": {},
   "source": [
    "#test write to csv (to project folder, then move to S3) \n",
    "train_hist_offers_df.to_csv('train_hist_offers_df.csv')"
   ]
  },
  {
   "cell_type": "raw",
   "metadata": {},
   "source": [
    "%%bash\n",
    "ls\n",
    "#train_test_offers_df.csv appears is listed ==> this works\n",
    "#next steps... how to push to AWS S3"
   ]
  },
  {
   "cell_type": "raw",
   "metadata": {
    "collapsed": false
   },
   "source": [
    "%%bash\n",
    "#pwd\n",
    "scp -i /home/centos/certificates/mycert.pem /home/centos/projects/AVS-Kaggle/train_hist_offers_df.csv ec2-user@ec2-54-152-208-70.compute-1.amazonaws.com \n",
    "#this does not work ... note: will need to chg EC2 address"
   ]
  },
  {
   "cell_type": "markdown",
   "metadata": {
    "collapsed": false
   },
   "source": [
    "### import *relevant* transaction data in chunk_rows"
   ]
  },
  {
   "cell_type": "code",
   "execution_count": 11,
   "metadata": {
    "collapsed": false
   },
   "outputs": [
    {
     "name": "stdout",
     "output_type": "stream",
     "text": [
      "[<Key: avs-kaggle-data,transactions-sample.csv>, <Key: avs-kaggle-data,transactions.csv.gz>, <Key: avs-kaggle-data,transactions.gz>]\n"
     ]
    }
   ],
   "source": [
    "trans_keys = bucket.get_all_keys(prefix='trans')\n",
    "len( trans_keys)\n",
    "print trans_keys"
   ]
  },
  {
   "cell_type": "code",
   "execution_count": 22,
   "metadata": {
    "collapsed": false
   },
   "outputs": [],
   "source": [
    "trans_keys[1].get_contents_to_filename('transactions.csv.gz')"
   ]
  },
  {
   "cell_type": "code",
   "execution_count": 23,
   "metadata": {
    "collapsed": false
   },
   "outputs": [
    {
     "name": "stdout",
     "output_type": "stream",
     "text": [
      "['id', 'chain', 'dept', 'category', 'company', 'brand', 'date', 'productsize', 'productmeasure', 'purchasequantity', 'purchaseamount']\n"
     ]
    },
    {
     "data": {
      "text/html": [
       "<div style=\"max-height:1000px;max-width:1500px;overflow:auto;\">\n",
       "<table border=\"1\" class=\"dataframe\">\n",
       "  <thead>\n",
       "    <tr style=\"text-align: right;\">\n",
       "      <th></th>\n",
       "      <th>id</th>\n",
       "      <th>chain</th>\n",
       "      <th>dept</th>\n",
       "      <th>category</th>\n",
       "      <th>company</th>\n",
       "      <th>brand</th>\n",
       "      <th>date</th>\n",
       "      <th>productsize</th>\n",
       "      <th>productmeasure</th>\n",
       "      <th>purchasequantity</th>\n",
       "      <th>purchaseamount</th>\n",
       "    </tr>\n",
       "  </thead>\n",
       "  <tbody>\n",
       "    <tr>\n",
       "      <th>0</th>\n",
       "      <td> 86246</td>\n",
       "      <td> 205</td>\n",
       "      <td> 7</td>\n",
       "      <td> 707</td>\n",
       "      <td> 1078778070</td>\n",
       "      <td> 12564</td>\n",
       "      <td> 2012-03-02</td>\n",
       "      <td> 12</td>\n",
       "      <td> OZ</td>\n",
       "      <td> 1</td>\n",
       "      <td> 7.59</td>\n",
       "    </tr>\n",
       "  </tbody>\n",
       "</table>\n",
       "</div>"
      ],
      "text/plain": [
       "      id  chain  dept  category     company  brand        date  productsize  \\\n",
       "0  86246    205     7       707  1078778070  12564  2012-03-02           12   \n",
       "\n",
       "  productmeasure  purchasequantity  purchaseamount  \n",
       "0             OZ                 1            7.59  "
      ]
     },
     "execution_count": 23,
     "metadata": {},
     "output_type": "execute_result"
    }
   ],
   "source": [
    "#test w/o 'compression' kwarg ==> works\n",
    "col_df = pd.read_csv( 'transactions.csv.gz',  \n",
    "                     compression='gzip',\n",
    "                     nrows=1) \n",
    "\n",
    "col_headers = list( col_df.columns)\n",
    "print col_headers\n",
    "\n",
    "col_df.head()"
   ]
  },
  {
   "cell_type": "code",
   "execution_count": 24,
   "metadata": {
    "collapsed": false
   },
   "outputs": [
    {
     "data": {
      "text/plain": [
       "['id',\n",
       " 'chain',\n",
       " 'dept',\n",
       " 'category',\n",
       " 'company',\n",
       " 'brand',\n",
       " 'date',\n",
       " 'productsize',\n",
       " 'productmeasure',\n",
       " 'purchasequantity',\n",
       " 'purchaseamount']"
      ]
     },
     "execution_count": 24,
     "metadata": {},
     "output_type": "execute_result"
    }
   ],
   "source": [
    "col_headers = list(col_df.columns)\n",
    "col_headers"
   ]
  },
  {
   "cell_type": "code",
   "execution_count": 25,
   "metadata": {
    "collapsed": false
   },
   "outputs": [
    {
     "name": "stdout",
     "output_type": "stream",
     "text": [
      "0\n",
      "1000000\n",
      "2000000\n",
      "3000000\n",
      "4000000\n"
     ]
    }
   ],
   "source": [
    "#define variables\n",
    "n=0 #test variable\n",
    "chunk_rows = 1000000\n",
    "rows_hist_train = 5000000 #test\n",
    "#rows_hist_train = 349655790 #actual figure, from bash cmd\n",
    "\n",
    "#iterate through transactions\n",
    "for skip_rows in range( 0, rows_hist_train, chunk_rows):\n",
    "    print skip_rows"
   ]
  },
  {
   "cell_type": "code",
   "execution_count": 26,
   "metadata": {
    "collapsed": true
   },
   "outputs": [],
   "source": [
    "import pandas as pd\n",
    "import gzip"
   ]
  },
  {
   "cell_type": "code",
   "execution_count": 28,
   "metadata": {
    "collapsed": false,
    "scrolled": false
   },
   "outputs": [
    {
     "name": "stdout",
     "output_type": "stream",
     "text": [
      "True\n"
     ]
    },
    {
     "data": {
      "text/html": [
       "<div style=\"max-height:1000px;max-width:1500px;overflow:auto;\">\n",
       "<table border=\"1\" class=\"dataframe\">\n",
       "  <thead>\n",
       "    <tr style=\"text-align: right;\">\n",
       "      <th></th>\n",
       "      <th>61599063</th>\n",
       "      <th>15</th>\n",
       "      <th>63</th>\n",
       "      <th>6332</th>\n",
       "      <th>104850040</th>\n",
       "      <th>61745</th>\n",
       "      <th>2013-02-23</th>\n",
       "      <th>59</th>\n",
       "      <th>OZ</th>\n",
       "      <th>1</th>\n",
       "      <th>3</th>\n",
       "    </tr>\n",
       "  </thead>\n",
       "  <tbody>\n",
       "    <tr>\n",
       "      <th>0</th>\n",
       "      <td> 61599063</td>\n",
       "      <td> 15</td>\n",
       "      <td> 59</td>\n",
       "      <td> 5902</td>\n",
       "      <td> 105820050</td>\n",
       "      <td> 10786</td>\n",
       "      <td> 2013-02-23</td>\n",
       "      <td> 16.0</td>\n",
       "      <td> OZ</td>\n",
       "      <td> 1</td>\n",
       "      <td> 3.29</td>\n",
       "    </tr>\n",
       "    <tr>\n",
       "      <th>1</th>\n",
       "      <td> 61599063</td>\n",
       "      <td> 15</td>\n",
       "      <td> 25</td>\n",
       "      <td> 2509</td>\n",
       "      <td> 102113020</td>\n",
       "      <td> 10786</td>\n",
       "      <td> 2013-02-23</td>\n",
       "      <td> 16.0</td>\n",
       "      <td> OZ</td>\n",
       "      <td> 1</td>\n",
       "      <td> 1.59</td>\n",
       "    </tr>\n",
       "    <tr>\n",
       "      <th>2</th>\n",
       "      <td> 61599063</td>\n",
       "      <td> 15</td>\n",
       "      <td>  9</td>\n",
       "      <td>  914</td>\n",
       "      <td> 107343575</td>\n",
       "      <td>  9705</td>\n",
       "      <td> 2013-02-26</td>\n",
       "      <td>  4.4</td>\n",
       "      <td> OZ</td>\n",
       "      <td> 1</td>\n",
       "      <td> 1.00</td>\n",
       "    </tr>\n",
       "    <tr>\n",
       "      <th>3</th>\n",
       "      <td> 61599063</td>\n",
       "      <td> 15</td>\n",
       "      <td> 36</td>\n",
       "      <td> 3611</td>\n",
       "      <td> 102113020</td>\n",
       "      <td> 15704</td>\n",
       "      <td> 2013-02-26</td>\n",
       "      <td> 33.8</td>\n",
       "      <td> OZ</td>\n",
       "      <td> 2</td>\n",
       "      <td> 1.78</td>\n",
       "    </tr>\n",
       "    <tr>\n",
       "      <th>4</th>\n",
       "      <td> 61599063</td>\n",
       "      <td> 15</td>\n",
       "      <td> 10</td>\n",
       "      <td> 1011</td>\n",
       "      <td> 104300040</td>\n",
       "      <td> 26232</td>\n",
       "      <td> 2013-02-26</td>\n",
       "      <td>  6.7</td>\n",
       "      <td> OZ</td>\n",
       "      <td> 1</td>\n",
       "      <td> 1.99</td>\n",
       "    </tr>\n",
       "  </tbody>\n",
       "</table>\n",
       "</div>"
      ],
      "text/plain": [
       "   61599063  15  63  6332  104850040  61745  2013-02-23    59  OZ  1     3\n",
       "0  61599063  15  59  5902  105820050  10786  2013-02-23  16.0  OZ  1  3.29\n",
       "1  61599063  15  25  2509  102113020  10786  2013-02-23  16.0  OZ  1  1.59\n",
       "2  61599063  15   9   914  107343575   9705  2013-02-26   4.4  OZ  1  1.00\n",
       "3  61599063  15  36  3611  102113020  15704  2013-02-26  33.8  OZ  2  1.78\n",
       "4  61599063  15  10  1011  104300040  26232  2013-02-26   6.7  OZ  1  1.99"
      ]
     },
     "execution_count": 28,
     "metadata": {},
     "output_type": "execute_result"
    }
   ],
   "source": [
    "#create empty df to append to\n",
    "train_df = pd.DataFrame()\n",
    "\n",
    "#get headers\n",
    "#col_df = pd.read_csv( 'transactions.csv.gz', \n",
    "#                     #compression='gzip', #define for local, NOT for EC2\n",
    "#                     engine='python',\n",
    "#                     nrows=1)\n",
    "#col_headers = list(col_df.columns)\n",
    "#print col_headers[4]\n",
    "#if isinstance (col_headers, list):\n",
    "#    print \"ok list\"\n",
    "\n",
    "#define variables\n",
    "#n=0 #test variable\n",
    "chunk_rows = 100000\n",
    "rows_hist_train = 500000 #test\n",
    "#rows_hist_train = 349655790 #actual figure, from bash cmd\n",
    "\n",
    "#do first w/ headers NOT specificied\n",
    "#temp_df = pd.read_csv('transactions.csv.gz',nrows= chunk_rows) \n",
    "#temp_df.columns = col_headers\n",
    "#temp_df_2 = pd.merge( temp_df, train_hist_offers_df, how='inner')\n",
    "#train_df = train_df.append( temp_df_2)\n",
    "\n",
    "#print train_df.shape\n",
    "\n",
    "#iterate through transactions\n",
    "skip_rows=0\n",
    "print type (skip_rows) is int\n",
    "\n",
    "#for skip_rows in range( 0, rows_hist_train, chunk_rows): #start second loop from end of first loop\n",
    "    \n",
    "#test function inputs\n",
    "#print(\"skip_rows: %7d, chunk_rows: %7d\" %(skip_rows, chunk_rows)) \n",
    "#print (\"n: %1d\" %n)\n",
    "\n",
    "#read\n",
    "temp_df2 = pd.DataFrame()\n",
    "\n",
    "temp_df2 = pd.read_csv(\"transactions.csv.gz\", compression='gzip',engine='python',skiprows = 400000, nrows= 100000)\n",
    "temp_df2.head()    \n",
    "#                      names='col_headers') \n",
    "                      #header='col_headers',\n",
    "                      #compression= 'gzip', #define for local, NOT for EC2\n",
    "                      #compression='bz2', #ramesh suggestion\n",
    "                      #engine='python')\n",
    "                      #skiprows= skip_rows)\n",
    "#n = n+1 #increment for test\n",
    "\n",
    "#merge with train_hist_offers to pull ONLY relevant data, then append\n",
    "#temp_df.columns = col_headers\n",
    "#temp_df_2 = pd.merge( temp_df, train_hist_offers_df, how='inner')\n",
    "#train_df = train_df.append( temp_df_2)\n",
    "\n",
    "#write to csv\n",
    "#train_df.to_csv('train_df_test.csv')\n"
   ]
  },
  {
   "cell_type": "code",
   "execution_count": 16,
   "metadata": {
    "collapsed": false
   },
   "outputs": [
    {
     "name": "stdout",
     "output_type": "stream",
     "text": [
      "0\n"
     ]
    }
   ],
   "source": [
    "print n"
   ]
  },
  {
   "cell_type": "code",
   "execution_count": null,
   "metadata": {
    "collapsed": true
   },
   "outputs": [],
   "source": []
  }
 ],
 "metadata": {
  "kernelspec": {
   "display_name": "Python 2",
   "language": "python",
   "name": "python2"
  },
  "language_info": {
   "codemirror_mode": {
    "name": "ipython",
    "version": 2
   },
   "file_extension": ".py",
   "mimetype": "text/x-python",
   "name": "python",
   "nbconvert_exporter": "python",
   "pygments_lexer": "ipython2",
   "version": "2.7.9"
  }
 },
 "nbformat": 4,
 "nbformat_minor": 0
}
