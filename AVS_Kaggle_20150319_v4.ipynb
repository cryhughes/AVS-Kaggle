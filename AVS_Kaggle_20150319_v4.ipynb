{
 "cells": [
  {
   "cell_type": "markdown",
   "metadata": {},
   "source": [
    "### Import Libraries"
   ]
  },
  {
   "cell_type": "code",
   "execution_count": 1,
   "metadata": {
    "collapsed": true
   },
   "outputs": [],
   "source": [
    "#import\n",
    "import os\n",
    "\n",
    "import pandas as pd\n",
    "import numpy as np\n"
   ]
  },
  {
   "cell_type": "code",
   "execution_count": 2,
   "metadata": {
    "collapsed": true
   },
   "outputs": [],
   "source": [
    "#plotting libraries and setting defaults\n",
    "\n",
    "%matplotlib inline\n",
    "\n",
    "import seaborn as sns\n",
    "from seaborn import plt\n",
    "\n",
    "# Some nice default configuration for plots\n",
    "plt.rcParams['figure.figsize'] = 10, 7.5\n",
    "plt.rcParams['axes.grid'] = True"
   ]
  },
  {
   "cell_type": "markdown",
   "metadata": {},
   "source": [
    "### Load Data"
   ]
  },
  {
   "cell_type": "code",
   "execution_count": 3,
   "metadata": {
    "collapsed": false
   },
   "outputs": [
    {
     "name": "stdout",
     "output_type": "stream",
     "text": [
      "(37, 6)\n",
      "     offer  category  quantity    company  offervalue  brand\n",
      "0  1190530      9115         1  108500080        5.00  93904\n",
      "1  1194044      9909         1  107127979        1.00   6732\n",
      "2  1197502      3203         1  106414464        0.75  13474\n"
     ]
    }
   ],
   "source": [
    "offers_df = pd.read_csv('/Users/rychughes/GA/AVS-Kaggle-Data/offers.gz', \n",
    "                        compression='gzip') \n",
    "print offers_df.shape\n",
    "print offers_df.head(3)"
   ]
  },
  {
   "cell_type": "code",
   "execution_count": 2,
   "metadata": {
    "collapsed": false
   },
   "outputs": [
    {
     "ename": "NameError",
     "evalue": "name 'pd' is not defined",
     "output_type": "error",
     "traceback": [
      "\u001b[0;31m---------------------------------------------------------------------------\u001b[0m",
      "\u001b[0;31mNameError\u001b[0m                                 Traceback (most recent call last)",
      "\u001b[0;32m<ipython-input-2-6906a339417a>\u001b[0m in \u001b[0;36m<module>\u001b[0;34m()\u001b[0m\n\u001b[0;32m----> 1\u001b[0;31m train_hist_df = pd.read_csv('/Users/rychughes/GA/data/trainHistory.csv.gz', \n\u001b[0m\u001b[1;32m      2\u001b[0m                         compression='gzip') \n\u001b[1;32m      3\u001b[0m \u001b[0;32mprint\u001b[0m \u001b[0mtrain_hist_df\u001b[0m\u001b[0;34m.\u001b[0m\u001b[0mshape\u001b[0m\u001b[0;34m\u001b[0m\u001b[0m\n\u001b[1;32m      4\u001b[0m \u001b[0;32mprint\u001b[0m \u001b[0mtrain_hist_df\u001b[0m\u001b[0;34m.\u001b[0m\u001b[0mhead\u001b[0m\u001b[0;34m(\u001b[0m\u001b[0;36m3\u001b[0m\u001b[0;34m)\u001b[0m\u001b[0;34m\u001b[0m\u001b[0m\n",
      "\u001b[0;31mNameError\u001b[0m: name 'pd' is not defined"
     ]
    }
   ],
   "source": [
    "train_hist_df = pd.read_csv('/Users/rychughes/GA/data/trainHistory.csv.gz', \n",
    "                        compression='gzip') \n",
    "print train_hist_df.shape\n",
    "print train_hist_df.head(3)"
   ]
  },
  {
   "cell_type": "code",
   "execution_count": 1,
   "metadata": {
    "collapsed": false
   },
   "outputs": [
    {
     "ename": "NameError",
     "evalue": "name 'pd' is not defined",
     "output_type": "error",
     "traceback": [
      "\u001b[0;31m---------------------------------------------------------------------------\u001b[0m",
      "\u001b[0;31mNameError\u001b[0m                                 Traceback (most recent call last)",
      "\u001b[0;32m<ipython-input-1-bef5549ec22b>\u001b[0m in \u001b[0;36m<module>\u001b[0;34m()\u001b[0m\n\u001b[0;32m----> 1\u001b[0;31m test_hist_df = pd.read_csv('/Users/rychughes/GA/AVS-Kaggle-Data/trainHistory.gz', \n\u001b[0m\u001b[1;32m      2\u001b[0m                         compression='gzip') \n\u001b[1;32m      3\u001b[0m \u001b[0;32mprint\u001b[0m \u001b[0mtest_hist_df\u001b[0m\u001b[0;34m.\u001b[0m\u001b[0mshape\u001b[0m\u001b[0;34m\u001b[0m\u001b[0m\n\u001b[1;32m      4\u001b[0m \u001b[0;32mprint\u001b[0m \u001b[0mtest_hist_df\u001b[0m\u001b[0;34m.\u001b[0m\u001b[0mhead\u001b[0m\u001b[0;34m(\u001b[0m\u001b[0;36m3\u001b[0m\u001b[0;34m)\u001b[0m\u001b[0;34m\u001b[0m\u001b[0m\n",
      "\u001b[0;31mNameError\u001b[0m: name 'pd' is not defined"
     ]
    }
   ],
   "source": [
    "test_hist_df = pd.read_csv('/Users/rychughes/GA/data/testHistory.csv.gz', \n",
    "                        compression='gzip') \n",
    "print test_hist_df.shape\n",
    "print test_hist_df.head(3)"
   ]
  },
  {
   "cell_type": "code",
   "execution_count": 5,
   "metadata": {
    "collapsed": false
   },
   "outputs": [
    {
     "name": "stdout",
     "output_type": "stream",
     "text": [
      "(160057, 12)\n"
     ]
    },
    {
     "data": {
      "text/html": [
       "<div style=\"max-height:1000px;max-width:1500px;overflow:auto;\">\n",
       "<table border=\"1\" class=\"dataframe\">\n",
       "  <thead>\n",
       "    <tr style=\"text-align: right;\">\n",
       "      <th></th>\n",
       "      <th>id</th>\n",
       "      <th>chain</th>\n",
       "      <th>offer</th>\n",
       "      <th>market</th>\n",
       "      <th>repeattrips</th>\n",
       "      <th>repeater</th>\n",
       "      <th>offerdate</th>\n",
       "      <th>category</th>\n",
       "      <th>quantity</th>\n",
       "      <th>company</th>\n",
       "      <th>offervalue</th>\n",
       "      <th>brand</th>\n",
       "    </tr>\n",
       "  </thead>\n",
       "  <tbody>\n",
       "    <tr>\n",
       "      <th>0</th>\n",
       "      <td>    86246</td>\n",
       "      <td> 205</td>\n",
       "      <td> 1208251</td>\n",
       "      <td> 34</td>\n",
       "      <td> 5</td>\n",
       "      <td> t</td>\n",
       "      <td> 2013-04-24</td>\n",
       "      <td> 2202</td>\n",
       "      <td> 1</td>\n",
       "      <td> 104460040</td>\n",
       "      <td> 2</td>\n",
       "      <td> 3718</td>\n",
       "    </tr>\n",
       "    <tr>\n",
       "      <th>1</th>\n",
       "      <td> 15753725</td>\n",
       "      <td>  17</td>\n",
       "      <td> 1208251</td>\n",
       "      <td>  4</td>\n",
       "      <td> 0</td>\n",
       "      <td> f</td>\n",
       "      <td> 2013-04-24</td>\n",
       "      <td> 2202</td>\n",
       "      <td> 1</td>\n",
       "      <td> 104460040</td>\n",
       "      <td> 2</td>\n",
       "      <td> 3718</td>\n",
       "    </tr>\n",
       "    <tr>\n",
       "      <th>2</th>\n",
       "      <td> 16535563</td>\n",
       "      <td>   4</td>\n",
       "      <td> 1208251</td>\n",
       "      <td>  1</td>\n",
       "      <td> 7</td>\n",
       "      <td> t</td>\n",
       "      <td> 2013-04-27</td>\n",
       "      <td> 2202</td>\n",
       "      <td> 1</td>\n",
       "      <td> 104460040</td>\n",
       "      <td> 2</td>\n",
       "      <td> 3718</td>\n",
       "    </tr>\n",
       "    <tr>\n",
       "      <th>3</th>\n",
       "      <td> 18259179</td>\n",
       "      <td>   3</td>\n",
       "      <td> 1208251</td>\n",
       "      <td>  2</td>\n",
       "      <td> 0</td>\n",
       "      <td> f</td>\n",
       "      <td> 2013-04-24</td>\n",
       "      <td> 2202</td>\n",
       "      <td> 1</td>\n",
       "      <td> 104460040</td>\n",
       "      <td> 2</td>\n",
       "      <td> 3718</td>\n",
       "    </tr>\n",
       "    <tr>\n",
       "      <th>4</th>\n",
       "      <td> 21024070</td>\n",
       "      <td>  15</td>\n",
       "      <td> 1208251</td>\n",
       "      <td>  9</td>\n",
       "      <td> 1</td>\n",
       "      <td> t</td>\n",
       "      <td> 2013-04-23</td>\n",
       "      <td> 2202</td>\n",
       "      <td> 1</td>\n",
       "      <td> 104460040</td>\n",
       "      <td> 2</td>\n",
       "      <td> 3718</td>\n",
       "    </tr>\n",
       "  </tbody>\n",
       "</table>\n",
       "</div>"
      ],
      "text/plain": [
       "         id  chain    offer  market  repeattrips repeater   offerdate  \\\n",
       "0     86246    205  1208251      34            5        t  2013-04-24   \n",
       "1  15753725     17  1208251       4            0        f  2013-04-24   \n",
       "2  16535563      4  1208251       1            7        t  2013-04-27   \n",
       "3  18259179      3  1208251       2            0        f  2013-04-24   \n",
       "4  21024070     15  1208251       9            1        t  2013-04-23   \n",
       "\n",
       "   category  quantity    company  offervalue  brand  \n",
       "0      2202         1  104460040           2   3718  \n",
       "1      2202         1  104460040           2   3718  \n",
       "2      2202         1  104460040           2   3718  \n",
       "3      2202         1  104460040           2   3718  \n",
       "4      2202         1  104460040           2   3718  "
      ]
     },
     "execution_count": 5,
     "metadata": {},
     "output_type": "execute_result"
    }
   ],
   "source": [
    "#merge\n",
    "train_hist_offers_df = pd.merge( train_hist_df, offers_df, how='inner')\n",
    "\n",
    "print train_hist_offers_df.shape\n",
    "train_hist_offers_df.head(5)"
   ]
  },
  {
   "cell_type": "raw",
   "metadata": {
    "collapsed": false
   },
   "source": [
    "%%bash\n",
    "gunzip /Users/rychughes/GA/AVS-Kaggle-Data/transactions.csv.gz -c | wc -l\n",
    "#349655790 is output"
   ]
  },
  {
   "cell_type": "code",
   "execution_count": 8,
   "metadata": {
    "collapsed": false
   },
   "outputs": [
    {
     "data": {
      "text/plain": [
       "['id',\n",
       " 'chain',\n",
       " 'dept',\n",
       " 'category',\n",
       " 'company',\n",
       " 'brand',\n",
       " 'date',\n",
       " 'productsize',\n",
       " 'productmeasure',\n",
       " 'purchasequantity',\n",
       " 'purchaseamount']"
      ]
     },
     "execution_count": 8,
     "metadata": {},
     "output_type": "execute_result"
    }
   ],
   "source": [
    "col_df = pd.read_csv( '/Users/rychughes/GA/AVS-Kaggle-Data/transactions.csv.gz', compression='gzip', nrows=1) \n",
    "col_headers = list( col_df.columns.values)\n",
    "col_headers"
   ]
  },
  {
   "cell_type": "code",
   "execution_count": 14,
   "metadata": {
    "collapsed": false
   },
   "outputs": [
    {
     "name": "stdout",
     "output_type": "stream",
     "text": [
      "0\n",
      "1\n",
      "2\n",
      "3\n",
      "4\n",
      "5\n",
      "6\n",
      "7\n",
      "8\n",
      "9\n",
      "10\n",
      "11\n",
      "12\n",
      "13\n",
      "14\n",
      "15\n",
      "16\n",
      "17\n",
      "18\n",
      "19\n",
      "20\n",
      "21\n",
      "22\n",
      "23\n",
      "24\n",
      "25\n",
      "26\n",
      "27\n",
      "28\n",
      "29\n",
      "30\n",
      "31\n",
      "32\n",
      "33\n",
      "34\n",
      "35\n",
      "36\n",
      "37\n",
      "38\n",
      "39\n",
      "40\n",
      "41\n",
      "42\n",
      "43\n",
      "44\n",
      "45\n",
      "46\n",
      "47\n",
      "48\n",
      "49\n",
      "50\n",
      "51\n",
      "52\n",
      "53\n",
      "54\n",
      "55\n",
      "56\n",
      "57\n",
      "58\n",
      "59\n",
      "60\n",
      "61\n",
      "62\n",
      "63\n",
      "64\n",
      "65\n",
      "66\n",
      "67\n",
      "68\n",
      "69\n",
      "70\n",
      "71\n",
      "72\n",
      "73\n",
      "74\n",
      "75\n",
      "76\n",
      "77\n",
      "78\n",
      "79\n",
      "80\n",
      "81\n",
      "82\n",
      "83\n",
      "84\n",
      "85\n",
      "86\n",
      "87\n",
      "88\n",
      "89\n",
      "90\n",
      "91\n",
      "92\n",
      "93\n",
      "94\n",
      "95\n",
      "96\n",
      "97\n",
      "98\n",
      "99\n",
      "100\n",
      "101\n",
      "102\n",
      "103\n",
      "104\n",
      "105\n",
      "106\n",
      "107\n",
      "108\n",
      "109\n",
      "110\n",
      "111\n",
      "112\n",
      "113\n",
      "114\n",
      "115\n",
      "116\n",
      "117\n",
      "118\n",
      "119\n",
      "120\n",
      "121\n",
      "122\n",
      "123\n",
      "124\n",
      "125\n",
      "126\n",
      "127\n",
      "128\n",
      "129\n",
      "130\n",
      "131\n",
      "132\n",
      "133\n",
      "134\n",
      "135\n",
      "136\n",
      "137\n",
      "138\n",
      "139\n",
      "140\n",
      "141\n",
      "142\n",
      "143\n",
      "144\n",
      "145\n",
      "146\n",
      "147\n",
      "148\n",
      "149\n",
      "150\n",
      "151\n",
      "152\n",
      "153\n",
      "154\n",
      "155\n",
      "156\n",
      "157\n",
      "158\n",
      "159\n",
      "160\n",
      "161\n",
      "162\n",
      "163\n",
      "164\n",
      "165\n",
      "166\n",
      "167\n",
      "168\n",
      "169\n",
      "170\n",
      "171\n",
      "172\n",
      "173\n",
      "174\n",
      "175\n",
      "176\n",
      "177\n",
      "178\n",
      "179\n",
      "180\n",
      "181\n",
      "182\n",
      "183\n",
      "184\n",
      "185\n",
      "186\n",
      "187\n",
      "188\n",
      "189\n",
      "190\n",
      "191\n",
      "192\n",
      "193\n",
      "194\n",
      "195\n",
      "196\n",
      "197\n",
      "198\n",
      "199\n",
      "200\n",
      "201\n",
      "202\n",
      "203\n",
      "204\n",
      "205\n",
      "206\n",
      "207\n",
      "208\n"
     ]
    },
    {
     "ename": "CParserError",
     "evalue": "Error tokenizing data. C error: Calling read(nbytes) on source failed. Try engine='python'.",
     "output_type": "error",
     "traceback": [
      "\u001b[0;31m---------------------------------------------------------------------------\u001b[0m",
      "\u001b[0;31mCParserError\u001b[0m                              Traceback (most recent call last)",
      "\u001b[0;32m<ipython-input-14-264d15451aac>\u001b[0m in \u001b[0;36m<module>\u001b[0;34m()\u001b[0m\n\u001b[1;32m     19\u001b[0m                           \u001b[0mnrows\u001b[0m\u001b[0;34m=\u001b[0m \u001b[0mrow_size\u001b[0m\u001b[0;34m,\u001b[0m\u001b[0;34m\u001b[0m\u001b[0m\n\u001b[1;32m     20\u001b[0m                           \u001b[0;31m#header= col_headers,\u001b[0m\u001b[0;34m\u001b[0m\u001b[0;34m\u001b[0m\u001b[0m\n\u001b[0;32m---> 21\u001b[0;31m                           skiprows= skip_rows)\n\u001b[0m\u001b[1;32m     22\u001b[0m \u001b[0;34m\u001b[0m\u001b[0m\n\u001b[1;32m     23\u001b[0m     \u001b[0;31m#test\u001b[0m\u001b[0;34m\u001b[0m\u001b[0;34m\u001b[0m\u001b[0m\n",
      "\u001b[0;32m//anaconda/lib/python2.7/site-packages/pandas/io/parsers.pyc\u001b[0m in \u001b[0;36mparser_f\u001b[0;34m(filepath_or_buffer, sep, dialect, compression, doublequote, escapechar, quotechar, quoting, skipinitialspace, lineterminator, header, index_col, names, prefix, skiprows, skipfooter, skip_footer, na_values, na_fvalues, true_values, false_values, delimiter, converters, dtype, usecols, engine, delim_whitespace, as_recarray, na_filter, compact_ints, use_unsigned, low_memory, buffer_lines, warn_bad_lines, error_bad_lines, keep_default_na, thousands, comment, decimal, parse_dates, keep_date_col, dayfirst, date_parser, memory_map, float_precision, nrows, iterator, chunksize, verbose, encoding, squeeze, mangle_dupe_cols, tupleize_cols, infer_datetime_format, skip_blank_lines)\u001b[0m\n\u001b[1;32m    463\u001b[0m                     skip_blank_lines=skip_blank_lines)\n\u001b[1;32m    464\u001b[0m \u001b[0;34m\u001b[0m\u001b[0m\n\u001b[0;32m--> 465\u001b[0;31m         \u001b[0;32mreturn\u001b[0m \u001b[0m_read\u001b[0m\u001b[0;34m(\u001b[0m\u001b[0mfilepath_or_buffer\u001b[0m\u001b[0;34m,\u001b[0m \u001b[0mkwds\u001b[0m\u001b[0;34m)\u001b[0m\u001b[0;34m\u001b[0m\u001b[0m\n\u001b[0m\u001b[1;32m    466\u001b[0m \u001b[0;34m\u001b[0m\u001b[0m\n\u001b[1;32m    467\u001b[0m     \u001b[0mparser_f\u001b[0m\u001b[0;34m.\u001b[0m\u001b[0m__name__\u001b[0m \u001b[0;34m=\u001b[0m \u001b[0mname\u001b[0m\u001b[0;34m\u001b[0m\u001b[0m\n",
      "\u001b[0;32m//anaconda/lib/python2.7/site-packages/pandas/io/parsers.pyc\u001b[0m in \u001b[0;36m_read\u001b[0;34m(filepath_or_buffer, kwds)\u001b[0m\n\u001b[1;32m    239\u001b[0m \u001b[0;34m\u001b[0m\u001b[0m\n\u001b[1;32m    240\u001b[0m     \u001b[0;31m# Create the parser.\u001b[0m\u001b[0;34m\u001b[0m\u001b[0;34m\u001b[0m\u001b[0m\n\u001b[0;32m--> 241\u001b[0;31m     \u001b[0mparser\u001b[0m \u001b[0;34m=\u001b[0m \u001b[0mTextFileReader\u001b[0m\u001b[0;34m(\u001b[0m\u001b[0mfilepath_or_buffer\u001b[0m\u001b[0;34m,\u001b[0m \u001b[0;34m**\u001b[0m\u001b[0mkwds\u001b[0m\u001b[0;34m)\u001b[0m\u001b[0;34m\u001b[0m\u001b[0m\n\u001b[0m\u001b[1;32m    242\u001b[0m \u001b[0;34m\u001b[0m\u001b[0m\n\u001b[1;32m    243\u001b[0m     \u001b[0;32mif\u001b[0m \u001b[0;34m(\u001b[0m\u001b[0mnrows\u001b[0m \u001b[0;32mis\u001b[0m \u001b[0;32mnot\u001b[0m \u001b[0mNone\u001b[0m\u001b[0;34m)\u001b[0m \u001b[0;32mand\u001b[0m \u001b[0;34m(\u001b[0m\u001b[0mchunksize\u001b[0m \u001b[0;32mis\u001b[0m \u001b[0;32mnot\u001b[0m \u001b[0mNone\u001b[0m\u001b[0;34m)\u001b[0m\u001b[0;34m:\u001b[0m\u001b[0;34m\u001b[0m\u001b[0m\n",
      "\u001b[0;32m//anaconda/lib/python2.7/site-packages/pandas/io/parsers.pyc\u001b[0m in \u001b[0;36m__init__\u001b[0;34m(self, f, engine, **kwds)\u001b[0m\n\u001b[1;32m    555\u001b[0m             \u001b[0mself\u001b[0m\u001b[0;34m.\u001b[0m\u001b[0moptions\u001b[0m\u001b[0;34m[\u001b[0m\u001b[0;34m'has_index_names'\u001b[0m\u001b[0;34m]\u001b[0m \u001b[0;34m=\u001b[0m \u001b[0mkwds\u001b[0m\u001b[0;34m[\u001b[0m\u001b[0;34m'has_index_names'\u001b[0m\u001b[0;34m]\u001b[0m\u001b[0;34m\u001b[0m\u001b[0m\n\u001b[1;32m    556\u001b[0m \u001b[0;34m\u001b[0m\u001b[0m\n\u001b[0;32m--> 557\u001b[0;31m         \u001b[0mself\u001b[0m\u001b[0;34m.\u001b[0m\u001b[0m_make_engine\u001b[0m\u001b[0;34m(\u001b[0m\u001b[0mself\u001b[0m\u001b[0;34m.\u001b[0m\u001b[0mengine\u001b[0m\u001b[0;34m)\u001b[0m\u001b[0;34m\u001b[0m\u001b[0m\n\u001b[0m\u001b[1;32m    558\u001b[0m \u001b[0;34m\u001b[0m\u001b[0m\n\u001b[1;32m    559\u001b[0m     \u001b[0;32mdef\u001b[0m \u001b[0m_get_options_with_defaults\u001b[0m\u001b[0;34m(\u001b[0m\u001b[0mself\u001b[0m\u001b[0;34m,\u001b[0m \u001b[0mengine\u001b[0m\u001b[0;34m)\u001b[0m\u001b[0;34m:\u001b[0m\u001b[0;34m\u001b[0m\u001b[0m\n",
      "\u001b[0;32m//anaconda/lib/python2.7/site-packages/pandas/io/parsers.pyc\u001b[0m in \u001b[0;36m_make_engine\u001b[0;34m(self, engine)\u001b[0m\n\u001b[1;32m    692\u001b[0m     \u001b[0;32mdef\u001b[0m \u001b[0m_make_engine\u001b[0m\u001b[0;34m(\u001b[0m\u001b[0mself\u001b[0m\u001b[0;34m,\u001b[0m \u001b[0mengine\u001b[0m\u001b[0;34m=\u001b[0m\u001b[0;34m'c'\u001b[0m\u001b[0;34m)\u001b[0m\u001b[0;34m:\u001b[0m\u001b[0;34m\u001b[0m\u001b[0m\n\u001b[1;32m    693\u001b[0m         \u001b[0;32mif\u001b[0m \u001b[0mengine\u001b[0m \u001b[0;34m==\u001b[0m \u001b[0;34m'c'\u001b[0m\u001b[0;34m:\u001b[0m\u001b[0;34m\u001b[0m\u001b[0m\n\u001b[0;32m--> 694\u001b[0;31m             \u001b[0mself\u001b[0m\u001b[0;34m.\u001b[0m\u001b[0m_engine\u001b[0m \u001b[0;34m=\u001b[0m \u001b[0mCParserWrapper\u001b[0m\u001b[0;34m(\u001b[0m\u001b[0mself\u001b[0m\u001b[0;34m.\u001b[0m\u001b[0mf\u001b[0m\u001b[0;34m,\u001b[0m \u001b[0;34m**\u001b[0m\u001b[0mself\u001b[0m\u001b[0;34m.\u001b[0m\u001b[0moptions\u001b[0m\u001b[0;34m)\u001b[0m\u001b[0;34m\u001b[0m\u001b[0m\n\u001b[0m\u001b[1;32m    695\u001b[0m         \u001b[0;32melse\u001b[0m\u001b[0;34m:\u001b[0m\u001b[0;34m\u001b[0m\u001b[0m\n\u001b[1;32m    696\u001b[0m             \u001b[0;32mif\u001b[0m \u001b[0mengine\u001b[0m \u001b[0;34m==\u001b[0m \u001b[0;34m'python'\u001b[0m\u001b[0;34m:\u001b[0m\u001b[0;34m\u001b[0m\u001b[0m\n",
      "\u001b[0;32m//anaconda/lib/python2.7/site-packages/pandas/io/parsers.pyc\u001b[0m in \u001b[0;36m__init__\u001b[0;34m(self, src, **kwds)\u001b[0m\n\u001b[1;32m   1059\u001b[0m         \u001b[0mkwds\u001b[0m\u001b[0;34m[\u001b[0m\u001b[0;34m'allow_leading_cols'\u001b[0m\u001b[0;34m]\u001b[0m \u001b[0;34m=\u001b[0m \u001b[0mself\u001b[0m\u001b[0;34m.\u001b[0m\u001b[0mindex_col\u001b[0m \u001b[0;32mis\u001b[0m \u001b[0;32mnot\u001b[0m \u001b[0mFalse\u001b[0m\u001b[0;34m\u001b[0m\u001b[0m\n\u001b[1;32m   1060\u001b[0m \u001b[0;34m\u001b[0m\u001b[0m\n\u001b[0;32m-> 1061\u001b[0;31m         \u001b[0mself\u001b[0m\u001b[0;34m.\u001b[0m\u001b[0m_reader\u001b[0m \u001b[0;34m=\u001b[0m \u001b[0m_parser\u001b[0m\u001b[0;34m.\u001b[0m\u001b[0mTextReader\u001b[0m\u001b[0;34m(\u001b[0m\u001b[0msrc\u001b[0m\u001b[0;34m,\u001b[0m \u001b[0;34m**\u001b[0m\u001b[0mkwds\u001b[0m\u001b[0;34m)\u001b[0m\u001b[0;34m\u001b[0m\u001b[0m\n\u001b[0m\u001b[1;32m   1062\u001b[0m \u001b[0;34m\u001b[0m\u001b[0m\n\u001b[1;32m   1063\u001b[0m         \u001b[0;31m# XXX\u001b[0m\u001b[0;34m\u001b[0m\u001b[0;34m\u001b[0m\u001b[0m\n",
      "\u001b[0;32mpandas/parser.pyx\u001b[0m in \u001b[0;36mpandas.parser.TextReader.__cinit__ (pandas/parser.c:4715)\u001b[0;34m()\u001b[0m\n",
      "\u001b[0;32mpandas/parser.pyx\u001b[0m in \u001b[0;36mpandas.parser.TextReader._get_header (pandas/parser.c:6104)\u001b[0;34m()\u001b[0m\n",
      "\u001b[0;32mpandas/parser.pyx\u001b[0m in \u001b[0;36mpandas.parser.TextReader._tokenize_rows (pandas/parser.c:8132)\u001b[0;34m()\u001b[0m\n",
      "\u001b[0;32mpandas/parser.pyx\u001b[0m in \u001b[0;36mpandas.parser.raise_parser_error (pandas/parser.c:20735)\u001b[0;34m()\u001b[0m\n",
      "\u001b[0;31mCParserError\u001b[0m: Error tokenizing data. C error: Calling read(nbytes) on source failed. Try engine='python'."
     ]
    }
   ],
   "source": [
    "#iterate through dataset in sets of rows\n",
    "\n",
    "#create empty df to append too\n",
    "train_df = pd.DataFrame()\n",
    "\n",
    "col_df = pd.read_csv( '/Users/rychughes/GA/AVS-Kaggle-Data/transactions.csv.gz', compression='gzip', nrows=1)\n",
    "col_headers = list( col_df.columns)\n",
    "#print col_headers\n",
    "\n",
    "n=0\n",
    "chunk_rows = 1000000\n",
    "#rows_hist_train = 5000000 #test\n",
    "rows_hist_train = 349655790 #actual figure, from bash cmd\n",
    "\n",
    "#iterate through transactions\n",
    "for skip_rows in range( 0, rows_hist_train, chunk_rows):\n",
    "    temp_df = pd.read_csv('/Users/rychughes/GA/AVS-Kaggle-Data/transactions.csv.gz', \n",
    "                          compression= 'gzip', \n",
    "                          nrows= row_size, \n",
    "                          #header= col_headers, \n",
    "                          skiprows= skip_rows)\n",
    "    \n",
    "    #test\n",
    "    print n\n",
    "    n = n+1\n",
    "    \n",
    "    #output\n",
    "    temp_df.columns = col_headers\n",
    "    temp_df = pd.merge( temp_df, train_hist_offers_df, how='inner')\n",
    "    train_df = train_df.append( temp_df)\n",
    "\n",
    "#write to csv\n",
    "train_df.to_csv('/Users/rychughes/GA/AVS-Kaggle-Data/df_train_v1.csv')"
   ]
  },
  {
   "cell_type": "code",
   "execution_count": 12,
   "metadata": {
    "collapsed": false
   },
   "outputs": [
    {
     "name": "stdout",
     "output_type": "stream",
     "text": [
      "(599, 18)\n"
     ]
    },
    {
     "data": {
      "text/html": [
       "<div style=\"max-height:1000px;max-width:1500px;overflow:auto;\">\n",
       "<table border=\"1\" class=\"dataframe\">\n",
       "  <thead>\n",
       "    <tr style=\"text-align: right;\">\n",
       "      <th></th>\n",
       "      <th>id</th>\n",
       "      <th>chain</th>\n",
       "      <th>dept</th>\n",
       "      <th>category</th>\n",
       "      <th>company</th>\n",
       "      <th>brand</th>\n",
       "      <th>date</th>\n",
       "      <th>productsize</th>\n",
       "      <th>productmeasure</th>\n",
       "      <th>purchasequantity</th>\n",
       "      <th>purchaseamount</th>\n",
       "      <th>offer</th>\n",
       "      <th>market</th>\n",
       "      <th>repeattrips</th>\n",
       "      <th>repeater</th>\n",
       "      <th>offerdate</th>\n",
       "      <th>quantity</th>\n",
       "      <th>offervalue</th>\n",
       "    </tr>\n",
       "  </thead>\n",
       "  <tbody>\n",
       "    <tr>\n",
       "      <th>0</th>\n",
       "      <td>    86252</td>\n",
       "      <td> 205</td>\n",
       "      <td> 32</td>\n",
       "      <td> 3203</td>\n",
       "      <td> 106414464</td>\n",
       "      <td> 13474</td>\n",
       "      <td> 2012-06-07</td>\n",
       "      <td> 5.00</td>\n",
       "      <td> OZ</td>\n",
       "      <td> 1</td>\n",
       "      <td> 2.99</td>\n",
       "      <td> 1197502</td>\n",
       "      <td> 34</td>\n",
       "      <td> 16</td>\n",
       "      <td> t</td>\n",
       "      <td> 2013-03-27</td>\n",
       "      <td> 1</td>\n",
       "      <td> 0.75</td>\n",
       "    </tr>\n",
       "    <tr>\n",
       "      <th>1</th>\n",
       "      <td>    86252</td>\n",
       "      <td> 205</td>\n",
       "      <td> 32</td>\n",
       "      <td> 3203</td>\n",
       "      <td> 106414464</td>\n",
       "      <td> 13474</td>\n",
       "      <td> 2013-03-03</td>\n",
       "      <td> 5.00</td>\n",
       "      <td> OZ</td>\n",
       "      <td> 1</td>\n",
       "      <td> 1.99</td>\n",
       "      <td> 1197502</td>\n",
       "      <td> 34</td>\n",
       "      <td> 16</td>\n",
       "      <td> t</td>\n",
       "      <td> 2013-03-27</td>\n",
       "      <td> 1</td>\n",
       "      <td> 0.75</td>\n",
       "    </tr>\n",
       "    <tr>\n",
       "      <th>2</th>\n",
       "      <td> 13807224</td>\n",
       "      <td>   4</td>\n",
       "      <td> 56</td>\n",
       "      <td> 5616</td>\n",
       "      <td> 104610040</td>\n",
       "      <td> 15889</td>\n",
       "      <td> 2012-08-01</td>\n",
       "      <td> 6.67</td>\n",
       "      <td> OZ</td>\n",
       "      <td> 1</td>\n",
       "      <td> 3.00</td>\n",
       "      <td> 1204576</td>\n",
       "      <td>  1</td>\n",
       "      <td>  0</td>\n",
       "      <td> f</td>\n",
       "      <td> 2013-04-05</td>\n",
       "      <td> 1</td>\n",
       "      <td> 1.00</td>\n",
       "    </tr>\n",
       "    <tr>\n",
       "      <th>3</th>\n",
       "      <td> 13807224</td>\n",
       "      <td>   4</td>\n",
       "      <td> 56</td>\n",
       "      <td> 5616</td>\n",
       "      <td> 104610040</td>\n",
       "      <td> 15889</td>\n",
       "      <td> 2012-08-01</td>\n",
       "      <td> 7.50</td>\n",
       "      <td> OZ</td>\n",
       "      <td> 1</td>\n",
       "      <td> 3.00</td>\n",
       "      <td> 1204576</td>\n",
       "      <td>  1</td>\n",
       "      <td>  0</td>\n",
       "      <td> f</td>\n",
       "      <td> 2013-04-05</td>\n",
       "      <td> 1</td>\n",
       "      <td> 1.00</td>\n",
       "    </tr>\n",
       "  </tbody>\n",
       "</table>\n",
       "</div>"
      ],
      "text/plain": [
       "         id  chain  dept  category    company  brand        date  productsize  \\\n",
       "0     86252    205    32      3203  106414464  13474  2012-06-07         5.00   \n",
       "1     86252    205    32      3203  106414464  13474  2013-03-03         5.00   \n",
       "2  13807224      4    56      5616  104610040  15889  2012-08-01         6.67   \n",
       "3  13807224      4    56      5616  104610040  15889  2012-08-01         7.50   \n",
       "\n",
       "  productmeasure  purchasequantity  purchaseamount    offer  market  \\\n",
       "0             OZ                 1            2.99  1197502      34   \n",
       "1             OZ                 1            1.99  1197502      34   \n",
       "2             OZ                 1            3.00  1204576       1   \n",
       "3             OZ                 1            3.00  1204576       1   \n",
       "\n",
       "   repeattrips repeater   offerdate  quantity  offervalue  \n",
       "0           16        t  2013-03-27         1        0.75  \n",
       "1           16        t  2013-03-27         1        0.75  \n",
       "2            0        f  2013-04-05         1        1.00  \n",
       "3            0        f  2013-04-05         1        1.00  "
      ]
     },
     "execution_count": 12,
     "metadata": {},
     "output_type": "execute_result"
    }
   ],
   "source": [
    "print train_df.shape\n",
    "train_df.head(4)"
   ]
  },
  {
   "cell_type": "code",
   "execution_count": 13,
   "metadata": {
    "collapsed": false
   },
   "outputs": [
    {
     "name": "stdout",
     "output_type": "stream",
     "text": [
      "<class 'pandas.core.frame.DataFrame'>\n",
      "Int64Index: 599 entries, 0 to 108\n",
      "Data columns (total 18 columns):\n",
      "id                  599 non-null int64\n",
      "chain               599 non-null int64\n",
      "dept                599 non-null int64\n",
      "category            599 non-null int64\n",
      "company             599 non-null int64\n",
      "brand               599 non-null int64\n",
      "date                599 non-null object\n",
      "productsize         599 non-null float64\n",
      "productmeasure      599 non-null object\n",
      "purchasequantity    599 non-null int64\n",
      "purchaseamount      599 non-null float64\n",
      "offer               599 non-null int64\n",
      "market              599 non-null int64\n",
      "repeattrips         599 non-null int64\n",
      "repeater            599 non-null object\n",
      "offerdate           599 non-null object\n",
      "quantity            599 non-null int64\n",
      "offervalue          599 non-null float64\n",
      "dtypes: float64(3), int64(11), object(4)\n",
      "memory usage: 88.9+ KB\n"
     ]
    }
   ],
   "source": [
    "train_df.info()"
   ]
  },
  {
   "cell_type": "markdown",
   "metadata": {
    "collapsed": false
   },
   "source": [
    "### Explore data"
   ]
  },
  {
   "cell_type": "code",
   "execution_count": 26,
   "metadata": {
    "collapsed": false
   },
   "outputs": [],
   "source": []
  },
  {
   "cell_type": "code",
   "execution_count": null,
   "metadata": {
    "collapsed": true
   },
   "outputs": [],
   "source": []
  }
 ],
 "metadata": {
  "kernelspec": {
   "display_name": "Python 2",
   "language": "python",
   "name": "python2"
  },
  "language_info": {
   "codemirror_mode": {
    "name": "ipython",
    "version": 2
   },
   "file_extension": ".py",
   "mimetype": "text/x-python",
   "name": "python",
   "nbconvert_exporter": "python",
   "pygments_lexer": "ipython2",
   "version": "2.7.9"
  }
 },
 "nbformat": 4,
 "nbformat_minor": 0
}
